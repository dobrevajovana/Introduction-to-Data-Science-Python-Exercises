{
  "nbformat": 4,
  "nbformat_minor": 0,
  "metadata": {
    "colab": {
      "name": "DS-AV-11 Unsupervised Learning.ipynb",
      "provenance": [],
      "collapsed_sections": [],
      "toc_visible": true
    },
    "kernelspec": {
      "name": "python3",
      "display_name": "Python 3"
    },
    "accelerator": "GPU"
  },
  "cells": [
    {
      "cell_type": "markdown",
      "metadata": {
        "id": "m-pErVfxMKuM"
      },
      "source": [
        "**<font color = 'blue' size = 38>UNSUPERVISED LEARNING</font>**"
      ]
    },
    {
      "cell_type": "markdown",
      "metadata": {
        "id": "3kafQmvemdrc"
      },
      "source": [
        "# <font color='Orange'>Clustering</font>"
      ]
    },
    {
      "cell_type": "markdown",
      "metadata": {
        "id": "gFcyEegQmrNN"
      },
      "source": [
        "## <font color = 'Orange'>Preprocessing</font>\r\n"
      ]
    },
    {
      "cell_type": "code",
      "metadata": {
        "id": "cWlNAOcumpqH"
      },
      "source": [
        "import numpy as np\r\n",
        "# Let's begin by allocation 3 cluster's points\r\n",
        "X = np.zeros((150, 2))\r\n",
        "\r\n",
        "np.random.seed(seed=42)\r\n",
        "X[:50, 0] = np.random.normal(loc=0.0, scale=.3, size=50)\r\n",
        "X[:50, 1] = np.random.normal(loc=0.0, scale=.3, size=50)\r\n",
        "\r\n",
        "X[50:100, 0] = np.random.normal(loc=2.0, scale=.5, size=50)\r\n",
        "X[50:100, 1] = np.random.normal(loc=-1.0, scale=.2, size=50)\r\n",
        "\r\n",
        "X[100:150, 0] = np.random.normal(loc=-1.0, scale=.2, size=50)\r\n",
        "X[100:150, 1] = np.random.normal(loc=2.0, scale=.5, size=50)"
      ],
      "execution_count": 1,
      "outputs": []
    },
    {
      "cell_type": "code",
      "metadata": {
        "colab": {
          "base_uri": "https://localhost:8080/",
          "height": 337
        },
        "id": "xbiVnkP1vsCO",
        "outputId": "15f79895-f86d-4fcf-b438-5393ca2b8bbf"
      },
      "source": [
        "import matplotlib.pyplot as plt\r\n",
        "%matplotlib inline\r\n",
        "\r\n",
        "plt.figure(figsize=(5, 5))\r\n",
        "plt.plot(X[:, 0], X[:, 1], 'bo')"
      ],
      "execution_count": 2,
      "outputs": [
        {
          "output_type": "execute_result",
          "data": {
            "text/plain": [
              "[<matplotlib.lines.Line2D at 0x7f770e522780>]"
            ]
          },
          "metadata": {
            "tags": []
          },
          "execution_count": 2
        },
        {
          "output_type": "display_data",
          "data": {
            "image/png": "[encoded data removed]",
            "text/plain": [
              "<Figure size 360x360 with 1 Axes>"
            ]
          },
          "metadata": {
            "tags": [],
            "needs_background": "light"
          }
        }
      ]
    },
    {
      "cell_type": "markdown",
      "metadata": {
        "id": "G_S6UnSrwPke"
      },
      "source": [
        "## <font color='Orange'>K-Means Clustering</font>"
      ]
    },
    {
      "cell_type": "code",
      "metadata": {
        "id": "ffNRc0S3wVhV"
      },
      "source": [
        "# calculated distance between them\r\n",
        "from scipy.spatial.distance import cdist\r\n",
        "\r\n",
        "# Randomly allocate the 3 centroids \r\n",
        "np.random.seed(seed=42)\r\n",
        "centroids = np.random.normal(loc=0.0, scale=1., size=6)\r\n",
        "centroids = centroids.reshape((3, 2))\r\n",
        "\r\n",
        "cent_history = []\r\n",
        "cent_history.append(centroids)\r\n",
        "\r\n",
        "for i in range(3):\r\n",
        "    # Calculating the distance from a point to a centroid\r\n",
        "    distances = cdist(X, centroids)\r\n",
        "    # Checking what's the closest centroid for the point\r\n",
        "    labels = distances.argmin(axis=1)\r\n",
        "    \r\n",
        "    # Labeling the point according the point's distance\r\n",
        "    centroids = centroids.copy()\r\n",
        "    centroids[0, :] = np.mean(X[labels == 0, :], axis=0)\r\n",
        "    centroids[1, :] = np.mean(X[labels == 1, :], axis=0)\r\n",
        "    centroids[2, :] = np.mean(X[labels == 2, :], axis=0)\r\n",
        "    \r\n",
        "    cent_history.append(centroids)"
      ],
      "execution_count": 3,
      "outputs": []
    },
    {
      "cell_type": "code",
      "metadata": {
        "colab": {
          "base_uri": "https://localhost:8080/",
          "height": 499
        },
        "id": "RIoHnQDDwYRk",
        "outputId": "91775e25-0fdf-4027-98a8-5cc84e853580"
      },
      "source": [
        "# Scipy has function that takes 2 tuples and return\r\n",
        "# calculated distance between them\r\n",
        "from scipy.spatial.distance import cdist\r\n",
        "\r\n",
        "# Randomly allocate the 3 centroids \r\n",
        "np.random.seed(seed=42)\r\n",
        "centroids = np.random.normal(loc=0.0, scale=1., size=6)\r\n",
        "centroids = centroids.reshape((3, 2))\r\n",
        "\r\n",
        "cent_history = []\r\n",
        "cent_history.append(centroids)\r\n",
        "\r\n",
        "for i in range(3):\r\n",
        "    # Calculating the distance from a point to a centroid\r\n",
        "    distances = cdist(X, centroids)\r\n",
        "    # Checking what's the closest centroid for the point\r\n",
        "    labels = distances.argmin(axis=1)\r\n",
        "    \r\n",
        "    # Labeling the point according the point's distance\r\n",
        "    centroids = centroids.copy()\r\n",
        "    centroids[0, :] = np.mean(X[labels == 0, :], axis=0)\r\n",
        "    centroids[1, :] = np.mean(X[labels == 1, :], axis=0)\r\n",
        "    centroids[2, :] = np.mean(X[labels == 2, :], axis=0)\r\n",
        "    \r\n",
        "    cent_history.append(centroids)\r\n",
        "# Let's plot K-means\r\n",
        "plt.figure(figsize=(8, 8))\r\n",
        "for i in range(4):\r\n",
        "    distances = cdist(X, cent_history[i])\r\n",
        "    labels = distances.argmin(axis=1)\r\n",
        "    \r\n",
        "    plt.subplot(2, 2, i + 1)\r\n",
        "    plt.plot(X[labels == 0, 0], X[labels == 0, 1], 'bo', label='cluster #1')\r\n",
        "    plt.plot(X[labels == 1, 0], X[labels == 1, 1], 'co', label='cluster #2')\r\n",
        "    plt.plot(X[labels == 2, 0], X[labels == 2, 1], 'mo', label='cluster #3')\r\n",
        "    plt.plot(cent_history[i][:, 0], cent_history[i][:, 1], 'rX')\r\n",
        "    plt.legend(loc=0)\r\n",
        "    plt.title('Step {:}'.format(i + 1));"
      ],
      "execution_count": 4,
      "outputs": [
        {
          "output_type": "display_data",
          "data": {
            "image/png": "[encoded data removed]",
            "text/plain": [
              "<Figure size 576x576 with 4 Axes>"
            ]
          },
          "metadata": {
            "tags": [],
            "needs_background": "light"
          }
        }
      ]
    },
    {
      "cell_type": "markdown",
      "metadata": {
        "id": "CHmPGGB5wjzN"
      },
      "source": [
        "## <font color='Orange'>Choosing the number of clusters for K-means</font>"
      ]
    },
    {
      "cell_type": "code",
      "metadata": {
        "id": "gA2yWIHCwjYW"
      },
      "source": [
        "from sklearn.cluster import KMeans\r\n",
        "\r\n",
        "inertia = []\r\n",
        "for k in range(1, 8):\r\n",
        "    kmeans = KMeans(n_clusters=k, random_state=1).fit(X)\r\n",
        "    inertia.append(np.sqrt(kmeans.inertia_))"
      ],
      "execution_count": 5,
      "outputs": []
    },
    {
      "cell_type": "code",
      "metadata": {
        "colab": {
          "base_uri": "https://localhost:8080/",
          "height": 298
        },
        "id": "ZyWtNfTTwuqh",
        "outputId": "2f9bb26f-bc3c-4c41-deee-37a946381d00"
      },
      "source": [
        "plt.plot(range(1, 8), inertia, marker='s')\r\n",
        "plt.xlabel('$k$')\r\n",
        "plt.ylabel('$J(C_k)$')"
      ],
      "execution_count": 6,
      "outputs": [
        {
          "output_type": "execute_result",
          "data": {
            "text/plain": [
              "Text(0, 0.5, '$J(C_k)$')"
            ]
          },
          "metadata": {
            "tags": []
          },
          "execution_count": 6
        },
        {
          "output_type": "display_data",
          "data": {
            "image/png": "[encoded data removed]",
            "text/plain": [
              "<Figure size 432x288 with 1 Axes>"
            ]
          },
          "metadata": {
            "tags": [],
            "needs_background": "light"
          }
        }
      ]
    },
    {
      "cell_type": "markdown",
      "metadata": {
        "id": "ltEf1oyiw_Wl"
      },
      "source": [
        "## <font color = 'Orange'>Agglomerative clustering</font>\r\n"
      ]
    },
    {
      "cell_type": "code",
      "metadata": {
        "colab": {
          "base_uri": "https://localhost:8080/",
          "height": 319
        },
        "id": "t64QQaAoxDmd",
        "outputId": "747af47f-5cbe-4912-8171-53060a655dcf"
      },
      "source": [
        "from scipy.cluster import hierarchy\r\n",
        "from scipy.spatial.distance import pdist\r\n",
        "\r\n",
        "# pdist will calculate the upper triangle of the pairwise distance matrix\r\n",
        "distance_mat = pdist(X) \r\n",
        "# linkage — is an implementation if agglomerative algorithm\r\n",
        "Z = hierarchy.linkage(distance_mat, 'single')\r\n",
        "plt.figure(figsize=(10, 5))\r\n",
        "dn = hierarchy.dendrogram(Z, color_threshold=0.5)"
      ],
      "execution_count": 7,
      "outputs": [
        {
          "output_type": "display_data",
          "data": {
            "image/png": "[encoded data removed]",
            "text/plain": [
              "<Figure size 720x360 with 1 Axes>"
            ]
          },
          "metadata": {
            "tags": [],
            "needs_background": "light"
          }
        }
      ]
    },
    {
      "cell_type": "markdown",
      "metadata": {
        "id": "ySxkdcxzzaE6"
      },
      "source": [
        "## <font color='Orange'>Comparison of clustering algorithms</font>"
      ]
    },
    {
      "cell_type": "code",
      "metadata": {
        "colab": {
          "base_uri": "https://localhost:8080/",
          "height": 195
        },
        "id": "jnyJDzmDxRxV",
        "outputId": "05f1447a-81d4-4a84-850d-e58be9a6f153"
      },
      "source": [
        "from sklearn import metrics\r\n",
        "from sklearn import datasets\r\n",
        "import pandas as pd\r\n",
        "from sklearn.cluster import KMeans, AgglomerativeClustering, AffinityPropagation, SpectralClustering,DBSCAN\r\n",
        "\r\n",
        "\r\n",
        "data = datasets.load_digits()\r\n",
        "X, y = data.data, data.target\r\n",
        "\r\n",
        "algorithms = []\r\n",
        "algorithms.append(KMeans(n_clusters=10, random_state=1))\r\n",
        "algorithms.append(AffinityPropagation())\r\n",
        "algorithms.append(SpectralClustering(n_clusters=10, random_state=1,\r\n",
        "                                     affinity='nearest_neighbors'))\r\n",
        "algorithms.append(AgglomerativeClustering(n_clusters=10))\r\n",
        "algorithms.append(DBSCAN())\r\n",
        "\r\n",
        "data = []\r\n",
        "for algo in algorithms:\r\n",
        "    algo.fit(X)\r\n",
        "    data.append(({\r\n",
        "        'ARI': metrics.adjusted_rand_score(y, algo.labels_),\r\n",
        "        'AMI': metrics.adjusted_mutual_info_score(y, algo.labels_,\r\n",
        "                                                 average_method='arithmetic'),\r\n",
        "        'Homogenity': metrics.homogeneity_score(y, algo.labels_),\r\n",
        "        'Completeness': metrics.completeness_score(y, algo.labels_),\r\n",
        "        'V-measure': metrics.v_measure_score(y, algo.labels_)}))\r\n",
        "\r\n",
        "results = pd.DataFrame(data=data, columns=['ARI', 'AMI', 'Homogenity',\r\n",
        "                                           'Completeness', 'V-measure'],\r\n",
        "                       index=['K-means', 'Affinity', \r\n",
        "                              'Spectral', 'Agglomerative','DBSCAN'])\r\n",
        "\r\n",
        "results"
      ],
      "execution_count": 8,
      "outputs": [
        {
          "output_type": "execute_result",
          "data": {
            "text/html": [
              "<div>\n",
              "<style scoped>\n",
              "    .dataframe tbody tr th:only-of-type {\n",
              "        vertical-align: middle;\n",
              "    }\n",
              "\n",
              "    .dataframe tbody tr th {\n",
              "        vertical-align: top;\n",
              "    }\n",
              "\n",
              "    .dataframe thead th {\n",
              "        text-align: right;\n",
              "    }\n",
              "</style>\n",
              "<table border=\"1\" class=\"dataframe\">\n",
              "  <thead>\n",
              "    <tr style=\"text-align: right;\">\n",
              "      <th></th>\n",
              "      <th>ARI</th>\n",
              "      <th>AMI</th>\n",
              "      <th>Homogenity</th>\n",
              "      <th>Completeness</th>\n",
              "      <th>V-measure</th>\n",
              "    </tr>\n",
              "  </thead>\n",
              "  <tbody>\n",
              "    <tr>\n",
              "      <th>K-means</th>\n",
              "      <td>0.668587</td>\n",
              "      <td>7.411565e-01</td>\n",
              "      <td>7.394638e-01</td>\n",
              "      <td>0.748061</td>\n",
              "      <td>7.437373e-01</td>\n",
              "    </tr>\n",
              "    <tr>\n",
              "      <th>Affinity</th>\n",
              "      <td>0.175174</td>\n",
              "      <td>6.124596e-01</td>\n",
              "      <td>9.589073e-01</td>\n",
              "      <td>0.486901</td>\n",
              "      <td>6.458574e-01</td>\n",
              "    </tr>\n",
              "    <tr>\n",
              "      <th>Spectral</th>\n",
              "      <td>0.756461</td>\n",
              "      <td>8.520396e-01</td>\n",
              "      <td>8.316906e-01</td>\n",
              "      <td>0.876614</td>\n",
              "      <td>8.535619e-01</td>\n",
              "    </tr>\n",
              "    <tr>\n",
              "      <th>Agglomerative</th>\n",
              "      <td>0.794003</td>\n",
              "      <td>8.668321e-01</td>\n",
              "      <td>8.575129e-01</td>\n",
              "      <td>0.879096</td>\n",
              "      <td>8.681701e-01</td>\n",
              "    </tr>\n",
              "    <tr>\n",
              "      <th>DBSCAN</th>\n",
              "      <td>0.000000</td>\n",
              "      <td>-7.965325e-17</td>\n",
              "      <td>3.616394e-17</td>\n",
              "      <td>1.000000</td>\n",
              "      <td>7.232789e-17</td>\n",
              "    </tr>\n",
              "  </tbody>\n",
              "</table>\n",
              "</div>"
            ],
            "text/plain": [
              "                    ARI           AMI    Homogenity  Completeness     V-measure\n",
              "K-means        0.668587  7.411565e-01  7.394638e-01      0.748061  7.437373e-01\n",
              "Affinity       0.175174  6.124596e-01  9.589073e-01      0.486901  6.458574e-01\n",
              "Spectral       0.756461  8.520396e-01  8.316906e-01      0.876614  8.535619e-01\n",
              "Agglomerative  0.794003  8.668321e-01  8.575129e-01      0.879096  8.681701e-01\n",
              "DBSCAN         0.000000 -7.965325e-17  3.616394e-17      1.000000  7.232789e-17"
            ]
          },
          "metadata": {
            "tags": []
          },
          "execution_count": 8
        }
      ]
    },
    {
      "cell_type": "markdown",
      "metadata": {
        "id": "YC8503cUAylk"
      },
      "source": [
        "# <font color='Orange'>Advanced Clustering: Generate clusters for sentiment analysis of the bitcoin tweets</font>\r\n"
      ]
    },
    {
      "cell_type": "markdown",
      "metadata": {
        "id": "b3SZQ_aRMSHB"
      },
      "source": [
        "## <font color = 'Orange'>Preprocessing</font>\r\n",
        "\r\n"
      ]
    },
    {
      "cell_type": "code",
      "metadata": {
        "id": "2FMUKeHG-zGs"
      },
      "source": [
        "import pandas as pd\r\n",
        "\r\n",
        "df = pd.read_csv(\"/content/drive/MyDrive/Data Science/Vezbi/Auditoriski vezbi/DS-AV-09 Advanced Neural Networks & NLP/bitcointweets.csv\")\r\n"
      ],
      "execution_count": 10,
      "outputs": []
    },
    {
      "cell_type": "code",
      "metadata": {
        "id": "xCf1Rh8n_5PA"
      },
      "source": [
        "df.columns = ['date','text','author','id','unknown','tags','url','sentiment']"
      ],
      "execution_count": 11,
      "outputs": []
    },
    {
      "cell_type": "code",
      "metadata": {
        "colab": {
          "base_uri": "https://localhost:8080/",
          "height": 363
        },
        "id": "IUqy1dfICxxw",
        "outputId": "5d7b8b7f-4b9d-4e9c-bcdb-6faa4b7ba442"
      },
      "source": [
        "\r\n",
        "df.head()"
      ],
      "execution_count": 12,
      "outputs": [
        {
          "output_type": "execute_result",
          "data": {
            "text/html": [
              "<div>\n",
              "<style scoped>\n",
              "    .dataframe tbody tr th:only-of-type {\n",
              "        vertical-align: middle;\n",
              "    }\n",
              "\n",
              "    .dataframe tbody tr th {\n",
              "        vertical-align: top;\n",
              "    }\n",
              "\n",
              "    .dataframe thead th {\n",
              "        text-align: right;\n",
              "    }\n",
              "</style>\n",
              "<table border=\"1\" class=\"dataframe\">\n",
              "  <thead>\n",
              "    <tr style=\"text-align: right;\">\n",
              "      <th></th>\n",
              "      <th>date</th>\n",
              "      <th>text</th>\n",
              "      <th>author</th>\n",
              "      <th>id</th>\n",
              "      <th>unknown</th>\n",
              "      <th>tags</th>\n",
              "      <th>url</th>\n",
              "      <th>sentiment</th>\n",
              "    </tr>\n",
              "  </thead>\n",
              "  <tbody>\n",
              "    <tr>\n",
              "      <th>0</th>\n",
              "      <td>Fri Mar 23 00:40:34 +0000 2018</td>\n",
              "      <td>@lopp @_Kevin_Pham @psycho_sage @naval But @Pr...</td>\n",
              "      <td>BitMocro</td>\n",
              "      <td>1295</td>\n",
              "      <td>0</td>\n",
              "      <td>[u'Bitcoin']</td>\n",
              "      <td>&lt;a href=\"http://twitter.com/download/android\" ...</td>\n",
              "      <td>['neutral']</td>\n",
              "    </tr>\n",
              "    <tr>\n",
              "      <th>1</th>\n",
              "      <td>Fri Mar 23 00:40:35 +0000 2018</td>\n",
              "      <td>RT @tippereconomy: Another use case for #block...</td>\n",
              "      <td>hojachotopur</td>\n",
              "      <td>6090</td>\n",
              "      <td>0</td>\n",
              "      <td>[u'blockchain', u'Tipper', u'TipperEconomy']</td>\n",
              "      <td>&lt;a href=\"http://twitter.com\" rel=\"nofollow\"&gt;Tw...</td>\n",
              "      <td>['positive']</td>\n",
              "    </tr>\n",
              "    <tr>\n",
              "      <th>2</th>\n",
              "      <td>Fri Mar 23 00:40:36 +0000 2018</td>\n",
              "      <td>free coins https://t.co/DiuoePJdap</td>\n",
              "      <td>denies_distro</td>\n",
              "      <td>2626</td>\n",
              "      <td>0</td>\n",
              "      <td>[]</td>\n",
              "      <td>&lt;a href=\"http://twitter.com\" rel=\"nofollow\"&gt;Tw...</td>\n",
              "      <td>['positive']</td>\n",
              "    </tr>\n",
              "    <tr>\n",
              "      <th>3</th>\n",
              "      <td>Fri Mar 23 00:40:36 +0000 2018</td>\n",
              "      <td>RT @payvxofficial: WE are happy to announce th...</td>\n",
              "      <td>aditzgraha</td>\n",
              "      <td>184</td>\n",
              "      <td>0</td>\n",
              "      <td>[]</td>\n",
              "      <td>&lt;a href=\"http://twitter.com/download/android\" ...</td>\n",
              "      <td>['positive']</td>\n",
              "    </tr>\n",
              "    <tr>\n",
              "      <th>4</th>\n",
              "      <td>Fri Mar 23 00:40:36 +0000 2018</td>\n",
              "      <td>Copy successful traders automatically with Bit...</td>\n",
              "      <td>VictorS61164810</td>\n",
              "      <td>14</td>\n",
              "      <td>0</td>\n",
              "      <td>[]</td>\n",
              "      <td>&lt;a href=\"http://twitter.com\" rel=\"nofollow\"&gt;Tw...</td>\n",
              "      <td>['positive']</td>\n",
              "    </tr>\n",
              "  </tbody>\n",
              "</table>\n",
              "</div>"
            ],
            "text/plain": [
              "                             date  ...     sentiment\n",
              "0  Fri Mar 23 00:40:34 +0000 2018  ...   ['neutral']\n",
              "1  Fri Mar 23 00:40:35 +0000 2018  ...  ['positive']\n",
              "2  Fri Mar 23 00:40:36 +0000 2018  ...  ['positive']\n",
              "3  Fri Mar 23 00:40:36 +0000 2018  ...  ['positive']\n",
              "4  Fri Mar 23 00:40:36 +0000 2018  ...  ['positive']\n",
              "\n",
              "[5 rows x 8 columns]"
            ]
          },
          "metadata": {
            "tags": []
          },
          "execution_count": 12
        }
      ]
    },
    {
      "cell_type": "code",
      "metadata": {
        "id": "tB1AshTBRG5O"
      },
      "source": [
        "from sklearn.preprocessing import LabelEncoder\r\n",
        "encoder = LabelEncoder()\r\n",
        "df['sentiment'] = encoder.fit_transform(df['sentiment'])"
      ],
      "execution_count": 13,
      "outputs": []
    },
    {
      "cell_type": "markdown",
      "metadata": {
        "id": "PkyGT3V4PhIs"
      },
      "source": [
        "## <font color='Orange'>Universal Sentence Encoder</font>\r\n"
      ]
    },
    {
      "cell_type": "code",
      "metadata": {
        "id": "L36Rra9eGz9y",
        "colab": {
          "base_uri": "https://localhost:8080/"
        },
        "outputId": "9a66413b-0255-4527-80bc-3bd56ccaa16c"
      },
      "source": [
        "pip install transformers"
      ],
      "execution_count": 14,
      "outputs": [
        {
          "output_type": "stream",
          "text": [
            "Collecting transformers\n",
            "\u001b[?25l  Downloading https://files.pythonhosted.org/packages/50/0c/7d5950fcd80b029be0a8891727ba21e0cd27692c407c51261c3c921f6da3/transformers-4.1.1-py3-none-any.whl (1.5MB)\n",
            "\u001b[K     |████████████████████████████████| 1.5MB 6.9MB/s \n",
            "\u001b[?25hCollecting tokenizers==0.9.4\n",
            "\u001b[?25l  Downloading https://files.pythonhosted.org/packages/0f/1c/e789a8b12e28be5bc1ce2156cf87cb522b379be9cadc7ad8091a4cc107c4/tokenizers-0.9.4-cp36-cp36m-manylinux2010_x86_64.whl (2.9MB)\n",
            "\u001b[K     |████████████████████████████████| 2.9MB 49.7MB/s \n",
            "\u001b[?25hRequirement already satisfied: requests in /usr/local/lib/python3.6/dist-packages (from transformers) (2.23.0)\n",
            "Collecting sacremoses\n",
            "\u001b[?25l  Downloading https://files.pythonhosted.org/packages/7d/34/09d19aff26edcc8eb2a01bed8e98f13a1537005d31e95233fd48216eed10/sacremoses-0.0.43.tar.gz (883kB)\n",
            "\u001b[K     |████████████████████████████████| 890kB 56.9MB/s \n",
            "\u001b[?25hRequirement already satisfied: packaging in /usr/local/lib/python3.6/dist-packages (from transformers) (20.8)\n",
            "Requirement already satisfied: numpy in /usr/local/lib/python3.6/dist-packages (from transformers) (1.19.4)\n",
            "Requirement already satisfied: filelock in /usr/local/lib/python3.6/dist-packages (from transformers) (3.0.12)\n",
            "Requirement already satisfied: tqdm>=4.27 in /usr/local/lib/python3.6/dist-packages (from transformers) (4.41.1)\n",
            "Requirement already satisfied: regex!=2019.12.17 in /usr/local/lib/python3.6/dist-packages (from transformers) (2019.12.20)\n",
            "Requirement already satisfied: dataclasses; python_version < \"3.7\" in /usr/local/lib/python3.6/dist-packages (from transformers) (0.8)\n",
            "Requirement already satisfied: certifi>=2017.4.17 in /usr/local/lib/python3.6/dist-packages (from requests->transformers) (2020.12.5)\n",
            "Requirement already satisfied: urllib3!=1.25.0,!=1.25.1,<1.26,>=1.21.1 in /usr/local/lib/python3.6/dist-packages (from requests->transformers) (1.24.3)\n",
            "Requirement already satisfied: idna<3,>=2.5 in /usr/local/lib/python3.6/dist-packages (from requests->transformers) (2.10)\n",
            "Requirement already satisfied: chardet<4,>=3.0.2 in /usr/local/lib/python3.6/dist-packages (from requests->transformers) (3.0.4)\n",
            "Requirement already satisfied: six in /usr/local/lib/python3.6/dist-packages (from sacremoses->transformers) (1.15.0)\n",
            "Requirement already satisfied: click in /usr/local/lib/python3.6/dist-packages (from sacremoses->transformers) (7.1.2)\n",
            "Requirement already satisfied: joblib in /usr/local/lib/python3.6/dist-packages (from sacremoses->transformers) (1.0.0)\n",
            "Requirement already satisfied: pyparsing>=2.0.2 in /usr/local/lib/python3.6/dist-packages (from packaging->transformers) (2.4.7)\n",
            "Building wheels for collected packages: sacremoses\n",
            "  Building wheel for sacremoses (setup.py) ... \u001b[?25l\u001b[?25hdone\n",
            "  Created wheel for sacremoses: filename=sacremoses-0.0.43-cp36-none-any.whl size=893261 sha256=2c1b9578b0c52258df8da61c0bf251df19f3595aa3c9c1bbb4d663222cb0bacc\n",
            "  Stored in directory: /root/.cache/pip/wheels/29/3c/fd/7ce5c3f0666dab31a50123635e6fb5e19ceb42ce38d4e58f45\n",
            "Successfully built sacremoses\n",
            "Installing collected packages: tokenizers, sacremoses, transformers\n",
            "Successfully installed sacremoses-0.0.43 tokenizers-0.9.4 transformers-4.1.1\n"
          ],
          "name": "stdout"
        }
      ]
    },
    {
      "cell_type": "code",
      "metadata": {
        "id": "Bm3UUp2cGoNv",
        "colab": {
          "base_uri": "https://localhost:8080/"
        },
        "outputId": "43d6b185-6596-498f-bfed-9c6bf8e24d01"
      },
      "source": [
        "from absl import logging\r\n",
        "\r\n",
        "import tensorflow as tf\r\n",
        "\r\n",
        "import tensorflow_hub as hub\r\n",
        "import matplotlib.pyplot as plt\r\n",
        "import numpy as np\r\n",
        "import os\r\n",
        "import pandas as pd\r\n",
        "import re\r\n",
        "import seaborn as sns\r\n",
        "\r\n",
        "module_url = \"https://tfhub.dev/google/universal-sentence-encoder/4\"\r\n",
        "model = hub.load(module_url)\r\n",
        "print (\"module %s loaded\" % module_url)\r\n",
        "def embed(input):\r\n",
        "  return model(input)"
      ],
      "execution_count": 15,
      "outputs": [
        {
          "output_type": "stream",
          "text": [
            "module https://tfhub.dev/google/universal-sentence-encoder/4 loaded\n"
          ],
          "name": "stdout"
        }
      ]
    },
    {
      "cell_type": "code",
      "metadata": {
        "id": "ow9jP04nZTQk"
      },
      "source": [
        "# Reduce logging output.\r\n",
        "logging.set_verbosity(logging.ERROR)\r\n",
        "\r\n",
        "message_embeddings = embed(df.text.values)"
      ],
      "execution_count": 16,
      "outputs": []
    },
    {
      "cell_type": "code",
      "metadata": {
        "colab": {
          "base_uri": "https://localhost:8080/"
        },
        "id": "GzBScignZndy",
        "outputId": "36f6ad85-d68e-4663-d381-5022fd0dd32e"
      },
      "source": [
        "message_embeddings"
      ],
      "execution_count": 17,
      "outputs": [
        {
          "output_type": "execute_result",
          "data": {
            "text/plain": [
              "<tf.Tensor: shape=(50858, 512), dtype=float32, numpy=\n",
              "array([[-0.00023591, -0.04965301, -0.04544646, ..., -0.00699698,\n",
              "        -0.0817619 , -0.06738111],\n",
              "       [-0.00882477, -0.06427667, -0.06390411, ...,  0.05352813,\n",
              "        -0.06909755, -0.0684047 ],\n",
              "       [-0.0431166 , -0.07247733, -0.00263127, ..., -0.02413651,\n",
              "        -0.04707826, -0.04411679],\n",
              "       ...,\n",
              "       [-0.03637778, -0.07333582, -0.02006673, ...,  0.00748273,\n",
              "        -0.06006525, -0.06887389],\n",
              "       [-0.01435389, -0.05010171,  0.00692283, ..., -0.01416572,\n",
              "        -0.07574022, -0.07719907],\n",
              "       [-0.00828402, -0.08008463, -0.033356  , ..., -0.01549361,\n",
              "        -0.03189274, -0.02582981]], dtype=float32)>"
            ]
          },
          "metadata": {
            "tags": []
          },
          "execution_count": 17
        }
      ]
    },
    {
      "cell_type": "markdown",
      "metadata": {
        "id": "tekAJ0MvP_zh"
      },
      "source": [
        "## <font color='Orange'>K-Means Clustering</font>"
      ]
    },
    {
      "cell_type": "code",
      "metadata": {
        "id": "JQoF6DCHFjLZ"
      },
      "source": [
        "from sklearn.cluster import KMeans\r\n",
        "\r\n",
        "km = KMeans(n_clusters=3)\r\n",
        "km.fit(message_embeddings)\r\n",
        "clusters = km.labels_.tolist()\r\n",
        "\r\n"
      ],
      "execution_count": 18,
      "outputs": []
    },
    {
      "cell_type": "markdown",
      "metadata": {
        "id": "Cpdr1NK8QjmJ"
      },
      "source": [
        "### <font color='Orange'>Visualization</font>"
      ]
    },
    {
      "cell_type": "markdown",
      "metadata": {
        "id": "XBtz6TGMQNCR"
      },
      "source": [
        "### <font color = 'Orange'>Dimensionality reduction</font>"
      ]
    },
    {
      "cell_type": "code",
      "metadata": {
        "id": "GqQGkV4mLHx5"
      },
      "source": [
        "from sklearn.decomposition import PCA\r\n",
        "import numpy as np\r\n",
        "\r\n",
        "\r\n",
        "data = message_embeddings\r\n",
        "pca = PCA(2)\r\n",
        " \r\n",
        "#Transform the data\r\n",
        "df_new = pca.fit_transform(data)"
      ],
      "execution_count": 19,
      "outputs": []
    },
    {
      "cell_type": "markdown",
      "metadata": {
        "id": "faMRtY1nQgRM"
      },
      "source": [
        "### <font color='Orange'>Cluster training</font>"
      ]
    },
    {
      "cell_type": "code",
      "metadata": {
        "id": "jEYLnHXnLMBQ"
      },
      "source": [
        "\r\n",
        "#Initialize the class object\r\n",
        "kmeans = KMeans(n_clusters=3)\r\n",
        " \r\n",
        "#predict the labels of clusters.\r\n",
        "label = kmeans.fit_predict(df_new)\r\n",
        " \r\n",
        "#Getting unique labels\r\n",
        "u_labels = np.unique(label)\r\n",
        " \r\n",
        "labels = kmeans.labels_"
      ],
      "execution_count": 20,
      "outputs": []
    },
    {
      "cell_type": "markdown",
      "metadata": {
        "id": "xKqSOjBIMJ4X"
      },
      "source": [
        "### <font color='Orange'>Visualization of the clusters</font>"
      ]
    },
    {
      "cell_type": "code",
      "metadata": {
        "colab": {
          "base_uri": "https://localhost:8080/",
          "height": 265
        },
        "id": "K5DYIn9KMCtD",
        "outputId": "cd79d686-f381-4c62-bf57-da184e502a3d"
      },
      "source": [
        "import matplotlib.pyplot as plt\r\n",
        "import seaborn as sns\r\n",
        "%matplotlib inline\r\n",
        "#plotting the results:\r\n",
        "for i in u_labels:\r\n",
        "    plt.scatter(df_new[label == i , 0] , df_new[label == i , 1] , label = i)\r\n",
        "plt.legend()\r\n",
        "plt.show()"
      ],
      "execution_count": 21,
      "outputs": [
        {
          "output_type": "display_data",
          "data": {
            "image/png": "[encoded data removed]",
            "text/plain": [
              "<Figure size 432x288 with 1 Axes>"
            ]
          },
          "metadata": {
            "tags": [],
            "needs_background": "light"
          }
        }
      ]
    },
    {
      "cell_type": "markdown",
      "metadata": {
        "id": "6j2T5mJpA8UB"
      },
      "source": [
        "## <font color = 'Orange'> Agglomerative Clustering</font>"
      ]
    },
    {
      "cell_type": "markdown",
      "metadata": {
        "id": "wPzU8-EbTxfl"
      },
      "source": [
        "### <font color = 'Orange'>Dimensionality reduction</font>"
      ]
    },
    {
      "cell_type": "code",
      "metadata": {
        "id": "HcFNuulSTxUC"
      },
      "source": [
        "from sklearn.decomposition import PCA\r\n",
        "import numpy as np\r\n",
        "\r\n",
        "\r\n",
        "data = message_embeddings\r\n",
        "pca = PCA(2)\r\n",
        " \r\n",
        "#Transform the data\r\n",
        "df_new = pca.fit_transform(data)"
      ],
      "execution_count": 22,
      "outputs": []
    },
    {
      "cell_type": "markdown",
      "metadata": {
        "id": "KClNuzGHUwDJ"
      },
      "source": [
        "### <font color='Orange'>Cluster training</font>"
      ]
    },
    {
      "cell_type": "code",
      "metadata": {
        "id": "inVmrbfb2u3P"
      },
      "source": [
        "from sklearn.cluster import AgglomerativeClustering\r\n"
      ],
      "execution_count": 23,
      "outputs": []
    },
    {
      "cell_type": "code",
      "metadata": {
        "id": "gCzTHGgOIdv-"
      },
      "source": [
        "# Define the structure A of the data. Here a 10 nearest neighbors\r\n",
        "from sklearn.neighbors import kneighbors_graph\r\n",
        "connectivity = kneighbors_graph(df_new, n_neighbors=10, include_self=False)"
      ],
      "execution_count": 24,
      "outputs": []
    },
    {
      "cell_type": "code",
      "metadata": {
        "colab": {
          "base_uri": "https://localhost:8080/"
        },
        "id": "VN5MMl2EHviU",
        "outputId": "146ad454-cb46-4ac1-bb5d-6dbb8a10018f"
      },
      "source": [
        "model = AgglomerativeClustering(n_clusters=3, connectivity=connectivity, linkage='ward').fit(df_new)"
      ],
      "execution_count": 25,
      "outputs": [
        {
          "output_type": "stream",
          "text": [
            "/usr/local/lib/python3.6/dist-packages/sklearn/cluster/_agglomerative.py:245: UserWarning: the number of connected components of the connectivity matrix is 30 > 1. Completing it to avoid stopping the tree early.\n",
            "  affinity='euclidean')\n"
          ],
          "name": "stderr"
        }
      ]
    },
    {
      "cell_type": "code",
      "metadata": {
        "id": "198RedO3FHQA"
      },
      "source": [
        "clusters = model.labels_.tolist()"
      ],
      "execution_count": 26,
      "outputs": []
    },
    {
      "cell_type": "code",
      "metadata": {
        "id": "A_JtK-Im3Q0U",
        "colab": {
          "base_uri": "https://localhost:8080/"
        },
        "outputId": "e2fe5f76-ed73-4f93-beca-8c6fe4fe8a26"
      },
      "source": [
        "model.labels_"
      ],
      "execution_count": 27,
      "outputs": [
        {
          "output_type": "execute_result",
          "data": {
            "text/plain": [
              "array([2, 0, 2, ..., 0, 2, 0])"
            ]
          },
          "metadata": {
            "tags": []
          },
          "execution_count": 27
        }
      ]
    },
    {
      "cell_type": "markdown",
      "metadata": {
        "id": "7rMEarM4B5HT"
      },
      "source": [
        "### <font color='Orange'>Visualization of the clusters</font>"
      ]
    },
    {
      "cell_type": "code",
      "metadata": {
        "colab": {
          "base_uri": "https://localhost:8080/",
          "height": 318
        },
        "id": "dpJ_Zo_NOXbu",
        "outputId": "3a2f1e03-4066-4a28-b73e-65efa4b5459e"
      },
      "source": [
        "import matplotlib.pyplot as plt\r\n",
        "import seaborn as sns\r\n",
        "%matplotlib inline\r\n",
        "\r\n",
        "label = model.fit_predict(df_new)\r\n",
        "\r\n",
        "u_labels = np.unique(label)\r\n",
        "\r\n",
        "#plotting the results:\r\n",
        "for i in u_labels:\r\n",
        "    plt.scatter(df_new[label == i , 0] , df_new[label == i , 1] , label = i)\r\n",
        "plt.legend()\r\n",
        "plt.show()"
      ],
      "execution_count": 28,
      "outputs": [
        {
          "output_type": "stream",
          "text": [
            "/usr/local/lib/python3.6/dist-packages/sklearn/cluster/_agglomerative.py:245: UserWarning: the number of connected components of the connectivity matrix is 30 > 1. Completing it to avoid stopping the tree early.\n",
            "  affinity='euclidean')\n"
          ],
          "name": "stderr"
        },
        {
          "output_type": "display_data",
          "data": {
            "image/png": "[encoded data removed]",
            "text/plain": [
              "<Figure size 432x288 with 1 Axes>"
            ]
          },
          "metadata": {
            "tags": [],
            "needs_background": "light"
          }
        }
      ]
    },
    {
      "cell_type": "markdown",
      "metadata": {
        "id": "kWyJGabBnuHf"
      },
      "source": [
        "# <font color='Orange'>Deep Encoding for Categorical Data</font>"
      ]
    },
    {
      "cell_type": "markdown",
      "metadata": {
        "id": "8H09zgHAoFR8"
      },
      "source": [
        "## <font color = 'Orange'>Preprocessing</font>\r\n",
        "Link: https://www.kaggle.com/contactprad/bike-share-daily-data"
      ]
    },
    {
      "cell_type": "code",
      "metadata": {
        "id": "XltIdZV4oCJZ"
      },
      "source": [
        "import pandas as pd\r\n",
        "\r\n",
        "df = pd.read_csv('/content/drive/MyDrive/Data Science/Vezbi/Auditoriski vezbi/DS-AV-11 Unsupervised Learning/bike_sharing_daily.csv')"
      ],
      "execution_count": 29,
      "outputs": []
    },
    {
      "cell_type": "code",
      "metadata": {
        "colab": {
          "base_uri": "https://localhost:8080/",
          "height": 279
        },
        "id": "t-YGp9gqoVzI",
        "outputId": "304f189d-020d-4e9d-fedb-26f54a8f2231"
      },
      "source": [
        "df.head()"
      ],
      "execution_count": 30,
      "outputs": [
        {
          "output_type": "execute_result",
          "data": {
            "text/html": [
              "<div>\n",
              "<style scoped>\n",
              "    .dataframe tbody tr th:only-of-type {\n",
              "        vertical-align: middle;\n",
              "    }\n",
              "\n",
              "    .dataframe tbody tr th {\n",
              "        vertical-align: top;\n",
              "    }\n",
              "\n",
              "    .dataframe thead th {\n",
              "        text-align: right;\n",
              "    }\n",
              "</style>\n",
              "<table border=\"1\" class=\"dataframe\">\n",
              "  <thead>\n",
              "    <tr style=\"text-align: right;\">\n",
              "      <th></th>\n",
              "      <th>instant</th>\n",
              "      <th>dteday</th>\n",
              "      <th>season</th>\n",
              "      <th>yr</th>\n",
              "      <th>mnth</th>\n",
              "      <th>holiday</th>\n",
              "      <th>weekday</th>\n",
              "      <th>workingday</th>\n",
              "      <th>weathersit</th>\n",
              "      <th>temp</th>\n",
              "      <th>atemp</th>\n",
              "      <th>hum</th>\n",
              "      <th>windspeed</th>\n",
              "      <th>casual</th>\n",
              "      <th>registered</th>\n",
              "      <th>cnt</th>\n",
              "    </tr>\n",
              "  </thead>\n",
              "  <tbody>\n",
              "    <tr>\n",
              "      <th>0</th>\n",
              "      <td>1</td>\n",
              "      <td>2011-01-01</td>\n",
              "      <td>1</td>\n",
              "      <td>0</td>\n",
              "      <td>1</td>\n",
              "      <td>0</td>\n",
              "      <td>6</td>\n",
              "      <td>0</td>\n",
              "      <td>2</td>\n",
              "      <td>0.344167</td>\n",
              "      <td>0.363625</td>\n",
              "      <td>0.805833</td>\n",
              "      <td>0.160446</td>\n",
              "      <td>331</td>\n",
              "      <td>654</td>\n",
              "      <td>985</td>\n",
              "    </tr>\n",
              "    <tr>\n",
              "      <th>1</th>\n",
              "      <td>2</td>\n",
              "      <td>2011-01-02</td>\n",
              "      <td>1</td>\n",
              "      <td>0</td>\n",
              "      <td>1</td>\n",
              "      <td>0</td>\n",
              "      <td>0</td>\n",
              "      <td>0</td>\n",
              "      <td>2</td>\n",
              "      <td>0.363478</td>\n",
              "      <td>0.353739</td>\n",
              "      <td>0.696087</td>\n",
              "      <td>0.248539</td>\n",
              "      <td>131</td>\n",
              "      <td>670</td>\n",
              "      <td>801</td>\n",
              "    </tr>\n",
              "    <tr>\n",
              "      <th>2</th>\n",
              "      <td>3</td>\n",
              "      <td>2011-01-03</td>\n",
              "      <td>1</td>\n",
              "      <td>0</td>\n",
              "      <td>1</td>\n",
              "      <td>0</td>\n",
              "      <td>1</td>\n",
              "      <td>1</td>\n",
              "      <td>1</td>\n",
              "      <td>0.196364</td>\n",
              "      <td>0.189405</td>\n",
              "      <td>0.437273</td>\n",
              "      <td>0.248309</td>\n",
              "      <td>120</td>\n",
              "      <td>1229</td>\n",
              "      <td>1349</td>\n",
              "    </tr>\n",
              "    <tr>\n",
              "      <th>3</th>\n",
              "      <td>4</td>\n",
              "      <td>2011-01-04</td>\n",
              "      <td>1</td>\n",
              "      <td>0</td>\n",
              "      <td>1</td>\n",
              "      <td>0</td>\n",
              "      <td>2</td>\n",
              "      <td>1</td>\n",
              "      <td>1</td>\n",
              "      <td>0.200000</td>\n",
              "      <td>0.212122</td>\n",
              "      <td>0.590435</td>\n",
              "      <td>0.160296</td>\n",
              "      <td>108</td>\n",
              "      <td>1454</td>\n",
              "      <td>1562</td>\n",
              "    </tr>\n",
              "    <tr>\n",
              "      <th>4</th>\n",
              "      <td>5</td>\n",
              "      <td>2011-01-05</td>\n",
              "      <td>1</td>\n",
              "      <td>0</td>\n",
              "      <td>1</td>\n",
              "      <td>0</td>\n",
              "      <td>3</td>\n",
              "      <td>1</td>\n",
              "      <td>1</td>\n",
              "      <td>0.226957</td>\n",
              "      <td>0.229270</td>\n",
              "      <td>0.436957</td>\n",
              "      <td>0.186900</td>\n",
              "      <td>82</td>\n",
              "      <td>1518</td>\n",
              "      <td>1600</td>\n",
              "    </tr>\n",
              "  </tbody>\n",
              "</table>\n",
              "</div>"
            ],
            "text/plain": [
              "   instant      dteday  season  yr  ...  windspeed  casual  registered   cnt\n",
              "0        1  2011-01-01       1   0  ...   0.160446     331         654   985\n",
              "1        2  2011-01-02       1   0  ...   0.248539     131         670   801\n",
              "2        3  2011-01-03       1   0  ...   0.248309     120        1229  1349\n",
              "3        4  2011-01-04       1   0  ...   0.160296     108        1454  1562\n",
              "4        5  2011-01-05       1   0  ...   0.186900      82        1518  1600\n",
              "\n",
              "[5 rows x 16 columns]"
            ]
          },
          "metadata": {
            "tags": []
          },
          "execution_count": 30
        }
      ]
    },
    {
      "cell_type": "code",
      "metadata": {
        "id": "GvW_VEeJoWSc"
      },
      "source": [
        "data_small_df = df[['dteday','cnt','mnth']]\r\n"
      ],
      "execution_count": 31,
      "outputs": []
    },
    {
      "cell_type": "code",
      "metadata": {
        "colab": {
          "base_uri": "https://localhost:8080/",
          "height": 195
        },
        "id": "2LBhSpAGoc8N",
        "outputId": "ae81fa6f-fe5e-44da-c795-03f8bae6d92e"
      },
      "source": [
        "data_small_df.head()"
      ],
      "execution_count": 32,
      "outputs": [
        {
          "output_type": "execute_result",
          "data": {
            "text/html": [
              "<div>\n",
              "<style scoped>\n",
              "    .dataframe tbody tr th:only-of-type {\n",
              "        vertical-align: middle;\n",
              "    }\n",
              "\n",
              "    .dataframe tbody tr th {\n",
              "        vertical-align: top;\n",
              "    }\n",
              "\n",
              "    .dataframe thead th {\n",
              "        text-align: right;\n",
              "    }\n",
              "</style>\n",
              "<table border=\"1\" class=\"dataframe\">\n",
              "  <thead>\n",
              "    <tr style=\"text-align: right;\">\n",
              "      <th></th>\n",
              "      <th>dteday</th>\n",
              "      <th>cnt</th>\n",
              "      <th>mnth</th>\n",
              "    </tr>\n",
              "  </thead>\n",
              "  <tbody>\n",
              "    <tr>\n",
              "      <th>0</th>\n",
              "      <td>2011-01-01</td>\n",
              "      <td>985</td>\n",
              "      <td>1</td>\n",
              "    </tr>\n",
              "    <tr>\n",
              "      <th>1</th>\n",
              "      <td>2011-01-02</td>\n",
              "      <td>801</td>\n",
              "      <td>1</td>\n",
              "    </tr>\n",
              "    <tr>\n",
              "      <th>2</th>\n",
              "      <td>2011-01-03</td>\n",
              "      <td>1349</td>\n",
              "      <td>1</td>\n",
              "    </tr>\n",
              "    <tr>\n",
              "      <th>3</th>\n",
              "      <td>2011-01-04</td>\n",
              "      <td>1562</td>\n",
              "      <td>1</td>\n",
              "    </tr>\n",
              "    <tr>\n",
              "      <th>4</th>\n",
              "      <td>2011-01-05</td>\n",
              "      <td>1600</td>\n",
              "      <td>1</td>\n",
              "    </tr>\n",
              "  </tbody>\n",
              "</table>\n",
              "</div>"
            ],
            "text/plain": [
              "       dteday   cnt  mnth\n",
              "0  2011-01-01   985     1\n",
              "1  2011-01-02   801     1\n",
              "2  2011-01-03  1349     1\n",
              "3  2011-01-04  1562     1\n",
              "4  2011-01-05  1600     1"
            ]
          },
          "metadata": {
            "tags": []
          },
          "execution_count": 32
        }
      ]
    },
    {
      "cell_type": "code",
      "metadata": {
        "colab": {
          "base_uri": "https://localhost:8080/",
          "height": 195
        },
        "id": "Bo4S9XWlogas",
        "outputId": "b245a677-0ee4-4df1-b0d9-ffa8abd7ff86"
      },
      "source": [
        "data_small_df = data_small_df.sort_values(by=['mnth','dteday'])\r\n",
        "data_small_df.head()"
      ],
      "execution_count": 33,
      "outputs": [
        {
          "output_type": "execute_result",
          "data": {
            "text/html": [
              "<div>\n",
              "<style scoped>\n",
              "    .dataframe tbody tr th:only-of-type {\n",
              "        vertical-align: middle;\n",
              "    }\n",
              "\n",
              "    .dataframe tbody tr th {\n",
              "        vertical-align: top;\n",
              "    }\n",
              "\n",
              "    .dataframe thead th {\n",
              "        text-align: right;\n",
              "    }\n",
              "</style>\n",
              "<table border=\"1\" class=\"dataframe\">\n",
              "  <thead>\n",
              "    <tr style=\"text-align: right;\">\n",
              "      <th></th>\n",
              "      <th>dteday</th>\n",
              "      <th>cnt</th>\n",
              "      <th>mnth</th>\n",
              "    </tr>\n",
              "  </thead>\n",
              "  <tbody>\n",
              "    <tr>\n",
              "      <th>0</th>\n",
              "      <td>2011-01-01</td>\n",
              "      <td>985</td>\n",
              "      <td>1</td>\n",
              "    </tr>\n",
              "    <tr>\n",
              "      <th>1</th>\n",
              "      <td>2011-01-02</td>\n",
              "      <td>801</td>\n",
              "      <td>1</td>\n",
              "    </tr>\n",
              "    <tr>\n",
              "      <th>2</th>\n",
              "      <td>2011-01-03</td>\n",
              "      <td>1349</td>\n",
              "      <td>1</td>\n",
              "    </tr>\n",
              "    <tr>\n",
              "      <th>3</th>\n",
              "      <td>2011-01-04</td>\n",
              "      <td>1562</td>\n",
              "      <td>1</td>\n",
              "    </tr>\n",
              "    <tr>\n",
              "      <th>4</th>\n",
              "      <td>2011-01-05</td>\n",
              "      <td>1600</td>\n",
              "      <td>1</td>\n",
              "    </tr>\n",
              "  </tbody>\n",
              "</table>\n",
              "</div>"
            ],
            "text/plain": [
              "       dteday   cnt  mnth\n",
              "0  2011-01-01   985     1\n",
              "1  2011-01-02   801     1\n",
              "2  2011-01-03  1349     1\n",
              "3  2011-01-04  1562     1\n",
              "4  2011-01-05  1600     1"
            ]
          },
          "metadata": {
            "tags": []
          },
          "execution_count": 33
        }
      ]
    },
    {
      "cell_type": "code",
      "metadata": {
        "id": "rIy0j9KGoj8O",
        "colab": {
          "base_uri": "https://localhost:8080/",
          "height": 568
        },
        "outputId": "4dcf4757-89dd-42bd-c170-9ed655a79e7f"
      },
      "source": [
        "data_plot_2 = df[['dteday','cnt','mnth','yr']]\r\n",
        "data_plot_2= data_plot_2[data_plot_2['yr']==0]\r\n",
        "\r\n",
        "for x in range(1,12):\r\n",
        "    data_plot_2[data_plot_2['mnth']==x]['cnt'].plot(figsize=(20,10))"
      ],
      "execution_count": 34,
      "outputs": [
        {
          "output_type": "display_data",
          "data": {
            "image/png": "[encoded data removed]",
            "text/plain": [
              "<Figure size 1440x720 with 1 Axes>"
            ]
          },
          "metadata": {
            "tags": [],
            "needs_background": "light"
          }
        }
      ]
    },
    {
      "cell_type": "code",
      "metadata": {
        "colab": {
          "base_uri": "https://localhost:8080/",
          "height": 195
        },
        "id": "GjQuyG-jo2pt",
        "outputId": "4451b50b-a2ab-4f98-a9ee-1d76851bf08b"
      },
      "source": [
        "from sklearn.preprocessing import MinMaxScaler\r\n",
        "\r\n",
        "scaler = MinMaxScaler()\r\n",
        "data_small_df['cnt_Scaled'] = scaler.fit_transform(data_small_df[['cnt']])\r\n",
        "data_small_df.head()"
      ],
      "execution_count": 35,
      "outputs": [
        {
          "output_type": "execute_result",
          "data": {
            "text/html": [
              "<div>\n",
              "<style scoped>\n",
              "    .dataframe tbody tr th:only-of-type {\n",
              "        vertical-align: middle;\n",
              "    }\n",
              "\n",
              "    .dataframe tbody tr th {\n",
              "        vertical-align: top;\n",
              "    }\n",
              "\n",
              "    .dataframe thead th {\n",
              "        text-align: right;\n",
              "    }\n",
              "</style>\n",
              "<table border=\"1\" class=\"dataframe\">\n",
              "  <thead>\n",
              "    <tr style=\"text-align: right;\">\n",
              "      <th></th>\n",
              "      <th>dteday</th>\n",
              "      <th>cnt</th>\n",
              "      <th>mnth</th>\n",
              "      <th>cnt_Scaled</th>\n",
              "    </tr>\n",
              "  </thead>\n",
              "  <tbody>\n",
              "    <tr>\n",
              "      <th>0</th>\n",
              "      <td>2011-01-01</td>\n",
              "      <td>985</td>\n",
              "      <td>1</td>\n",
              "      <td>0.110792</td>\n",
              "    </tr>\n",
              "    <tr>\n",
              "      <th>1</th>\n",
              "      <td>2011-01-02</td>\n",
              "      <td>801</td>\n",
              "      <td>1</td>\n",
              "      <td>0.089623</td>\n",
              "    </tr>\n",
              "    <tr>\n",
              "      <th>2</th>\n",
              "      <td>2011-01-03</td>\n",
              "      <td>1349</td>\n",
              "      <td>1</td>\n",
              "      <td>0.152669</td>\n",
              "    </tr>\n",
              "    <tr>\n",
              "      <th>3</th>\n",
              "      <td>2011-01-04</td>\n",
              "      <td>1562</td>\n",
              "      <td>1</td>\n",
              "      <td>0.177174</td>\n",
              "    </tr>\n",
              "    <tr>\n",
              "      <th>4</th>\n",
              "      <td>2011-01-05</td>\n",
              "      <td>1600</td>\n",
              "      <td>1</td>\n",
              "      <td>0.181546</td>\n",
              "    </tr>\n",
              "  </tbody>\n",
              "</table>\n",
              "</div>"
            ],
            "text/plain": [
              "       dteday   cnt  mnth  cnt_Scaled\n",
              "0  2011-01-01   985     1    0.110792\n",
              "1  2011-01-02   801     1    0.089623\n",
              "2  2011-01-03  1349     1    0.152669\n",
              "3  2011-01-04  1562     1    0.177174\n",
              "4  2011-01-05  1600     1    0.181546"
            ]
          },
          "metadata": {
            "tags": []
          },
          "execution_count": 35
        }
      ]
    },
    {
      "cell_type": "markdown",
      "metadata": {
        "id": "lFxKs6sHpF12"
      },
      "source": [
        "## <font color = 'Orange'>Traditional Embeddings</font>"
      ]
    },
    {
      "cell_type": "code",
      "metadata": {
        "colab": {
          "base_uri": "https://localhost:8080/",
          "height": 195
        },
        "id": "BXSuQRLwo7Pe",
        "outputId": "f8bd9cd6-3905-421e-da4c-cdff09606392"
      },
      "source": [
        "pd.get_dummies(data_small_df['mnth']).head() "
      ],
      "execution_count": 36,
      "outputs": [
        {
          "output_type": "execute_result",
          "data": {
            "text/html": [
              "<div>\n",
              "<style scoped>\n",
              "    .dataframe tbody tr th:only-of-type {\n",
              "        vertical-align: middle;\n",
              "    }\n",
              "\n",
              "    .dataframe tbody tr th {\n",
              "        vertical-align: top;\n",
              "    }\n",
              "\n",
              "    .dataframe thead th {\n",
              "        text-align: right;\n",
              "    }\n",
              "</style>\n",
              "<table border=\"1\" class=\"dataframe\">\n",
              "  <thead>\n",
              "    <tr style=\"text-align: right;\">\n",
              "      <th></th>\n",
              "      <th>1</th>\n",
              "      <th>2</th>\n",
              "      <th>3</th>\n",
              "      <th>4</th>\n",
              "      <th>5</th>\n",
              "      <th>6</th>\n",
              "      <th>7</th>\n",
              "      <th>8</th>\n",
              "      <th>9</th>\n",
              "      <th>10</th>\n",
              "      <th>11</th>\n",
              "      <th>12</th>\n",
              "    </tr>\n",
              "  </thead>\n",
              "  <tbody>\n",
              "    <tr>\n",
              "      <th>0</th>\n",
              "      <td>1</td>\n",
              "      <td>0</td>\n",
              "      <td>0</td>\n",
              "      <td>0</td>\n",
              "      <td>0</td>\n",
              "      <td>0</td>\n",
              "      <td>0</td>\n",
              "      <td>0</td>\n",
              "      <td>0</td>\n",
              "      <td>0</td>\n",
              "      <td>0</td>\n",
              "      <td>0</td>\n",
              "    </tr>\n",
              "    <tr>\n",
              "      <th>1</th>\n",
              "      <td>1</td>\n",
              "      <td>0</td>\n",
              "      <td>0</td>\n",
              "      <td>0</td>\n",
              "      <td>0</td>\n",
              "      <td>0</td>\n",
              "      <td>0</td>\n",
              "      <td>0</td>\n",
              "      <td>0</td>\n",
              "      <td>0</td>\n",
              "      <td>0</td>\n",
              "      <td>0</td>\n",
              "    </tr>\n",
              "    <tr>\n",
              "      <th>2</th>\n",
              "      <td>1</td>\n",
              "      <td>0</td>\n",
              "      <td>0</td>\n",
              "      <td>0</td>\n",
              "      <td>0</td>\n",
              "      <td>0</td>\n",
              "      <td>0</td>\n",
              "      <td>0</td>\n",
              "      <td>0</td>\n",
              "      <td>0</td>\n",
              "      <td>0</td>\n",
              "      <td>0</td>\n",
              "    </tr>\n",
              "    <tr>\n",
              "      <th>3</th>\n",
              "      <td>1</td>\n",
              "      <td>0</td>\n",
              "      <td>0</td>\n",
              "      <td>0</td>\n",
              "      <td>0</td>\n",
              "      <td>0</td>\n",
              "      <td>0</td>\n",
              "      <td>0</td>\n",
              "      <td>0</td>\n",
              "      <td>0</td>\n",
              "      <td>0</td>\n",
              "      <td>0</td>\n",
              "    </tr>\n",
              "    <tr>\n",
              "      <th>4</th>\n",
              "      <td>1</td>\n",
              "      <td>0</td>\n",
              "      <td>0</td>\n",
              "      <td>0</td>\n",
              "      <td>0</td>\n",
              "      <td>0</td>\n",
              "      <td>0</td>\n",
              "      <td>0</td>\n",
              "      <td>0</td>\n",
              "      <td>0</td>\n",
              "      <td>0</td>\n",
              "      <td>0</td>\n",
              "    </tr>\n",
              "  </tbody>\n",
              "</table>\n",
              "</div>"
            ],
            "text/plain": [
              "   1   2   3   4   5   6   7   8   9   10  11  12\n",
              "0   1   0   0   0   0   0   0   0   0   0   0   0\n",
              "1   1   0   0   0   0   0   0   0   0   0   0   0\n",
              "2   1   0   0   0   0   0   0   0   0   0   0   0\n",
              "3   1   0   0   0   0   0   0   0   0   0   0   0\n",
              "4   1   0   0   0   0   0   0   0   0   0   0   0"
            ]
          },
          "metadata": {
            "tags": []
          },
          "execution_count": 36
        }
      ]
    },
    {
      "cell_type": "markdown",
      "metadata": {
        "id": "vXQ0FEEdpMYz"
      },
      "source": [
        "## <font color='Orange'>Deep Encoding</font>"
      ]
    },
    {
      "cell_type": "code",
      "metadata": {
        "colab": {
          "base_uri": "https://localhost:8080/"
        },
        "id": "CxsSN4kFpDSI",
        "outputId": "315c6fc6-3558-4738-d081-eb5402bfe80f"
      },
      "source": [
        "data_small_df['mnth'].unique() "
      ],
      "execution_count": 37,
      "outputs": [
        {
          "output_type": "execute_result",
          "data": {
            "text/plain": [
              "array([ 1,  2,  3,  4,  5,  6,  7,  8,  9, 10, 11, 12])"
            ]
          },
          "metadata": {
            "tags": []
          },
          "execution_count": 37
        }
      ]
    },
    {
      "cell_type": "code",
      "metadata": {
        "id": "DpDdjjDVpTdy"
      },
      "source": [
        "data_small_df['mnth'] = data_small_df['mnth']-1\r\n",
        "data_small_df['mnth'] = data_small_df['mnth'].astype(int)"
      ],
      "execution_count": 38,
      "outputs": []
    },
    {
      "cell_type": "markdown",
      "metadata": {
        "id": "9B8lzlLnpmWg"
      },
      "source": [
        "## <font color = 'Orange'>Define Keras Model</font>"
      ]
    },
    {
      "cell_type": "code",
      "metadata": {
        "id": "F8jMgm4TpXzk"
      },
      "source": [
        "from keras.layers import Dense,Embedding, Flatten\r\n",
        "from keras.models import Sequential\r\n",
        "embedding_size = 3\r\n",
        "\r\n",
        "model = Sequential()\r\n",
        "model.add(Embedding(input_dim = 12, output_dim = 3, input_length = 1, name=\"embedding\"))\r\n",
        "model.add(Flatten())\r\n",
        "model.add(Dense(50, activation=\"relu\"))\r\n",
        "model.add(Dense(15, activation=\"relu\"))\r\n",
        "model.add(Dense(1))\r\n",
        "\r\n"
      ],
      "execution_count": 39,
      "outputs": []
    },
    {
      "cell_type": "markdown",
      "metadata": {
        "id": "KXI4cjvIp6J4"
      },
      "source": [
        "## <font color = 'Orange'>Compile Keras Model</font>"
      ]
    },
    {
      "cell_type": "code",
      "metadata": {
        "id": "wwbZHl7xqhB5"
      },
      "source": [
        "model.compile(loss = \"mse\", optimizer = \"adam\", metrics=[\"accuracy\"])\r\n"
      ],
      "execution_count": 40,
      "outputs": []
    },
    {
      "cell_type": "markdown",
      "metadata": {
        "id": "k_9UwaMMqtym"
      },
      "source": [
        "## <font color = 'Orange'>Fit Keras Model</font>"
      ]
    },
    {
      "cell_type": "code",
      "metadata": {
        "colab": {
          "base_uri": "https://localhost:8080/"
        },
        "id": "KO1aXtb_qp2a",
        "outputId": "2d01fdcb-32df-4be0-afc3-79e213e23c9a"
      },
      "source": [
        "model.fit(x = data_small_df['mnth'].values  , y=data_small_df['cnt_Scaled'].values   , epochs = 50, batch_size = 4)\r\n",
        "  "
      ],
      "execution_count": 41,
      "outputs": [
        {
          "output_type": "stream",
          "text": [
            "Epoch 1/50\n",
            "183/183 [==============================] - 1s 2ms/step - loss: 0.1366 - accuracy: 0.0000e+00\n",
            "Epoch 2/50\n",
            "183/183 [==============================] - 0s 2ms/step - loss: 0.0308 - accuracy: 2.6781e-04\n",
            "Epoch 3/50\n",
            "183/183 [==============================] - 0s 2ms/step - loss: 0.0312 - accuracy: 7.5773e-05\n",
            "Epoch 4/50\n",
            "183/183 [==============================] - 0s 2ms/step - loss: 0.0312 - accuracy: 7.3397e-04\n",
            "Epoch 5/50\n",
            "183/183 [==============================] - 0s 2ms/step - loss: 0.0319 - accuracy: 8.2545e-04\n",
            "Epoch 6/50\n",
            "183/183 [==============================] - 0s 2ms/step - loss: 0.0319 - accuracy: 1.8096e-04\n",
            "Epoch 7/50\n",
            "183/183 [==============================] - 0s 2ms/step - loss: 0.0327 - accuracy: 6.0160e-04\n",
            "Epoch 8/50\n",
            "183/183 [==============================] - 0s 2ms/step - loss: 0.0327 - accuracy: 3.9955e-04\n",
            "Epoch 9/50\n",
            "183/183 [==============================] - 0s 2ms/step - loss: 0.0331 - accuracy: 0.0011\n",
            "Epoch 10/50\n",
            "183/183 [==============================] - 0s 2ms/step - loss: 0.0310 - accuracy: 1.9789e-04\n",
            "Epoch 11/50\n",
            "183/183 [==============================] - 0s 2ms/step - loss: 0.0307 - accuracy: 0.0038\n",
            "Epoch 12/50\n",
            "183/183 [==============================] - 0s 2ms/step - loss: 0.0306 - accuracy: 4.6017e-04\n",
            "Epoch 13/50\n",
            "183/183 [==============================] - 0s 2ms/step - loss: 0.0309 - accuracy: 0.0012\n",
            "Epoch 14/50\n",
            "183/183 [==============================] - 0s 2ms/step - loss: 0.0311 - accuracy: 7.5773e-05\n",
            "Epoch 15/50\n",
            "183/183 [==============================] - 0s 2ms/step - loss: 0.0306 - accuracy: 0.0032\n",
            "Epoch 16/50\n",
            "183/183 [==============================] - 0s 2ms/step - loss: 0.0322 - accuracy: 0.0024\n",
            "Epoch 17/50\n",
            "183/183 [==============================] - 0s 2ms/step - loss: 0.0318 - accuracy: 0.0022\n",
            "Epoch 18/50\n",
            "183/183 [==============================] - 0s 2ms/step - loss: 0.0308 - accuracy: 1.6424e-04\n",
            "Epoch 19/50\n",
            "183/183 [==============================] - 0s 2ms/step - loss: 0.0322 - accuracy: 7.0892e-04\n",
            "Epoch 20/50\n",
            "183/183 [==============================] - 0s 2ms/step - loss: 0.0305 - accuracy: 0.0012\n",
            "Epoch 21/50\n",
            "183/183 [==============================] - 0s 2ms/step - loss: 0.0306 - accuracy: 0.0036\n",
            "Epoch 22/50\n",
            "183/183 [==============================] - 0s 2ms/step - loss: 0.0322 - accuracy: 7.8549e-04\n",
            "Epoch 23/50\n",
            "183/183 [==============================] - 0s 2ms/step - loss: 0.0318 - accuracy: 8.3904e-04\n",
            "Epoch 24/50\n",
            "183/183 [==============================] - 0s 2ms/step - loss: 0.0326 - accuracy: 5.2362e-04\n",
            "Epoch 25/50\n",
            "183/183 [==============================] - 0s 3ms/step - loss: 0.0311 - accuracy: 6.3644e-04\n",
            "Epoch 26/50\n",
            "183/183 [==============================] - 0s 3ms/step - loss: 0.0297 - accuracy: 0.0024\n",
            "Epoch 27/50\n",
            "183/183 [==============================] - 0s 3ms/step - loss: 0.0290 - accuracy: 4.8099e-04\n",
            "Epoch 28/50\n",
            "183/183 [==============================] - 0s 2ms/step - loss: 0.0301 - accuracy: 2.7681e-04\n",
            "Epoch 29/50\n",
            "183/183 [==============================] - 0s 3ms/step - loss: 0.0310 - accuracy: 3.8970e-04\n",
            "Epoch 30/50\n",
            "183/183 [==============================] - 0s 2ms/step - loss: 0.0296 - accuracy: 0.0029\n",
            "Epoch 31/50\n",
            "183/183 [==============================] - 0s 3ms/step - loss: 0.0339 - accuracy: 1.0728e-04\n",
            "Epoch 32/50\n",
            "183/183 [==============================] - 0s 2ms/step - loss: 0.0311 - accuracy: 0.0017\n",
            "Epoch 33/50\n",
            "183/183 [==============================] - 0s 2ms/step - loss: 0.0310 - accuracy: 2.8587e-04\n",
            "Epoch 34/50\n",
            "183/183 [==============================] - 0s 2ms/step - loss: 0.0308 - accuracy: 0.0031\n",
            "Epoch 35/50\n",
            "183/183 [==============================] - 0s 2ms/step - loss: 0.0305 - accuracy: 1.4772e-04\n",
            "Epoch 36/50\n",
            "183/183 [==============================] - 0s 2ms/step - loss: 0.0338 - accuracy: 9.2355e-04\n",
            "Epoch 37/50\n",
            "183/183 [==============================] - 0s 2ms/step - loss: 0.0300 - accuracy: 1.3140e-04\n",
            "Epoch 38/50\n",
            "183/183 [==============================] - 0s 2ms/step - loss: 0.0336 - accuracy: 5.5650e-04\n",
            "Epoch 39/50\n",
            "183/183 [==============================] - 0s 2ms/step - loss: 0.0318 - accuracy: 8.8064e-04\n",
            "Epoch 40/50\n",
            "183/183 [==============================] - 0s 2ms/step - loss: 0.0311 - accuracy: 6.9657e-04\n",
            "Epoch 41/50\n",
            "183/183 [==============================] - 0s 2ms/step - loss: 0.0288 - accuracy: 6.4826e-04\n",
            "Epoch 42/50\n",
            "183/183 [==============================] - 0s 2ms/step - loss: 0.0306 - accuracy: 6.0290e-05\n",
            "Epoch 43/50\n",
            "183/183 [==============================] - 0s 2ms/step - loss: 0.0294 - accuracy: 0.0027\n",
            "Epoch 44/50\n",
            "183/183 [==============================] - 0s 2ms/step - loss: 0.0316 - accuracy: 0.0022\n",
            "Epoch 45/50\n",
            "183/183 [==============================] - 0s 2ms/step - loss: 0.0286 - accuracy: 8.2545e-04\n",
            "Epoch 46/50\n",
            "183/183 [==============================] - 0s 2ms/step - loss: 0.0347 - accuracy: 0.0035\n",
            "Epoch 47/50\n",
            "183/183 [==============================] - 0s 2ms/step - loss: 0.0286 - accuracy: 8.2545e-04\n",
            "Epoch 48/50\n",
            "183/183 [==============================] - 0s 2ms/step - loss: 0.0326 - accuracy: 0.0026\n",
            "Epoch 49/50\n",
            "183/183 [==============================] - 0s 3ms/step - loss: 0.0298 - accuracy: 3.0416e-04\n",
            "Epoch 50/50\n",
            "183/183 [==============================] - 0s 3ms/step - loss: 0.0321 - accuracy: 0.0012\n"
          ],
          "name": "stdout"
        },
        {
          "output_type": "execute_result",
          "data": {
            "text/plain": [
              "<tensorflow.python.keras.callbacks.History at 0x7f76c0dc0780>"
            ]
          },
          "metadata": {
            "tags": []
          },
          "execution_count": 41
        }
      ]
    },
    {
      "cell_type": "markdown",
      "metadata": {
        "id": "TXlLHb0wsG_9"
      },
      "source": [
        "## <font color='Orange'>Get Embeddings</font>"
      ]
    },
    {
      "cell_type": "code",
      "metadata": {
        "colab": {
          "base_uri": "https://localhost:8080/"
        },
        "id": "jGgf2R0FqzKa",
        "outputId": "5e2e1444-bbae-4945-e42f-f2a76703174b"
      },
      "source": [
        "layer = model.get_layer('embedding')\r\n",
        "output_embeddings = layer.get_weights()\r\n",
        "output_embeddings"
      ],
      "execution_count": 42,
      "outputs": [
        {
          "output_type": "execute_result",
          "data": {
            "text/plain": [
              "[array([[-0.17614704,  0.16229889, -0.2347006 ],\n",
              "        [-0.22803721,  0.09690098, -0.09684622],\n",
              "        [-0.03878833,  0.08660018, -0.02780341],\n",
              "        [ 0.01174036, -0.01218022,  0.00739007],\n",
              "        [ 0.10162964, -0.03873846,  0.10660165],\n",
              "        [ 0.11935648, -0.09343165,  0.13187388],\n",
              "        [ 0.08199301, -0.1174724 ,  0.10907275],\n",
              "        [ 0.14905104, -0.07096808,  0.09094531],\n",
              "        [ 0.07492573, -0.12413793,  0.13455138],\n",
              "        [ 0.01806803, -0.09464914,  0.09111048],\n",
              "        [ 0.00401454,  0.03082524, -0.00520097],\n",
              "        [-0.09039115,  0.0468534 , -0.05964745]], dtype=float32)]"
            ]
          },
          "metadata": {
            "tags": []
          },
          "execution_count": 42
        }
      ]
    },
    {
      "cell_type": "code",
      "metadata": {
        "colab": {
          "base_uri": "https://localhost:8080/",
          "height": 402
        },
        "id": "NSfYcE5rsLoT",
        "outputId": "482a95b0-2135-48dd-ba9b-ae07f5a06ad5"
      },
      "source": [
        "output_embeddings_df = pd.DataFrame(output_embeddings[0])\r\n",
        "output_embeddings_df = output_embeddings_df.reset_index()\r\n",
        "output_embeddings_df.columns = ['mnth', 'embedding_1', 'embedding_2', 'embedding_3']\r\n",
        "output_embeddings_df"
      ],
      "execution_count": 43,
      "outputs": [
        {
          "output_type": "execute_result",
          "data": {
            "text/html": [
              "<div>\n",
              "<style scoped>\n",
              "    .dataframe tbody tr th:only-of-type {\n",
              "        vertical-align: middle;\n",
              "    }\n",
              "\n",
              "    .dataframe tbody tr th {\n",
              "        vertical-align: top;\n",
              "    }\n",
              "\n",
              "    .dataframe thead th {\n",
              "        text-align: right;\n",
              "    }\n",
              "</style>\n",
              "<table border=\"1\" class=\"dataframe\">\n",
              "  <thead>\n",
              "    <tr style=\"text-align: right;\">\n",
              "      <th></th>\n",
              "      <th>mnth</th>\n",
              "      <th>embedding_1</th>\n",
              "      <th>embedding_2</th>\n",
              "      <th>embedding_3</th>\n",
              "    </tr>\n",
              "  </thead>\n",
              "  <tbody>\n",
              "    <tr>\n",
              "      <th>0</th>\n",
              "      <td>0</td>\n",
              "      <td>-0.176147</td>\n",
              "      <td>0.162299</td>\n",
              "      <td>-0.234701</td>\n",
              "    </tr>\n",
              "    <tr>\n",
              "      <th>1</th>\n",
              "      <td>1</td>\n",
              "      <td>-0.228037</td>\n",
              "      <td>0.096901</td>\n",
              "      <td>-0.096846</td>\n",
              "    </tr>\n",
              "    <tr>\n",
              "      <th>2</th>\n",
              "      <td>2</td>\n",
              "      <td>-0.038788</td>\n",
              "      <td>0.086600</td>\n",
              "      <td>-0.027803</td>\n",
              "    </tr>\n",
              "    <tr>\n",
              "      <th>3</th>\n",
              "      <td>3</td>\n",
              "      <td>0.011740</td>\n",
              "      <td>-0.012180</td>\n",
              "      <td>0.007390</td>\n",
              "    </tr>\n",
              "    <tr>\n",
              "      <th>4</th>\n",
              "      <td>4</td>\n",
              "      <td>0.101630</td>\n",
              "      <td>-0.038738</td>\n",
              "      <td>0.106602</td>\n",
              "    </tr>\n",
              "    <tr>\n",
              "      <th>5</th>\n",
              "      <td>5</td>\n",
              "      <td>0.119356</td>\n",
              "      <td>-0.093432</td>\n",
              "      <td>0.131874</td>\n",
              "    </tr>\n",
              "    <tr>\n",
              "      <th>6</th>\n",
              "      <td>6</td>\n",
              "      <td>0.081993</td>\n",
              "      <td>-0.117472</td>\n",
              "      <td>0.109073</td>\n",
              "    </tr>\n",
              "    <tr>\n",
              "      <th>7</th>\n",
              "      <td>7</td>\n",
              "      <td>0.149051</td>\n",
              "      <td>-0.070968</td>\n",
              "      <td>0.090945</td>\n",
              "    </tr>\n",
              "    <tr>\n",
              "      <th>8</th>\n",
              "      <td>8</td>\n",
              "      <td>0.074926</td>\n",
              "      <td>-0.124138</td>\n",
              "      <td>0.134551</td>\n",
              "    </tr>\n",
              "    <tr>\n",
              "      <th>9</th>\n",
              "      <td>9</td>\n",
              "      <td>0.018068</td>\n",
              "      <td>-0.094649</td>\n",
              "      <td>0.091110</td>\n",
              "    </tr>\n",
              "    <tr>\n",
              "      <th>10</th>\n",
              "      <td>10</td>\n",
              "      <td>0.004015</td>\n",
              "      <td>0.030825</td>\n",
              "      <td>-0.005201</td>\n",
              "    </tr>\n",
              "    <tr>\n",
              "      <th>11</th>\n",
              "      <td>11</td>\n",
              "      <td>-0.090391</td>\n",
              "      <td>0.046853</td>\n",
              "      <td>-0.059647</td>\n",
              "    </tr>\n",
              "  </tbody>\n",
              "</table>\n",
              "</div>"
            ],
            "text/plain": [
              "    mnth  embedding_1  embedding_2  embedding_3\n",
              "0      0    -0.176147     0.162299    -0.234701\n",
              "1      1    -0.228037     0.096901    -0.096846\n",
              "2      2    -0.038788     0.086600    -0.027803\n",
              "3      3     0.011740    -0.012180     0.007390\n",
              "4      4     0.101630    -0.038738     0.106602\n",
              "5      5     0.119356    -0.093432     0.131874\n",
              "6      6     0.081993    -0.117472     0.109073\n",
              "7      7     0.149051    -0.070968     0.090945\n",
              "8      8     0.074926    -0.124138     0.134551\n",
              "9      9     0.018068    -0.094649     0.091110\n",
              "10    10     0.004015     0.030825    -0.005201\n",
              "11    11    -0.090391     0.046853    -0.059647"
            ]
          },
          "metadata": {
            "tags": []
          },
          "execution_count": 43
        }
      ]
    },
    {
      "cell_type": "markdown",
      "metadata": {
        "id": "ANd9oooDsTUr"
      },
      "source": [
        "## <font color='Orange'> Visualization</font>"
      ]
    },
    {
      "cell_type": "code",
      "metadata": {
        "colab": {
          "base_uri": "https://localhost:8080/",
          "height": 567
        },
        "id": "VKLfvm_hsPtK",
        "outputId": "a88aa378-be31-42c8-f424-8a535e7321a6"
      },
      "source": [
        "import matplotlib.pyplot as plt\r\n",
        "%matplotlib inline\r\n",
        "\r\n",
        "m = output_embeddings_df.iloc[:,1:].to_numpy()\r\n",
        "labels = output_embeddings_df.iloc[:,0:1].to_numpy()\r\n",
        "fig = plt.figure(figsize=(20,10))\r\n",
        "ax = fig.add_subplot(111, projection='3d')\r\n",
        "\r\n",
        "for i in range(len(labels)):\r\n",
        "    ax.scatter(m[i,0],m[i,1],m[i,2], color='b')\r\n",
        "    ax.text(m[i,0],m[i,1],m[i,2],'%s'%(str(labels[i][0])), size=20, zorder=1, color='k')\r\n",
        "\r\n",
        "ax.set_xlabel('Embedding 1')  \r\n",
        "ax.set_ylabel('Embedding 2')  \r\n",
        "ax.set_zlabel('Embedding 3')  \r\n",
        "plt.show()"
      ],
      "execution_count": 44,
      "outputs": [
        {
          "output_type": "display_data",
          "data": {
            "image/png": "[encoded data removed]",
            "text/plain": [
              "<Figure size 1440x720 with 1 Axes>"
            ]
          },
          "metadata": {
            "tags": [],
            "needs_background": "light"
          }
        }
      ]
    }
  ]
}