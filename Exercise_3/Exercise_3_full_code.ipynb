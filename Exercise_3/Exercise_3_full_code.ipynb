{
  "nbformat": 4,
  "nbformat_minor": 0,
  "metadata": {
    "colab": {
      "name": "DS-AV-03 Data Analysis & Visualization.ipynb",
      "provenance": []
    },
    "kernelspec": {
      "name": "python3",
      "display_name": "Python 3"
    }
  },
  "cells": [
    {
      "cell_type": "markdown",
      "metadata": {
        "id": "AEIbK0uVi5lV"
      },
      "source": [
        "**<font color = 'blue' size = 38>DATA ANALYSIS & VISUALIZATION</font>**"
      ]
    },
    {
      "cell_type": "markdown",
      "metadata": {
        "id": "JHhTs8a_nskY"
      },
      "source": [
        "# <font color = \"Orange\">Code from Exercise 2</font>"
      ]
    },
    {
      "cell_type": "code",
      "metadata": {
        "id": "DynBTE8on2Z8"
      },
      "source": [
        "# Import all modules that are required\n",
        "import numpy as np\n",
        "import pandas as pd\n",
        "from datetime import datetime\n",
        "from datetime import date\n",
        "\n",
        "import requests\n",
        "from bs4 import BeautifulSoup\n",
        "from IPython.display import HTML\n",
        "# Setting up 'requests' to make HTTPS requests properly takes some extra steps... we'll skip them for now.\n",
        "requests.packages.urllib3.disable_warnings()\n",
        "# Import all modules that are required\n",
        "%matplotlib inline\n",
        "import matplotlib.pyplot as plt\n",
        "import warnings\n",
        "warnings.filterwarnings(\"ignore\")"
      ],
      "execution_count": 1,
      "outputs": []
    },
    {
      "cell_type": "code",
      "metadata": {
        "id": "o5Zrb-n_oF9Q"
      },
      "source": [
        "def get_data(url):\n",
        "  snapshot_url = url\n",
        "  snapshot = requests.get(snapshot_url)\n",
        "  soup = BeautifulSoup(snapshot.text,'html.parser')\n",
        "  card_titles = soup.select('.Card-title')\n",
        "  card_times = soup.select('.Card-time')\n",
        "  card_classes = soup.select('.Card-eyebrow')\n",
        "  matrix = []\n",
        "  class_url = url.split('/')[-2]\n",
        "  for i in range(0,len(card_titles)):\n",
        "    d = card_times[i].text\n",
        "    date_list=[]\n",
        "    if 'Ago' in d or 'min' in d or 'sec' in d or 'hour' in d:\n",
        "      today = date.today()\n",
        "      date_list=[today.day,today.month]\n",
        "    else:\n",
        "      pom = d.split(' ')\n",
        "      date_list = [int(pom[2][:-2]),datetime.strptime(pom[1],'%b').month]\n",
        "    redica = [card_titles[i].select_one('div').text,card_times[i].text,date_list[0],date_list[1]]\n",
        "    if i<5:\n",
        "      redica.append('Top news ' +  class_url)\n",
        "    else:\n",
        "      if(class_url=='finance'):\n",
        "        redica.append(card_classes[i-6].select_one('div').text)\n",
        "      else:\n",
        "        redica.append(card_classes[i-5].select_one('div').text)\n",
        "    matrix.append(redica)\n",
        "  df = pd.DataFrame(np.array(matrix),columns = ['Title','Date','Day','Month','Class'])\n",
        "  return df\n",
        "    "
      ],
      "execution_count": 19,
      "outputs": []
    },
    {
      "cell_type": "code",
      "metadata": {
        "id": "7x6odX2Tp7co"
      },
      "source": [
        "df_finance = get_data('https://www.cnbc.com/finance/')"
      ],
      "execution_count": 20,
      "outputs": []
    },
    {
      "cell_type": "code",
      "metadata": {
        "id": "h-ldSS1rsd_C"
      },
      "source": [
        "df_health = get_data('https://www.cnbc.com/health-and-science/')"
      ],
      "execution_count": 21,
      "outputs": []
    },
    {
      "cell_type": "code",
      "metadata": {
        "id": "A18MgvLssrJI",
        "colab": {
          "base_uri": "https://localhost:8080/",
          "height": 1000
        },
        "outputId": "f68c54d9-46fd-43d0-9194-d0685683a048"
      },
      "source": [
        "df_finance"
      ],
      "execution_count": 22,
      "outputs": [
        {
          "output_type": "execute_result",
          "data": {
            "text/html": [
              "<div>\n",
              "<style scoped>\n",
              "    .dataframe tbody tr th:only-of-type {\n",
              "        vertical-align: middle;\n",
              "    }\n",
              "\n",
              "    .dataframe tbody tr th {\n",
              "        vertical-align: top;\n",
              "    }\n",
              "\n",
              "    .dataframe thead th {\n",
              "        text-align: right;\n",
              "    }\n",
              "</style>\n",
              "<table border=\"1\" class=\"dataframe\">\n",
              "  <thead>\n",
              "    <tr style=\"text-align: right;\">\n",
              "      <th></th>\n",
              "      <th>Title</th>\n",
              "      <th>Date</th>\n",
              "      <th>Day</th>\n",
              "      <th>Month</th>\n",
              "      <th>Class</th>\n",
              "    </tr>\n",
              "  </thead>\n",
              "  <tbody>\n",
              "    <tr>\n",
              "      <th>0</th>\n",
              "      <td>Stock futures are on hold ahead of October job...</td>\n",
              "      <td>38 min ago</td>\n",
              "      <td>4</td>\n",
              "      <td>11</td>\n",
              "      <td>Top news finance</td>\n",
              "    </tr>\n",
              "    <tr>\n",
              "      <th>1</th>\n",
              "      <td>Stocks making the biggest moves after hours: P...</td>\n",
              "      <td>an hour ago</td>\n",
              "      <td>4</td>\n",
              "      <td>11</td>\n",
              "      <td>Top news finance</td>\n",
              "    </tr>\n",
              "    <tr>\n",
              "      <th>2</th>\n",
              "      <td>Stocks making the biggest moves midday: Modern...</td>\n",
              "      <td>3 hours ago</td>\n",
              "      <td>4</td>\n",
              "      <td>11</td>\n",
              "      <td>Top news finance</td>\n",
              "    </tr>\n",
              "    <tr>\n",
              "      <th>3</th>\n",
              "      <td>Bank of England's Bailey says 'the warning sig...</td>\n",
              "      <td>5 hours ago</td>\n",
              "      <td>4</td>\n",
              "      <td>11</td>\n",
              "      <td>Top news finance</td>\n",
              "    </tr>\n",
              "    <tr>\n",
              "      <th>4</th>\n",
              "      <td>Democrats put 401(k) and IRA restrictions back...</td>\n",
              "      <td>5 hours ago</td>\n",
              "      <td>4</td>\n",
              "      <td>11</td>\n",
              "      <td>Top news finance</td>\n",
              "    </tr>\n",
              "    <tr>\n",
              "      <th>5</th>\n",
              "      <td>Watch Governor Andrew Bailey speak after the B...</td>\n",
              "      <td>Thu, Nov 4th 2021</td>\n",
              "      <td>4</td>\n",
              "      <td>11</td>\n",
              "      <td>Trading Nation</td>\n",
              "    </tr>\n",
              "    <tr>\n",
              "      <th>6</th>\n",
              "      <td>Bank of England surprises markets by holding r...</td>\n",
              "      <td>5 hours ago</td>\n",
              "      <td>4</td>\n",
              "      <td>11</td>\n",
              "      <td>Central Banks</td>\n",
              "    </tr>\n",
              "    <tr>\n",
              "      <th>7</th>\n",
              "      <td>Stocks making the biggest moves premarket: Reg...</td>\n",
              "      <td>Thu, Nov 4th 2021</td>\n",
              "      <td>4</td>\n",
              "      <td>11</td>\n",
              "      <td>Central Banks</td>\n",
              "    </tr>\n",
              "    <tr>\n",
              "      <th>8</th>\n",
              "      <td>DeFi — the ‘Wild West’ of crypto — is next on ...</td>\n",
              "      <td>Thu, Nov 4th 2021</td>\n",
              "      <td>4</td>\n",
              "      <td>11</td>\n",
              "      <td>Market Insider</td>\n",
              "    </tr>\n",
              "    <tr>\n",
              "      <th>9</th>\n",
              "      <td>JPMorgan picks 12 Asian stocks with ‘superior’...</td>\n",
              "      <td>Wed, Nov 3rd 2021</td>\n",
              "      <td>3</td>\n",
              "      <td>11</td>\n",
              "      <td>Tech</td>\n",
              "    </tr>\n",
              "    <tr>\n",
              "      <th>10</th>\n",
              "      <td>Wells Fargo warns that the bank is likely to f...</td>\n",
              "      <td>Wed, Nov 3rd 2021</td>\n",
              "      <td>3</td>\n",
              "      <td>11</td>\n",
              "      <td>Finance</td>\n",
              "    </tr>\n",
              "    <tr>\n",
              "      <th>11</th>\n",
              "      <td>Here's what changed in the new Fed statement</td>\n",
              "      <td>Wed, Nov 3rd 2021</td>\n",
              "      <td>3</td>\n",
              "      <td>11</td>\n",
              "      <td>Federal Reserve</td>\n",
              "    </tr>\n",
              "    <tr>\n",
              "      <th>12</th>\n",
              "      <td>Fed to start tapering bond purchases later thi...</td>\n",
              "      <td>Thu, Nov 4th 2021</td>\n",
              "      <td>4</td>\n",
              "      <td>11</td>\n",
              "      <td>Federal Reserve</td>\n",
              "    </tr>\n",
              "    <tr>\n",
              "      <th>13</th>\n",
              "      <td>Vaccine mandates are surging in job listings</td>\n",
              "      <td>Wed, Nov 3rd 2021</td>\n",
              "      <td>3</td>\n",
              "      <td>11</td>\n",
              "      <td>Personal Finance</td>\n",
              "    </tr>\n",
              "    <tr>\n",
              "      <th>14</th>\n",
              "      <td>Stocks making the biggest moves midday: CVS, G...</td>\n",
              "      <td>Wed, Nov 3rd 2021</td>\n",
              "      <td>3</td>\n",
              "      <td>11</td>\n",
              "      <td>Market Insider</td>\n",
              "    </tr>\n",
              "    <tr>\n",
              "      <th>15</th>\n",
              "      <td>Eileen Murray says government needs to regulat...</td>\n",
              "      <td>Wed, Nov 3rd 2021</td>\n",
              "      <td>3</td>\n",
              "      <td>11</td>\n",
              "      <td>Delivering Alpha 2021</td>\n",
              "    </tr>\n",
              "    <tr>\n",
              "      <th>16</th>\n",
              "      <td>SPAC issuance hits highest since March as deal...</td>\n",
              "      <td>Wed, Nov 3rd 2021</td>\n",
              "      <td>3</td>\n",
              "      <td>11</td>\n",
              "      <td>Delivering Alpha 2021</td>\n",
              "    </tr>\n",
              "    <tr>\n",
              "      <th>17</th>\n",
              "      <td>Tom Steyer's life changed when he saw how much...</td>\n",
              "      <td>Wed, Nov 3rd 2021</td>\n",
              "      <td>3</td>\n",
              "      <td>11</td>\n",
              "      <td>Climate</td>\n",
              "    </tr>\n",
              "    <tr>\n",
              "      <th>18</th>\n",
              "      <td>Stocks making the biggest moves premarket: New...</td>\n",
              "      <td>Wed, Nov 3rd 2021</td>\n",
              "      <td>3</td>\n",
              "      <td>11</td>\n",
              "      <td>Market Insider</td>\n",
              "    </tr>\n",
              "    <tr>\n",
              "      <th>19</th>\n",
              "      <td>Bank of England could be about to hike rates i...</td>\n",
              "      <td>Wed, Nov 3rd 2021</td>\n",
              "      <td>3</td>\n",
              "      <td>11</td>\n",
              "      <td>Central Banks</td>\n",
              "    </tr>\n",
              "    <tr>\n",
              "      <th>20</th>\n",
              "      <td>Consumers in China pick their 3 favorite elect...</td>\n",
              "      <td>Tue, Nov 2nd 2021</td>\n",
              "      <td>2</td>\n",
              "      <td>11</td>\n",
              "      <td>China Economy</td>\n",
              "    </tr>\n",
              "    <tr>\n",
              "      <th>21</th>\n",
              "      <td>Fed is in denial about 'persistent' inflation:...</td>\n",
              "      <td>Tue, Nov 2nd 2021</td>\n",
              "      <td>2</td>\n",
              "      <td>11</td>\n",
              "      <td>Trading Nation</td>\n",
              "    </tr>\n",
              "    <tr>\n",
              "      <th>22</th>\n",
              "      <td>S&amp;P 500 closes at record after Fed says it wil...</td>\n",
              "      <td>Wed, Nov 3rd 2021</td>\n",
              "      <td>3</td>\n",
              "      <td>11</td>\n",
              "      <td>Markets</td>\n",
              "    </tr>\n",
              "    <tr>\n",
              "      <th>23</th>\n",
              "      <td>Stocks making the biggest moves after hours: B...</td>\n",
              "      <td>Tue, Nov 2nd 2021</td>\n",
              "      <td>2</td>\n",
              "      <td>11</td>\n",
              "      <td>Market Insider</td>\n",
              "    </tr>\n",
              "    <tr>\n",
              "      <th>24</th>\n",
              "      <td>The Fed is about to set its post-crisis course...</td>\n",
              "      <td>Wed, Nov 3rd 2021</td>\n",
              "      <td>3</td>\n",
              "      <td>11</td>\n",
              "      <td>Federal Reserve</td>\n",
              "    </tr>\n",
              "    <tr>\n",
              "      <th>25</th>\n",
              "      <td>Democrats might not touch these taxes on the w...</td>\n",
              "      <td>Tue, Nov 2nd 2021</td>\n",
              "      <td>2</td>\n",
              "      <td>11</td>\n",
              "      <td>Personal Finance</td>\n",
              "    </tr>\n",
              "    <tr>\n",
              "      <th>26</th>\n",
              "      <td>Stocks making the biggest moves midday: Tesla,...</td>\n",
              "      <td>Tue, Nov 2nd 2021</td>\n",
              "      <td>2</td>\n",
              "      <td>11</td>\n",
              "      <td>Market Insider</td>\n",
              "    </tr>\n",
              "    <tr>\n",
              "      <th>27</th>\n",
              "      <td>GOP Rep. Larry Bucshon discloses he bought sto...</td>\n",
              "      <td>Tue, Nov 2nd 2021</td>\n",
              "      <td>2</td>\n",
              "      <td>11</td>\n",
              "      <td>Politics</td>\n",
              "    </tr>\n",
              "    <tr>\n",
              "      <th>28</th>\n",
              "      <td>Scammers target victims with promise of third ...</td>\n",
              "      <td>Tue, Nov 2nd 2021</td>\n",
              "      <td>2</td>\n",
              "      <td>11</td>\n",
              "      <td>Personal Finance</td>\n",
              "    </tr>\n",
              "    <tr>\n",
              "      <th>29</th>\n",
              "      <td>Goldman Sachs-backed digital bank Starling exp...</td>\n",
              "      <td>Tue, Nov 2nd 2021</td>\n",
              "      <td>2</td>\n",
              "      <td>11</td>\n",
              "      <td>Tech</td>\n",
              "    </tr>\n",
              "    <tr>\n",
              "      <th>30</th>\n",
              "      <td>Stocks making the biggest moves in the premark...</td>\n",
              "      <td>Tue, Nov 2nd 2021</td>\n",
              "      <td>2</td>\n",
              "      <td>11</td>\n",
              "      <td>Market Insider</td>\n",
              "    </tr>\n",
              "    <tr>\n",
              "      <th>31</th>\n",
              "      <td>Beijing's flights are canceled as China's capi...</td>\n",
              "      <td>Tue, Nov 2nd 2021</td>\n",
              "      <td>2</td>\n",
              "      <td>11</td>\n",
              "      <td>China Economy</td>\n",
              "    </tr>\n",
              "    <tr>\n",
              "      <th>32</th>\n",
              "      <td>China's coal shortage eases after Beijing step...</td>\n",
              "      <td>Tue, Nov 2nd 2021</td>\n",
              "      <td>2</td>\n",
              "      <td>11</td>\n",
              "      <td>China Economy</td>\n",
              "    </tr>\n",
              "    <tr>\n",
              "      <th>33</th>\n",
              "      <td>'Absolutely bullish': Why PNC sees the growth ...</td>\n",
              "      <td>Mon, Nov 1st 2021</td>\n",
              "      <td>1</td>\n",
              "      <td>11</td>\n",
              "      <td>Trading Nation</td>\n",
              "    </tr>\n",
              "  </tbody>\n",
              "</table>\n",
              "</div>"
            ],
            "text/plain": [
              "                                                Title  ...                  Class\n",
              "0   Stock futures are on hold ahead of October job...  ...       Top news finance\n",
              "1   Stocks making the biggest moves after hours: P...  ...       Top news finance\n",
              "2   Stocks making the biggest moves midday: Modern...  ...       Top news finance\n",
              "3   Bank of England's Bailey says 'the warning sig...  ...       Top news finance\n",
              "4   Democrats put 401(k) and IRA restrictions back...  ...       Top news finance\n",
              "5   Watch Governor Andrew Bailey speak after the B...  ...         Trading Nation\n",
              "6   Bank of England surprises markets by holding r...  ...          Central Banks\n",
              "7   Stocks making the biggest moves premarket: Reg...  ...          Central Banks\n",
              "8   DeFi — the ‘Wild West’ of crypto — is next on ...  ...         Market Insider\n",
              "9   JPMorgan picks 12 Asian stocks with ‘superior’...  ...                   Tech\n",
              "10  Wells Fargo warns that the bank is likely to f...  ...                Finance\n",
              "11       Here's what changed in the new Fed statement  ...        Federal Reserve\n",
              "12  Fed to start tapering bond purchases later thi...  ...        Federal Reserve\n",
              "13       Vaccine mandates are surging in job listings  ...       Personal Finance\n",
              "14  Stocks making the biggest moves midday: CVS, G...  ...         Market Insider\n",
              "15  Eileen Murray says government needs to regulat...  ...  Delivering Alpha 2021\n",
              "16  SPAC issuance hits highest since March as deal...  ...  Delivering Alpha 2021\n",
              "17  Tom Steyer's life changed when he saw how much...  ...                Climate\n",
              "18  Stocks making the biggest moves premarket: New...  ...         Market Insider\n",
              "19  Bank of England could be about to hike rates i...  ...          Central Banks\n",
              "20  Consumers in China pick their 3 favorite elect...  ...          China Economy\n",
              "21  Fed is in denial about 'persistent' inflation:...  ...         Trading Nation\n",
              "22  S&P 500 closes at record after Fed says it wil...  ...                Markets\n",
              "23  Stocks making the biggest moves after hours: B...  ...         Market Insider\n",
              "24  The Fed is about to set its post-crisis course...  ...        Federal Reserve\n",
              "25  Democrats might not touch these taxes on the w...  ...       Personal Finance\n",
              "26  Stocks making the biggest moves midday: Tesla,...  ...         Market Insider\n",
              "27  GOP Rep. Larry Bucshon discloses he bought sto...  ...               Politics\n",
              "28  Scammers target victims with promise of third ...  ...       Personal Finance\n",
              "29  Goldman Sachs-backed digital bank Starling exp...  ...                   Tech\n",
              "30  Stocks making the biggest moves in the premark...  ...         Market Insider\n",
              "31  Beijing's flights are canceled as China's capi...  ...          China Economy\n",
              "32  China's coal shortage eases after Beijing step...  ...          China Economy\n",
              "33  'Absolutely bullish': Why PNC sees the growth ...  ...         Trading Nation\n",
              "\n",
              "[34 rows x 5 columns]"
            ]
          },
          "metadata": {},
          "execution_count": 22
        }
      ]
    },
    {
      "cell_type": "code",
      "metadata": {
        "id": "1aRBW2UlsvNF",
        "colab": {
          "base_uri": "https://localhost:8080/",
          "height": 1000
        },
        "outputId": "79f5489f-4f1f-469c-d340-7845ed31db2f"
      },
      "source": [
        "df_health"
      ],
      "execution_count": 23,
      "outputs": [
        {
          "output_type": "execute_result",
          "data": {
            "text/html": [
              "<div>\n",
              "<style scoped>\n",
              "    .dataframe tbody tr th:only-of-type {\n",
              "        vertical-align: middle;\n",
              "    }\n",
              "\n",
              "    .dataframe tbody tr th {\n",
              "        vertical-align: top;\n",
              "    }\n",
              "\n",
              "    .dataframe thead th {\n",
              "        text-align: right;\n",
              "    }\n",
              "</style>\n",
              "<table border=\"1\" class=\"dataframe\">\n",
              "  <thead>\n",
              "    <tr style=\"text-align: right;\">\n",
              "      <th></th>\n",
              "      <th>Title</th>\n",
              "      <th>Date</th>\n",
              "      <th>Day</th>\n",
              "      <th>Month</th>\n",
              "      <th>Class</th>\n",
              "    </tr>\n",
              "  </thead>\n",
              "  <tbody>\n",
              "    <tr>\n",
              "      <th>0</th>\n",
              "      <td>Several big business groups aren't happy with ...</td>\n",
              "      <td>10 min ago</td>\n",
              "      <td>4</td>\n",
              "      <td>11</td>\n",
              "      <td>Top news health-and-science</td>\n",
              "    </tr>\n",
              "    <tr>\n",
              "      <th>1</th>\n",
              "      <td>Fauci says Paul 'egregiously incorrect' about ...</td>\n",
              "      <td>43 min ago</td>\n",
              "      <td>4</td>\n",
              "      <td>11</td>\n",
              "      <td>Top news health-and-science</td>\n",
              "    </tr>\n",
              "    <tr>\n",
              "      <th>2</th>\n",
              "      <td>Cramer says Moderna's stumbles highlight risks...</td>\n",
              "      <td>3 hours ago</td>\n",
              "      <td>4</td>\n",
              "      <td>11</td>\n",
              "      <td>Top news health-and-science</td>\n",
              "    </tr>\n",
              "    <tr>\n",
              "      <th>3</th>\n",
              "      <td>WHO warns that Europe is once again at the epi...</td>\n",
              "      <td>Thu, Nov 4th 2021</td>\n",
              "      <td>4</td>\n",
              "      <td>11</td>\n",
              "      <td>Top news health-and-science</td>\n",
              "    </tr>\n",
              "    <tr>\n",
              "      <th>4</th>\n",
              "      <td>Watch live: Fauci, CDC's Walensky and others t...</td>\n",
              "      <td>Thu, Nov 4th 2021</td>\n",
              "      <td>4</td>\n",
              "      <td>11</td>\n",
              "      <td>Top news health-and-science</td>\n",
              "    </tr>\n",
              "    <tr>\n",
              "      <th>5</th>\n",
              "      <td>Holmes said she was decision maker at Theranos...</td>\n",
              "      <td>6 hours ago</td>\n",
              "      <td>4</td>\n",
              "      <td>11</td>\n",
              "      <td>Tech</td>\n",
              "    </tr>\n",
              "    <tr>\n",
              "      <th>6</th>\n",
              "      <td>Businesses have until after the holidays to im...</td>\n",
              "      <td>2 hours ago</td>\n",
              "      <td>4</td>\n",
              "      <td>11</td>\n",
              "      <td>Health and Science</td>\n",
              "    </tr>\n",
              "    <tr>\n",
              "      <th>7</th>\n",
              "      <td>Moderna shares fall after company cuts 2021 fo...</td>\n",
              "      <td>4 hours ago</td>\n",
              "      <td>4</td>\n",
              "      <td>11</td>\n",
              "      <td>Health and Science</td>\n",
              "    </tr>\n",
              "    <tr>\n",
              "      <th>8</th>\n",
              "      <td>Merck's Covid pill approved by UK, a potential...</td>\n",
              "      <td>Thu, Nov 4th 2021</td>\n",
              "      <td>4</td>\n",
              "      <td>11</td>\n",
              "      <td>Health and Science</td>\n",
              "    </tr>\n",
              "    <tr>\n",
              "      <th>9</th>\n",
              "      <td>Biden: Covid shots for kids, boosters for adul...</td>\n",
              "      <td>Wed, Nov 3rd 2021</td>\n",
              "      <td>3</td>\n",
              "      <td>11</td>\n",
              "      <td>Health and Science</td>\n",
              "    </tr>\n",
              "    <tr>\n",
              "      <th>10</th>\n",
              "      <td>Los Angeles Mayor tests positive for Covid at ...</td>\n",
              "      <td>Wed, Nov 3rd 2021</td>\n",
              "      <td>3</td>\n",
              "      <td>11</td>\n",
              "      <td>Health and Science</td>\n",
              "    </tr>\n",
              "    <tr>\n",
              "      <th>11</th>\n",
              "      <td>Ford to impose Covid vaccine mandate on most o...</td>\n",
              "      <td>Thu, Nov 4th 2021</td>\n",
              "      <td>4</td>\n",
              "      <td>11</td>\n",
              "      <td>Autos</td>\n",
              "    </tr>\n",
              "    <tr>\n",
              "      <th>12</th>\n",
              "      <td>Vaccine mandates are surging in job listings</td>\n",
              "      <td>Wed, Nov 3rd 2021</td>\n",
              "      <td>3</td>\n",
              "      <td>11</td>\n",
              "      <td>Personal Finance</td>\n",
              "    </tr>\n",
              "    <tr>\n",
              "      <th>13</th>\n",
              "      <td>CVS Health beats on earnings, gets lift from C...</td>\n",
              "      <td>Wed, Nov 3rd 2021</td>\n",
              "      <td>3</td>\n",
              "      <td>11</td>\n",
              "      <td>Retail</td>\n",
              "    </tr>\n",
              "    <tr>\n",
              "      <th>14</th>\n",
              "      <td>Attorney for Henry Kissinger put $6 million in...</td>\n",
              "      <td>Tue, Nov 2nd 2021</td>\n",
              "      <td>2</td>\n",
              "      <td>11</td>\n",
              "      <td>Tech</td>\n",
              "    </tr>\n",
              "    <tr>\n",
              "      <th>15</th>\n",
              "      <td>CDC gives final OK for Pfizer Covid vaccine fo...</td>\n",
              "      <td>Wed, Nov 3rd 2021</td>\n",
              "      <td>3</td>\n",
              "      <td>11</td>\n",
              "      <td>Health and Science</td>\n",
              "    </tr>\n",
              "    <tr>\n",
              "      <th>16</th>\n",
              "      <td>Pfizer will have enough Covid vaccines availab...</td>\n",
              "      <td>Tue, Nov 2nd 2021</td>\n",
              "      <td>2</td>\n",
              "      <td>11</td>\n",
              "      <td>Health and Science</td>\n",
              "    </tr>\n",
              "    <tr>\n",
              "      <th>17</th>\n",
              "      <td>Democrats reach a breakthrough deal on drug pr...</td>\n",
              "      <td>Tue, Nov 2nd 2021</td>\n",
              "      <td>2</td>\n",
              "      <td>11</td>\n",
              "      <td>Politics</td>\n",
              "    </tr>\n",
              "    <tr>\n",
              "      <th>18</th>\n",
              "      <td>Live updates of CDC meeting on Pfizer's Covid ...</td>\n",
              "      <td>Tue, Nov 2nd 2021</td>\n",
              "      <td>2</td>\n",
              "      <td>11</td>\n",
              "      <td>Health and Science</td>\n",
              "    </tr>\n",
              "    <tr>\n",
              "      <th>19</th>\n",
              "      <td>Here's how to maximize your benefits during op...</td>\n",
              "      <td>Tue, Nov 2nd 2021</td>\n",
              "      <td>2</td>\n",
              "      <td>11</td>\n",
              "      <td>Personal Finance</td>\n",
              "    </tr>\n",
              "    <tr>\n",
              "      <th>20</th>\n",
              "      <td>How well did your city respond to Covid? A new...</td>\n",
              "      <td>Tue, Nov 2nd 2021</td>\n",
              "      <td>2</td>\n",
              "      <td>11</td>\n",
              "      <td>CNBC Travel</td>\n",
              "    </tr>\n",
              "    <tr>\n",
              "      <th>21</th>\n",
              "      <td>Supreme Court conservatives sound skeptical ab...</td>\n",
              "      <td>Mon, Nov 1st 2021</td>\n",
              "      <td>1</td>\n",
              "      <td>11</td>\n",
              "      <td>Politics</td>\n",
              "    </tr>\n",
              "    <tr>\n",
              "      <th>22</th>\n",
              "      <td>Covid vaccines for kids are coming soon — some...</td>\n",
              "      <td>Mon, Nov 1st 2021</td>\n",
              "      <td>1</td>\n",
              "      <td>11</td>\n",
              "      <td>Health and Science</td>\n",
              "    </tr>\n",
              "    <tr>\n",
              "      <th>23</th>\n",
              "      <td>Children Covid vaccine program 'fully up and r...</td>\n",
              "      <td>Mon, Nov 1st 2021</td>\n",
              "      <td>1</td>\n",
              "      <td>11</td>\n",
              "      <td>Health and Science</td>\n",
              "    </tr>\n",
              "    <tr>\n",
              "      <th>24</th>\n",
              "      <td>Biden administration to publish business vacci...</td>\n",
              "      <td>Mon, Nov 1st 2021</td>\n",
              "      <td>1</td>\n",
              "      <td>11</td>\n",
              "      <td>Health and Science</td>\n",
              "    </tr>\n",
              "    <tr>\n",
              "      <th>25</th>\n",
              "      <td>Federal contractors get flexibility to enforce...</td>\n",
              "      <td>Mon, Nov 1st 2021</td>\n",
              "      <td>1</td>\n",
              "      <td>11</td>\n",
              "      <td>Health and Science</td>\n",
              "    </tr>\n",
              "    <tr>\n",
              "      <th>26</th>\n",
              "      <td>Global Covid deaths hit 5 million as pandemic ...</td>\n",
              "      <td>Mon, Nov 1st 2021</td>\n",
              "      <td>1</td>\n",
              "      <td>11</td>\n",
              "      <td>Health and Science</td>\n",
              "    </tr>\n",
              "    <tr>\n",
              "      <th>27</th>\n",
              "      <td>Australian borders are finally open. Here's wh...</td>\n",
              "      <td>Mon, Nov 1st 2021</td>\n",
              "      <td>1</td>\n",
              "      <td>11</td>\n",
              "      <td>CNBC Travel</td>\n",
              "    </tr>\n",
              "    <tr>\n",
              "      <th>28</th>\n",
              "      <td>Moderna says FDA needs more time to review its...</td>\n",
              "      <td>Sun, Oct 31st 2021</td>\n",
              "      <td>31</td>\n",
              "      <td>10</td>\n",
              "      <td>Health and Science</td>\n",
              "    </tr>\n",
              "    <tr>\n",
              "      <th>29</th>\n",
              "      <td>Here are the 3 big ways Democrats’ social plan...</td>\n",
              "      <td>Sat, Oct 30th 2021</td>\n",
              "      <td>30</td>\n",
              "      <td>10</td>\n",
              "      <td>Personal Finance</td>\n",
              "    </tr>\n",
              "    <tr>\n",
              "      <th>30</th>\n",
              "      <td>U.S. Covid cases fall to less than half of pea...</td>\n",
              "      <td>Sat, Oct 30th 2021</td>\n",
              "      <td>30</td>\n",
              "      <td>10</td>\n",
              "      <td>Health and Science</td>\n",
              "    </tr>\n",
              "    <tr>\n",
              "      <th>31</th>\n",
              "      <td>Supreme Court declines to block vaccine mandat...</td>\n",
              "      <td>Fri, Oct 29th 2021</td>\n",
              "      <td>29</td>\n",
              "      <td>10</td>\n",
              "      <td>Health and Science</td>\n",
              "    </tr>\n",
              "    <tr>\n",
              "      <th>32</th>\n",
              "      <td>FDA clears Pfizer's Covid vaccine for kids 5 t...</td>\n",
              "      <td>Fri, Oct 29th 2021</td>\n",
              "      <td>29</td>\n",
              "      <td>10</td>\n",
              "      <td>Health and Science</td>\n",
              "    </tr>\n",
              "    <tr>\n",
              "      <th>33</th>\n",
              "      <td>Supreme Court set to hear arguments in major a...</td>\n",
              "      <td>Fri, Oct 29th 2021</td>\n",
              "      <td>29</td>\n",
              "      <td>10</td>\n",
              "      <td>Politics</td>\n",
              "    </tr>\n",
              "  </tbody>\n",
              "</table>\n",
              "</div>"
            ],
            "text/plain": [
              "                                                Title  ...                        Class\n",
              "0   Several big business groups aren't happy with ...  ...  Top news health-and-science\n",
              "1   Fauci says Paul 'egregiously incorrect' about ...  ...  Top news health-and-science\n",
              "2   Cramer says Moderna's stumbles highlight risks...  ...  Top news health-and-science\n",
              "3   WHO warns that Europe is once again at the epi...  ...  Top news health-and-science\n",
              "4   Watch live: Fauci, CDC's Walensky and others t...  ...  Top news health-and-science\n",
              "5   Holmes said she was decision maker at Theranos...  ...                         Tech\n",
              "6   Businesses have until after the holidays to im...  ...           Health and Science\n",
              "7   Moderna shares fall after company cuts 2021 fo...  ...           Health and Science\n",
              "8   Merck's Covid pill approved by UK, a potential...  ...           Health and Science\n",
              "9   Biden: Covid shots for kids, boosters for adul...  ...           Health and Science\n",
              "10  Los Angeles Mayor tests positive for Covid at ...  ...           Health and Science\n",
              "11  Ford to impose Covid vaccine mandate on most o...  ...                        Autos\n",
              "12       Vaccine mandates are surging in job listings  ...             Personal Finance\n",
              "13  CVS Health beats on earnings, gets lift from C...  ...                       Retail\n",
              "14  Attorney for Henry Kissinger put $6 million in...  ...                         Tech\n",
              "15  CDC gives final OK for Pfizer Covid vaccine fo...  ...           Health and Science\n",
              "16  Pfizer will have enough Covid vaccines availab...  ...           Health and Science\n",
              "17  Democrats reach a breakthrough deal on drug pr...  ...                     Politics\n",
              "18  Live updates of CDC meeting on Pfizer's Covid ...  ...           Health and Science\n",
              "19  Here's how to maximize your benefits during op...  ...             Personal Finance\n",
              "20  How well did your city respond to Covid? A new...  ...                  CNBC Travel\n",
              "21  Supreme Court conservatives sound skeptical ab...  ...                     Politics\n",
              "22  Covid vaccines for kids are coming soon — some...  ...           Health and Science\n",
              "23  Children Covid vaccine program 'fully up and r...  ...           Health and Science\n",
              "24  Biden administration to publish business vacci...  ...           Health and Science\n",
              "25  Federal contractors get flexibility to enforce...  ...           Health and Science\n",
              "26  Global Covid deaths hit 5 million as pandemic ...  ...           Health and Science\n",
              "27  Australian borders are finally open. Here's wh...  ...                  CNBC Travel\n",
              "28  Moderna says FDA needs more time to review its...  ...           Health and Science\n",
              "29  Here are the 3 big ways Democrats’ social plan...  ...             Personal Finance\n",
              "30  U.S. Covid cases fall to less than half of pea...  ...           Health and Science\n",
              "31  Supreme Court declines to block vaccine mandat...  ...           Health and Science\n",
              "32  FDA clears Pfizer's Covid vaccine for kids 5 t...  ...           Health and Science\n",
              "33  Supreme Court set to hear arguments in major a...  ...                     Politics\n",
              "\n",
              "[34 rows x 5 columns]"
            ]
          },
          "metadata": {},
          "execution_count": 23
        }
      ]
    },
    {
      "cell_type": "markdown",
      "metadata": {
        "id": "cPSTNpt-s6gc"
      },
      "source": [
        "#<font color = 'orange'> Save and read .CSV </font>\n"
      ]
    },
    {
      "cell_type": "code",
      "metadata": {
        "id": "bLiqSUH3s-5u"
      },
      "source": [
        "df_finance.to_csv(\"/content/drive/My Drive/dataset_finance.csv\",index = False)"
      ],
      "execution_count": 24,
      "outputs": []
    },
    {
      "cell_type": "code",
      "metadata": {
        "id": "A3uLKib4tuma"
      },
      "source": [
        "df_health.to_csv(\"/content/drive/My Drive/dataset_health.csv\", index = False)"
      ],
      "execution_count": 25,
      "outputs": []
    },
    {
      "cell_type": "code",
      "metadata": {
        "id": "Va5brS0It1Lh"
      },
      "source": [
        "df_finance = pd.read_csv('/content/drive/My Drive/dataset_finance.csv')"
      ],
      "execution_count": 26,
      "outputs": []
    },
    {
      "cell_type": "code",
      "metadata": {
        "id": "cX9ao_cUt6XK"
      },
      "source": [
        "df_health = pd.read_csv('/content/drive/My Drive/dataset_health.csv')"
      ],
      "execution_count": 27,
      "outputs": []
    },
    {
      "cell_type": "code",
      "metadata": {
        "id": "kvmpqOR7uCs7",
        "colab": {
          "base_uri": "https://localhost:8080/",
          "height": 1000
        },
        "outputId": "42c4d5fe-63b3-47d4-94c4-065d426a7f32"
      },
      "source": [
        "df_finance"
      ],
      "execution_count": 28,
      "outputs": [
        {
          "output_type": "execute_result",
          "data": {
            "text/html": [
              "<div>\n",
              "<style scoped>\n",
              "    .dataframe tbody tr th:only-of-type {\n",
              "        vertical-align: middle;\n",
              "    }\n",
              "\n",
              "    .dataframe tbody tr th {\n",
              "        vertical-align: top;\n",
              "    }\n",
              "\n",
              "    .dataframe thead th {\n",
              "        text-align: right;\n",
              "    }\n",
              "</style>\n",
              "<table border=\"1\" class=\"dataframe\">\n",
              "  <thead>\n",
              "    <tr style=\"text-align: right;\">\n",
              "      <th></th>\n",
              "      <th>Title</th>\n",
              "      <th>Date</th>\n",
              "      <th>Day</th>\n",
              "      <th>Month</th>\n",
              "      <th>Class</th>\n",
              "    </tr>\n",
              "  </thead>\n",
              "  <tbody>\n",
              "    <tr>\n",
              "      <th>0</th>\n",
              "      <td>Stock futures are on hold ahead of October job...</td>\n",
              "      <td>38 min ago</td>\n",
              "      <td>4</td>\n",
              "      <td>11</td>\n",
              "      <td>Top news finance</td>\n",
              "    </tr>\n",
              "    <tr>\n",
              "      <th>1</th>\n",
              "      <td>Stocks making the biggest moves after hours: P...</td>\n",
              "      <td>an hour ago</td>\n",
              "      <td>4</td>\n",
              "      <td>11</td>\n",
              "      <td>Top news finance</td>\n",
              "    </tr>\n",
              "    <tr>\n",
              "      <th>2</th>\n",
              "      <td>Stocks making the biggest moves midday: Modern...</td>\n",
              "      <td>3 hours ago</td>\n",
              "      <td>4</td>\n",
              "      <td>11</td>\n",
              "      <td>Top news finance</td>\n",
              "    </tr>\n",
              "    <tr>\n",
              "      <th>3</th>\n",
              "      <td>Bank of England's Bailey says 'the warning sig...</td>\n",
              "      <td>5 hours ago</td>\n",
              "      <td>4</td>\n",
              "      <td>11</td>\n",
              "      <td>Top news finance</td>\n",
              "    </tr>\n",
              "    <tr>\n",
              "      <th>4</th>\n",
              "      <td>Democrats put 401(k) and IRA restrictions back...</td>\n",
              "      <td>5 hours ago</td>\n",
              "      <td>4</td>\n",
              "      <td>11</td>\n",
              "      <td>Top news finance</td>\n",
              "    </tr>\n",
              "    <tr>\n",
              "      <th>5</th>\n",
              "      <td>Watch Governor Andrew Bailey speak after the B...</td>\n",
              "      <td>Thu, Nov 4th 2021</td>\n",
              "      <td>4</td>\n",
              "      <td>11</td>\n",
              "      <td>Trading Nation</td>\n",
              "    </tr>\n",
              "    <tr>\n",
              "      <th>6</th>\n",
              "      <td>Bank of England surprises markets by holding r...</td>\n",
              "      <td>5 hours ago</td>\n",
              "      <td>4</td>\n",
              "      <td>11</td>\n",
              "      <td>Central Banks</td>\n",
              "    </tr>\n",
              "    <tr>\n",
              "      <th>7</th>\n",
              "      <td>Stocks making the biggest moves premarket: Reg...</td>\n",
              "      <td>Thu, Nov 4th 2021</td>\n",
              "      <td>4</td>\n",
              "      <td>11</td>\n",
              "      <td>Central Banks</td>\n",
              "    </tr>\n",
              "    <tr>\n",
              "      <th>8</th>\n",
              "      <td>DeFi — the ‘Wild West’ of crypto — is next on ...</td>\n",
              "      <td>Thu, Nov 4th 2021</td>\n",
              "      <td>4</td>\n",
              "      <td>11</td>\n",
              "      <td>Market Insider</td>\n",
              "    </tr>\n",
              "    <tr>\n",
              "      <th>9</th>\n",
              "      <td>JPMorgan picks 12 Asian stocks with ‘superior’...</td>\n",
              "      <td>Wed, Nov 3rd 2021</td>\n",
              "      <td>3</td>\n",
              "      <td>11</td>\n",
              "      <td>Tech</td>\n",
              "    </tr>\n",
              "    <tr>\n",
              "      <th>10</th>\n",
              "      <td>Wells Fargo warns that the bank is likely to f...</td>\n",
              "      <td>Wed, Nov 3rd 2021</td>\n",
              "      <td>3</td>\n",
              "      <td>11</td>\n",
              "      <td>Finance</td>\n",
              "    </tr>\n",
              "    <tr>\n",
              "      <th>11</th>\n",
              "      <td>Here's what changed in the new Fed statement</td>\n",
              "      <td>Wed, Nov 3rd 2021</td>\n",
              "      <td>3</td>\n",
              "      <td>11</td>\n",
              "      <td>Federal Reserve</td>\n",
              "    </tr>\n",
              "    <tr>\n",
              "      <th>12</th>\n",
              "      <td>Fed to start tapering bond purchases later thi...</td>\n",
              "      <td>Thu, Nov 4th 2021</td>\n",
              "      <td>4</td>\n",
              "      <td>11</td>\n",
              "      <td>Federal Reserve</td>\n",
              "    </tr>\n",
              "    <tr>\n",
              "      <th>13</th>\n",
              "      <td>Vaccine mandates are surging in job listings</td>\n",
              "      <td>Wed, Nov 3rd 2021</td>\n",
              "      <td>3</td>\n",
              "      <td>11</td>\n",
              "      <td>Personal Finance</td>\n",
              "    </tr>\n",
              "    <tr>\n",
              "      <th>14</th>\n",
              "      <td>Stocks making the biggest moves midday: CVS, G...</td>\n",
              "      <td>Wed, Nov 3rd 2021</td>\n",
              "      <td>3</td>\n",
              "      <td>11</td>\n",
              "      <td>Market Insider</td>\n",
              "    </tr>\n",
              "    <tr>\n",
              "      <th>15</th>\n",
              "      <td>Eileen Murray says government needs to regulat...</td>\n",
              "      <td>Wed, Nov 3rd 2021</td>\n",
              "      <td>3</td>\n",
              "      <td>11</td>\n",
              "      <td>Delivering Alpha 2021</td>\n",
              "    </tr>\n",
              "    <tr>\n",
              "      <th>16</th>\n",
              "      <td>SPAC issuance hits highest since March as deal...</td>\n",
              "      <td>Wed, Nov 3rd 2021</td>\n",
              "      <td>3</td>\n",
              "      <td>11</td>\n",
              "      <td>Delivering Alpha 2021</td>\n",
              "    </tr>\n",
              "    <tr>\n",
              "      <th>17</th>\n",
              "      <td>Tom Steyer's life changed when he saw how much...</td>\n",
              "      <td>Wed, Nov 3rd 2021</td>\n",
              "      <td>3</td>\n",
              "      <td>11</td>\n",
              "      <td>Climate</td>\n",
              "    </tr>\n",
              "    <tr>\n",
              "      <th>18</th>\n",
              "      <td>Stocks making the biggest moves premarket: New...</td>\n",
              "      <td>Wed, Nov 3rd 2021</td>\n",
              "      <td>3</td>\n",
              "      <td>11</td>\n",
              "      <td>Market Insider</td>\n",
              "    </tr>\n",
              "    <tr>\n",
              "      <th>19</th>\n",
              "      <td>Bank of England could be about to hike rates i...</td>\n",
              "      <td>Wed, Nov 3rd 2021</td>\n",
              "      <td>3</td>\n",
              "      <td>11</td>\n",
              "      <td>Central Banks</td>\n",
              "    </tr>\n",
              "    <tr>\n",
              "      <th>20</th>\n",
              "      <td>Consumers in China pick their 3 favorite elect...</td>\n",
              "      <td>Tue, Nov 2nd 2021</td>\n",
              "      <td>2</td>\n",
              "      <td>11</td>\n",
              "      <td>China Economy</td>\n",
              "    </tr>\n",
              "    <tr>\n",
              "      <th>21</th>\n",
              "      <td>Fed is in denial about 'persistent' inflation:...</td>\n",
              "      <td>Tue, Nov 2nd 2021</td>\n",
              "      <td>2</td>\n",
              "      <td>11</td>\n",
              "      <td>Trading Nation</td>\n",
              "    </tr>\n",
              "    <tr>\n",
              "      <th>22</th>\n",
              "      <td>S&amp;P 500 closes at record after Fed says it wil...</td>\n",
              "      <td>Wed, Nov 3rd 2021</td>\n",
              "      <td>3</td>\n",
              "      <td>11</td>\n",
              "      <td>Markets</td>\n",
              "    </tr>\n",
              "    <tr>\n",
              "      <th>23</th>\n",
              "      <td>Stocks making the biggest moves after hours: B...</td>\n",
              "      <td>Tue, Nov 2nd 2021</td>\n",
              "      <td>2</td>\n",
              "      <td>11</td>\n",
              "      <td>Market Insider</td>\n",
              "    </tr>\n",
              "    <tr>\n",
              "      <th>24</th>\n",
              "      <td>The Fed is about to set its post-crisis course...</td>\n",
              "      <td>Wed, Nov 3rd 2021</td>\n",
              "      <td>3</td>\n",
              "      <td>11</td>\n",
              "      <td>Federal Reserve</td>\n",
              "    </tr>\n",
              "    <tr>\n",
              "      <th>25</th>\n",
              "      <td>Democrats might not touch these taxes on the w...</td>\n",
              "      <td>Tue, Nov 2nd 2021</td>\n",
              "      <td>2</td>\n",
              "      <td>11</td>\n",
              "      <td>Personal Finance</td>\n",
              "    </tr>\n",
              "    <tr>\n",
              "      <th>26</th>\n",
              "      <td>Stocks making the biggest moves midday: Tesla,...</td>\n",
              "      <td>Tue, Nov 2nd 2021</td>\n",
              "      <td>2</td>\n",
              "      <td>11</td>\n",
              "      <td>Market Insider</td>\n",
              "    </tr>\n",
              "    <tr>\n",
              "      <th>27</th>\n",
              "      <td>GOP Rep. Larry Bucshon discloses he bought sto...</td>\n",
              "      <td>Tue, Nov 2nd 2021</td>\n",
              "      <td>2</td>\n",
              "      <td>11</td>\n",
              "      <td>Politics</td>\n",
              "    </tr>\n",
              "    <tr>\n",
              "      <th>28</th>\n",
              "      <td>Scammers target victims with promise of third ...</td>\n",
              "      <td>Tue, Nov 2nd 2021</td>\n",
              "      <td>2</td>\n",
              "      <td>11</td>\n",
              "      <td>Personal Finance</td>\n",
              "    </tr>\n",
              "    <tr>\n",
              "      <th>29</th>\n",
              "      <td>Goldman Sachs-backed digital bank Starling exp...</td>\n",
              "      <td>Tue, Nov 2nd 2021</td>\n",
              "      <td>2</td>\n",
              "      <td>11</td>\n",
              "      <td>Tech</td>\n",
              "    </tr>\n",
              "    <tr>\n",
              "      <th>30</th>\n",
              "      <td>Stocks making the biggest moves in the premark...</td>\n",
              "      <td>Tue, Nov 2nd 2021</td>\n",
              "      <td>2</td>\n",
              "      <td>11</td>\n",
              "      <td>Market Insider</td>\n",
              "    </tr>\n",
              "    <tr>\n",
              "      <th>31</th>\n",
              "      <td>Beijing's flights are canceled as China's capi...</td>\n",
              "      <td>Tue, Nov 2nd 2021</td>\n",
              "      <td>2</td>\n",
              "      <td>11</td>\n",
              "      <td>China Economy</td>\n",
              "    </tr>\n",
              "    <tr>\n",
              "      <th>32</th>\n",
              "      <td>China's coal shortage eases after Beijing step...</td>\n",
              "      <td>Tue, Nov 2nd 2021</td>\n",
              "      <td>2</td>\n",
              "      <td>11</td>\n",
              "      <td>China Economy</td>\n",
              "    </tr>\n",
              "    <tr>\n",
              "      <th>33</th>\n",
              "      <td>'Absolutely bullish': Why PNC sees the growth ...</td>\n",
              "      <td>Mon, Nov 1st 2021</td>\n",
              "      <td>1</td>\n",
              "      <td>11</td>\n",
              "      <td>Trading Nation</td>\n",
              "    </tr>\n",
              "  </tbody>\n",
              "</table>\n",
              "</div>"
            ],
            "text/plain": [
              "                                                Title  ...                  Class\n",
              "0   Stock futures are on hold ahead of October job...  ...       Top news finance\n",
              "1   Stocks making the biggest moves after hours: P...  ...       Top news finance\n",
              "2   Stocks making the biggest moves midday: Modern...  ...       Top news finance\n",
              "3   Bank of England's Bailey says 'the warning sig...  ...       Top news finance\n",
              "4   Democrats put 401(k) and IRA restrictions back...  ...       Top news finance\n",
              "5   Watch Governor Andrew Bailey speak after the B...  ...         Trading Nation\n",
              "6   Bank of England surprises markets by holding r...  ...          Central Banks\n",
              "7   Stocks making the biggest moves premarket: Reg...  ...          Central Banks\n",
              "8   DeFi — the ‘Wild West’ of crypto — is next on ...  ...         Market Insider\n",
              "9   JPMorgan picks 12 Asian stocks with ‘superior’...  ...                   Tech\n",
              "10  Wells Fargo warns that the bank is likely to f...  ...                Finance\n",
              "11       Here's what changed in the new Fed statement  ...        Federal Reserve\n",
              "12  Fed to start tapering bond purchases later thi...  ...        Federal Reserve\n",
              "13       Vaccine mandates are surging in job listings  ...       Personal Finance\n",
              "14  Stocks making the biggest moves midday: CVS, G...  ...         Market Insider\n",
              "15  Eileen Murray says government needs to regulat...  ...  Delivering Alpha 2021\n",
              "16  SPAC issuance hits highest since March as deal...  ...  Delivering Alpha 2021\n",
              "17  Tom Steyer's life changed when he saw how much...  ...                Climate\n",
              "18  Stocks making the biggest moves premarket: New...  ...         Market Insider\n",
              "19  Bank of England could be about to hike rates i...  ...          Central Banks\n",
              "20  Consumers in China pick their 3 favorite elect...  ...          China Economy\n",
              "21  Fed is in denial about 'persistent' inflation:...  ...         Trading Nation\n",
              "22  S&P 500 closes at record after Fed says it wil...  ...                Markets\n",
              "23  Stocks making the biggest moves after hours: B...  ...         Market Insider\n",
              "24  The Fed is about to set its post-crisis course...  ...        Federal Reserve\n",
              "25  Democrats might not touch these taxes on the w...  ...       Personal Finance\n",
              "26  Stocks making the biggest moves midday: Tesla,...  ...         Market Insider\n",
              "27  GOP Rep. Larry Bucshon discloses he bought sto...  ...               Politics\n",
              "28  Scammers target victims with promise of third ...  ...       Personal Finance\n",
              "29  Goldman Sachs-backed digital bank Starling exp...  ...                   Tech\n",
              "30  Stocks making the biggest moves in the premark...  ...         Market Insider\n",
              "31  Beijing's flights are canceled as China's capi...  ...          China Economy\n",
              "32  China's coal shortage eases after Beijing step...  ...          China Economy\n",
              "33  'Absolutely bullish': Why PNC sees the growth ...  ...         Trading Nation\n",
              "\n",
              "[34 rows x 5 columns]"
            ]
          },
          "metadata": {},
          "execution_count": 28
        }
      ]
    },
    {
      "cell_type": "markdown",
      "metadata": {
        "id": "x_7HuURywDwv"
      },
      "source": [
        "# <font color = 'orange'> Some quick EDA</font>"
      ]
    },
    {
      "cell_type": "code",
      "metadata": {
        "id": "gQ9yj8CCwKgH",
        "colab": {
          "base_uri": "https://localhost:8080/"
        },
        "outputId": "1743e260-b248-434c-f4b9-9ee6f0ce82dd"
      },
      "source": [
        "df_finance.info()"
      ],
      "execution_count": 29,
      "outputs": [
        {
          "output_type": "stream",
          "name": "stdout",
          "text": [
            "<class 'pandas.core.frame.DataFrame'>\n",
            "RangeIndex: 34 entries, 0 to 33\n",
            "Data columns (total 5 columns):\n",
            " #   Column  Non-Null Count  Dtype \n",
            "---  ------  --------------  ----- \n",
            " 0   Title   34 non-null     object\n",
            " 1   Date    34 non-null     object\n",
            " 2   Day     34 non-null     int64 \n",
            " 3   Month   34 non-null     int64 \n",
            " 4   Class   34 non-null     object\n",
            "dtypes: int64(2), object(3)\n",
            "memory usage: 1.5+ KB\n"
          ]
        }
      ]
    },
    {
      "cell_type": "code",
      "metadata": {
        "id": "Oasv_DIuwOHF",
        "colab": {
          "base_uri": "https://localhost:8080/",
          "height": 202
        },
        "outputId": "b29e6fdd-488d-4459-b80b-b43c256882e8"
      },
      "source": [
        "df_finance.head()\n"
      ],
      "execution_count": 30,
      "outputs": [
        {
          "output_type": "execute_result",
          "data": {
            "text/html": [
              "<div>\n",
              "<style scoped>\n",
              "    .dataframe tbody tr th:only-of-type {\n",
              "        vertical-align: middle;\n",
              "    }\n",
              "\n",
              "    .dataframe tbody tr th {\n",
              "        vertical-align: top;\n",
              "    }\n",
              "\n",
              "    .dataframe thead th {\n",
              "        text-align: right;\n",
              "    }\n",
              "</style>\n",
              "<table border=\"1\" class=\"dataframe\">\n",
              "  <thead>\n",
              "    <tr style=\"text-align: right;\">\n",
              "      <th></th>\n",
              "      <th>Title</th>\n",
              "      <th>Date</th>\n",
              "      <th>Day</th>\n",
              "      <th>Month</th>\n",
              "      <th>Class</th>\n",
              "    </tr>\n",
              "  </thead>\n",
              "  <tbody>\n",
              "    <tr>\n",
              "      <th>0</th>\n",
              "      <td>Stock futures are on hold ahead of October job...</td>\n",
              "      <td>38 min ago</td>\n",
              "      <td>4</td>\n",
              "      <td>11</td>\n",
              "      <td>Top news finance</td>\n",
              "    </tr>\n",
              "    <tr>\n",
              "      <th>1</th>\n",
              "      <td>Stocks making the biggest moves after hours: P...</td>\n",
              "      <td>an hour ago</td>\n",
              "      <td>4</td>\n",
              "      <td>11</td>\n",
              "      <td>Top news finance</td>\n",
              "    </tr>\n",
              "    <tr>\n",
              "      <th>2</th>\n",
              "      <td>Stocks making the biggest moves midday: Modern...</td>\n",
              "      <td>3 hours ago</td>\n",
              "      <td>4</td>\n",
              "      <td>11</td>\n",
              "      <td>Top news finance</td>\n",
              "    </tr>\n",
              "    <tr>\n",
              "      <th>3</th>\n",
              "      <td>Bank of England's Bailey says 'the warning sig...</td>\n",
              "      <td>5 hours ago</td>\n",
              "      <td>4</td>\n",
              "      <td>11</td>\n",
              "      <td>Top news finance</td>\n",
              "    </tr>\n",
              "    <tr>\n",
              "      <th>4</th>\n",
              "      <td>Democrats put 401(k) and IRA restrictions back...</td>\n",
              "      <td>5 hours ago</td>\n",
              "      <td>4</td>\n",
              "      <td>11</td>\n",
              "      <td>Top news finance</td>\n",
              "    </tr>\n",
              "  </tbody>\n",
              "</table>\n",
              "</div>"
            ],
            "text/plain": [
              "                                               Title  ...             Class\n",
              "0  Stock futures are on hold ahead of October job...  ...  Top news finance\n",
              "1  Stocks making the biggest moves after hours: P...  ...  Top news finance\n",
              "2  Stocks making the biggest moves midday: Modern...  ...  Top news finance\n",
              "3  Bank of England's Bailey says 'the warning sig...  ...  Top news finance\n",
              "4  Democrats put 401(k) and IRA restrictions back...  ...  Top news finance\n",
              "\n",
              "[5 rows x 5 columns]"
            ]
          },
          "metadata": {},
          "execution_count": 30
        }
      ]
    },
    {
      "cell_type": "code",
      "metadata": {
        "id": "i5d0hiES-QdB",
        "colab": {
          "base_uri": "https://localhost:8080/"
        },
        "outputId": "91cda793-cedd-4a29-b525-08a4f1022e57"
      },
      "source": [
        "df_top_news= df_finance[df_finance.Class == 'Top News finance']\n",
        "df_top_news.info()"
      ],
      "execution_count": 31,
      "outputs": [
        {
          "output_type": "stream",
          "name": "stdout",
          "text": [
            "<class 'pandas.core.frame.DataFrame'>\n",
            "Int64Index: 0 entries\n",
            "Data columns (total 5 columns):\n",
            " #   Column  Non-Null Count  Dtype \n",
            "---  ------  --------------  ----- \n",
            " 0   Title   0 non-null      object\n",
            " 1   Date    0 non-null      object\n",
            " 2   Day     0 non-null      int64 \n",
            " 3   Month   0 non-null      int64 \n",
            " 4   Class   0 non-null      object\n",
            "dtypes: int64(2), object(3)\n",
            "memory usage: 0.0+ bytes\n"
          ]
        }
      ]
    },
    {
      "cell_type": "code",
      "metadata": {
        "id": "ulYGHMJb-aM7",
        "colab": {
          "base_uri": "https://localhost:8080/",
          "height": 49
        },
        "outputId": "a05fad37-37f6-4dcf-8c90-e5fcaa337f45"
      },
      "source": [
        "df_top_news.sort_values('Day').head()\n"
      ],
      "execution_count": 32,
      "outputs": [
        {
          "output_type": "execute_result",
          "data": {
            "text/html": [
              "<div>\n",
              "<style scoped>\n",
              "    .dataframe tbody tr th:only-of-type {\n",
              "        vertical-align: middle;\n",
              "    }\n",
              "\n",
              "    .dataframe tbody tr th {\n",
              "        vertical-align: top;\n",
              "    }\n",
              "\n",
              "    .dataframe thead th {\n",
              "        text-align: right;\n",
              "    }\n",
              "</style>\n",
              "<table border=\"1\" class=\"dataframe\">\n",
              "  <thead>\n",
              "    <tr style=\"text-align: right;\">\n",
              "      <th></th>\n",
              "      <th>Title</th>\n",
              "      <th>Date</th>\n",
              "      <th>Day</th>\n",
              "      <th>Month</th>\n",
              "      <th>Class</th>\n",
              "    </tr>\n",
              "  </thead>\n",
              "  <tbody>\n",
              "  </tbody>\n",
              "</table>\n",
              "</div>"
            ],
            "text/plain": [
              "Empty DataFrame\n",
              "Columns: [Title, Date, Day, Month, Class]\n",
              "Index: []"
            ]
          },
          "metadata": {},
          "execution_count": 32
        }
      ]
    },
    {
      "cell_type": "code",
      "metadata": {
        "id": "mS6g8gtg-vJi",
        "colab": {
          "base_uri": "https://localhost:8080/",
          "height": 415
        },
        "outputId": "7fddf2fd-c321-4985-c138-1d705a5223f4"
      },
      "source": [
        "df = pd.concat([df_finance,df_health],ignore_index=True)\n",
        "df"
      ],
      "execution_count": 33,
      "outputs": [
        {
          "output_type": "execute_result",
          "data": {
            "text/html": [
              "<div>\n",
              "<style scoped>\n",
              "    .dataframe tbody tr th:only-of-type {\n",
              "        vertical-align: middle;\n",
              "    }\n",
              "\n",
              "    .dataframe tbody tr th {\n",
              "        vertical-align: top;\n",
              "    }\n",
              "\n",
              "    .dataframe thead th {\n",
              "        text-align: right;\n",
              "    }\n",
              "</style>\n",
              "<table border=\"1\" class=\"dataframe\">\n",
              "  <thead>\n",
              "    <tr style=\"text-align: right;\">\n",
              "      <th></th>\n",
              "      <th>Title</th>\n",
              "      <th>Date</th>\n",
              "      <th>Day</th>\n",
              "      <th>Month</th>\n",
              "      <th>Class</th>\n",
              "    </tr>\n",
              "  </thead>\n",
              "  <tbody>\n",
              "    <tr>\n",
              "      <th>0</th>\n",
              "      <td>Stock futures are on hold ahead of October job...</td>\n",
              "      <td>38 min ago</td>\n",
              "      <td>4</td>\n",
              "      <td>11</td>\n",
              "      <td>Top news finance</td>\n",
              "    </tr>\n",
              "    <tr>\n",
              "      <th>1</th>\n",
              "      <td>Stocks making the biggest moves after hours: P...</td>\n",
              "      <td>an hour ago</td>\n",
              "      <td>4</td>\n",
              "      <td>11</td>\n",
              "      <td>Top news finance</td>\n",
              "    </tr>\n",
              "    <tr>\n",
              "      <th>2</th>\n",
              "      <td>Stocks making the biggest moves midday: Modern...</td>\n",
              "      <td>3 hours ago</td>\n",
              "      <td>4</td>\n",
              "      <td>11</td>\n",
              "      <td>Top news finance</td>\n",
              "    </tr>\n",
              "    <tr>\n",
              "      <th>3</th>\n",
              "      <td>Bank of England's Bailey says 'the warning sig...</td>\n",
              "      <td>5 hours ago</td>\n",
              "      <td>4</td>\n",
              "      <td>11</td>\n",
              "      <td>Top news finance</td>\n",
              "    </tr>\n",
              "    <tr>\n",
              "      <th>4</th>\n",
              "      <td>Democrats put 401(k) and IRA restrictions back...</td>\n",
              "      <td>5 hours ago</td>\n",
              "      <td>4</td>\n",
              "      <td>11</td>\n",
              "      <td>Top news finance</td>\n",
              "    </tr>\n",
              "    <tr>\n",
              "      <th>...</th>\n",
              "      <td>...</td>\n",
              "      <td>...</td>\n",
              "      <td>...</td>\n",
              "      <td>...</td>\n",
              "      <td>...</td>\n",
              "    </tr>\n",
              "    <tr>\n",
              "      <th>63</th>\n",
              "      <td>Here are the 3 big ways Democrats’ social plan...</td>\n",
              "      <td>Sat, Oct 30th 2021</td>\n",
              "      <td>30</td>\n",
              "      <td>10</td>\n",
              "      <td>Personal Finance</td>\n",
              "    </tr>\n",
              "    <tr>\n",
              "      <th>64</th>\n",
              "      <td>U.S. Covid cases fall to less than half of pea...</td>\n",
              "      <td>Sat, Oct 30th 2021</td>\n",
              "      <td>30</td>\n",
              "      <td>10</td>\n",
              "      <td>Health and Science</td>\n",
              "    </tr>\n",
              "    <tr>\n",
              "      <th>65</th>\n",
              "      <td>Supreme Court declines to block vaccine mandat...</td>\n",
              "      <td>Fri, Oct 29th 2021</td>\n",
              "      <td>29</td>\n",
              "      <td>10</td>\n",
              "      <td>Health and Science</td>\n",
              "    </tr>\n",
              "    <tr>\n",
              "      <th>66</th>\n",
              "      <td>FDA clears Pfizer's Covid vaccine for kids 5 t...</td>\n",
              "      <td>Fri, Oct 29th 2021</td>\n",
              "      <td>29</td>\n",
              "      <td>10</td>\n",
              "      <td>Health and Science</td>\n",
              "    </tr>\n",
              "    <tr>\n",
              "      <th>67</th>\n",
              "      <td>Supreme Court set to hear arguments in major a...</td>\n",
              "      <td>Fri, Oct 29th 2021</td>\n",
              "      <td>29</td>\n",
              "      <td>10</td>\n",
              "      <td>Politics</td>\n",
              "    </tr>\n",
              "  </tbody>\n",
              "</table>\n",
              "<p>68 rows × 5 columns</p>\n",
              "</div>"
            ],
            "text/plain": [
              "                                                Title  ...               Class\n",
              "0   Stock futures are on hold ahead of October job...  ...    Top news finance\n",
              "1   Stocks making the biggest moves after hours: P...  ...    Top news finance\n",
              "2   Stocks making the biggest moves midday: Modern...  ...    Top news finance\n",
              "3   Bank of England's Bailey says 'the warning sig...  ...    Top news finance\n",
              "4   Democrats put 401(k) and IRA restrictions back...  ...    Top news finance\n",
              "..                                                ...  ...                 ...\n",
              "63  Here are the 3 big ways Democrats’ social plan...  ...    Personal Finance\n",
              "64  U.S. Covid cases fall to less than half of pea...  ...  Health and Science\n",
              "65  Supreme Court declines to block vaccine mandat...  ...  Health and Science\n",
              "66  FDA clears Pfizer's Covid vaccine for kids 5 t...  ...  Health and Science\n",
              "67  Supreme Court set to hear arguments in major a...  ...            Politics\n",
              "\n",
              "[68 rows x 5 columns]"
            ]
          },
          "metadata": {},
          "execution_count": 33
        }
      ]
    },
    {
      "cell_type": "code",
      "metadata": {
        "id": "DLwmjEzc-5IR"
      },
      "source": [
        "df.to_csv('/content/drive/My Drive/dataset_exercise3.csv', index=False)"
      ],
      "execution_count": 34,
      "outputs": []
    },
    {
      "cell_type": "code",
      "metadata": {
        "id": "ec6K5Jyr_CTQ"
      },
      "source": [
        "df = pd.read_csv('/content/drive/My Drive/dataset_exercise3.csv')"
      ],
      "execution_count": 35,
      "outputs": []
    },
    {
      "cell_type": "code",
      "metadata": {
        "id": "JVonRtEt_F_A",
        "colab": {
          "base_uri": "https://localhost:8080/",
          "height": 415
        },
        "outputId": "d4333657-94c3-406b-b812-aed678988892"
      },
      "source": [
        "df"
      ],
      "execution_count": 36,
      "outputs": [
        {
          "output_type": "execute_result",
          "data": {
            "text/html": [
              "<div>\n",
              "<style scoped>\n",
              "    .dataframe tbody tr th:only-of-type {\n",
              "        vertical-align: middle;\n",
              "    }\n",
              "\n",
              "    .dataframe tbody tr th {\n",
              "        vertical-align: top;\n",
              "    }\n",
              "\n",
              "    .dataframe thead th {\n",
              "        text-align: right;\n",
              "    }\n",
              "</style>\n",
              "<table border=\"1\" class=\"dataframe\">\n",
              "  <thead>\n",
              "    <tr style=\"text-align: right;\">\n",
              "      <th></th>\n",
              "      <th>Title</th>\n",
              "      <th>Date</th>\n",
              "      <th>Day</th>\n",
              "      <th>Month</th>\n",
              "      <th>Class</th>\n",
              "    </tr>\n",
              "  </thead>\n",
              "  <tbody>\n",
              "    <tr>\n",
              "      <th>0</th>\n",
              "      <td>Stock futures are on hold ahead of October job...</td>\n",
              "      <td>38 min ago</td>\n",
              "      <td>4</td>\n",
              "      <td>11</td>\n",
              "      <td>Top news finance</td>\n",
              "    </tr>\n",
              "    <tr>\n",
              "      <th>1</th>\n",
              "      <td>Stocks making the biggest moves after hours: P...</td>\n",
              "      <td>an hour ago</td>\n",
              "      <td>4</td>\n",
              "      <td>11</td>\n",
              "      <td>Top news finance</td>\n",
              "    </tr>\n",
              "    <tr>\n",
              "      <th>2</th>\n",
              "      <td>Stocks making the biggest moves midday: Modern...</td>\n",
              "      <td>3 hours ago</td>\n",
              "      <td>4</td>\n",
              "      <td>11</td>\n",
              "      <td>Top news finance</td>\n",
              "    </tr>\n",
              "    <tr>\n",
              "      <th>3</th>\n",
              "      <td>Bank of England's Bailey says 'the warning sig...</td>\n",
              "      <td>5 hours ago</td>\n",
              "      <td>4</td>\n",
              "      <td>11</td>\n",
              "      <td>Top news finance</td>\n",
              "    </tr>\n",
              "    <tr>\n",
              "      <th>4</th>\n",
              "      <td>Democrats put 401(k) and IRA restrictions back...</td>\n",
              "      <td>5 hours ago</td>\n",
              "      <td>4</td>\n",
              "      <td>11</td>\n",
              "      <td>Top news finance</td>\n",
              "    </tr>\n",
              "    <tr>\n",
              "      <th>...</th>\n",
              "      <td>...</td>\n",
              "      <td>...</td>\n",
              "      <td>...</td>\n",
              "      <td>...</td>\n",
              "      <td>...</td>\n",
              "    </tr>\n",
              "    <tr>\n",
              "      <th>63</th>\n",
              "      <td>Here are the 3 big ways Democrats’ social plan...</td>\n",
              "      <td>Sat, Oct 30th 2021</td>\n",
              "      <td>30</td>\n",
              "      <td>10</td>\n",
              "      <td>Personal Finance</td>\n",
              "    </tr>\n",
              "    <tr>\n",
              "      <th>64</th>\n",
              "      <td>U.S. Covid cases fall to less than half of pea...</td>\n",
              "      <td>Sat, Oct 30th 2021</td>\n",
              "      <td>30</td>\n",
              "      <td>10</td>\n",
              "      <td>Health and Science</td>\n",
              "    </tr>\n",
              "    <tr>\n",
              "      <th>65</th>\n",
              "      <td>Supreme Court declines to block vaccine mandat...</td>\n",
              "      <td>Fri, Oct 29th 2021</td>\n",
              "      <td>29</td>\n",
              "      <td>10</td>\n",
              "      <td>Health and Science</td>\n",
              "    </tr>\n",
              "    <tr>\n",
              "      <th>66</th>\n",
              "      <td>FDA clears Pfizer's Covid vaccine for kids 5 t...</td>\n",
              "      <td>Fri, Oct 29th 2021</td>\n",
              "      <td>29</td>\n",
              "      <td>10</td>\n",
              "      <td>Health and Science</td>\n",
              "    </tr>\n",
              "    <tr>\n",
              "      <th>67</th>\n",
              "      <td>Supreme Court set to hear arguments in major a...</td>\n",
              "      <td>Fri, Oct 29th 2021</td>\n",
              "      <td>29</td>\n",
              "      <td>10</td>\n",
              "      <td>Politics</td>\n",
              "    </tr>\n",
              "  </tbody>\n",
              "</table>\n",
              "<p>68 rows × 5 columns</p>\n",
              "</div>"
            ],
            "text/plain": [
              "                                                Title  ...               Class\n",
              "0   Stock futures are on hold ahead of October job...  ...    Top news finance\n",
              "1   Stocks making the biggest moves after hours: P...  ...    Top news finance\n",
              "2   Stocks making the biggest moves midday: Modern...  ...    Top news finance\n",
              "3   Bank of England's Bailey says 'the warning sig...  ...    Top news finance\n",
              "4   Democrats put 401(k) and IRA restrictions back...  ...    Top news finance\n",
              "..                                                ...  ...                 ...\n",
              "63  Here are the 3 big ways Democrats’ social plan...  ...    Personal Finance\n",
              "64  U.S. Covid cases fall to less than half of pea...  ...  Health and Science\n",
              "65  Supreme Court declines to block vaccine mandat...  ...  Health and Science\n",
              "66  FDA clears Pfizer's Covid vaccine for kids 5 t...  ...  Health and Science\n",
              "67  Supreme Court set to hear arguments in major a...  ...            Politics\n",
              "\n",
              "[68 rows x 5 columns]"
            ]
          },
          "metadata": {},
          "execution_count": 36
        }
      ]
    },
    {
      "cell_type": "markdown",
      "metadata": {
        "id": "VqmVK6jZ964-"
      },
      "source": [
        "## <font color ='Orange'> Continuous variables</font>"
      ]
    },
    {
      "cell_type": "code",
      "metadata": {
        "id": "C4WR5bEF1JA1",
        "colab": {
          "base_uri": "https://localhost:8080/"
        },
        "outputId": "eabab59c-568c-439e-9b02-0bdf9123263c"
      },
      "source": [
        "df_health.median()"
      ],
      "execution_count": 37,
      "outputs": [
        {
          "output_type": "execute_result",
          "data": {
            "text/plain": [
              "Day       3.0\n",
              "Month    11.0\n",
              "dtype: float64"
            ]
          },
          "metadata": {},
          "execution_count": 37
        }
      ]
    },
    {
      "cell_type": "code",
      "metadata": {
        "id": "M9Y0S1eq-H1r",
        "colab": {
          "base_uri": "https://localhost:8080/"
        },
        "outputId": "f9c11111-f862-4834-94ba-1b49c41529f1"
      },
      "source": [
        "df_health['Day'].median()"
      ],
      "execution_count": 38,
      "outputs": [
        {
          "output_type": "execute_result",
          "data": {
            "text/plain": [
              "3.0"
            ]
          },
          "metadata": {},
          "execution_count": 38
        }
      ]
    },
    {
      "cell_type": "code",
      "metadata": {
        "id": "5bKwBBya0436",
        "colab": {
          "base_uri": "https://localhost:8080/"
        },
        "outputId": "add87ee0-04fe-4738-ffb5-7bda72d62f8a"
      },
      "source": [
        "df_finance.median()"
      ],
      "execution_count": 39,
      "outputs": [
        {
          "output_type": "execute_result",
          "data": {
            "text/plain": [
              "Day       3.0\n",
              "Month    11.0\n",
              "dtype: float64"
            ]
          },
          "metadata": {},
          "execution_count": 39
        }
      ]
    },
    {
      "cell_type": "code",
      "metadata": {
        "id": "peEL8O2eABeL",
        "colab": {
          "base_uri": "https://localhost:8080/"
        },
        "outputId": "68c2e44b-b943-4161-9ee2-22623cb6db76"
      },
      "source": [
        "df.median()"
      ],
      "execution_count": 40,
      "outputs": [
        {
          "output_type": "execute_result",
          "data": {
            "text/plain": [
              "Day       3.0\n",
              "Month    11.0\n",
              "dtype: float64"
            ]
          },
          "metadata": {},
          "execution_count": 40
        }
      ]
    },
    {
      "cell_type": "code",
      "metadata": {
        "id": "jxQtSbapAYbr",
        "colab": {
          "base_uri": "https://localhost:8080/"
        },
        "outputId": "32db87dd-c017-470d-d1c8-fae9dea95b93"
      },
      "source": [
        "df.std()"
      ],
      "execution_count": 41,
      "outputs": [
        {
          "output_type": "execute_result",
          "data": {
            "text/plain": [
              "Day      7.747143\n",
              "Month    0.285746\n",
              "dtype: float64"
            ]
          },
          "metadata": {},
          "execution_count": 41
        }
      ]
    },
    {
      "cell_type": "code",
      "metadata": {
        "id": "y-GWH30tA1CW",
        "colab": {
          "base_uri": "https://localhost:8080/"
        },
        "outputId": "159124ab-3257-4215-b376-2fb936a2be98"
      },
      "source": [
        "df.min()"
      ],
      "execution_count": 42,
      "outputs": [
        {
          "output_type": "execute_result",
          "data": {
            "text/plain": [
              "Title    'Absolutely bullish': Why PNC sees the growth ...\n",
              "Date                                            10 min ago\n",
              "Day                                                      1\n",
              "Month                                                   10\n",
              "Class                                                Autos\n",
              "dtype: object"
            ]
          },
          "metadata": {},
          "execution_count": 42
        }
      ]
    },
    {
      "cell_type": "code",
      "metadata": {
        "id": "mAwNucJGA293",
        "colab": {
          "base_uri": "https://localhost:8080/"
        },
        "outputId": "e5dc28f8-c12e-4afe-a6ee-170d769ca3d5"
      },
      "source": [
        "df.max()"
      ],
      "execution_count": 43,
      "outputs": [
        {
          "output_type": "execute_result",
          "data": {
            "text/plain": [
              "Title    Wells Fargo warns that the bank is likely to f...\n",
              "Date                                           an hour ago\n",
              "Day                                                     31\n",
              "Month                                                   11\n",
              "Class                                       Trading Nation\n",
              "dtype: object"
            ]
          },
          "metadata": {},
          "execution_count": 43
        }
      ]
    },
    {
      "cell_type": "code",
      "metadata": {
        "id": "6bhM1Er2BABU",
        "colab": {
          "base_uri": "https://localhost:8080/",
          "height": 172
        },
        "outputId": "525be9f5-feda-406b-9f9a-16bfd81f5c7e"
      },
      "source": [
        "df.quantile([.1, .25, .5, .75], axis = 0) \n"
      ],
      "execution_count": 44,
      "outputs": [
        {
          "output_type": "execute_result",
          "data": {
            "text/html": [
              "<div>\n",
              "<style scoped>\n",
              "    .dataframe tbody tr th:only-of-type {\n",
              "        vertical-align: middle;\n",
              "    }\n",
              "\n",
              "    .dataframe tbody tr th {\n",
              "        vertical-align: top;\n",
              "    }\n",
              "\n",
              "    .dataframe thead th {\n",
              "        text-align: right;\n",
              "    }\n",
              "</style>\n",
              "<table border=\"1\" class=\"dataframe\">\n",
              "  <thead>\n",
              "    <tr style=\"text-align: right;\">\n",
              "      <th></th>\n",
              "      <th>Day</th>\n",
              "      <th>Month</th>\n",
              "    </tr>\n",
              "  </thead>\n",
              "  <tbody>\n",
              "    <tr>\n",
              "      <th>0.10</th>\n",
              "      <td>1.0</td>\n",
              "      <td>11.0</td>\n",
              "    </tr>\n",
              "    <tr>\n",
              "      <th>0.25</th>\n",
              "      <td>2.0</td>\n",
              "      <td>11.0</td>\n",
              "    </tr>\n",
              "    <tr>\n",
              "      <th>0.50</th>\n",
              "      <td>3.0</td>\n",
              "      <td>11.0</td>\n",
              "    </tr>\n",
              "    <tr>\n",
              "      <th>0.75</th>\n",
              "      <td>4.0</td>\n",
              "      <td>11.0</td>\n",
              "    </tr>\n",
              "  </tbody>\n",
              "</table>\n",
              "</div>"
            ],
            "text/plain": [
              "      Day  Month\n",
              "0.10  1.0   11.0\n",
              "0.25  2.0   11.0\n",
              "0.50  3.0   11.0\n",
              "0.75  4.0   11.0"
            ]
          },
          "metadata": {},
          "execution_count": 44
        }
      ]
    },
    {
      "cell_type": "code",
      "metadata": {
        "id": "mLAQwlOoBqkI",
        "colab": {
          "base_uri": "https://localhost:8080/"
        },
        "outputId": "2b0020b7-6c7e-457e-aa50-a5b30b255f61"
      },
      "source": [
        "#Geometric Mean of the column in dataframe\n",
        "\n",
        "from scipy import stats\n",
        "\n",
        "stats.gmean(df.iloc[:,2:4],axis=0)\n"
      ],
      "execution_count": 45,
      "outputs": [
        {
          "output_type": "execute_result",
          "data": {
            "text/plain": [
              "array([ 3.17327983, 10.90788095])"
            ]
          },
          "metadata": {},
          "execution_count": 45
        }
      ]
    },
    {
      "cell_type": "markdown",
      "metadata": {
        "id": "atOmu1yVCDiz"
      },
      "source": [
        "## <font color='Orange'> Categorical variables</font>"
      ]
    },
    {
      "cell_type": "code",
      "metadata": {
        "id": "xag0_CFdCUgE",
        "colab": {
          "base_uri": "https://localhost:8080/"
        },
        "outputId": "7e1684be-0942-4cd2-ee30-29a01d9778bd"
      },
      "source": [
        "df_finance.Class.value_counts()"
      ],
      "execution_count": 46,
      "outputs": [
        {
          "output_type": "execute_result",
          "data": {
            "text/plain": [
              "Market Insider           6\n",
              "Top news finance         5\n",
              "China Economy            3\n",
              "Central Banks            3\n",
              "Federal Reserve          3\n",
              "Trading Nation           3\n",
              "Personal Finance         3\n",
              "Tech                     2\n",
              "Delivering Alpha 2021    2\n",
              "Finance                  1\n",
              "Markets                  1\n",
              "Politics                 1\n",
              "Climate                  1\n",
              "Name: Class, dtype: int64"
            ]
          },
          "metadata": {},
          "execution_count": 46
        }
      ]
    },
    {
      "cell_type": "code",
      "metadata": {
        "id": "WUlHgBvMCVpJ",
        "colab": {
          "base_uri": "https://localhost:8080/"
        },
        "outputId": "99704f3e-92ac-4f0b-e28c-44c12aa666f1"
      },
      "source": [
        "df_health.Class.value_counts()"
      ],
      "execution_count": 47,
      "outputs": [
        {
          "output_type": "execute_result",
          "data": {
            "text/plain": [
              "Health and Science             17\n",
              "Top news health-and-science     5\n",
              "Personal Finance                3\n",
              "Politics                        3\n",
              "CNBC Travel                     2\n",
              "Tech                            2\n",
              "Retail                          1\n",
              "Autos                           1\n",
              "Name: Class, dtype: int64"
            ]
          },
          "metadata": {},
          "execution_count": 47
        }
      ]
    },
    {
      "cell_type": "code",
      "metadata": {
        "id": "eCIrnv5yCXJk",
        "colab": {
          "base_uri": "https://localhost:8080/"
        },
        "outputId": "c1cc3187-1fd5-40c9-b54b-8e3ac214583d"
      },
      "source": [
        "df.Class.value_counts()"
      ],
      "execution_count": 48,
      "outputs": [
        {
          "output_type": "execute_result",
          "data": {
            "text/plain": [
              "Health and Science             17\n",
              "Personal Finance                6\n",
              "Market Insider                  6\n",
              "Top news finance                5\n",
              "Top news health-and-science     5\n",
              "Tech                            4\n",
              "Politics                        4\n",
              "Federal Reserve                 3\n",
              "Trading Nation                  3\n",
              "Central Banks                   3\n",
              "China Economy                   3\n",
              "CNBC Travel                     2\n",
              "Delivering Alpha 2021           2\n",
              "Retail                          1\n",
              "Markets                         1\n",
              "Autos                           1\n",
              "Climate                         1\n",
              "Finance                         1\n",
              "Name: Class, dtype: int64"
            ]
          },
          "metadata": {},
          "execution_count": 48
        }
      ]
    },
    {
      "cell_type": "markdown",
      "metadata": {
        "id": "umwtrPI1CpOA"
      },
      "source": [
        "# <font color = 'Orange'>Data visualization</font>"
      ]
    },
    {
      "cell_type": "markdown",
      "metadata": {
        "id": "4ZI05JE3C_Go"
      },
      "source": [
        "## <font color ='Orange'> Distribution</font>"
      ]
    },
    {
      "cell_type": "code",
      "metadata": {
        "id": "sEXvrVrBC6fs"
      },
      "source": [
        "# Import all modules that are required\n",
        "%matplotlib inline\n",
        "import matplotlib.pyplot as plt"
      ],
      "execution_count": 49,
      "outputs": []
    },
    {
      "cell_type": "code",
      "metadata": {
        "id": "zfoPRraoZ32i",
        "colab": {
          "base_uri": "https://localhost:8080/",
          "height": 433
        },
        "outputId": "12d4a60c-21b2-4f87-923c-24a36116b2f1"
      },
      "source": [
        "df['Class'].hist()\n",
        "plt.xticks(rotation = 90)"
      ],
      "execution_count": 50,
      "outputs": [
        {
          "output_type": "execute_result",
          "data": {
            "text/plain": [
              "([0, 1, 2, 3, 4, 5, 6, 7, 8, 9, 10, 11, 12, 13, 14, 15, 16, 17],\n",
              " <a list of 18 Text major ticklabel objects>)"
            ]
          },
          "metadata": {},
          "execution_count": 50
        },
        {
          "output_type": "display_data",
          "data": {
            "image/png": "[encoded data removed]",
            "text/plain": [
              "<Figure size 432x288 with 1 Axes>"
            ]
          },
          "metadata": {
            "needs_background": "light"
          }
        }
      ]
    },
    {
      "cell_type": "code",
      "metadata": {
        "id": "vmkF8pZCaL2J",
        "colab": {
          "base_uri": "https://localhost:8080/",
          "height": 331
        },
        "outputId": "689f29bb-3df8-486f-fe95-b291757f54cd"
      },
      "source": [
        "df.hist(bins = 5)"
      ],
      "execution_count": 51,
      "outputs": [
        {
          "output_type": "execute_result",
          "data": {
            "text/plain": [
              "array([[<matplotlib.axes._subplots.AxesSubplot object at 0x7ff66ee02610>,\n",
              "        <matplotlib.axes._subplots.AxesSubplot object at 0x7ff66ebe1e10>]],\n",
              "      dtype=object)"
            ]
          },
          "metadata": {},
          "execution_count": 51
        },
        {
          "output_type": "display_data",
          "data": {
            "image/png": "[encoded data removed]",
            "text/plain": [
              "<Figure size 432x288 with 2 Axes>"
            ]
          },
          "metadata": {
            "needs_background": "light"
          }
        }
      ]
    },
    {
      "cell_type": "code",
      "metadata": {
        "id": "VkJ1IWnpbfY9",
        "colab": {
          "base_uri": "https://localhost:8080/",
          "height": 138
        },
        "outputId": "1ad425b5-b8b2-4a75-cb78-02fc89c24104"
      },
      "source": [
        "fig = plt.figure()\n",
        "df.plot.bar(rot=0,figsize=(50,5))\n",
        "fig.show()"
      ],
      "execution_count": 52,
      "outputs": [
        {
          "output_type": "display_data",
          "data": {
            "text/plain": [
              "<Figure size 432x288 with 0 Axes>"
            ]
          },
          "metadata": {}
        },
        {
          "output_type": "display_data",
          "data": {
            "image/png": "[encoded data removed]",
            "text/plain": [
              "<Figure size 3600x360 with 1 Axes>"
            ]
          },
          "metadata": {
            "needs_background": "light"
          }
        }
      ]
    },
    {
      "cell_type": "code",
      "metadata": {
        "id": "B5O_b5Zcb0KS",
        "colab": {
          "base_uri": "https://localhost:8080/",
          "height": 139
        },
        "outputId": "f2060f93-8630-412e-9c03-97378fcc4236"
      },
      "source": [
        " df.plot.bar(stacked=True,figsize=(50,5))"
      ],
      "execution_count": 53,
      "outputs": [
        {
          "output_type": "execute_result",
          "data": {
            "text/plain": [
              "<matplotlib.axes._subplots.AxesSubplot at 0x7ff66069df50>"
            ]
          },
          "metadata": {},
          "execution_count": 53
        },
        {
          "output_type": "display_data",
          "data": {
            "image/png": "[encoded data removed]",
            "text/plain": [
              "<Figure size 3600x360 with 1 Axes>"
            ]
          },
          "metadata": {
            "needs_background": "light"
          }
        }
      ]
    },
    {
      "cell_type": "code",
      "metadata": {
        "id": "0sIVxyANbn_1",
        "colab": {
          "base_uri": "https://localhost:8080/",
          "height": 144
        },
        "outputId": "6635464f-e647-42f8-9cee-a1abbdaf962d"
      },
      "source": [
        "axes = df.plot.bar(rot=0, subplots=True,figsize=(50,5))\n",
        "axes[1].legend(loc=2)"
      ],
      "execution_count": 54,
      "outputs": [
        {
          "output_type": "execute_result",
          "data": {
            "text/plain": [
              "<matplotlib.legend.Legend at 0x7ff66045d590>"
            ]
          },
          "metadata": {},
          "execution_count": 54
        },
        {
          "output_type": "display_data",
          "data": {
            "image/png": "[encoded data removed]",
            "text/plain": [
              "<Figure size 3600x360 with 2 Axes>"
            ]
          },
          "metadata": {
            "needs_background": "light"
          }
        }
      ]
    },
    {
      "cell_type": "markdown",
      "metadata": {
        "id": "geJus_9Gdp80"
      },
      "source": [
        "## <font color = 'Orange'>Show trend over time </font>"
      ]
    },
    {
      "cell_type": "code",
      "metadata": {
        "id": "yTcKwYvUc1xD",
        "colab": {
          "base_uri": "https://localhost:8080/",
          "height": 281
        },
        "outputId": "ff502acc-8987-47da-c968-bb94a5041562"
      },
      "source": [
        "df.plot.area()"
      ],
      "execution_count": 55,
      "outputs": [
        {
          "output_type": "execute_result",
          "data": {
            "text/plain": [
              "<matplotlib.axes._subplots.AxesSubplot at 0x7ff660001d90>"
            ]
          },
          "metadata": {},
          "execution_count": 55
        },
        {
          "output_type": "display_data",
          "data": {
            "image/png": "[encoded data removed]",
            "text/plain": [
              "<Figure size 432x288 with 1 Axes>"
            ]
          },
          "metadata": {
            "needs_background": "light"
          }
        }
      ]
    },
    {
      "cell_type": "markdown",
      "metadata": {
        "id": "cb3TSN7-dM4v"
      },
      "source": [
        "## <font color = 'Orange'>Relationship</font>"
      ]
    },
    {
      "cell_type": "code",
      "metadata": {
        "id": "iSDrGP1XXLSH",
        "colab": {
          "base_uri": "https://localhost:8080/",
          "height": 464
        },
        "outputId": "cbe8733c-1a0b-445d-bec1-f261aaf2b456"
      },
      "source": [
        "fig = plt.figure()\n",
        "df.plot.scatter(x= 'Class', y = 'Date', alpha = 0.75,rot=0)\n",
        "plt.xticks(rotation=90)\n",
        "\n"
      ],
      "execution_count": 56,
      "outputs": [
        {
          "output_type": "execute_result",
          "data": {
            "text/plain": [
              "([0, 1, 2, 3, 4, 5, 6, 7, 8, 9, 10, 11, 12, 13, 14, 15, 16, 17],\n",
              " <a list of 18 Text major ticklabel objects>)"
            ]
          },
          "metadata": {},
          "execution_count": 56
        },
        {
          "output_type": "display_data",
          "data": {
            "text/plain": [
              "<Figure size 432x288 with 0 Axes>"
            ]
          },
          "metadata": {}
        },
        {
          "output_type": "display_data",
          "data": {
            "image/png": "[encoded data removed]",
            "text/plain": [
              "<Figure size 432x288 with 1 Axes>"
            ]
          },
          "metadata": {
            "needs_background": "light"
          }
        }
      ]
    },
    {
      "cell_type": "code",
      "metadata": {
        "id": "ve6lcHuAwtvB",
        "colab": {
          "base_uri": "https://localhost:8080/",
          "height": 726
        },
        "outputId": "3c4c33d4-30d1-4dd2-8af8-e03a29a974f6"
      },
      "source": [
        "# Import all modules that are required\n",
        "%matplotlib inline\n",
        "import matplotlib.pyplot as plt\n",
        "\n",
        "\n",
        "plt.figure(figsize=[10,10])\n",
        "plt.plot(df.groupby('Class').Day.sum(),  '-ob', linewidth='2', alpha = 0.75)\n",
        "plt.xticks(rotation=90)\n",
        "plt.show()"
      ],
      "execution_count": 57,
      "outputs": [
        {
          "output_type": "display_data",
          "data": {
            "image/png": "[encoded data removed]",
            "text/plain": [
              "<Figure size 720x720 with 1 Axes>"
            ]
          },
          "metadata": {
            "needs_background": "light"
          }
        }
      ]
    },
    {
      "cell_type": "markdown",
      "metadata": {
        "id": "4RQk_FD7eDgW"
      },
      "source": [
        "## <font color = 'Orange'>Comparison</font>"
      ]
    },
    {
      "cell_type": "code",
      "metadata": {
        "id": "oWfo1GzPZwZH",
        "colab": {
          "base_uri": "https://localhost:8080/",
          "height": 281
        },
        "outputId": "96189344-fdbd-4101-a278-61379202be97"
      },
      "source": [
        "df['Day'].hist()\n",
        "df['Month'].hist()"
      ],
      "execution_count": 58,
      "outputs": [
        {
          "output_type": "execute_result",
          "data": {
            "text/plain": [
              "<matplotlib.axes._subplots.AxesSubplot at 0x7ff65eca56d0>"
            ]
          },
          "metadata": {},
          "execution_count": 58
        },
        {
          "output_type": "display_data",
          "data": {
            "image/png": "[encoded data removed]",
            "text/plain": [
              "<Figure size 432x288 with 1 Axes>"
            ]
          },
          "metadata": {
            "needs_background": "light"
          }
        }
      ]
    },
    {
      "cell_type": "code",
      "metadata": {
        "id": "ryAEtgPtZu-m",
        "colab": {
          "base_uri": "https://localhost:8080/",
          "height": 279
        },
        "outputId": "26edf877-8464-429e-de31-6b65608444a9"
      },
      "source": [
        "import seaborn as sns\n",
        "line_up=sns.distplot(df['Day'], bins=3, kde=True, rug=True,label='Day')\n",
        "\n",
        "line_down=sns.distplot(df['Month'], bins=3, kde=True, rug=True,label = 'Month')"
      ],
      "execution_count": 59,
      "outputs": [
        {
          "output_type": "display_data",
          "data": {
            "image/png": "[encoded data removed]",
            "text/plain": [
              "<Figure size 432x288 with 1 Axes>"
            ]
          },
          "metadata": {
            "needs_background": "light"
          }
        }
      ]
    },
    {
      "cell_type": "code",
      "metadata": {
        "id": "R5Qice8Le-5P",
        "colab": {
          "base_uri": "https://localhost:8080/",
          "height": 279
        },
        "outputId": "0a62fcf8-489e-4408-a706-9d8577038ec5"
      },
      "source": [
        "import seaborn as sns\n",
        "line_up=sns.distplot(df['Day'], bins=3, kde=False, rug=True,label='Day')\n",
        "\n",
        "line_down=sns.distplot(df['Month'], bins=3, kde=False, rug=True,label = 'Month')"
      ],
      "execution_count": 60,
      "outputs": [
        {
          "output_type": "display_data",
          "data": {
            "image/png": "[encoded data removed]",
            "text/plain": [
              "<Figure size 432x288 with 1 Axes>"
            ]
          },
          "metadata": {
            "needs_background": "light"
          }
        }
      ]
    },
    {
      "cell_type": "code",
      "metadata": {
        "id": "5UAIsn4ffYgo",
        "colab": {
          "base_uri": "https://localhost:8080/",
          "height": 265
        },
        "outputId": "e0e62690-e905-4338-afa3-c22b001a5ded"
      },
      "source": [
        "boxplot = df.boxplot(column=['Day', 'Month'])"
      ],
      "execution_count": 61,
      "outputs": [
        {
          "output_type": "display_data",
          "data": {
            "image/png": "[encoded data removed]",
            "text/plain": [
              "<Figure size 432x288 with 1 Axes>"
            ]
          },
          "metadata": {
            "needs_background": "light"
          }
        }
      ]
    },
    {
      "cell_type": "markdown",
      "metadata": {
        "id": "ev6hwEcVUmm2"
      },
      "source": [
        "# <font color = 'Orange'> Kaggle dataset visualization</font>"
      ]
    },
    {
      "cell_type": "code",
      "metadata": {
        "id": "lz8UVb6bUl3l"
      },
      "source": [
        "import pandas as pd\n",
        "#add the files on your Google Drive or change the path for the training and testing dataset\n",
        "train = pd.read_csv('/content/drive/MyDrive/Data Science/Vezbi/Auditoriski vezbi/DS-AV-03/train_data.csv')\n",
        "test = pd.read_csv('/content/drive/MyDrive/Data Science/Vezbi/Auditoriski vezbi/DS-AV-03/test_data.csv')\n",
        "train = train.drop(['case_id'], axis=1)\n",
        "test = test.drop(['case_id'], axis=1)\n",
        "train['dataset'] = 'train'\n",
        "test['dataset'] = 'test'\n",
        "df = pd.concat([train, test])"
      ],
      "execution_count": 62,
      "outputs": []
    },
    {
      "cell_type": "code",
      "metadata": {
        "id": "sR-AABtkevhl",
        "colab": {
          "base_uri": "https://localhost:8080/",
          "height": 653
        },
        "outputId": "c4e14254-e588-4409-ef68-5791ca47ca0e"
      },
      "source": [
        "df"
      ],
      "execution_count": 63,
      "outputs": [
        {
          "output_type": "execute_result",
          "data": {
            "text/html": [
              "<div>\n",
              "<style scoped>\n",
              "    .dataframe tbody tr th:only-of-type {\n",
              "        vertical-align: middle;\n",
              "    }\n",
              "\n",
              "    .dataframe tbody tr th {\n",
              "        vertical-align: top;\n",
              "    }\n",
              "\n",
              "    .dataframe thead th {\n",
              "        text-align: right;\n",
              "    }\n",
              "</style>\n",
              "<table border=\"1\" class=\"dataframe\">\n",
              "  <thead>\n",
              "    <tr style=\"text-align: right;\">\n",
              "      <th></th>\n",
              "      <th>Hospital_code</th>\n",
              "      <th>Hospital_type_code</th>\n",
              "      <th>City_Code_Hospital</th>\n",
              "      <th>Hospital_region_code</th>\n",
              "      <th>Available Extra Rooms in Hospital</th>\n",
              "      <th>Department</th>\n",
              "      <th>Ward_Type</th>\n",
              "      <th>Ward_Facility_Code</th>\n",
              "      <th>Bed Grade</th>\n",
              "      <th>patientid</th>\n",
              "      <th>City_Code_Patient</th>\n",
              "      <th>Type of Admission</th>\n",
              "      <th>Severity of Illness</th>\n",
              "      <th>Visitors with Patient</th>\n",
              "      <th>Age</th>\n",
              "      <th>Admission_Deposit</th>\n",
              "      <th>Stay</th>\n",
              "      <th>dataset</th>\n",
              "    </tr>\n",
              "  </thead>\n",
              "  <tbody>\n",
              "    <tr>\n",
              "      <th>0</th>\n",
              "      <td>8</td>\n",
              "      <td>c</td>\n",
              "      <td>3</td>\n",
              "      <td>Z</td>\n",
              "      <td>3</td>\n",
              "      <td>radiotherapy</td>\n",
              "      <td>R</td>\n",
              "      <td>F</td>\n",
              "      <td>2.0</td>\n",
              "      <td>31397</td>\n",
              "      <td>7.0</td>\n",
              "      <td>Emergency</td>\n",
              "      <td>Extreme</td>\n",
              "      <td>2</td>\n",
              "      <td>51-60</td>\n",
              "      <td>4911.0</td>\n",
              "      <td>0-10</td>\n",
              "      <td>train</td>\n",
              "    </tr>\n",
              "    <tr>\n",
              "      <th>1</th>\n",
              "      <td>2</td>\n",
              "      <td>c</td>\n",
              "      <td>5</td>\n",
              "      <td>Z</td>\n",
              "      <td>2</td>\n",
              "      <td>radiotherapy</td>\n",
              "      <td>S</td>\n",
              "      <td>F</td>\n",
              "      <td>2.0</td>\n",
              "      <td>31397</td>\n",
              "      <td>7.0</td>\n",
              "      <td>Trauma</td>\n",
              "      <td>Extreme</td>\n",
              "      <td>2</td>\n",
              "      <td>51-60</td>\n",
              "      <td>5954.0</td>\n",
              "      <td>41-50</td>\n",
              "      <td>train</td>\n",
              "    </tr>\n",
              "    <tr>\n",
              "      <th>2</th>\n",
              "      <td>10</td>\n",
              "      <td>e</td>\n",
              "      <td>1</td>\n",
              "      <td>X</td>\n",
              "      <td>2</td>\n",
              "      <td>anesthesia</td>\n",
              "      <td>S</td>\n",
              "      <td>E</td>\n",
              "      <td>2.0</td>\n",
              "      <td>31397</td>\n",
              "      <td>7.0</td>\n",
              "      <td>Trauma</td>\n",
              "      <td>Extreme</td>\n",
              "      <td>2</td>\n",
              "      <td>51-60</td>\n",
              "      <td>4745.0</td>\n",
              "      <td>31-40</td>\n",
              "      <td>train</td>\n",
              "    </tr>\n",
              "    <tr>\n",
              "      <th>3</th>\n",
              "      <td>26</td>\n",
              "      <td>b</td>\n",
              "      <td>2</td>\n",
              "      <td>Y</td>\n",
              "      <td>2</td>\n",
              "      <td>radiotherapy</td>\n",
              "      <td>R</td>\n",
              "      <td>D</td>\n",
              "      <td>2.0</td>\n",
              "      <td>31397</td>\n",
              "      <td>7.0</td>\n",
              "      <td>Trauma</td>\n",
              "      <td>Extreme</td>\n",
              "      <td>2</td>\n",
              "      <td>51-60</td>\n",
              "      <td>7272.0</td>\n",
              "      <td>41-50</td>\n",
              "      <td>train</td>\n",
              "    </tr>\n",
              "    <tr>\n",
              "      <th>4</th>\n",
              "      <td>26</td>\n",
              "      <td>b</td>\n",
              "      <td>2</td>\n",
              "      <td>Y</td>\n",
              "      <td>2</td>\n",
              "      <td>radiotherapy</td>\n",
              "      <td>S</td>\n",
              "      <td>D</td>\n",
              "      <td>2.0</td>\n",
              "      <td>31397</td>\n",
              "      <td>7.0</td>\n",
              "      <td>Trauma</td>\n",
              "      <td>Extreme</td>\n",
              "      <td>2</td>\n",
              "      <td>51-60</td>\n",
              "      <td>5558.0</td>\n",
              "      <td>41-50</td>\n",
              "      <td>train</td>\n",
              "    </tr>\n",
              "    <tr>\n",
              "      <th>...</th>\n",
              "      <td>...</td>\n",
              "      <td>...</td>\n",
              "      <td>...</td>\n",
              "      <td>...</td>\n",
              "      <td>...</td>\n",
              "      <td>...</td>\n",
              "      <td>...</td>\n",
              "      <td>...</td>\n",
              "      <td>...</td>\n",
              "      <td>...</td>\n",
              "      <td>...</td>\n",
              "      <td>...</td>\n",
              "      <td>...</td>\n",
              "      <td>...</td>\n",
              "      <td>...</td>\n",
              "      <td>...</td>\n",
              "      <td>...</td>\n",
              "      <td>...</td>\n",
              "    </tr>\n",
              "    <tr>\n",
              "      <th>137052</th>\n",
              "      <td>11</td>\n",
              "      <td>b</td>\n",
              "      <td>2</td>\n",
              "      <td>Y</td>\n",
              "      <td>4</td>\n",
              "      <td>anesthesia</td>\n",
              "      <td>Q</td>\n",
              "      <td>D</td>\n",
              "      <td>3.0</td>\n",
              "      <td>41160</td>\n",
              "      <td>3.0</td>\n",
              "      <td>Emergency</td>\n",
              "      <td>Minor</td>\n",
              "      <td>4</td>\n",
              "      <td>41-50</td>\n",
              "      <td>6313.0</td>\n",
              "      <td>NaN</td>\n",
              "      <td>test</td>\n",
              "    </tr>\n",
              "    <tr>\n",
              "      <th>137053</th>\n",
              "      <td>25</td>\n",
              "      <td>e</td>\n",
              "      <td>1</td>\n",
              "      <td>X</td>\n",
              "      <td>2</td>\n",
              "      <td>radiotherapy</td>\n",
              "      <td>R</td>\n",
              "      <td>E</td>\n",
              "      <td>4.0</td>\n",
              "      <td>30985</td>\n",
              "      <td>7.0</td>\n",
              "      <td>Emergency</td>\n",
              "      <td>Moderate</td>\n",
              "      <td>2</td>\n",
              "      <td>0-10</td>\n",
              "      <td>3510.0</td>\n",
              "      <td>NaN</td>\n",
              "      <td>test</td>\n",
              "    </tr>\n",
              "    <tr>\n",
              "      <th>137054</th>\n",
              "      <td>30</td>\n",
              "      <td>c</td>\n",
              "      <td>3</td>\n",
              "      <td>Z</td>\n",
              "      <td>2</td>\n",
              "      <td>anesthesia</td>\n",
              "      <td>R</td>\n",
              "      <td>A</td>\n",
              "      <td>4.0</td>\n",
              "      <td>81811</td>\n",
              "      <td>12.0</td>\n",
              "      <td>Urgent</td>\n",
              "      <td>Minor</td>\n",
              "      <td>2</td>\n",
              "      <td>0-10</td>\n",
              "      <td>7190.0</td>\n",
              "      <td>NaN</td>\n",
              "      <td>test</td>\n",
              "    </tr>\n",
              "    <tr>\n",
              "      <th>137055</th>\n",
              "      <td>5</td>\n",
              "      <td>a</td>\n",
              "      <td>1</td>\n",
              "      <td>X</td>\n",
              "      <td>2</td>\n",
              "      <td>anesthesia</td>\n",
              "      <td>R</td>\n",
              "      <td>E</td>\n",
              "      <td>4.0</td>\n",
              "      <td>57021</td>\n",
              "      <td>10.0</td>\n",
              "      <td>Trauma</td>\n",
              "      <td>Minor</td>\n",
              "      <td>2</td>\n",
              "      <td>41-50</td>\n",
              "      <td>5435.0</td>\n",
              "      <td>NaN</td>\n",
              "      <td>test</td>\n",
              "    </tr>\n",
              "    <tr>\n",
              "      <th>137056</th>\n",
              "      <td>6</td>\n",
              "      <td>a</td>\n",
              "      <td>6</td>\n",
              "      <td>X</td>\n",
              "      <td>3</td>\n",
              "      <td>gynecology</td>\n",
              "      <td>Q</td>\n",
              "      <td>F</td>\n",
              "      <td>4.0</td>\n",
              "      <td>126729</td>\n",
              "      <td>3.0</td>\n",
              "      <td>Trauma</td>\n",
              "      <td>Extreme</td>\n",
              "      <td>5</td>\n",
              "      <td>51-60</td>\n",
              "      <td>4702.0</td>\n",
              "      <td>NaN</td>\n",
              "      <td>test</td>\n",
              "    </tr>\n",
              "  </tbody>\n",
              "</table>\n",
              "<p>455495 rows × 18 columns</p>\n",
              "</div>"
            ],
            "text/plain": [
              "        Hospital_code Hospital_type_code  ...   Stay dataset\n",
              "0                   8                  c  ...   0-10   train\n",
              "1                   2                  c  ...  41-50   train\n",
              "2                  10                  e  ...  31-40   train\n",
              "3                  26                  b  ...  41-50   train\n",
              "4                  26                  b  ...  41-50   train\n",
              "...               ...                ...  ...    ...     ...\n",
              "137052             11                  b  ...    NaN    test\n",
              "137053             25                  e  ...    NaN    test\n",
              "137054             30                  c  ...    NaN    test\n",
              "137055              5                  a  ...    NaN    test\n",
              "137056              6                  a  ...    NaN    test\n",
              "\n",
              "[455495 rows x 18 columns]"
            ]
          },
          "metadata": {},
          "execution_count": 63
        }
      ]
    },
    {
      "cell_type": "code",
      "metadata": {
        "id": "HbfloZaGfLl_",
        "colab": {
          "base_uri": "https://localhost:8080/",
          "height": 281
        },
        "outputId": "70595001-dd84-4564-cb54-1deb4e487b81"
      },
      "source": [
        "df['Hospital_type_code'].hist(bins = 6)"
      ],
      "execution_count": 64,
      "outputs": [
        {
          "output_type": "execute_result",
          "data": {
            "text/plain": [
              "<matplotlib.axes._subplots.AxesSubplot at 0x7ff653bb1c10>"
            ]
          },
          "metadata": {},
          "execution_count": 64
        },
        {
          "output_type": "display_data",
          "data": {
            "image/png": "[encoded data removed]",
            "text/plain": [
              "<Figure size 432x288 with 1 Axes>"
            ]
          },
          "metadata": {
            "needs_background": "light"
          }
        }
      ]
    },
    {
      "cell_type": "code",
      "metadata": {
        "id": "FuAyld_OgDrp",
        "colab": {
          "base_uri": "https://localhost:8080/",
          "height": 279
        },
        "outputId": "97af9bde-cc62-462c-a691-695dbc846106"
      },
      "source": [
        "import seaborn as sns\n",
        "line_up=sns.distplot(df['Bed Grade'], bins=3, kde=True, rug=True)\n"
      ],
      "execution_count": 65,
      "outputs": [
        {
          "output_type": "display_data",
          "data": {
            "image/png": "[encoded data removed]",
            "text/plain": [
              "<Figure size 432x288 with 1 Axes>"
            ]
          },
          "metadata": {
            "needs_background": "light"
          }
        }
      ]
    },
    {
      "cell_type": "code",
      "metadata": {
        "id": "YN5rhC4rg932"
      },
      "source": [
        "ds = df.groupby(['Department','Bed Grade'])['patientid'].count().reset_index()\n",
        "ds.columns = ['Department','Bed Grade', 'count']\n"
      ],
      "execution_count": 66,
      "outputs": []
    },
    {
      "cell_type": "code",
      "metadata": {
        "id": "Wgl3t__clthH",
        "colab": {
          "base_uri": "https://localhost:8080/",
          "height": 663
        },
        "outputId": "7594c00b-e504-4907-ad34-111beeb952bc"
      },
      "source": [
        "ds"
      ],
      "execution_count": 67,
      "outputs": [
        {
          "output_type": "execute_result",
          "data": {
            "text/html": [
              "<div>\n",
              "<style scoped>\n",
              "    .dataframe tbody tr th:only-of-type {\n",
              "        vertical-align: middle;\n",
              "    }\n",
              "\n",
              "    .dataframe tbody tr th {\n",
              "        vertical-align: top;\n",
              "    }\n",
              "\n",
              "    .dataframe thead th {\n",
              "        text-align: right;\n",
              "    }\n",
              "</style>\n",
              "<table border=\"1\" class=\"dataframe\">\n",
              "  <thead>\n",
              "    <tr style=\"text-align: right;\">\n",
              "      <th></th>\n",
              "      <th>Department</th>\n",
              "      <th>Bed Grade</th>\n",
              "      <th>count</th>\n",
              "    </tr>\n",
              "  </thead>\n",
              "  <tbody>\n",
              "    <tr>\n",
              "      <th>0</th>\n",
              "      <td>TB &amp; Chest disease</td>\n",
              "      <td>1.0</td>\n",
              "      <td>773</td>\n",
              "    </tr>\n",
              "    <tr>\n",
              "      <th>1</th>\n",
              "      <td>TB &amp; Chest disease</td>\n",
              "      <td>2.0</td>\n",
              "      <td>4880</td>\n",
              "    </tr>\n",
              "    <tr>\n",
              "      <th>2</th>\n",
              "      <td>TB &amp; Chest disease</td>\n",
              "      <td>3.0</td>\n",
              "      <td>5151</td>\n",
              "    </tr>\n",
              "    <tr>\n",
              "      <th>3</th>\n",
              "      <td>TB &amp; Chest disease</td>\n",
              "      <td>4.0</td>\n",
              "      <td>2944</td>\n",
              "    </tr>\n",
              "    <tr>\n",
              "      <th>4</th>\n",
              "      <td>anesthesia</td>\n",
              "      <td>1.0</td>\n",
              "      <td>452</td>\n",
              "    </tr>\n",
              "    <tr>\n",
              "      <th>5</th>\n",
              "      <td>anesthesia</td>\n",
              "      <td>2.0</td>\n",
              "      <td>10068</td>\n",
              "    </tr>\n",
              "    <tr>\n",
              "      <th>6</th>\n",
              "      <td>anesthesia</td>\n",
              "      <td>3.0</td>\n",
              "      <td>20163</td>\n",
              "    </tr>\n",
              "    <tr>\n",
              "      <th>7</th>\n",
              "      <td>anesthesia</td>\n",
              "      <td>4.0</td>\n",
              "      <td>11673</td>\n",
              "    </tr>\n",
              "    <tr>\n",
              "      <th>8</th>\n",
              "      <td>gynecology</td>\n",
              "      <td>1.0</td>\n",
              "      <td>32168</td>\n",
              "    </tr>\n",
              "    <tr>\n",
              "      <th>9</th>\n",
              "      <td>gynecology</td>\n",
              "      <td>2.0</td>\n",
              "      <td>144816</td>\n",
              "    </tr>\n",
              "    <tr>\n",
              "      <th>10</th>\n",
              "      <td>gynecology</td>\n",
              "      <td>3.0</td>\n",
              "      <td>119532</td>\n",
              "    </tr>\n",
              "    <tr>\n",
              "      <th>11</th>\n",
              "      <td>gynecology</td>\n",
              "      <td>4.0</td>\n",
              "      <td>60042</td>\n",
              "    </tr>\n",
              "    <tr>\n",
              "      <th>12</th>\n",
              "      <td>radiotherapy</td>\n",
              "      <td>1.0</td>\n",
              "      <td>3870</td>\n",
              "    </tr>\n",
              "    <tr>\n",
              "      <th>13</th>\n",
              "      <td>radiotherapy</td>\n",
              "      <td>2.0</td>\n",
              "      <td>15925</td>\n",
              "    </tr>\n",
              "    <tr>\n",
              "      <th>14</th>\n",
              "      <td>radiotherapy</td>\n",
              "      <td>3.0</td>\n",
              "      <td>13710</td>\n",
              "    </tr>\n",
              "    <tr>\n",
              "      <th>15</th>\n",
              "      <td>radiotherapy</td>\n",
              "      <td>4.0</td>\n",
              "      <td>7515</td>\n",
              "    </tr>\n",
              "    <tr>\n",
              "      <th>16</th>\n",
              "      <td>surgery</td>\n",
              "      <td>1.0</td>\n",
              "      <td>304</td>\n",
              "    </tr>\n",
              "    <tr>\n",
              "      <th>17</th>\n",
              "      <td>surgery</td>\n",
              "      <td>2.0</td>\n",
              "      <td>762</td>\n",
              "    </tr>\n",
              "    <tr>\n",
              "      <th>18</th>\n",
              "      <td>surgery</td>\n",
              "      <td>3.0</td>\n",
              "      <td>386</td>\n",
              "    </tr>\n",
              "    <tr>\n",
              "      <th>19</th>\n",
              "      <td>surgery</td>\n",
              "      <td>4.0</td>\n",
              "      <td>213</td>\n",
              "    </tr>\n",
              "  </tbody>\n",
              "</table>\n",
              "</div>"
            ],
            "text/plain": [
              "            Department  Bed Grade   count\n",
              "0   TB & Chest disease        1.0     773\n",
              "1   TB & Chest disease        2.0    4880\n",
              "2   TB & Chest disease        3.0    5151\n",
              "3   TB & Chest disease        4.0    2944\n",
              "4           anesthesia        1.0     452\n",
              "5           anesthesia        2.0   10068\n",
              "6           anesthesia        3.0   20163\n",
              "7           anesthesia        4.0   11673\n",
              "8           gynecology        1.0   32168\n",
              "9           gynecology        2.0  144816\n",
              "10          gynecology        3.0  119532\n",
              "11          gynecology        4.0   60042\n",
              "12        radiotherapy        1.0    3870\n",
              "13        radiotherapy        2.0   15925\n",
              "14        radiotherapy        3.0   13710\n",
              "15        radiotherapy        4.0    7515\n",
              "16             surgery        1.0     304\n",
              "17             surgery        2.0     762\n",
              "18             surgery        3.0     386\n",
              "19             surgery        4.0     213"
            ]
          },
          "metadata": {},
          "execution_count": 67
        }
      ]
    },
    {
      "cell_type": "code",
      "metadata": {
        "id": "RpKs5XsFl87v",
        "colab": {
          "base_uri": "https://localhost:8080/",
          "height": 286
        },
        "outputId": "d23d076c-7b7b-4c21-ea6f-ad0d802b94c9"
      },
      "source": [
        "ds.plot.bar(figsize=(20,5))"
      ],
      "execution_count": 68,
      "outputs": [
        {
          "output_type": "execute_result",
          "data": {
            "text/plain": [
              "<matplotlib.axes._subplots.AxesSubplot at 0x7ff644f9cc10>"
            ]
          },
          "metadata": {},
          "execution_count": 68
        },
        {
          "output_type": "display_data",
          "data": {
            "image/png": "[encoded data removed]",
            "text/plain": [
              "<Figure size 1440x360 with 1 Axes>"
            ]
          },
          "metadata": {
            "needs_background": "light"
          }
        }
      ]
    },
    {
      "cell_type": "code",
      "metadata": {
        "id": "hWezaCqE40qR",
        "colab": {
          "base_uri": "https://localhost:8080/",
          "height": 142
        },
        "outputId": "bba6cfbd-4f46-4059-d9ea-9fa8f15280c4"
      },
      "source": [
        "axes = ds.plot.bar(rot=0, subplots=True,figsize=(50,5))\n",
        "axes[1].legend(loc=2)"
      ],
      "execution_count": 69,
      "outputs": [
        {
          "output_type": "execute_result",
          "data": {
            "text/plain": [
              "<matplotlib.legend.Legend at 0x7ff644e672d0>"
            ]
          },
          "metadata": {},
          "execution_count": 69
        },
        {
          "output_type": "display_data",
          "data": {
            "image/png": "[encoded data removed]",
            "text/plain": [
              "<Figure size 3600x360 with 2 Axes>"
            ]
          },
          "metadata": {
            "needs_background": "light"
          }
        }
      ]
    },
    {
      "cell_type": "code",
      "metadata": {
        "id": "7yFV1wuR5Wle",
        "colab": {
          "base_uri": "https://localhost:8080/",
          "height": 281
        },
        "outputId": "259d0406-a51b-46a1-825c-64b650b535c3"
      },
      "source": [
        "df['Department'].hist(bins = 5)"
      ],
      "execution_count": 70,
      "outputs": [
        {
          "output_type": "execute_result",
          "data": {
            "text/plain": [
              "<matplotlib.axes._subplots.AxesSubplot at 0x7ff644d57c50>"
            ]
          },
          "metadata": {},
          "execution_count": 70
        },
        {
          "output_type": "display_data",
          "data": {
            "image/png": "[encoded data removed]",
            "text/plain": [
              "<Figure size 432x288 with 1 Axes>"
            ]
          },
          "metadata": {
            "needs_background": "light"
          }
        }
      ]
    },
    {
      "cell_type": "code",
      "metadata": {
        "id": "mg-tbPoB4H7g",
        "colab": {
          "base_uri": "https://localhost:8080/",
          "height": 717
        },
        "outputId": "a50f9be0-f9a2-4aa1-bc7c-a7f78cc200b2"
      },
      "source": [
        "import plotly.express as px\n",
        "\n",
        "fig = px.bar(\n",
        "    ds, \n",
        "    x='Department', \n",
        "    y=\"count\", \n",
        "    color = 'Bed Grade',\n",
        "    barmode='group',\n",
        "    orientation='v', \n",
        "    title='Cases per department distribution', \n",
        "    width=800,\n",
        "    height=700\n",
        ")\n",
        "fig.show()\n"
      ],
      "execution_count": 71,
      "outputs": [
        {
          "output_type": "display_data",
          "data": {
            "text/html": [
              "<html>\n",
              "<head><meta charset=\"utf-8\" /></head>\n",
              "<body>\n",
              "    <div>\n",
              "            <script src=\"https://cdnjs.cloudflare.com/ajax/libs/mathjax/2.7.5/MathJax.js?config=TeX-AMS-MML_SVG\"></script><script type=\"text/javascript\">if (window.MathJax) {MathJax.Hub.Config({SVG: {font: \"STIX-Web\"}});}</script>\n",
              "                <script type=\"text/javascript\">window.PlotlyConfig = {MathJaxConfig: 'local'};</script>\n",
              "        <script src=\"https://cdn.plot.ly/plotly-latest.min.js\"></script>    \n",
              "            <div id=\"f66e4bae-c64e-4361-9eee-cd0957be2073\" class=\"plotly-graph-div\" style=\"height:700px; width:800px;\"></div>\n",
              "            <script type=\"text/javascript\">\n",
              "                \n",
              "                    window.PLOTLYENV=window.PLOTLYENV || {};\n",
              "                    \n",
              "                if (document.getElementById(\"f66e4bae-c64e-4361-9eee-cd0957be2073\")) {\n",
              "                    Plotly.newPlot(\n",
              "                        'f66e4bae-c64e-4361-9eee-cd0957be2073',\n",
              "                        [{\"alignmentgroup\": \"True\", \"hoverlabel\": {\"namelength\": 0}, \"hovertemplate\": \"Department=%{x}<br>count=%{y}<br>Bed Grade=%{marker.color}\", \"legendgroup\": \"\", \"marker\": {\"color\": [1.0, 2.0, 3.0, 4.0, 1.0, 2.0, 3.0, 4.0, 1.0, 2.0, 3.0, 4.0, 1.0, 2.0, 3.0, 4.0, 1.0, 2.0, 3.0, 4.0], \"coloraxis\": \"coloraxis\"}, \"name\": \"\", \"offsetgroup\": \"\", \"orientation\": \"v\", \"showlegend\": false, \"textposition\": \"auto\", \"type\": \"bar\", \"x\": [\"TB & Chest disease\", \"TB & Chest disease\", \"TB & Chest disease\", \"TB & Chest disease\", \"anesthesia\", \"anesthesia\", \"anesthesia\", \"anesthesia\", \"gynecology\", \"gynecology\", \"gynecology\", \"gynecology\", \"radiotherapy\", \"radiotherapy\", \"radiotherapy\", \"radiotherapy\", \"surgery\", \"surgery\", \"surgery\", \"surgery\"], \"xaxis\": \"x\", \"y\": [773, 4880, 5151, 2944, 452, 10068, 20163, 11673, 32168, 144816, 119532, 60042, 3870, 15925, 13710, 7515, 304, 762, 386, 213], \"yaxis\": \"y\"}],\n",
              "                        {\"barmode\": \"group\", \"coloraxis\": {\"colorbar\": {\"title\": {\"text\": \"Bed Grade\"}}, \"colorscale\": [[0.0, \"#0d0887\"], [0.1111111111111111, \"#46039f\"], [0.2222222222222222, \"#7201a8\"], [0.3333333333333333, \"#9c179e\"], [0.4444444444444444, \"#bd3786\"], [0.5555555555555556, \"#d8576b\"], [0.6666666666666666, \"#ed7953\"], [0.7777777777777778, \"#fb9f3a\"], [0.8888888888888888, \"#fdca26\"], [1.0, \"#f0f921\"]]}, \"height\": 700, \"legend\": {\"tracegroupgap\": 0}, \"template\": {\"data\": {\"bar\": [{\"error_x\": {\"color\": \"#2a3f5f\"}, \"error_y\": {\"color\": \"#2a3f5f\"}, \"marker\": {\"line\": {\"color\": \"#E5ECF6\", \"width\": 0.5}}, \"type\": \"bar\"}], \"barpolar\": [{\"marker\": {\"line\": {\"color\": \"#E5ECF6\", \"width\": 0.5}}, \"type\": \"barpolar\"}], \"carpet\": [{\"aaxis\": {\"endlinecolor\": \"#2a3f5f\", \"gridcolor\": \"white\", \"linecolor\": \"white\", \"minorgridcolor\": \"white\", \"startlinecolor\": \"#2a3f5f\"}, \"baxis\": {\"endlinecolor\": \"#2a3f5f\", \"gridcolor\": \"white\", \"linecolor\": \"white\", \"minorgridcolor\": \"white\", \"startlinecolor\": \"#2a3f5f\"}, \"type\": \"carpet\"}], \"choropleth\": [{\"colorbar\": {\"outlinewidth\": 0, \"ticks\": \"\"}, \"type\": \"choropleth\"}], \"contour\": [{\"colorbar\": {\"outlinewidth\": 0, \"ticks\": \"\"}, \"colorscale\": [[0.0, \"#0d0887\"], [0.1111111111111111, \"#46039f\"], [0.2222222222222222, \"#7201a8\"], [0.3333333333333333, \"#9c179e\"], [0.4444444444444444, \"#bd3786\"], [0.5555555555555556, \"#d8576b\"], [0.6666666666666666, \"#ed7953\"], [0.7777777777777778, \"#fb9f3a\"], [0.8888888888888888, \"#fdca26\"], [1.0, \"#f0f921\"]], \"type\": \"contour\"}], \"contourcarpet\": [{\"colorbar\": {\"outlinewidth\": 0, \"ticks\": \"\"}, \"type\": \"contourcarpet\"}], \"heatmap\": [{\"colorbar\": {\"outlinewidth\": 0, \"ticks\": \"\"}, \"colorscale\": [[0.0, \"#0d0887\"], [0.1111111111111111, \"#46039f\"], [0.2222222222222222, \"#7201a8\"], [0.3333333333333333, \"#9c179e\"], [0.4444444444444444, \"#bd3786\"], [0.5555555555555556, \"#d8576b\"], [0.6666666666666666, \"#ed7953\"], [0.7777777777777778, \"#fb9f3a\"], [0.8888888888888888, \"#fdca26\"], [1.0, \"#f0f921\"]], \"type\": \"heatmap\"}], \"heatmapgl\": [{\"colorbar\": {\"outlinewidth\": 0, \"ticks\": \"\"}, \"colorscale\": [[0.0, \"#0d0887\"], [0.1111111111111111, \"#46039f\"], [0.2222222222222222, \"#7201a8\"], [0.3333333333333333, \"#9c179e\"], [0.4444444444444444, \"#bd3786\"], [0.5555555555555556, \"#d8576b\"], [0.6666666666666666, \"#ed7953\"], [0.7777777777777778, \"#fb9f3a\"], [0.8888888888888888, \"#fdca26\"], [1.0, \"#f0f921\"]], \"type\": \"heatmapgl\"}], \"histogram\": [{\"marker\": {\"colorbar\": {\"outlinewidth\": 0, \"ticks\": \"\"}}, \"type\": \"histogram\"}], \"histogram2d\": [{\"colorbar\": {\"outlinewidth\": 0, \"ticks\": \"\"}, \"colorscale\": [[0.0, \"#0d0887\"], [0.1111111111111111, \"#46039f\"], [0.2222222222222222, \"#7201a8\"], [0.3333333333333333, \"#9c179e\"], [0.4444444444444444, \"#bd3786\"], [0.5555555555555556, \"#d8576b\"], [0.6666666666666666, \"#ed7953\"], [0.7777777777777778, \"#fb9f3a\"], [0.8888888888888888, \"#fdca26\"], [1.0, \"#f0f921\"]], \"type\": \"histogram2d\"}], \"histogram2dcontour\": [{\"colorbar\": {\"outlinewidth\": 0, \"ticks\": \"\"}, \"colorscale\": [[0.0, \"#0d0887\"], [0.1111111111111111, \"#46039f\"], [0.2222222222222222, \"#7201a8\"], [0.3333333333333333, \"#9c179e\"], [0.4444444444444444, \"#bd3786\"], [0.5555555555555556, \"#d8576b\"], [0.6666666666666666, \"#ed7953\"], [0.7777777777777778, \"#fb9f3a\"], [0.8888888888888888, \"#fdca26\"], [1.0, \"#f0f921\"]], \"type\": \"histogram2dcontour\"}], \"mesh3d\": [{\"colorbar\": {\"outlinewidth\": 0, \"ticks\": \"\"}, \"type\": \"mesh3d\"}], \"parcoords\": [{\"line\": {\"colorbar\": {\"outlinewidth\": 0, \"ticks\": \"\"}}, \"type\": \"parcoords\"}], \"pie\": [{\"automargin\": true, \"type\": \"pie\"}], \"scatter\": [{\"marker\": {\"colorbar\": {\"outlinewidth\": 0, \"ticks\": \"\"}}, \"type\": \"scatter\"}], \"scatter3d\": [{\"line\": {\"colorbar\": {\"outlinewidth\": 0, \"ticks\": \"\"}}, \"marker\": {\"colorbar\": {\"outlinewidth\": 0, \"ticks\": \"\"}}, \"type\": \"scatter3d\"}], \"scattercarpet\": [{\"marker\": {\"colorbar\": {\"outlinewidth\": 0, \"ticks\": \"\"}}, \"type\": \"scattercarpet\"}], \"scattergeo\": [{\"marker\": {\"colorbar\": {\"outlinewidth\": 0, \"ticks\": \"\"}}, \"type\": \"scattergeo\"}], \"scattergl\": [{\"marker\": {\"colorbar\": {\"outlinewidth\": 0, \"ticks\": \"\"}}, \"type\": \"scattergl\"}], \"scattermapbox\": [{\"marker\": {\"colorbar\": {\"outlinewidth\": 0, \"ticks\": \"\"}}, \"type\": \"scattermapbox\"}], \"scatterpolar\": [{\"marker\": {\"colorbar\": {\"outlinewidth\": 0, \"ticks\": \"\"}}, \"type\": \"scatterpolar\"}], \"scatterpolargl\": [{\"marker\": {\"colorbar\": {\"outlinewidth\": 0, \"ticks\": \"\"}}, \"type\": \"scatterpolargl\"}], \"scatterternary\": [{\"marker\": {\"colorbar\": {\"outlinewidth\": 0, \"ticks\": \"\"}}, \"type\": \"scatterternary\"}], \"surface\": [{\"colorbar\": {\"outlinewidth\": 0, \"ticks\": \"\"}, \"colorscale\": [[0.0, \"#0d0887\"], [0.1111111111111111, \"#46039f\"], [0.2222222222222222, \"#7201a8\"], [0.3333333333333333, \"#9c179e\"], [0.4444444444444444, \"#bd3786\"], [0.5555555555555556, \"#d8576b\"], [0.6666666666666666, \"#ed7953\"], [0.7777777777777778, \"#fb9f3a\"], [0.8888888888888888, \"#fdca26\"], [1.0, \"#f0f921\"]], \"type\": \"surface\"}], \"table\": [{\"cells\": {\"fill\": {\"color\": \"#EBF0F8\"}, \"line\": {\"color\": \"white\"}}, \"header\": {\"fill\": {\"color\": \"#C8D4E3\"}, \"line\": {\"color\": \"white\"}}, \"type\": \"table\"}]}, \"layout\": {\"annotationdefaults\": {\"arrowcolor\": \"#2a3f5f\", \"arrowhead\": 0, \"arrowwidth\": 1}, \"coloraxis\": {\"colorbar\": {\"outlinewidth\": 0, \"ticks\": \"\"}}, \"colorscale\": {\"diverging\": [[0, \"#8e0152\"], [0.1, \"#c51b7d\"], [0.2, \"#de77ae\"], [0.3, \"#f1b6da\"], [0.4, \"#fde0ef\"], [0.5, \"#f7f7f7\"], [0.6, \"#e6f5d0\"], [0.7, \"#b8e186\"], [0.8, \"#7fbc41\"], [0.9, \"#4d9221\"], [1, \"#276419\"]], \"sequential\": [[0.0, \"#0d0887\"], [0.1111111111111111, \"#46039f\"], [0.2222222222222222, \"#7201a8\"], [0.3333333333333333, \"#9c179e\"], [0.4444444444444444, \"#bd3786\"], [0.5555555555555556, \"#d8576b\"], [0.6666666666666666, \"#ed7953\"], [0.7777777777777778, \"#fb9f3a\"], [0.8888888888888888, \"#fdca26\"], [1.0, \"#f0f921\"]], \"sequentialminus\": [[0.0, \"#0d0887\"], [0.1111111111111111, \"#46039f\"], [0.2222222222222222, \"#7201a8\"], [0.3333333333333333, \"#9c179e\"], [0.4444444444444444, \"#bd3786\"], [0.5555555555555556, \"#d8576b\"], [0.6666666666666666, \"#ed7953\"], [0.7777777777777778, \"#fb9f3a\"], [0.8888888888888888, \"#fdca26\"], [1.0, \"#f0f921\"]]}, \"colorway\": [\"#636efa\", \"#EF553B\", \"#00cc96\", \"#ab63fa\", \"#FFA15A\", \"#19d3f3\", \"#FF6692\", \"#B6E880\", \"#FF97FF\", \"#FECB52\"], \"font\": {\"color\": \"#2a3f5f\"}, \"geo\": {\"bgcolor\": \"white\", \"lakecolor\": \"white\", \"landcolor\": \"#E5ECF6\", \"showlakes\": true, \"showland\": true, \"subunitcolor\": \"white\"}, \"hoverlabel\": {\"align\": \"left\"}, \"hovermode\": \"closest\", \"mapbox\": {\"style\": \"light\"}, \"paper_bgcolor\": \"white\", \"plot_bgcolor\": \"#E5ECF6\", \"polar\": {\"angularaxis\": {\"gridcolor\": \"white\", \"linecolor\": \"white\", \"ticks\": \"\"}, \"bgcolor\": \"#E5ECF6\", \"radialaxis\": {\"gridcolor\": \"white\", \"linecolor\": \"white\", \"ticks\": \"\"}}, \"scene\": {\"xaxis\": {\"backgroundcolor\": \"#E5ECF6\", \"gridcolor\": \"white\", \"gridwidth\": 2, \"linecolor\": \"white\", \"showbackground\": true, \"ticks\": \"\", \"zerolinecolor\": \"white\"}, \"yaxis\": {\"backgroundcolor\": \"#E5ECF6\", \"gridcolor\": \"white\", \"gridwidth\": 2, \"linecolor\": \"white\", \"showbackground\": true, \"ticks\": \"\", \"zerolinecolor\": \"white\"}, \"zaxis\": {\"backgroundcolor\": \"#E5ECF6\", \"gridcolor\": \"white\", \"gridwidth\": 2, \"linecolor\": \"white\", \"showbackground\": true, \"ticks\": \"\", \"zerolinecolor\": \"white\"}}, \"shapedefaults\": {\"line\": {\"color\": \"#2a3f5f\"}}, \"ternary\": {\"aaxis\": {\"gridcolor\": \"white\", \"linecolor\": \"white\", \"ticks\": \"\"}, \"baxis\": {\"gridcolor\": \"white\", \"linecolor\": \"white\", \"ticks\": \"\"}, \"bgcolor\": \"#E5ECF6\", \"caxis\": {\"gridcolor\": \"white\", \"linecolor\": \"white\", \"ticks\": \"\"}}, \"title\": {\"x\": 0.05}, \"xaxis\": {\"automargin\": true, \"gridcolor\": \"white\", \"linecolor\": \"white\", \"ticks\": \"\", \"title\": {\"standoff\": 15}, \"zerolinecolor\": \"white\", \"zerolinewidth\": 2}, \"yaxis\": {\"automargin\": true, \"gridcolor\": \"white\", \"linecolor\": \"white\", \"ticks\": \"\", \"title\": {\"standoff\": 15}, \"zerolinecolor\": \"white\", \"zerolinewidth\": 2}}}, \"title\": {\"text\": \"Cases per department distribution\"}, \"width\": 800, \"xaxis\": {\"anchor\": \"y\", \"domain\": [0.0, 1.0], \"title\": {\"text\": \"Department\"}}, \"yaxis\": {\"anchor\": \"x\", \"domain\": [0.0, 1.0], \"title\": {\"text\": \"count\"}}},\n",
              "                        {\"responsive\": true}\n",
              "                    ).then(function(){\n",
              "                            \n",
              "var gd = document.getElementById('f66e4bae-c64e-4361-9eee-cd0957be2073');\n",
              "var x = new MutationObserver(function (mutations, observer) {{\n",
              "        var display = window.getComputedStyle(gd).display;\n",
              "        if (!display || display === 'none') {{\n",
              "            console.log([gd, 'removed!']);\n",
              "            Plotly.purge(gd);\n",
              "            observer.disconnect();\n",
              "        }}\n",
              "}});\n",
              "\n",
              "// Listen for the removal of the full notebook cells\n",
              "var notebookContainer = gd.closest('#notebook-container');\n",
              "if (notebookContainer) {{\n",
              "    x.observe(notebookContainer, {childList: true});\n",
              "}}\n",
              "\n",
              "// Listen for the clearing of the current output cell\n",
              "var outputEl = gd.closest('.output');\n",
              "if (outputEl) {{\n",
              "    x.observe(outputEl, {childList: true});\n",
              "}}\n",
              "\n",
              "                        })\n",
              "                };\n",
              "                \n",
              "            </script>\n",
              "        </div>\n",
              "</body>\n",
              "</html>"
            ]
          },
          "metadata": {}
        }
      ]
    },
    {
      "cell_type": "code",
      "metadata": {
        "id": "g4HxisP78Tp5",
        "colab": {
          "base_uri": "https://localhost:8080/",
          "height": 265
        },
        "outputId": "6327a350-ec1e-4371-b187-1fbe3c3a51df"
      },
      "source": [
        "boxplot = df.boxplot(column=['Visitors with Patient', 'Bed Grade'])"
      ],
      "execution_count": 72,
      "outputs": [
        {
          "output_type": "display_data",
          "data": {
            "image/png": "[encoded data removed]",
            "text/plain": [
              "<Figure size 432x288 with 1 Axes>"
            ]
          },
          "metadata": {
            "needs_background": "light"
          }
        }
      ]
    },
    {
      "cell_type": "code",
      "metadata": {
        "id": "DuZqsuvw2AnY"
      },
      "source": [
        "ds = df.groupby(['Department','Age'])['patientid'].count().reset_index()\n",
        "ds.columns = ['Department','Age', 'count']"
      ],
      "execution_count": 73,
      "outputs": []
    },
    {
      "cell_type": "code",
      "metadata": {
        "id": "hlA1etJq2NW7",
        "colab": {
          "base_uri": "https://localhost:8080/",
          "height": 1000
        },
        "outputId": "8ccc4a90-33f2-4d77-eb38-9eef70096862"
      },
      "source": [
        "ds"
      ],
      "execution_count": 74,
      "outputs": [
        {
          "output_type": "execute_result",
          "data": {
            "text/html": [
              "<div>\n",
              "<style scoped>\n",
              "    .dataframe tbody tr th:only-of-type {\n",
              "        vertical-align: middle;\n",
              "    }\n",
              "\n",
              "    .dataframe tbody tr th {\n",
              "        vertical-align: top;\n",
              "    }\n",
              "\n",
              "    .dataframe thead th {\n",
              "        text-align: right;\n",
              "    }\n",
              "</style>\n",
              "<table border=\"1\" class=\"dataframe\">\n",
              "  <thead>\n",
              "    <tr style=\"text-align: right;\">\n",
              "      <th></th>\n",
              "      <th>Department</th>\n",
              "      <th>Age</th>\n",
              "      <th>count</th>\n",
              "    </tr>\n",
              "  </thead>\n",
              "  <tbody>\n",
              "    <tr>\n",
              "      <th>0</th>\n",
              "      <td>TB &amp; Chest disease</td>\n",
              "      <td>0-10</td>\n",
              "      <td>602</td>\n",
              "    </tr>\n",
              "    <tr>\n",
              "      <th>1</th>\n",
              "      <td>TB &amp; Chest disease</td>\n",
              "      <td>11-20</td>\n",
              "      <td>998</td>\n",
              "    </tr>\n",
              "    <tr>\n",
              "      <th>2</th>\n",
              "      <td>TB &amp; Chest disease</td>\n",
              "      <td>21-30</td>\n",
              "      <td>1809</td>\n",
              "    </tr>\n",
              "    <tr>\n",
              "      <th>3</th>\n",
              "      <td>TB &amp; Chest disease</td>\n",
              "      <td>31-40</td>\n",
              "      <td>2144</td>\n",
              "    </tr>\n",
              "    <tr>\n",
              "      <th>4</th>\n",
              "      <td>TB &amp; Chest disease</td>\n",
              "      <td>41-50</td>\n",
              "      <td>2470</td>\n",
              "    </tr>\n",
              "    <tr>\n",
              "      <th>5</th>\n",
              "      <td>TB &amp; Chest disease</td>\n",
              "      <td>51-60</td>\n",
              "      <td>2708</td>\n",
              "    </tr>\n",
              "    <tr>\n",
              "      <th>6</th>\n",
              "      <td>TB &amp; Chest disease</td>\n",
              "      <td>61-70</td>\n",
              "      <td>1884</td>\n",
              "    </tr>\n",
              "    <tr>\n",
              "      <th>7</th>\n",
              "      <td>TB &amp; Chest disease</td>\n",
              "      <td>71-80</td>\n",
              "      <td>964</td>\n",
              "    </tr>\n",
              "    <tr>\n",
              "      <th>8</th>\n",
              "      <td>TB &amp; Chest disease</td>\n",
              "      <td>81-90</td>\n",
              "      <td>116</td>\n",
              "    </tr>\n",
              "    <tr>\n",
              "      <th>9</th>\n",
              "      <td>TB &amp; Chest disease</td>\n",
              "      <td>91-100</td>\n",
              "      <td>56</td>\n",
              "    </tr>\n",
              "    <tr>\n",
              "      <th>10</th>\n",
              "      <td>anesthesia</td>\n",
              "      <td>0-10</td>\n",
              "      <td>649</td>\n",
              "    </tr>\n",
              "    <tr>\n",
              "      <th>11</th>\n",
              "      <td>anesthesia</td>\n",
              "      <td>11-20</td>\n",
              "      <td>1897</td>\n",
              "    </tr>\n",
              "    <tr>\n",
              "      <th>12</th>\n",
              "      <td>anesthesia</td>\n",
              "      <td>21-30</td>\n",
              "      <td>4819</td>\n",
              "    </tr>\n",
              "    <tr>\n",
              "      <th>13</th>\n",
              "      <td>anesthesia</td>\n",
              "      <td>31-40</td>\n",
              "      <td>7134</td>\n",
              "    </tr>\n",
              "    <tr>\n",
              "      <th>14</th>\n",
              "      <td>anesthesia</td>\n",
              "      <td>41-50</td>\n",
              "      <td>8154</td>\n",
              "    </tr>\n",
              "    <tr>\n",
              "      <th>15</th>\n",
              "      <td>anesthesia</td>\n",
              "      <td>51-60</td>\n",
              "      <td>6935</td>\n",
              "    </tr>\n",
              "    <tr>\n",
              "      <th>16</th>\n",
              "      <td>anesthesia</td>\n",
              "      <td>61-70</td>\n",
              "      <td>5509</td>\n",
              "    </tr>\n",
              "    <tr>\n",
              "      <th>17</th>\n",
              "      <td>anesthesia</td>\n",
              "      <td>71-80</td>\n",
              "      <td>5704</td>\n",
              "    </tr>\n",
              "    <tr>\n",
              "      <th>18</th>\n",
              "      <td>anesthesia</td>\n",
              "      <td>81-90</td>\n",
              "      <td>1266</td>\n",
              "    </tr>\n",
              "    <tr>\n",
              "      <th>19</th>\n",
              "      <td>anesthesia</td>\n",
              "      <td>91-100</td>\n",
              "      <td>291</td>\n",
              "    </tr>\n",
              "    <tr>\n",
              "      <th>20</th>\n",
              "      <td>gynecology</td>\n",
              "      <td>0-10</td>\n",
              "      <td>6365</td>\n",
              "    </tr>\n",
              "    <tr>\n",
              "      <th>21</th>\n",
              "      <td>gynecology</td>\n",
              "      <td>11-20</td>\n",
              "      <td>18487</td>\n",
              "    </tr>\n",
              "    <tr>\n",
              "      <th>22</th>\n",
              "      <td>gynecology</td>\n",
              "      <td>21-30</td>\n",
              "      <td>47777</td>\n",
              "    </tr>\n",
              "    <tr>\n",
              "      <th>23</th>\n",
              "      <td>gynecology</td>\n",
              "      <td>31-40</td>\n",
              "      <td>75705</td>\n",
              "    </tr>\n",
              "    <tr>\n",
              "      <th>24</th>\n",
              "      <td>gynecology</td>\n",
              "      <td>41-50</td>\n",
              "      <td>74985</td>\n",
              "    </tr>\n",
              "    <tr>\n",
              "      <th>25</th>\n",
              "      <td>gynecology</td>\n",
              "      <td>51-60</td>\n",
              "      <td>54069</td>\n",
              "    </tr>\n",
              "    <tr>\n",
              "      <th>26</th>\n",
              "      <td>gynecology</td>\n",
              "      <td>61-70</td>\n",
              "      <td>35281</td>\n",
              "    </tr>\n",
              "    <tr>\n",
              "      <th>27</th>\n",
              "      <td>gynecology</td>\n",
              "      <td>71-80</td>\n",
              "      <td>35370</td>\n",
              "    </tr>\n",
              "    <tr>\n",
              "      <th>28</th>\n",
              "      <td>gynecology</td>\n",
              "      <td>81-90</td>\n",
              "      <td>7525</td>\n",
              "    </tr>\n",
              "    <tr>\n",
              "      <th>29</th>\n",
              "      <td>gynecology</td>\n",
              "      <td>91-100</td>\n",
              "      <td>1124</td>\n",
              "    </tr>\n",
              "    <tr>\n",
              "      <th>30</th>\n",
              "      <td>radiotherapy</td>\n",
              "      <td>0-10</td>\n",
              "      <td>1389</td>\n",
              "    </tr>\n",
              "    <tr>\n",
              "      <th>31</th>\n",
              "      <td>radiotherapy</td>\n",
              "      <td>11-20</td>\n",
              "      <td>2421</td>\n",
              "    </tr>\n",
              "    <tr>\n",
              "      <th>32</th>\n",
              "      <td>radiotherapy</td>\n",
              "      <td>21-30</td>\n",
              "      <td>4050</td>\n",
              "    </tr>\n",
              "    <tr>\n",
              "      <th>33</th>\n",
              "      <td>radiotherapy</td>\n",
              "      <td>31-40</td>\n",
              "      <td>5229</td>\n",
              "    </tr>\n",
              "    <tr>\n",
              "      <th>34</th>\n",
              "      <td>radiotherapy</td>\n",
              "      <td>41-50</td>\n",
              "      <td>5629</td>\n",
              "    </tr>\n",
              "    <tr>\n",
              "      <th>35</th>\n",
              "      <td>radiotherapy</td>\n",
              "      <td>51-60</td>\n",
              "      <td>5525</td>\n",
              "    </tr>\n",
              "    <tr>\n",
              "      <th>36</th>\n",
              "      <td>radiotherapy</td>\n",
              "      <td>61-70</td>\n",
              "      <td>5692</td>\n",
              "    </tr>\n",
              "    <tr>\n",
              "      <th>37</th>\n",
              "      <td>radiotherapy</td>\n",
              "      <td>71-80</td>\n",
              "      <td>8427</td>\n",
              "    </tr>\n",
              "    <tr>\n",
              "      <th>38</th>\n",
              "      <td>radiotherapy</td>\n",
              "      <td>81-90</td>\n",
              "      <td>2251</td>\n",
              "    </tr>\n",
              "    <tr>\n",
              "      <th>39</th>\n",
              "      <td>radiotherapy</td>\n",
              "      <td>91-100</td>\n",
              "      <td>420</td>\n",
              "    </tr>\n",
              "    <tr>\n",
              "      <th>40</th>\n",
              "      <td>surgery</td>\n",
              "      <td>0-10</td>\n",
              "      <td>135</td>\n",
              "    </tr>\n",
              "    <tr>\n",
              "      <th>41</th>\n",
              "      <td>surgery</td>\n",
              "      <td>11-20</td>\n",
              "      <td>68</td>\n",
              "    </tr>\n",
              "    <tr>\n",
              "      <th>42</th>\n",
              "      <td>surgery</td>\n",
              "      <td>21-30</td>\n",
              "      <td>105</td>\n",
              "    </tr>\n",
              "    <tr>\n",
              "      <th>43</th>\n",
              "      <td>surgery</td>\n",
              "      <td>31-40</td>\n",
              "      <td>208</td>\n",
              "    </tr>\n",
              "    <tr>\n",
              "      <th>44</th>\n",
              "      <td>surgery</td>\n",
              "      <td>41-50</td>\n",
              "      <td>257</td>\n",
              "    </tr>\n",
              "    <tr>\n",
              "      <th>45</th>\n",
              "      <td>surgery</td>\n",
              "      <td>51-60</td>\n",
              "      <td>269</td>\n",
              "    </tr>\n",
              "    <tr>\n",
              "      <th>46</th>\n",
              "      <td>surgery</td>\n",
              "      <td>61-70</td>\n",
              "      <td>253</td>\n",
              "    </tr>\n",
              "    <tr>\n",
              "      <th>47</th>\n",
              "      <td>surgery</td>\n",
              "      <td>71-80</td>\n",
              "      <td>272</td>\n",
              "    </tr>\n",
              "    <tr>\n",
              "      <th>48</th>\n",
              "      <td>surgery</td>\n",
              "      <td>81-90</td>\n",
              "      <td>82</td>\n",
              "    </tr>\n",
              "    <tr>\n",
              "      <th>49</th>\n",
              "      <td>surgery</td>\n",
              "      <td>91-100</td>\n",
              "      <td>16</td>\n",
              "    </tr>\n",
              "  </tbody>\n",
              "</table>\n",
              "</div>"
            ],
            "text/plain": [
              "            Department     Age  count\n",
              "0   TB & Chest disease    0-10    602\n",
              "1   TB & Chest disease   11-20    998\n",
              "2   TB & Chest disease   21-30   1809\n",
              "3   TB & Chest disease   31-40   2144\n",
              "4   TB & Chest disease   41-50   2470\n",
              "5   TB & Chest disease   51-60   2708\n",
              "6   TB & Chest disease   61-70   1884\n",
              "7   TB & Chest disease   71-80    964\n",
              "8   TB & Chest disease   81-90    116\n",
              "9   TB & Chest disease  91-100     56\n",
              "10          anesthesia    0-10    649\n",
              "11          anesthesia   11-20   1897\n",
              "12          anesthesia   21-30   4819\n",
              "13          anesthesia   31-40   7134\n",
              "14          anesthesia   41-50   8154\n",
              "15          anesthesia   51-60   6935\n",
              "16          anesthesia   61-70   5509\n",
              "17          anesthesia   71-80   5704\n",
              "18          anesthesia   81-90   1266\n",
              "19          anesthesia  91-100    291\n",
              "20          gynecology    0-10   6365\n",
              "21          gynecology   11-20  18487\n",
              "22          gynecology   21-30  47777\n",
              "23          gynecology   31-40  75705\n",
              "24          gynecology   41-50  74985\n",
              "25          gynecology   51-60  54069\n",
              "26          gynecology   61-70  35281\n",
              "27          gynecology   71-80  35370\n",
              "28          gynecology   81-90   7525\n",
              "29          gynecology  91-100   1124\n",
              "30        radiotherapy    0-10   1389\n",
              "31        radiotherapy   11-20   2421\n",
              "32        radiotherapy   21-30   4050\n",
              "33        radiotherapy   31-40   5229\n",
              "34        radiotherapy   41-50   5629\n",
              "35        radiotherapy   51-60   5525\n",
              "36        radiotherapy   61-70   5692\n",
              "37        radiotherapy   71-80   8427\n",
              "38        radiotherapy   81-90   2251\n",
              "39        radiotherapy  91-100    420\n",
              "40             surgery    0-10    135\n",
              "41             surgery   11-20     68\n",
              "42             surgery   21-30    105\n",
              "43             surgery   31-40    208\n",
              "44             surgery   41-50    257\n",
              "45             surgery   51-60    269\n",
              "46             surgery   61-70    253\n",
              "47             surgery   71-80    272\n",
              "48             surgery   81-90     82\n",
              "49             surgery  91-100     16"
            ]
          },
          "metadata": {},
          "execution_count": 74
        }
      ]
    },
    {
      "cell_type": "code",
      "metadata": {
        "id": "iGeUs6XH2N3F",
        "colab": {
          "base_uri": "https://localhost:8080/",
          "height": 717
        },
        "outputId": "dae5788f-906d-45e8-df8a-6e89d17a8087"
      },
      "source": [
        "import plotly.express as px\n",
        "\n",
        "fig = px.bar(\n",
        "    ds, \n",
        "    x='Department', \n",
        "    y=\"count\", \n",
        "    color = 'Age',\n",
        "    barmode='group',\n",
        "    orientation='v', \n",
        "    title='Cases per age distribution', \n",
        "    width=800,\n",
        "    height=700\n",
        ")\n",
        "fig.show()"
      ],
      "execution_count": 75,
      "outputs": [
        {
          "output_type": "display_data",
          "data": {
            "text/html": [
              "<html>\n",
              "<head><meta charset=\"utf-8\" /></head>\n",
              "<body>\n",
              "    <div>\n",
              "            <script src=\"https://cdnjs.cloudflare.com/ajax/libs/mathjax/2.7.5/MathJax.js?config=TeX-AMS-MML_SVG\"></script><script type=\"text/javascript\">if (window.MathJax) {MathJax.Hub.Config({SVG: {font: \"STIX-Web\"}});}</script>\n",
              "                <script type=\"text/javascript\">window.PlotlyConfig = {MathJaxConfig: 'local'};</script>\n",
              "        <script src=\"https://cdn.plot.ly/plotly-latest.min.js\"></script>    \n",
              "            <div id=\"e1967064-d360-4048-9c9b-def0f866c56a\" class=\"plotly-graph-div\" style=\"height:700px; width:800px;\"></div>\n",
              "            <script type=\"text/javascript\">\n",
              "                \n",
              "                    window.PLOTLYENV=window.PLOTLYENV || {};\n",
              "                    \n",
              "                if (document.getElementById(\"e1967064-d360-4048-9c9b-def0f866c56a\")) {\n",
              "                    Plotly.newPlot(\n",
              "                        'e1967064-d360-4048-9c9b-def0f866c56a',\n",
              "                        [{\"alignmentgroup\": \"True\", \"hoverlabel\": {\"namelength\": 0}, \"hovertemplate\": \"Age=0-10<br>Department=%{x}<br>count=%{y}\", \"legendgroup\": \"Age=0-10\", \"marker\": {\"color\": \"#636efa\"}, \"name\": \"Age=0-10\", \"offsetgroup\": \"Age=0-10\", \"orientation\": \"v\", \"showlegend\": true, \"textposition\": \"auto\", \"type\": \"bar\", \"x\": [\"TB & Chest disease\", \"anesthesia\", \"gynecology\", \"radiotherapy\", \"surgery\"], \"xaxis\": \"x\", \"y\": [602, 649, 6365, 1389, 135], \"yaxis\": \"y\"}, {\"alignmentgroup\": \"True\", \"hoverlabel\": {\"namelength\": 0}, \"hovertemplate\": \"Age=11-20<br>Department=%{x}<br>count=%{y}\", \"legendgroup\": \"Age=11-20\", \"marker\": {\"color\": \"#EF553B\"}, \"name\": \"Age=11-20\", \"offsetgroup\": \"Age=11-20\", \"orientation\": \"v\", \"showlegend\": true, \"textposition\": \"auto\", \"type\": \"bar\", \"x\": [\"TB & Chest disease\", \"anesthesia\", \"gynecology\", \"radiotherapy\", \"surgery\"], \"xaxis\": \"x\", \"y\": [998, 1897, 18487, 2421, 68], \"yaxis\": \"y\"}, {\"alignmentgroup\": \"True\", \"hoverlabel\": {\"namelength\": 0}, \"hovertemplate\": \"Age=21-30<br>Department=%{x}<br>count=%{y}\", \"legendgroup\": \"Age=21-30\", \"marker\": {\"color\": \"#00cc96\"}, \"name\": \"Age=21-30\", \"offsetgroup\": \"Age=21-30\", \"orientation\": \"v\", \"showlegend\": true, \"textposition\": \"auto\", \"type\": \"bar\", \"x\": [\"TB & Chest disease\", \"anesthesia\", \"gynecology\", \"radiotherapy\", \"surgery\"], \"xaxis\": \"x\", \"y\": [1809, 4819, 47777, 4050, 105], \"yaxis\": \"y\"}, {\"alignmentgroup\": \"True\", \"hoverlabel\": {\"namelength\": 0}, \"hovertemplate\": \"Age=31-40<br>Department=%{x}<br>count=%{y}\", \"legendgroup\": \"Age=31-40\", \"marker\": {\"color\": \"#ab63fa\"}, \"name\": \"Age=31-40\", \"offsetgroup\": \"Age=31-40\", \"orientation\": \"v\", \"showlegend\": true, \"textposition\": \"auto\", \"type\": \"bar\", \"x\": [\"TB & Chest disease\", \"anesthesia\", \"gynecology\", \"radiotherapy\", \"surgery\"], \"xaxis\": \"x\", \"y\": [2144, 7134, 75705, 5229, 208], \"yaxis\": \"y\"}, {\"alignmentgroup\": \"True\", \"hoverlabel\": {\"namelength\": 0}, \"hovertemplate\": \"Age=41-50<br>Department=%{x}<br>count=%{y}\", \"legendgroup\": \"Age=41-50\", \"marker\": {\"color\": \"#FFA15A\"}, \"name\": \"Age=41-50\", \"offsetgroup\": \"Age=41-50\", \"orientation\": \"v\", \"showlegend\": true, \"textposition\": \"auto\", \"type\": \"bar\", \"x\": [\"TB & Chest disease\", \"anesthesia\", \"gynecology\", \"radiotherapy\", \"surgery\"], \"xaxis\": \"x\", \"y\": [2470, 8154, 74985, 5629, 257], \"yaxis\": \"y\"}, {\"alignmentgroup\": \"True\", \"hoverlabel\": {\"namelength\": 0}, \"hovertemplate\": \"Age=51-60<br>Department=%{x}<br>count=%{y}\", \"legendgroup\": \"Age=51-60\", \"marker\": {\"color\": \"#19d3f3\"}, \"name\": \"Age=51-60\", \"offsetgroup\": \"Age=51-60\", \"orientation\": \"v\", \"showlegend\": true, \"textposition\": \"auto\", \"type\": \"bar\", \"x\": [\"TB & Chest disease\", \"anesthesia\", \"gynecology\", \"radiotherapy\", \"surgery\"], \"xaxis\": \"x\", \"y\": [2708, 6935, 54069, 5525, 269], \"yaxis\": \"y\"}, {\"alignmentgroup\": \"True\", \"hoverlabel\": {\"namelength\": 0}, \"hovertemplate\": \"Age=61-70<br>Department=%{x}<br>count=%{y}\", \"legendgroup\": \"Age=61-70\", \"marker\": {\"color\": \"#FF6692\"}, \"name\": \"Age=61-70\", \"offsetgroup\": \"Age=61-70\", \"orientation\": \"v\", \"showlegend\": true, \"textposition\": \"auto\", \"type\": \"bar\", \"x\": [\"TB & Chest disease\", \"anesthesia\", \"gynecology\", \"radiotherapy\", \"surgery\"], \"xaxis\": \"x\", \"y\": [1884, 5509, 35281, 5692, 253], \"yaxis\": \"y\"}, {\"alignmentgroup\": \"True\", \"hoverlabel\": {\"namelength\": 0}, \"hovertemplate\": \"Age=71-80<br>Department=%{x}<br>count=%{y}\", \"legendgroup\": \"Age=71-80\", \"marker\": {\"color\": \"#B6E880\"}, \"name\": \"Age=71-80\", \"offsetgroup\": \"Age=71-80\", \"orientation\": \"v\", \"showlegend\": true, \"textposition\": \"auto\", \"type\": \"bar\", \"x\": [\"TB & Chest disease\", \"anesthesia\", \"gynecology\", \"radiotherapy\", \"surgery\"], \"xaxis\": \"x\", \"y\": [964, 5704, 35370, 8427, 272], \"yaxis\": \"y\"}, {\"alignmentgroup\": \"True\", \"hoverlabel\": {\"namelength\": 0}, \"hovertemplate\": \"Age=81-90<br>Department=%{x}<br>count=%{y}\", \"legendgroup\": \"Age=81-90\", \"marker\": {\"color\": \"#FF97FF\"}, \"name\": \"Age=81-90\", \"offsetgroup\": \"Age=81-90\", \"orientation\": \"v\", \"showlegend\": true, \"textposition\": \"auto\", \"type\": \"bar\", \"x\": [\"TB & Chest disease\", \"anesthesia\", \"gynecology\", \"radiotherapy\", \"surgery\"], \"xaxis\": \"x\", \"y\": [116, 1266, 7525, 2251, 82], \"yaxis\": \"y\"}, {\"alignmentgroup\": \"True\", \"hoverlabel\": {\"namelength\": 0}, \"hovertemplate\": \"Age=91-100<br>Department=%{x}<br>count=%{y}\", \"legendgroup\": \"Age=91-100\", \"marker\": {\"color\": \"#FECB52\"}, \"name\": \"Age=91-100\", \"offsetgroup\": \"Age=91-100\", \"orientation\": \"v\", \"showlegend\": true, \"textposition\": \"auto\", \"type\": \"bar\", \"x\": [\"TB & Chest disease\", \"anesthesia\", \"gynecology\", \"radiotherapy\", \"surgery\"], \"xaxis\": \"x\", \"y\": [56, 291, 1124, 420, 16], \"yaxis\": \"y\"}],\n",
              "                        {\"barmode\": \"group\", \"height\": 700, \"legend\": {\"tracegroupgap\": 0}, \"template\": {\"data\": {\"bar\": [{\"error_x\": {\"color\": \"#2a3f5f\"}, \"error_y\": {\"color\": \"#2a3f5f\"}, \"marker\": {\"line\": {\"color\": \"#E5ECF6\", \"width\": 0.5}}, \"type\": \"bar\"}], \"barpolar\": [{\"marker\": {\"line\": {\"color\": \"#E5ECF6\", \"width\": 0.5}}, \"type\": \"barpolar\"}], \"carpet\": [{\"aaxis\": {\"endlinecolor\": \"#2a3f5f\", \"gridcolor\": \"white\", \"linecolor\": \"white\", \"minorgridcolor\": \"white\", \"startlinecolor\": \"#2a3f5f\"}, \"baxis\": {\"endlinecolor\": \"#2a3f5f\", \"gridcolor\": \"white\", \"linecolor\": \"white\", \"minorgridcolor\": \"white\", \"startlinecolor\": \"#2a3f5f\"}, \"type\": \"carpet\"}], \"choropleth\": [{\"colorbar\": {\"outlinewidth\": 0, \"ticks\": \"\"}, \"type\": \"choropleth\"}], \"contour\": [{\"colorbar\": {\"outlinewidth\": 0, \"ticks\": \"\"}, \"colorscale\": [[0.0, \"#0d0887\"], [0.1111111111111111, \"#46039f\"], [0.2222222222222222, \"#7201a8\"], [0.3333333333333333, \"#9c179e\"], [0.4444444444444444, \"#bd3786\"], [0.5555555555555556, \"#d8576b\"], [0.6666666666666666, \"#ed7953\"], [0.7777777777777778, \"#fb9f3a\"], [0.8888888888888888, \"#fdca26\"], [1.0, \"#f0f921\"]], \"type\": \"contour\"}], \"contourcarpet\": [{\"colorbar\": {\"outlinewidth\": 0, \"ticks\": \"\"}, \"type\": \"contourcarpet\"}], \"heatmap\": [{\"colorbar\": {\"outlinewidth\": 0, \"ticks\": \"\"}, \"colorscale\": [[0.0, \"#0d0887\"], [0.1111111111111111, \"#46039f\"], [0.2222222222222222, \"#7201a8\"], [0.3333333333333333, \"#9c179e\"], [0.4444444444444444, \"#bd3786\"], [0.5555555555555556, \"#d8576b\"], [0.6666666666666666, \"#ed7953\"], [0.7777777777777778, \"#fb9f3a\"], [0.8888888888888888, \"#fdca26\"], [1.0, \"#f0f921\"]], \"type\": \"heatmap\"}], \"heatmapgl\": [{\"colorbar\": {\"outlinewidth\": 0, \"ticks\": \"\"}, \"colorscale\": [[0.0, \"#0d0887\"], [0.1111111111111111, \"#46039f\"], [0.2222222222222222, \"#7201a8\"], [0.3333333333333333, \"#9c179e\"], [0.4444444444444444, \"#bd3786\"], [0.5555555555555556, \"#d8576b\"], [0.6666666666666666, \"#ed7953\"], [0.7777777777777778, \"#fb9f3a\"], [0.8888888888888888, \"#fdca26\"], [1.0, \"#f0f921\"]], \"type\": \"heatmapgl\"}], \"histogram\": [{\"marker\": {\"colorbar\": {\"outlinewidth\": 0, \"ticks\": \"\"}}, \"type\": \"histogram\"}], \"histogram2d\": [{\"colorbar\": {\"outlinewidth\": 0, \"ticks\": \"\"}, \"colorscale\": [[0.0, \"#0d0887\"], [0.1111111111111111, \"#46039f\"], [0.2222222222222222, \"#7201a8\"], [0.3333333333333333, \"#9c179e\"], [0.4444444444444444, \"#bd3786\"], [0.5555555555555556, \"#d8576b\"], [0.6666666666666666, \"#ed7953\"], [0.7777777777777778, \"#fb9f3a\"], [0.8888888888888888, \"#fdca26\"], [1.0, \"#f0f921\"]], \"type\": \"histogram2d\"}], \"histogram2dcontour\": [{\"colorbar\": {\"outlinewidth\": 0, \"ticks\": \"\"}, \"colorscale\": [[0.0, \"#0d0887\"], [0.1111111111111111, \"#46039f\"], [0.2222222222222222, \"#7201a8\"], [0.3333333333333333, \"#9c179e\"], [0.4444444444444444, \"#bd3786\"], [0.5555555555555556, \"#d8576b\"], [0.6666666666666666, \"#ed7953\"], [0.7777777777777778, \"#fb9f3a\"], [0.8888888888888888, \"#fdca26\"], [1.0, \"#f0f921\"]], \"type\": \"histogram2dcontour\"}], \"mesh3d\": [{\"colorbar\": {\"outlinewidth\": 0, \"ticks\": \"\"}, \"type\": \"mesh3d\"}], \"parcoords\": [{\"line\": {\"colorbar\": {\"outlinewidth\": 0, \"ticks\": \"\"}}, \"type\": \"parcoords\"}], \"pie\": [{\"automargin\": true, \"type\": \"pie\"}], \"scatter\": [{\"marker\": {\"colorbar\": {\"outlinewidth\": 0, \"ticks\": \"\"}}, \"type\": \"scatter\"}], \"scatter3d\": [{\"line\": {\"colorbar\": {\"outlinewidth\": 0, \"ticks\": \"\"}}, \"marker\": {\"colorbar\": {\"outlinewidth\": 0, \"ticks\": \"\"}}, \"type\": \"scatter3d\"}], \"scattercarpet\": [{\"marker\": {\"colorbar\": {\"outlinewidth\": 0, \"ticks\": \"\"}}, \"type\": \"scattercarpet\"}], \"scattergeo\": [{\"marker\": {\"colorbar\": {\"outlinewidth\": 0, \"ticks\": \"\"}}, \"type\": \"scattergeo\"}], \"scattergl\": [{\"marker\": {\"colorbar\": {\"outlinewidth\": 0, \"ticks\": \"\"}}, \"type\": \"scattergl\"}], \"scattermapbox\": [{\"marker\": {\"colorbar\": {\"outlinewidth\": 0, \"ticks\": \"\"}}, \"type\": \"scattermapbox\"}], \"scatterpolar\": [{\"marker\": {\"colorbar\": {\"outlinewidth\": 0, \"ticks\": \"\"}}, \"type\": \"scatterpolar\"}], \"scatterpolargl\": [{\"marker\": {\"colorbar\": {\"outlinewidth\": 0, \"ticks\": \"\"}}, \"type\": \"scatterpolargl\"}], \"scatterternary\": [{\"marker\": {\"colorbar\": {\"outlinewidth\": 0, \"ticks\": \"\"}}, \"type\": \"scatterternary\"}], \"surface\": [{\"colorbar\": {\"outlinewidth\": 0, \"ticks\": \"\"}, \"colorscale\": [[0.0, \"#0d0887\"], [0.1111111111111111, \"#46039f\"], [0.2222222222222222, \"#7201a8\"], [0.3333333333333333, \"#9c179e\"], [0.4444444444444444, \"#bd3786\"], [0.5555555555555556, \"#d8576b\"], [0.6666666666666666, \"#ed7953\"], [0.7777777777777778, \"#fb9f3a\"], [0.8888888888888888, \"#fdca26\"], [1.0, \"#f0f921\"]], \"type\": \"surface\"}], \"table\": [{\"cells\": {\"fill\": {\"color\": \"#EBF0F8\"}, \"line\": {\"color\": \"white\"}}, \"header\": {\"fill\": {\"color\": \"#C8D4E3\"}, \"line\": {\"color\": \"white\"}}, \"type\": \"table\"}]}, \"layout\": {\"annotationdefaults\": {\"arrowcolor\": \"#2a3f5f\", \"arrowhead\": 0, \"arrowwidth\": 1}, \"coloraxis\": {\"colorbar\": {\"outlinewidth\": 0, \"ticks\": \"\"}}, \"colorscale\": {\"diverging\": [[0, \"#8e0152\"], [0.1, \"#c51b7d\"], [0.2, \"#de77ae\"], [0.3, \"#f1b6da\"], [0.4, \"#fde0ef\"], [0.5, \"#f7f7f7\"], [0.6, \"#e6f5d0\"], [0.7, \"#b8e186\"], [0.8, \"#7fbc41\"], [0.9, \"#4d9221\"], [1, \"#276419\"]], \"sequential\": [[0.0, \"#0d0887\"], [0.1111111111111111, \"#46039f\"], [0.2222222222222222, \"#7201a8\"], [0.3333333333333333, \"#9c179e\"], [0.4444444444444444, \"#bd3786\"], [0.5555555555555556, \"#d8576b\"], [0.6666666666666666, \"#ed7953\"], [0.7777777777777778, \"#fb9f3a\"], [0.8888888888888888, \"#fdca26\"], [1.0, \"#f0f921\"]], \"sequentialminus\": [[0.0, \"#0d0887\"], [0.1111111111111111, \"#46039f\"], [0.2222222222222222, \"#7201a8\"], [0.3333333333333333, \"#9c179e\"], [0.4444444444444444, \"#bd3786\"], [0.5555555555555556, \"#d8576b\"], [0.6666666666666666, \"#ed7953\"], [0.7777777777777778, \"#fb9f3a\"], [0.8888888888888888, \"#fdca26\"], [1.0, \"#f0f921\"]]}, \"colorway\": [\"#636efa\", \"#EF553B\", \"#00cc96\", \"#ab63fa\", \"#FFA15A\", \"#19d3f3\", \"#FF6692\", \"#B6E880\", \"#FF97FF\", \"#FECB52\"], \"font\": {\"color\": \"#2a3f5f\"}, \"geo\": {\"bgcolor\": \"white\", \"lakecolor\": \"white\", \"landcolor\": \"#E5ECF6\", \"showlakes\": true, \"showland\": true, \"subunitcolor\": \"white\"}, \"hoverlabel\": {\"align\": \"left\"}, \"hovermode\": \"closest\", \"mapbox\": {\"style\": \"light\"}, \"paper_bgcolor\": \"white\", \"plot_bgcolor\": \"#E5ECF6\", \"polar\": {\"angularaxis\": {\"gridcolor\": \"white\", \"linecolor\": \"white\", \"ticks\": \"\"}, \"bgcolor\": \"#E5ECF6\", \"radialaxis\": {\"gridcolor\": \"white\", \"linecolor\": \"white\", \"ticks\": \"\"}}, \"scene\": {\"xaxis\": {\"backgroundcolor\": \"#E5ECF6\", \"gridcolor\": \"white\", \"gridwidth\": 2, \"linecolor\": \"white\", \"showbackground\": true, \"ticks\": \"\", \"zerolinecolor\": \"white\"}, \"yaxis\": {\"backgroundcolor\": \"#E5ECF6\", \"gridcolor\": \"white\", \"gridwidth\": 2, \"linecolor\": \"white\", \"showbackground\": true, \"ticks\": \"\", \"zerolinecolor\": \"white\"}, \"zaxis\": {\"backgroundcolor\": \"#E5ECF6\", \"gridcolor\": \"white\", \"gridwidth\": 2, \"linecolor\": \"white\", \"showbackground\": true, \"ticks\": \"\", \"zerolinecolor\": \"white\"}}, \"shapedefaults\": {\"line\": {\"color\": \"#2a3f5f\"}}, \"ternary\": {\"aaxis\": {\"gridcolor\": \"white\", \"linecolor\": \"white\", \"ticks\": \"\"}, \"baxis\": {\"gridcolor\": \"white\", \"linecolor\": \"white\", \"ticks\": \"\"}, \"bgcolor\": \"#E5ECF6\", \"caxis\": {\"gridcolor\": \"white\", \"linecolor\": \"white\", \"ticks\": \"\"}}, \"title\": {\"x\": 0.05}, \"xaxis\": {\"automargin\": true, \"gridcolor\": \"white\", \"linecolor\": \"white\", \"ticks\": \"\", \"title\": {\"standoff\": 15}, \"zerolinecolor\": \"white\", \"zerolinewidth\": 2}, \"yaxis\": {\"automargin\": true, \"gridcolor\": \"white\", \"linecolor\": \"white\", \"ticks\": \"\", \"title\": {\"standoff\": 15}, \"zerolinecolor\": \"white\", \"zerolinewidth\": 2}}}, \"title\": {\"text\": \"Cases per age distribution\"}, \"width\": 800, \"xaxis\": {\"anchor\": \"y\", \"domain\": [0.0, 1.0], \"title\": {\"text\": \"Department\"}}, \"yaxis\": {\"anchor\": \"x\", \"domain\": [0.0, 1.0], \"title\": {\"text\": \"count\"}}},\n",
              "                        {\"responsive\": true}\n",
              "                    ).then(function(){\n",
              "                            \n",
              "var gd = document.getElementById('e1967064-d360-4048-9c9b-def0f866c56a');\n",
              "var x = new MutationObserver(function (mutations, observer) {{\n",
              "        var display = window.getComputedStyle(gd).display;\n",
              "        if (!display || display === 'none') {{\n",
              "            console.log([gd, 'removed!']);\n",
              "            Plotly.purge(gd);\n",
              "            observer.disconnect();\n",
              "        }}\n",
              "}});\n",
              "\n",
              "// Listen for the removal of the full notebook cells\n",
              "var notebookContainer = gd.closest('#notebook-container');\n",
              "if (notebookContainer) {{\n",
              "    x.observe(notebookContainer, {childList: true});\n",
              "}}\n",
              "\n",
              "// Listen for the clearing of the current output cell\n",
              "var outputEl = gd.closest('.output');\n",
              "if (outputEl) {{\n",
              "    x.observe(outputEl, {childList: true});\n",
              "}}\n",
              "\n",
              "                        })\n",
              "                };\n",
              "                \n",
              "            </script>\n",
              "        </div>\n",
              "</body>\n",
              "</html>"
            ]
          },
          "metadata": {}
        }
      ]
    },
    {
      "cell_type": "code",
      "metadata": {
        "id": "WbZvS97a2T5F"
      },
      "source": [
        "ds = df.groupby(['Age','dataset'])['patientid'].count().reset_index()\n",
        "ds.columns = ['Age','dataset', 'count']"
      ],
      "execution_count": 76,
      "outputs": []
    },
    {
      "cell_type": "code",
      "metadata": {
        "id": "w9RVMSu029hr",
        "colab": {
          "base_uri": "https://localhost:8080/",
          "height": 717
        },
        "outputId": "e1663500-96d6-4467-c702-ab636a9b1422"
      },
      "source": [
        "import plotly.express as px\n",
        "\n",
        "fig = px.bar(\n",
        "    ds, \n",
        "    x='Age', \n",
        "    y=\"count\", \n",
        "    color = 'dataset',\n",
        "    barmode='group',\n",
        "    orientation='v', \n",
        "    title='Cases per age distribution', \n",
        "    width=800,\n",
        "    height=700\n",
        ")\n",
        "fig.show()"
      ],
      "execution_count": 77,
      "outputs": [
        {
          "output_type": "display_data",
          "data": {
            "text/html": [
              "<html>\n",
              "<head><meta charset=\"utf-8\" /></head>\n",
              "<body>\n",
              "    <div>\n",
              "            <script src=\"https://cdnjs.cloudflare.com/ajax/libs/mathjax/2.7.5/MathJax.js?config=TeX-AMS-MML_SVG\"></script><script type=\"text/javascript\">if (window.MathJax) {MathJax.Hub.Config({SVG: {font: \"STIX-Web\"}});}</script>\n",
              "                <script type=\"text/javascript\">window.PlotlyConfig = {MathJaxConfig: 'local'};</script>\n",
              "        <script src=\"https://cdn.plot.ly/plotly-latest.min.js\"></script>    \n",
              "            <div id=\"0d37cca1-818a-4cb3-a6a9-f2b011ac73a0\" class=\"plotly-graph-div\" style=\"height:700px; width:800px;\"></div>\n",
              "            <script type=\"text/javascript\">\n",
              "                \n",
              "                    window.PLOTLYENV=window.PLOTLYENV || {};\n",
              "                    \n",
              "                if (document.getElementById(\"0d37cca1-818a-4cb3-a6a9-f2b011ac73a0\")) {\n",
              "                    Plotly.newPlot(\n",
              "                        '0d37cca1-818a-4cb3-a6a9-f2b011ac73a0',\n",
              "                        [{\"alignmentgroup\": \"True\", \"hoverlabel\": {\"namelength\": 0}, \"hovertemplate\": \"dataset=test<br>Age=%{x}<br>count=%{y}\", \"legendgroup\": \"dataset=test\", \"marker\": {\"color\": \"#636efa\"}, \"name\": \"dataset=test\", \"offsetgroup\": \"dataset=test\", \"orientation\": \"v\", \"showlegend\": true, \"textposition\": \"auto\", \"type\": \"bar\", \"x\": [\"0-10\", \"11-20\", \"21-30\", \"31-40\", \"41-50\", \"51-60\", \"61-70\", \"71-80\", \"81-90\", \"91-100\"], \"xaxis\": \"x\", \"y\": [2886, 7103, 17717, 26781, 27746, 20992, 14932, 14945, 3350, 605], \"yaxis\": \"y\"}, {\"alignmentgroup\": \"True\", \"hoverlabel\": {\"namelength\": 0}, \"hovertemplate\": \"dataset=train<br>Age=%{x}<br>count=%{y}\", \"legendgroup\": \"dataset=train\", \"marker\": {\"color\": \"#EF553B\"}, \"name\": \"dataset=train\", \"offsetgroup\": \"dataset=train\", \"orientation\": \"v\", \"showlegend\": true, \"textposition\": \"auto\", \"type\": \"bar\", \"x\": [\"0-10\", \"11-20\", \"21-30\", \"31-40\", \"41-50\", \"51-60\", \"61-70\", \"71-80\", \"81-90\", \"91-100\"], \"xaxis\": \"x\", \"y\": [6254, 16768, 40843, 63639, 63749, 48514, 33687, 35792, 7890, 1302], \"yaxis\": \"y\"}],\n",
              "                        {\"barmode\": \"group\", \"height\": 700, \"legend\": {\"tracegroupgap\": 0}, \"template\": {\"data\": {\"bar\": [{\"error_x\": {\"color\": \"#2a3f5f\"}, \"error_y\": {\"color\": \"#2a3f5f\"}, \"marker\": {\"line\": {\"color\": \"#E5ECF6\", \"width\": 0.5}}, \"type\": \"bar\"}], \"barpolar\": [{\"marker\": {\"line\": {\"color\": \"#E5ECF6\", \"width\": 0.5}}, \"type\": \"barpolar\"}], \"carpet\": [{\"aaxis\": {\"endlinecolor\": \"#2a3f5f\", \"gridcolor\": \"white\", \"linecolor\": \"white\", \"minorgridcolor\": \"white\", \"startlinecolor\": \"#2a3f5f\"}, \"baxis\": {\"endlinecolor\": \"#2a3f5f\", \"gridcolor\": \"white\", \"linecolor\": \"white\", \"minorgridcolor\": \"white\", \"startlinecolor\": \"#2a3f5f\"}, \"type\": \"carpet\"}], \"choropleth\": [{\"colorbar\": {\"outlinewidth\": 0, \"ticks\": \"\"}, \"type\": \"choropleth\"}], \"contour\": [{\"colorbar\": {\"outlinewidth\": 0, \"ticks\": \"\"}, \"colorscale\": [[0.0, \"#0d0887\"], [0.1111111111111111, \"#46039f\"], [0.2222222222222222, \"#7201a8\"], [0.3333333333333333, \"#9c179e\"], [0.4444444444444444, \"#bd3786\"], [0.5555555555555556, \"#d8576b\"], [0.6666666666666666, \"#ed7953\"], [0.7777777777777778, \"#fb9f3a\"], [0.8888888888888888, \"#fdca26\"], [1.0, \"#f0f921\"]], \"type\": \"contour\"}], \"contourcarpet\": [{\"colorbar\": {\"outlinewidth\": 0, \"ticks\": \"\"}, \"type\": \"contourcarpet\"}], \"heatmap\": [{\"colorbar\": {\"outlinewidth\": 0, \"ticks\": \"\"}, \"colorscale\": [[0.0, \"#0d0887\"], [0.1111111111111111, \"#46039f\"], [0.2222222222222222, \"#7201a8\"], [0.3333333333333333, \"#9c179e\"], [0.4444444444444444, \"#bd3786\"], [0.5555555555555556, \"#d8576b\"], [0.6666666666666666, \"#ed7953\"], [0.7777777777777778, \"#fb9f3a\"], [0.8888888888888888, \"#fdca26\"], [1.0, \"#f0f921\"]], \"type\": \"heatmap\"}], \"heatmapgl\": [{\"colorbar\": {\"outlinewidth\": 0, \"ticks\": \"\"}, \"colorscale\": [[0.0, \"#0d0887\"], [0.1111111111111111, \"#46039f\"], [0.2222222222222222, \"#7201a8\"], [0.3333333333333333, \"#9c179e\"], [0.4444444444444444, \"#bd3786\"], [0.5555555555555556, \"#d8576b\"], [0.6666666666666666, \"#ed7953\"], [0.7777777777777778, \"#fb9f3a\"], [0.8888888888888888, \"#fdca26\"], [1.0, \"#f0f921\"]], \"type\": \"heatmapgl\"}], \"histogram\": [{\"marker\": {\"colorbar\": {\"outlinewidth\": 0, \"ticks\": \"\"}}, \"type\": \"histogram\"}], \"histogram2d\": [{\"colorbar\": {\"outlinewidth\": 0, \"ticks\": \"\"}, \"colorscale\": [[0.0, \"#0d0887\"], [0.1111111111111111, \"#46039f\"], [0.2222222222222222, \"#7201a8\"], [0.3333333333333333, \"#9c179e\"], [0.4444444444444444, \"#bd3786\"], [0.5555555555555556, \"#d8576b\"], [0.6666666666666666, \"#ed7953\"], [0.7777777777777778, \"#fb9f3a\"], [0.8888888888888888, \"#fdca26\"], [1.0, \"#f0f921\"]], \"type\": \"histogram2d\"}], \"histogram2dcontour\": [{\"colorbar\": {\"outlinewidth\": 0, \"ticks\": \"\"}, \"colorscale\": [[0.0, \"#0d0887\"], [0.1111111111111111, \"#46039f\"], [0.2222222222222222, \"#7201a8\"], [0.3333333333333333, \"#9c179e\"], [0.4444444444444444, \"#bd3786\"], [0.5555555555555556, \"#d8576b\"], [0.6666666666666666, \"#ed7953\"], [0.7777777777777778, \"#fb9f3a\"], [0.8888888888888888, \"#fdca26\"], [1.0, \"#f0f921\"]], \"type\": \"histogram2dcontour\"}], \"mesh3d\": [{\"colorbar\": {\"outlinewidth\": 0, \"ticks\": \"\"}, \"type\": \"mesh3d\"}], \"parcoords\": [{\"line\": {\"colorbar\": {\"outlinewidth\": 0, \"ticks\": \"\"}}, \"type\": \"parcoords\"}], \"pie\": [{\"automargin\": true, \"type\": \"pie\"}], \"scatter\": [{\"marker\": {\"colorbar\": {\"outlinewidth\": 0, \"ticks\": \"\"}}, \"type\": \"scatter\"}], \"scatter3d\": [{\"line\": {\"colorbar\": {\"outlinewidth\": 0, \"ticks\": \"\"}}, \"marker\": {\"colorbar\": {\"outlinewidth\": 0, \"ticks\": \"\"}}, \"type\": \"scatter3d\"}], \"scattercarpet\": [{\"marker\": {\"colorbar\": {\"outlinewidth\": 0, \"ticks\": \"\"}}, \"type\": \"scattercarpet\"}], \"scattergeo\": [{\"marker\": {\"colorbar\": {\"outlinewidth\": 0, \"ticks\": \"\"}}, \"type\": \"scattergeo\"}], \"scattergl\": [{\"marker\": {\"colorbar\": {\"outlinewidth\": 0, \"ticks\": \"\"}}, \"type\": \"scattergl\"}], \"scattermapbox\": [{\"marker\": {\"colorbar\": {\"outlinewidth\": 0, \"ticks\": \"\"}}, \"type\": \"scattermapbox\"}], \"scatterpolar\": [{\"marker\": {\"colorbar\": {\"outlinewidth\": 0, \"ticks\": \"\"}}, \"type\": \"scatterpolar\"}], \"scatterpolargl\": [{\"marker\": {\"colorbar\": {\"outlinewidth\": 0, \"ticks\": \"\"}}, \"type\": \"scatterpolargl\"}], \"scatterternary\": [{\"marker\": {\"colorbar\": {\"outlinewidth\": 0, \"ticks\": \"\"}}, \"type\": \"scatterternary\"}], \"surface\": [{\"colorbar\": {\"outlinewidth\": 0, \"ticks\": \"\"}, \"colorscale\": [[0.0, \"#0d0887\"], [0.1111111111111111, \"#46039f\"], [0.2222222222222222, \"#7201a8\"], [0.3333333333333333, \"#9c179e\"], [0.4444444444444444, \"#bd3786\"], [0.5555555555555556, \"#d8576b\"], [0.6666666666666666, \"#ed7953\"], [0.7777777777777778, \"#fb9f3a\"], [0.8888888888888888, \"#fdca26\"], [1.0, \"#f0f921\"]], \"type\": \"surface\"}], \"table\": [{\"cells\": {\"fill\": {\"color\": \"#EBF0F8\"}, \"line\": {\"color\": \"white\"}}, \"header\": {\"fill\": {\"color\": \"#C8D4E3\"}, \"line\": {\"color\": \"white\"}}, \"type\": \"table\"}]}, \"layout\": {\"annotationdefaults\": {\"arrowcolor\": \"#2a3f5f\", \"arrowhead\": 0, \"arrowwidth\": 1}, \"coloraxis\": {\"colorbar\": {\"outlinewidth\": 0, \"ticks\": \"\"}}, \"colorscale\": {\"diverging\": [[0, \"#8e0152\"], [0.1, \"#c51b7d\"], [0.2, \"#de77ae\"], [0.3, \"#f1b6da\"], [0.4, \"#fde0ef\"], [0.5, \"#f7f7f7\"], [0.6, \"#e6f5d0\"], [0.7, \"#b8e186\"], [0.8, \"#7fbc41\"], [0.9, \"#4d9221\"], [1, \"#276419\"]], \"sequential\": [[0.0, \"#0d0887\"], [0.1111111111111111, \"#46039f\"], [0.2222222222222222, \"#7201a8\"], [0.3333333333333333, \"#9c179e\"], [0.4444444444444444, \"#bd3786\"], [0.5555555555555556, \"#d8576b\"], [0.6666666666666666, \"#ed7953\"], [0.7777777777777778, \"#fb9f3a\"], [0.8888888888888888, \"#fdca26\"], [1.0, \"#f0f921\"]], \"sequentialminus\": [[0.0, \"#0d0887\"], [0.1111111111111111, \"#46039f\"], [0.2222222222222222, \"#7201a8\"], [0.3333333333333333, \"#9c179e\"], [0.4444444444444444, \"#bd3786\"], [0.5555555555555556, \"#d8576b\"], [0.6666666666666666, \"#ed7953\"], [0.7777777777777778, \"#fb9f3a\"], [0.8888888888888888, \"#fdca26\"], [1.0, \"#f0f921\"]]}, \"colorway\": [\"#636efa\", \"#EF553B\", \"#00cc96\", \"#ab63fa\", \"#FFA15A\", \"#19d3f3\", \"#FF6692\", \"#B6E880\", \"#FF97FF\", \"#FECB52\"], \"font\": {\"color\": \"#2a3f5f\"}, \"geo\": {\"bgcolor\": \"white\", \"lakecolor\": \"white\", \"landcolor\": \"#E5ECF6\", \"showlakes\": true, \"showland\": true, \"subunitcolor\": \"white\"}, \"hoverlabel\": {\"align\": \"left\"}, \"hovermode\": \"closest\", \"mapbox\": {\"style\": \"light\"}, \"paper_bgcolor\": \"white\", \"plot_bgcolor\": \"#E5ECF6\", \"polar\": {\"angularaxis\": {\"gridcolor\": \"white\", \"linecolor\": \"white\", \"ticks\": \"\"}, \"bgcolor\": \"#E5ECF6\", \"radialaxis\": {\"gridcolor\": \"white\", \"linecolor\": \"white\", \"ticks\": \"\"}}, \"scene\": {\"xaxis\": {\"backgroundcolor\": \"#E5ECF6\", \"gridcolor\": \"white\", \"gridwidth\": 2, \"linecolor\": \"white\", \"showbackground\": true, \"ticks\": \"\", \"zerolinecolor\": \"white\"}, \"yaxis\": {\"backgroundcolor\": \"#E5ECF6\", \"gridcolor\": \"white\", \"gridwidth\": 2, \"linecolor\": \"white\", \"showbackground\": true, \"ticks\": \"\", \"zerolinecolor\": \"white\"}, \"zaxis\": {\"backgroundcolor\": \"#E5ECF6\", \"gridcolor\": \"white\", \"gridwidth\": 2, \"linecolor\": \"white\", \"showbackground\": true, \"ticks\": \"\", \"zerolinecolor\": \"white\"}}, \"shapedefaults\": {\"line\": {\"color\": \"#2a3f5f\"}}, \"ternary\": {\"aaxis\": {\"gridcolor\": \"white\", \"linecolor\": \"white\", \"ticks\": \"\"}, \"baxis\": {\"gridcolor\": \"white\", \"linecolor\": \"white\", \"ticks\": \"\"}, \"bgcolor\": \"#E5ECF6\", \"caxis\": {\"gridcolor\": \"white\", \"linecolor\": \"white\", \"ticks\": \"\"}}, \"title\": {\"x\": 0.05}, \"xaxis\": {\"automargin\": true, \"gridcolor\": \"white\", \"linecolor\": \"white\", \"ticks\": \"\", \"title\": {\"standoff\": 15}, \"zerolinecolor\": \"white\", \"zerolinewidth\": 2}, \"yaxis\": {\"automargin\": true, \"gridcolor\": \"white\", \"linecolor\": \"white\", \"ticks\": \"\", \"title\": {\"standoff\": 15}, \"zerolinecolor\": \"white\", \"zerolinewidth\": 2}}}, \"title\": {\"text\": \"Cases per age distribution\"}, \"width\": 800, \"xaxis\": {\"anchor\": \"y\", \"domain\": [0.0, 1.0], \"title\": {\"text\": \"Age\"}}, \"yaxis\": {\"anchor\": \"x\", \"domain\": [0.0, 1.0], \"title\": {\"text\": \"count\"}}},\n",
              "                        {\"responsive\": true}\n",
              "                    ).then(function(){\n",
              "                            \n",
              "var gd = document.getElementById('0d37cca1-818a-4cb3-a6a9-f2b011ac73a0');\n",
              "var x = new MutationObserver(function (mutations, observer) {{\n",
              "        var display = window.getComputedStyle(gd).display;\n",
              "        if (!display || display === 'none') {{\n",
              "            console.log([gd, 'removed!']);\n",
              "            Plotly.purge(gd);\n",
              "            observer.disconnect();\n",
              "        }}\n",
              "}});\n",
              "\n",
              "// Listen for the removal of the full notebook cells\n",
              "var notebookContainer = gd.closest('#notebook-container');\n",
              "if (notebookContainer) {{\n",
              "    x.observe(notebookContainer, {childList: true});\n",
              "}}\n",
              "\n",
              "// Listen for the clearing of the current output cell\n",
              "var outputEl = gd.closest('.output');\n",
              "if (outputEl) {{\n",
              "    x.observe(outputEl, {childList: true});\n",
              "}}\n",
              "\n",
              "                        })\n",
              "                };\n",
              "                \n",
              "            </script>\n",
              "        </div>\n",
              "</body>\n",
              "</html>"
            ]
          },
          "metadata": {}
        }
      ]
    },
    {
      "cell_type": "code",
      "metadata": {
        "id": "o4jx0mhT55Fk"
      },
      "source": [
        "ds = df.groupby(['Age','Severity of Illness'])['patientid'].count().reset_index()\n",
        "ds.columns = ['Age','Severity of Illness', 'count']"
      ],
      "execution_count": 78,
      "outputs": []
    },
    {
      "cell_type": "code",
      "metadata": {
        "id": "4YbBeVVm2_X5",
        "colab": {
          "base_uri": "https://localhost:8080/",
          "height": 717
        },
        "outputId": "0bb29c6b-570c-4e5e-ffdc-b4f87b25bf46"
      },
      "source": [
        "import plotly.express as px\n",
        "\n",
        "fig = px.bar(\n",
        "    ds, \n",
        "    x='Age', \n",
        "    y=\"count\", \n",
        "    color = 'Severity of Illness',\n",
        "    barmode='group',\n",
        "    orientation='v', \n",
        "    title='Cases per age distribution', \n",
        "    width=800,\n",
        "    height=700\n",
        ")\n",
        "fig.show()"
      ],
      "execution_count": 79,
      "outputs": [
        {
          "output_type": "display_data",
          "data": {
            "text/html": [
              "<html>\n",
              "<head><meta charset=\"utf-8\" /></head>\n",
              "<body>\n",
              "    <div>\n",
              "            <script src=\"https://cdnjs.cloudflare.com/ajax/libs/mathjax/2.7.5/MathJax.js?config=TeX-AMS-MML_SVG\"></script><script type=\"text/javascript\">if (window.MathJax) {MathJax.Hub.Config({SVG: {font: \"STIX-Web\"}});}</script>\n",
              "                <script type=\"text/javascript\">window.PlotlyConfig = {MathJaxConfig: 'local'};</script>\n",
              "        <script src=\"https://cdn.plot.ly/plotly-latest.min.js\"></script>    \n",
              "            <div id=\"53b59a6b-b343-4500-b0c9-d105f46eee3d\" class=\"plotly-graph-div\" style=\"height:700px; width:800px;\"></div>\n",
              "            <script type=\"text/javascript\">\n",
              "                \n",
              "                    window.PLOTLYENV=window.PLOTLYENV || {};\n",
              "                    \n",
              "                if (document.getElementById(\"53b59a6b-b343-4500-b0c9-d105f46eee3d\")) {\n",
              "                    Plotly.newPlot(\n",
              "                        '53b59a6b-b343-4500-b0c9-d105f46eee3d',\n",
              "                        [{\"alignmentgroup\": \"True\", \"hoverlabel\": {\"namelength\": 0}, \"hovertemplate\": \"Severity of Illness=Extreme<br>Age=%{x}<br>count=%{y}\", \"legendgroup\": \"Severity of Illness=Extreme\", \"marker\": {\"color\": \"#636efa\"}, \"name\": \"Severity of Illness=Extreme\", \"offsetgroup\": \"Severity of Illness=Extreme\", \"orientation\": \"v\", \"showlegend\": true, \"textposition\": \"auto\", \"type\": \"bar\", \"x\": [\"0-10\", \"11-20\", \"21-30\", \"31-40\", \"41-50\", \"51-60\", \"61-70\", \"71-80\", \"81-90\", \"91-100\"], \"xaxis\": \"x\", \"y\": [945, 1897, 6173, 14453, 19360, 15055, 10552, 9852, 2500, 408], \"yaxis\": \"y\"}, {\"alignmentgroup\": \"True\", \"hoverlabel\": {\"namelength\": 0}, \"hovertemplate\": \"Severity of Illness=Minor<br>Age=%{x}<br>count=%{y}\", \"legendgroup\": \"Severity of Illness=Minor\", \"marker\": {\"color\": \"#EF553B\"}, \"name\": \"Severity of Illness=Minor\", \"offsetgroup\": \"Severity of Illness=Minor\", \"orientation\": \"v\", \"showlegend\": true, \"textposition\": \"auto\", \"type\": \"bar\", \"x\": [\"0-10\", \"11-20\", \"21-30\", \"31-40\", \"41-50\", \"51-60\", \"61-70\", \"71-80\", \"81-90\", \"91-100\"], \"xaxis\": \"x\", \"y\": [3728, 11559, 21923, 23272, 18831, 14851, 11652, 13838, 2654, 427], \"yaxis\": \"y\"}, {\"alignmentgroup\": \"True\", \"hoverlabel\": {\"namelength\": 0}, \"hovertemplate\": \"Severity of Illness=Moderate<br>Age=%{x}<br>count=%{y}\", \"legendgroup\": \"Severity of Illness=Moderate\", \"marker\": {\"color\": \"#00cc96\"}, \"name\": \"Severity of Illness=Moderate\", \"offsetgroup\": \"Severity of Illness=Moderate\", \"orientation\": \"v\", \"showlegend\": true, \"textposition\": \"auto\", \"type\": \"bar\", \"x\": [\"0-10\", \"11-20\", \"21-30\", \"31-40\", \"41-50\", \"51-60\", \"61-70\", \"71-80\", \"81-90\", \"91-100\"], \"xaxis\": \"x\", \"y\": [4467, 10415, 30464, 52695, 53304, 39600, 26415, 27047, 6086, 1072], \"yaxis\": \"y\"}],\n",
              "                        {\"barmode\": \"group\", \"height\": 700, \"legend\": {\"tracegroupgap\": 0}, \"template\": {\"data\": {\"bar\": [{\"error_x\": {\"color\": \"#2a3f5f\"}, \"error_y\": {\"color\": \"#2a3f5f\"}, \"marker\": {\"line\": {\"color\": \"#E5ECF6\", \"width\": 0.5}}, \"type\": \"bar\"}], \"barpolar\": [{\"marker\": {\"line\": {\"color\": \"#E5ECF6\", \"width\": 0.5}}, \"type\": \"barpolar\"}], \"carpet\": [{\"aaxis\": {\"endlinecolor\": \"#2a3f5f\", \"gridcolor\": \"white\", \"linecolor\": \"white\", \"minorgridcolor\": \"white\", \"startlinecolor\": \"#2a3f5f\"}, \"baxis\": {\"endlinecolor\": \"#2a3f5f\", \"gridcolor\": \"white\", \"linecolor\": \"white\", \"minorgridcolor\": \"white\", \"startlinecolor\": \"#2a3f5f\"}, \"type\": \"carpet\"}], \"choropleth\": [{\"colorbar\": {\"outlinewidth\": 0, \"ticks\": \"\"}, \"type\": \"choropleth\"}], \"contour\": [{\"colorbar\": {\"outlinewidth\": 0, \"ticks\": \"\"}, \"colorscale\": [[0.0, \"#0d0887\"], [0.1111111111111111, \"#46039f\"], [0.2222222222222222, \"#7201a8\"], [0.3333333333333333, \"#9c179e\"], [0.4444444444444444, \"#bd3786\"], [0.5555555555555556, \"#d8576b\"], [0.6666666666666666, \"#ed7953\"], [0.7777777777777778, \"#fb9f3a\"], [0.8888888888888888, \"#fdca26\"], [1.0, \"#f0f921\"]], \"type\": \"contour\"}], \"contourcarpet\": [{\"colorbar\": {\"outlinewidth\": 0, \"ticks\": \"\"}, \"type\": \"contourcarpet\"}], \"heatmap\": [{\"colorbar\": {\"outlinewidth\": 0, \"ticks\": \"\"}, \"colorscale\": [[0.0, \"#0d0887\"], [0.1111111111111111, \"#46039f\"], [0.2222222222222222, \"#7201a8\"], [0.3333333333333333, \"#9c179e\"], [0.4444444444444444, \"#bd3786\"], [0.5555555555555556, \"#d8576b\"], [0.6666666666666666, \"#ed7953\"], [0.7777777777777778, \"#fb9f3a\"], [0.8888888888888888, \"#fdca26\"], [1.0, \"#f0f921\"]], \"type\": \"heatmap\"}], \"heatmapgl\": [{\"colorbar\": {\"outlinewidth\": 0, \"ticks\": \"\"}, \"colorscale\": [[0.0, \"#0d0887\"], [0.1111111111111111, \"#46039f\"], [0.2222222222222222, \"#7201a8\"], [0.3333333333333333, \"#9c179e\"], [0.4444444444444444, \"#bd3786\"], [0.5555555555555556, \"#d8576b\"], [0.6666666666666666, \"#ed7953\"], [0.7777777777777778, \"#fb9f3a\"], [0.8888888888888888, \"#fdca26\"], [1.0, \"#f0f921\"]], \"type\": \"heatmapgl\"}], \"histogram\": [{\"marker\": {\"colorbar\": {\"outlinewidth\": 0, \"ticks\": \"\"}}, \"type\": \"histogram\"}], \"histogram2d\": [{\"colorbar\": {\"outlinewidth\": 0, \"ticks\": \"\"}, \"colorscale\": [[0.0, \"#0d0887\"], [0.1111111111111111, \"#46039f\"], [0.2222222222222222, \"#7201a8\"], [0.3333333333333333, \"#9c179e\"], [0.4444444444444444, \"#bd3786\"], [0.5555555555555556, \"#d8576b\"], [0.6666666666666666, \"#ed7953\"], [0.7777777777777778, \"#fb9f3a\"], [0.8888888888888888, \"#fdca26\"], [1.0, \"#f0f921\"]], \"type\": \"histogram2d\"}], \"histogram2dcontour\": [{\"colorbar\": {\"outlinewidth\": 0, \"ticks\": \"\"}, \"colorscale\": [[0.0, \"#0d0887\"], [0.1111111111111111, \"#46039f\"], [0.2222222222222222, \"#7201a8\"], [0.3333333333333333, \"#9c179e\"], [0.4444444444444444, \"#bd3786\"], [0.5555555555555556, \"#d8576b\"], [0.6666666666666666, \"#ed7953\"], [0.7777777777777778, \"#fb9f3a\"], [0.8888888888888888, \"#fdca26\"], [1.0, \"#f0f921\"]], \"type\": \"histogram2dcontour\"}], \"mesh3d\": [{\"colorbar\": {\"outlinewidth\": 0, \"ticks\": \"\"}, \"type\": \"mesh3d\"}], \"parcoords\": [{\"line\": {\"colorbar\": {\"outlinewidth\": 0, \"ticks\": \"\"}}, \"type\": \"parcoords\"}], \"pie\": [{\"automargin\": true, \"type\": \"pie\"}], \"scatter\": [{\"marker\": {\"colorbar\": {\"outlinewidth\": 0, \"ticks\": \"\"}}, \"type\": \"scatter\"}], \"scatter3d\": [{\"line\": {\"colorbar\": {\"outlinewidth\": 0, \"ticks\": \"\"}}, \"marker\": {\"colorbar\": {\"outlinewidth\": 0, \"ticks\": \"\"}}, \"type\": \"scatter3d\"}], \"scattercarpet\": [{\"marker\": {\"colorbar\": {\"outlinewidth\": 0, \"ticks\": \"\"}}, \"type\": \"scattercarpet\"}], \"scattergeo\": [{\"marker\": {\"colorbar\": {\"outlinewidth\": 0, \"ticks\": \"\"}}, \"type\": \"scattergeo\"}], \"scattergl\": [{\"marker\": {\"colorbar\": {\"outlinewidth\": 0, \"ticks\": \"\"}}, \"type\": \"scattergl\"}], \"scattermapbox\": [{\"marker\": {\"colorbar\": {\"outlinewidth\": 0, \"ticks\": \"\"}}, \"type\": \"scattermapbox\"}], \"scatterpolar\": [{\"marker\": {\"colorbar\": {\"outlinewidth\": 0, \"ticks\": \"\"}}, \"type\": \"scatterpolar\"}], \"scatterpolargl\": [{\"marker\": {\"colorbar\": {\"outlinewidth\": 0, \"ticks\": \"\"}}, \"type\": \"scatterpolargl\"}], \"scatterternary\": [{\"marker\": {\"colorbar\": {\"outlinewidth\": 0, \"ticks\": \"\"}}, \"type\": \"scatterternary\"}], \"surface\": [{\"colorbar\": {\"outlinewidth\": 0, \"ticks\": \"\"}, \"colorscale\": [[0.0, \"#0d0887\"], [0.1111111111111111, \"#46039f\"], [0.2222222222222222, \"#7201a8\"], [0.3333333333333333, \"#9c179e\"], [0.4444444444444444, \"#bd3786\"], [0.5555555555555556, \"#d8576b\"], [0.6666666666666666, \"#ed7953\"], [0.7777777777777778, \"#fb9f3a\"], [0.8888888888888888, \"#fdca26\"], [1.0, \"#f0f921\"]], \"type\": \"surface\"}], \"table\": [{\"cells\": {\"fill\": {\"color\": \"#EBF0F8\"}, \"line\": {\"color\": \"white\"}}, \"header\": {\"fill\": {\"color\": \"#C8D4E3\"}, \"line\": {\"color\": \"white\"}}, \"type\": \"table\"}]}, \"layout\": {\"annotationdefaults\": {\"arrowcolor\": \"#2a3f5f\", \"arrowhead\": 0, \"arrowwidth\": 1}, \"coloraxis\": {\"colorbar\": {\"outlinewidth\": 0, \"ticks\": \"\"}}, \"colorscale\": {\"diverging\": [[0, \"#8e0152\"], [0.1, \"#c51b7d\"], [0.2, \"#de77ae\"], [0.3, \"#f1b6da\"], [0.4, \"#fde0ef\"], [0.5, \"#f7f7f7\"], [0.6, \"#e6f5d0\"], [0.7, \"#b8e186\"], [0.8, \"#7fbc41\"], [0.9, \"#4d9221\"], [1, \"#276419\"]], \"sequential\": [[0.0, \"#0d0887\"], [0.1111111111111111, \"#46039f\"], [0.2222222222222222, \"#7201a8\"], [0.3333333333333333, \"#9c179e\"], [0.4444444444444444, \"#bd3786\"], [0.5555555555555556, \"#d8576b\"], [0.6666666666666666, \"#ed7953\"], [0.7777777777777778, \"#fb9f3a\"], [0.8888888888888888, \"#fdca26\"], [1.0, \"#f0f921\"]], \"sequentialminus\": [[0.0, \"#0d0887\"], [0.1111111111111111, \"#46039f\"], [0.2222222222222222, \"#7201a8\"], [0.3333333333333333, \"#9c179e\"], [0.4444444444444444, \"#bd3786\"], [0.5555555555555556, \"#d8576b\"], [0.6666666666666666, \"#ed7953\"], [0.7777777777777778, \"#fb9f3a\"], [0.8888888888888888, \"#fdca26\"], [1.0, \"#f0f921\"]]}, \"colorway\": [\"#636efa\", \"#EF553B\", \"#00cc96\", \"#ab63fa\", \"#FFA15A\", \"#19d3f3\", \"#FF6692\", \"#B6E880\", \"#FF97FF\", \"#FECB52\"], \"font\": {\"color\": \"#2a3f5f\"}, \"geo\": {\"bgcolor\": \"white\", \"lakecolor\": \"white\", \"landcolor\": \"#E5ECF6\", \"showlakes\": true, \"showland\": true, \"subunitcolor\": \"white\"}, \"hoverlabel\": {\"align\": \"left\"}, \"hovermode\": \"closest\", \"mapbox\": {\"style\": \"light\"}, \"paper_bgcolor\": \"white\", \"plot_bgcolor\": \"#E5ECF6\", \"polar\": {\"angularaxis\": {\"gridcolor\": \"white\", \"linecolor\": \"white\", \"ticks\": \"\"}, \"bgcolor\": \"#E5ECF6\", \"radialaxis\": {\"gridcolor\": \"white\", \"linecolor\": \"white\", \"ticks\": \"\"}}, \"scene\": {\"xaxis\": {\"backgroundcolor\": \"#E5ECF6\", \"gridcolor\": \"white\", \"gridwidth\": 2, \"linecolor\": \"white\", \"showbackground\": true, \"ticks\": \"\", \"zerolinecolor\": \"white\"}, \"yaxis\": {\"backgroundcolor\": \"#E5ECF6\", \"gridcolor\": \"white\", \"gridwidth\": 2, \"linecolor\": \"white\", \"showbackground\": true, \"ticks\": \"\", \"zerolinecolor\": \"white\"}, \"zaxis\": {\"backgroundcolor\": \"#E5ECF6\", \"gridcolor\": \"white\", \"gridwidth\": 2, \"linecolor\": \"white\", \"showbackground\": true, \"ticks\": \"\", \"zerolinecolor\": \"white\"}}, \"shapedefaults\": {\"line\": {\"color\": \"#2a3f5f\"}}, \"ternary\": {\"aaxis\": {\"gridcolor\": \"white\", \"linecolor\": \"white\", \"ticks\": \"\"}, \"baxis\": {\"gridcolor\": \"white\", \"linecolor\": \"white\", \"ticks\": \"\"}, \"bgcolor\": \"#E5ECF6\", \"caxis\": {\"gridcolor\": \"white\", \"linecolor\": \"white\", \"ticks\": \"\"}}, \"title\": {\"x\": 0.05}, \"xaxis\": {\"automargin\": true, \"gridcolor\": \"white\", \"linecolor\": \"white\", \"ticks\": \"\", \"title\": {\"standoff\": 15}, \"zerolinecolor\": \"white\", \"zerolinewidth\": 2}, \"yaxis\": {\"automargin\": true, \"gridcolor\": \"white\", \"linecolor\": \"white\", \"ticks\": \"\", \"title\": {\"standoff\": 15}, \"zerolinecolor\": \"white\", \"zerolinewidth\": 2}}}, \"title\": {\"text\": \"Cases per age distribution\"}, \"width\": 800, \"xaxis\": {\"anchor\": \"y\", \"domain\": [0.0, 1.0], \"title\": {\"text\": \"Age\"}}, \"yaxis\": {\"anchor\": \"x\", \"domain\": [0.0, 1.0], \"title\": {\"text\": \"count\"}}},\n",
              "                        {\"responsive\": true}\n",
              "                    ).then(function(){\n",
              "                            \n",
              "var gd = document.getElementById('53b59a6b-b343-4500-b0c9-d105f46eee3d');\n",
              "var x = new MutationObserver(function (mutations, observer) {{\n",
              "        var display = window.getComputedStyle(gd).display;\n",
              "        if (!display || display === 'none') {{\n",
              "            console.log([gd, 'removed!']);\n",
              "            Plotly.purge(gd);\n",
              "            observer.disconnect();\n",
              "        }}\n",
              "}});\n",
              "\n",
              "// Listen for the removal of the full notebook cells\n",
              "var notebookContainer = gd.closest('#notebook-container');\n",
              "if (notebookContainer) {{\n",
              "    x.observe(notebookContainer, {childList: true});\n",
              "}}\n",
              "\n",
              "// Listen for the clearing of the current output cell\n",
              "var outputEl = gd.closest('.output');\n",
              "if (outputEl) {{\n",
              "    x.observe(outputEl, {childList: true});\n",
              "}}\n",
              "\n",
              "                        })\n",
              "                };\n",
              "                \n",
              "            </script>\n",
              "        </div>\n",
              "</body>\n",
              "</html>"
            ]
          },
          "metadata": {}
        }
      ]
    },
    {
      "cell_type": "code",
      "metadata": {
        "id": "T7kGcIX0nZMn"
      },
      "source": [
        ""
      ],
      "execution_count": 79,
      "outputs": []
    }
  ]
}
