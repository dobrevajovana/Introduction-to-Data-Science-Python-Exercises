{
  "nbformat": 4,
  "nbformat_minor": 0,
  "metadata": {
    "colab": {
      "name": "Example.ipynb",
      "provenance": []
    },
    "kernelspec": {
      "name": "python3",
      "display_name": "Python 3"
    },
    "language_info": {
      "name": "python"
    }
  },
  "cells": [
    {
      "cell_type": "code",
      "metadata": {
        "id": "g-ro2w52vV8U"
      },
      "source": [
        "import pandas as pd\n",
        "from sklearn.preprocessing import LabelEncoder \n",
        "import numpy as np\n",
        "import math\n",
        "from sklearn.preprocessing import StandardScaler\n",
        "from sklearn.neighbors import KNeighborsClassifier\n",
        "from sklearn import metrics\n",
        "\n",
        "from sklearn.ensemble import GradientBoostingClassifier  as XGBClassifier\n",
        "\n",
        "def encoding(data,columns):\n",
        "  #encode the labeles columns\n",
        "  for column in columns:\n",
        "    le = LabelEncoder()\n",
        "    data[column] = le.fit_transform(data[column])\n",
        "\n",
        "\n",
        "def handling_missing_values(data, column, degree):\n",
        "  #split data into train and test\n",
        "  x = data.drop([column],axis = 1)\n",
        "  X_train = []\n",
        "  X_test = []\n",
        "  Y_train = []\n",
        "  Y_test =[]\n",
        "  for i in range(0,len(data)):\n",
        "    if math.isnan(data[column][i]):\n",
        "      Y_test.append(data[column][i])\n",
        "      pom = []\n",
        "      for c in x.columns:\n",
        "        pom.append(x[c][i])\n",
        "      X_test.append(pom)\n",
        "    else:\n",
        "      Y_train.append(data[column][i])\n",
        "      pom = []\n",
        "      for c in x.columns:\n",
        "        pom.append(x[c][i])\n",
        "      X_train.append(pom)\n",
        "\n",
        "  #use StandardScaler fit it only on X_train\n",
        "  scaler = StandardScaler()\n",
        "  X_train = scaler.fit_transform(X_train)\n",
        "  X_test  = scaler.transform(X_test)\n",
        "  #KNeighborsClassifier\n",
        "  model = KNeighborsClassifier(n_neighbors=degree)\n",
        "  model.fit(X_train,Y_train)\n",
        "  y_pred = model.predict(X_test)\n",
        "  #replace the NaN values with the predicted ones\n",
        "  k = 0\n",
        "  for i in range(0,len(data)):\n",
        "    if math.isnan(data[column][i]):\n",
        "      data[column][i] = y_pred[k]\n",
        "      k+=1\n",
        "\n",
        "\n",
        "\n",
        "        \n",
        "\n",
        "\n",
        "    \n",
        "\n",
        "\n",
        "\n",
        "    \n",
        "\n"
      ],
      "execution_count": null,
      "outputs": []
    },
    {
      "cell_type": "code",
      "metadata": {
        "colab": {
          "base_uri": "https://localhost:8080/"
        },
        "id": "8CmjzeH14pMd",
        "outputId": "8ce1b885-96f2-4530-b0b4-06b070fa78d7"
      },
      "source": [
        "\n",
        "labeled_columns = ['Attrition','BusinessTravel','Department','EducationField','Gender']\n",
        "missing_value_column ='DailyRate'\n",
        "data = pd.read_csv('termin_1_dataset.csv')\n",
        "encoding(data, labeled_columns)\n",
        "handling_missing_values(data, missing_value_column, 5)"
      ],
      "execution_count": null,
      "outputs": [
        {
          "output_type": "stream",
          "name": "stderr",
          "text": [
            "/usr/local/lib/python3.7/dist-packages/ipykernel_launcher.py:51: SettingWithCopyWarning: \n",
            "A value is trying to be set on a copy of a slice from a DataFrame\n",
            "\n",
            "See the caveats in the documentation: https://pandas.pydata.org/pandas-docs/stable/user_guide/indexing.html#returning-a-view-versus-a-copy\n"
          ]
        }
      ]
    }
  ]
}