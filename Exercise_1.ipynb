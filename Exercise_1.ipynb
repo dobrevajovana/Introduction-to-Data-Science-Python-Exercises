{
  "nbformat": 4,
  "nbformat_minor": 0,
  "metadata": {
    "colab": {
      "name": "Exercise_1.ipynb",
      "provenance": [],
      "collapsed_sections": [
        "npLn6Tfkcw37"
      ],
      "toc_visible": true
    },
    "kernelspec": {
      "name": "python3",
      "display_name": "Python 3"
    }
  },
  "cells": [
    {
      "cell_type": "markdown",
      "metadata": {
        "id": "jdkDsKuCQ41C"
      },
      "source": [
        "\n",
        "# <font color='33D8FF'>Expressions</font>"
      ]
    },
    {
      "cell_type": "code",
      "metadata": {
        "id": "1M9GvgrrRHKM",
        "outputId": "19928e39-e274-4d8f-b4af-0c7ebf577b65",
        "colab": {
          "base_uri": "https://localhost:8080/",
          "height": 34
        }
      },
      "source": [
        "3 * 4"
      ],
      "execution_count": null,
      "outputs": [
        {
          "output_type": "execute_result",
          "data": {
            "text/plain": [
              "12"
            ]
          },
          "metadata": {
            "tags": []
          },
          "execution_count": 1
        }
      ]
    },
    {
      "cell_type": "code",
      "metadata": {
        "id": "9ItpsxMsjNg5",
        "outputId": "024c1ef7-839e-49e8-e8c8-bbe5101dc9e5",
        "colab": {
          "base_uri": "https://localhost:8080/",
          "height": 34
        }
      },
      "source": [
        "print(3 / 4)"
      ],
      "execution_count": null,
      "outputs": [
        {
          "output_type": "stream",
          "text": [
            "0.75\n"
          ],
          "name": "stdout"
        }
      ]
    },
    {
      "cell_type": "markdown",
      "metadata": {
        "id": "87ZjimAaS1jQ"
      },
      "source": [
        "\n",
        "<font color='red'>Syntax matters</font>\n"
      ]
    },
    {
      "cell_type": "code",
      "metadata": {
        "id": "0iCl0TGJRWh9",
        "outputId": "f19e42cb-1ebc-430a-a72e-1212ab95212d",
        "colab": {
          "base_uri": "https://localhost:8080/",
          "height": 34
        }
      },
      "source": [
        "3 ** 2"
      ],
      "execution_count": null,
      "outputs": [
        {
          "output_type": "execute_result",
          "data": {
            "text/plain": [
              "9"
            ]
          },
          "metadata": {
            "tags": []
          },
          "execution_count": 4
        }
      ]
    },
    {
      "cell_type": "code",
      "metadata": {
        "id": "q7AT1aIlNbB5",
        "outputId": "b66e7c24-3384-4e9d-e106-6e860b1fe642",
        "colab": {
          "base_uri": "https://localhost:8080/",
          "height": 34
        }
      },
      "source": [
        "3 ** 3"
      ],
      "execution_count": null,
      "outputs": [
        {
          "output_type": "execute_result",
          "data": {
            "text/plain": [
              "27"
            ]
          },
          "metadata": {
            "tags": []
          },
          "execution_count": 5
        }
      ]
    },
    {
      "cell_type": "code",
      "metadata": {
        "id": "GWiJ-LZURaC9",
        "outputId": "9877568b-9f9e-4fbd-9f93-1a1835f0551f",
        "colab": {
          "base_uri": "https://localhost:8080/",
          "height": 128
        }
      },
      "source": [
        "#wrong syntax -> plus white space\n",
        "3 * * 2"
      ],
      "execution_count": null,
      "outputs": [
        {
          "output_type": "error",
          "ename": "SyntaxError",
          "evalue": "ignored",
          "traceback": [
            "\u001b[0;36m  File \u001b[0;32m\"<ipython-input-6-0eff42d72b03>\"\u001b[0;36m, line \u001b[0;32m2\u001b[0m\n\u001b[0;31m    3 * * 2\u001b[0m\n\u001b[0m        ^\u001b[0m\n\u001b[0;31mSyntaxError\u001b[0m\u001b[0;31m:\u001b[0m invalid syntax\n"
          ]
        }
      ]
    },
    {
      "cell_type": "code",
      "metadata": {
        "id": "8yVpRWgYSDJs",
        "outputId": "e814d1ae-a09b-4677-809d-1fc80ccf6341",
        "colab": {
          "base_uri": "https://localhost:8080/",
          "height": 34
        }
      },
      "source": [
        "1+2*6"
      ],
      "execution_count": null,
      "outputs": [
        {
          "output_type": "execute_result",
          "data": {
            "text/plain": [
              "13"
            ]
          },
          "metadata": {
            "tags": []
          },
          "execution_count": 7
        }
      ]
    },
    {
      "cell_type": "code",
      "metadata": {
        "id": "rWN53bGqSFfX",
        "outputId": "2104d0b1-dd10-4194-efe3-1cdbadf92d9f",
        "colab": {
          "base_uri": "https://localhost:8080/",
          "height": 34
        }
      },
      "source": [
        "(1+2)*6"
      ],
      "execution_count": null,
      "outputs": [
        {
          "output_type": "execute_result",
          "data": {
            "text/plain": [
              "18"
            ]
          },
          "metadata": {
            "tags": []
          },
          "execution_count": 8
        }
      ]
    },
    {
      "cell_type": "code",
      "metadata": {
        "id": "3ibPK5FRRbgr",
        "outputId": "50fc59be-d3a6-4e17-fe13-ce1f9d183924",
        "colab": {
          "base_uri": "https://localhost:8080/",
          "height": 34
        }
      },
      "source": [
        "1 + 2 * 3 * 4 * 5 / 6 ** 3 + 7 + 8 - 9 + 10\n"
      ],
      "execution_count": null,
      "outputs": [
        {
          "output_type": "execute_result",
          "data": {
            "text/plain": [
              "17.555555555555557"
            ]
          },
          "metadata": {
            "tags": []
          },
          "execution_count": 9
        }
      ]
    },
    {
      "cell_type": "code",
      "metadata": {
        "id": "cA5WBlH2R-uo",
        "outputId": "971c4626-176a-462d-f510-2c80d8cf2608",
        "colab": {
          "base_uri": "https://localhost:8080/",
          "height": 34
        }
      },
      "source": [
        "1 + 2 * (3 * 4 * 5 / 6) ** 3 + 7 + 8 - 9 + 10"
      ],
      "execution_count": null,
      "outputs": [
        {
          "output_type": "execute_result",
          "data": {
            "text/plain": [
              "2017.0"
            ]
          },
          "metadata": {
            "tags": []
          },
          "execution_count": 10
        }
      ]
    },
    {
      "cell_type": "markdown",
      "metadata": {
        "id": "0wNlNFfUSIga"
      },
      "source": [
        "\n",
        "# <font color='33D8FF'>Variables</font>"
      ]
    },
    {
      "cell_type": "markdown",
      "metadata": {
        "id": "SWtUesruSYXl"
      },
      "source": [
        "\n",
        "<font color='green'>Numbers</font>\n"
      ]
    },
    {
      "cell_type": "code",
      "metadata": {
        "id": "adN4Wt7hSTvk"
      },
      "source": [
        "x = 20\n",
        "y = 10\n",
        "w = 2.0"
      ],
      "execution_count": null,
      "outputs": []
    },
    {
      "cell_type": "code",
      "metadata": {
        "id": "bHujGUU3SfYf",
        "outputId": "4fe89ae1-d9c4-449b-fde2-dd655b912457",
        "colab": {
          "base_uri": "https://localhost:8080/",
          "height": 34
        }
      },
      "source": [
        "z = x+y\n",
        "z"
      ],
      "execution_count": null,
      "outputs": [
        {
          "output_type": "execute_result",
          "data": {
            "text/plain": [
              "30"
            ]
          },
          "metadata": {
            "tags": []
          },
          "execution_count": 15
        }
      ]
    },
    {
      "cell_type": "code",
      "metadata": {
        "id": "HxYnZl5gj74L",
        "outputId": "c341bc32-56b7-436b-a215-d74570c1399f",
        "colab": {
          "base_uri": "https://localhost:8080/",
          "height": 34
        }
      },
      "source": [
        "print(z)"
      ],
      "execution_count": null,
      "outputs": [
        {
          "output_type": "stream",
          "text": [
            "30\n"
          ],
          "name": "stdout"
        }
      ]
    },
    {
      "cell_type": "code",
      "metadata": {
        "id": "1GbkcCCOUnFF",
        "outputId": "c46a1829-2544-4c4c-fb9f-8d8e5c09f049",
        "colab": {
          "base_uri": "https://localhost:8080/",
          "height": 34
        }
      },
      "source": [
        "initial = 2766000\n",
        "changed = 2814000\n",
        "(changed - initial) / initial\n"
      ],
      "execution_count": null,
      "outputs": [
        {
          "output_type": "execute_result",
          "data": {
            "text/plain": [
              "0.01735357917570499"
            ]
          },
          "metadata": {
            "tags": []
          },
          "execution_count": 17
        }
      ]
    },
    {
      "cell_type": "code",
      "metadata": {
        "id": "EQj3Mg9Fekot",
        "outputId": "1d1774fc-5377-416a-c676-d55e94758e79",
        "colab": {
          "base_uri": "https://localhost:8080/",
          "height": 34
        }
      },
      "source": [
        "2e306 * 10\n"
      ],
      "execution_count": null,
      "outputs": [
        {
          "output_type": "execute_result",
          "data": {
            "text/plain": [
              "2e+307"
            ]
          },
          "metadata": {
            "tags": []
          },
          "execution_count": 18
        }
      ]
    },
    {
      "cell_type": "code",
      "metadata": {
        "id": "w5m-yvsgellV",
        "outputId": "2b88f50d-e9f3-4e72-b1f2-d27e7748b0ba",
        "colab": {
          "base_uri": "https://localhost:8080/",
          "height": 34
        }
      },
      "source": [
        "4.440892098500626e-16\n"
      ],
      "execution_count": null,
      "outputs": [
        {
          "output_type": "execute_result",
          "data": {
            "text/plain": [
              "4.440892098500626e-16"
            ]
          },
          "metadata": {
            "tags": []
          },
          "execution_count": 19
        }
      ]
    },
    {
      "cell_type": "code",
      "metadata": {
        "id": "8mDu9nuffC57",
        "outputId": "5658451c-7ec6-42b6-c094-7efb45bff3e4",
        "colab": {
          "base_uri": "https://localhost:8080/",
          "height": 35
        }
      },
      "source": [
        "a = 4.440892098500626e-16\n",
        "\n",
        "f'{a:.20f}'"
      ],
      "execution_count": null,
      "outputs": [
        {
          "output_type": "execute_result",
          "data": {
            "application/vnd.google.colaboratory.intrinsic+json": {
              "type": "string"
            },
            "text/plain": [
              "'0.00000000000000044409'"
            ]
          },
          "metadata": {
            "tags": []
          },
          "execution_count": 20
        }
      ]
    },
    {
      "cell_type": "code",
      "metadata": {
        "id": "i-JaZxd5AmPw",
        "outputId": "db4e54c6-a5f9-4414-8e33-600f9293cb56",
        "colab": {
          "base_uri": "https://localhost:8080/",
          "height": 34
        }
      },
      "source": [
        "complex(1, 2)\n"
      ],
      "execution_count": null,
      "outputs": [
        {
          "output_type": "execute_result",
          "data": {
            "text/plain": [
              "(1+2j)"
            ]
          },
          "metadata": {
            "tags": []
          },
          "execution_count": 21
        }
      ]
    },
    {
      "cell_type": "markdown",
      "metadata": {
        "id": "CqZSIdh-SiKm"
      },
      "source": [
        "<font color='blue'>String</font>\n"
      ]
    },
    {
      "cell_type": "code",
      "metadata": {
        "id": "jaDBXm-kSjUB"
      },
      "source": [
        "a = \"Python\"\n",
        "b = 'Introduction'"
      ],
      "execution_count": null,
      "outputs": []
    },
    {
      "cell_type": "code",
      "metadata": {
        "id": "-HkLZzIYSr5o",
        "outputId": "cb05613c-cb03-4bbf-d737-c3b3f6a5c4b0",
        "colab": {
          "base_uri": "https://localhost:8080/",
          "height": 35
        }
      },
      "source": [
        "c = a+b\n",
        "c"
      ],
      "execution_count": null,
      "outputs": [
        {
          "output_type": "execute_result",
          "data": {
            "application/vnd.google.colaboratory.intrinsic+json": {
              "type": "string"
            },
            "text/plain": [
              "'PythonIntroduction'"
            ]
          },
          "metadata": {
            "tags": []
          },
          "execution_count": 30
        }
      ]
    },
    {
      "cell_type": "code",
      "metadata": {
        "id": "s-T7xReZSuC0",
        "outputId": "ad5a27ee-8136-4db8-8390-620bd10baa94",
        "colab": {
          "base_uri": "https://localhost:8080/",
          "height": 35
        }
      },
      "source": [
        "c = a+' '+b\n",
        "c"
      ],
      "execution_count": null,
      "outputs": [
        {
          "output_type": "execute_result",
          "data": {
            "application/vnd.google.colaboratory.intrinsic+json": {
              "type": "string"
            },
            "text/plain": [
              "'Python Introduction'"
            ]
          },
          "metadata": {
            "tags": []
          },
          "execution_count": 31
        }
      ]
    },
    {
      "cell_type": "markdown",
      "metadata": {
        "id": "rmqVrdqfVpEu"
      },
      "source": [
        "<font color='red'> Difference between ' '  and  \" \"</font>\n"
      ]
    },
    {
      "cell_type": "code",
      "metadata": {
        "id": "EAd9QbugVlbb",
        "outputId": "ecdfe335-06b6-48d8-9649-d656331d85b4",
        "colab": {
          "base_uri": "https://localhost:8080/",
          "height": 128
        }
      },
      "source": [
        "'This won't work with a single-quoted string!'\n"
      ],
      "execution_count": null,
      "outputs": [
        {
          "output_type": "error",
          "ename": "SyntaxError",
          "evalue": "ignored",
          "traceback": [
            "\u001b[0;36m  File \u001b[0;32m\"<ipython-input-32-a88b5655bfa9>\"\u001b[0;36m, line \u001b[0;32m1\u001b[0m\n\u001b[0;31m    'This won't work with a single-quoted string!'\u001b[0m\n\u001b[0m              ^\u001b[0m\n\u001b[0;31mSyntaxError\u001b[0m\u001b[0;31m:\u001b[0m invalid syntax\n"
          ]
        }
      ]
    },
    {
      "cell_type": "code",
      "metadata": {
        "id": "7OInnbFfUZlX",
        "outputId": "b6bddb5d-1bdf-458a-fc50-78240927e9f4",
        "colab": {
          "base_uri": "https://localhost:8080/",
          "height": 35
        }
      },
      "source": [
        "\"This won't work with a single-quoted string!\"\n"
      ],
      "execution_count": null,
      "outputs": [
        {
          "output_type": "execute_result",
          "data": {
            "application/vnd.google.colaboratory.intrinsic+json": {
              "type": "string"
            },
            "text/plain": [
              "\"This won't work with a single-quoted string!\""
            ]
          },
          "metadata": {
            "tags": []
          },
          "execution_count": 33
        }
      ]
    },
    {
      "cell_type": "code",
      "metadata": {
        "id": "kjnbEOFLUah_",
        "outputId": "fe9831e1-a05f-4265-f541-53ae9f45b024",
        "colab": {
          "base_uri": "https://localhost:8080/",
          "height": 35
        }
      },
      "source": [
        "\"That's \" + str(1 + 1) + ' ' + str(True)\n"
      ],
      "execution_count": null,
      "outputs": [
        {
          "output_type": "execute_result",
          "data": {
            "application/vnd.google.colaboratory.intrinsic+json": {
              "type": "string"
            },
            "text/plain": [
              "\"That's 2 True\""
            ]
          },
          "metadata": {
            "tags": []
          },
          "execution_count": 34
        }
      ]
    },
    {
      "cell_type": "code",
      "metadata": {
        "id": "CGJn196Uk-r5",
        "outputId": "c542793c-de72-4bb4-8aef-ae2a868e53f2",
        "colab": {
          "base_uri": "https://localhost:8080/",
          "height": 162
        }
      },
      "source": [
        "\"That's \" + 2 + ' ' + str(True)\n"
      ],
      "execution_count": null,
      "outputs": [
        {
          "output_type": "error",
          "ename": "TypeError",
          "evalue": "ignored",
          "traceback": [
            "\u001b[0;31m---------------------------------------------------------------------------\u001b[0m",
            "\u001b[0;31mTypeError\u001b[0m                                 Traceback (most recent call last)",
            "\u001b[0;32m<ipython-input-35-40da3d63f962>\u001b[0m in \u001b[0;36m<module>\u001b[0;34m()\u001b[0m\n\u001b[0;32m----> 1\u001b[0;31m \u001b[0;34m\"That's \"\u001b[0m \u001b[0;34m+\u001b[0m \u001b[0;36m2\u001b[0m \u001b[0;34m+\u001b[0m \u001b[0;34m' '\u001b[0m \u001b[0;34m+\u001b[0m \u001b[0mstr\u001b[0m\u001b[0;34m(\u001b[0m\u001b[0;32mTrue\u001b[0m\u001b[0;34m)\u001b[0m\u001b[0;34m\u001b[0m\u001b[0;34m\u001b[0m\u001b[0m\n\u001b[0m",
            "\u001b[0;31mTypeError\u001b[0m: must be str, not int"
          ]
        }
      ]
    },
    {
      "cell_type": "code",
      "metadata": {
        "id": "MPc65fLrlhJJ",
        "outputId": "ab14c3c3-96df-4c6b-e807-208ece61307e",
        "colab": {
          "base_uri": "https://localhost:8080/",
          "height": 35
        }
      },
      "source": [
        "'This won\\'t print'"
      ],
      "execution_count": null,
      "outputs": [
        {
          "output_type": "execute_result",
          "data": {
            "application/vnd.google.colaboratory.intrinsic+json": {
              "type": "string"
            },
            "text/plain": [
              "\"This won't print\""
            ]
          },
          "metadata": {
            "tags": []
          },
          "execution_count": 38
        }
      ]
    },
    {
      "cell_type": "code",
      "metadata": {
        "id": "2etPO-gXlBr2",
        "outputId": "8bbfaa1e-14b1-434a-b674-0e208fe3275d",
        "colab": {
          "base_uri": "https://localhost:8080/",
          "height": 162
        }
      },
      "source": [
        "print(2+' ')"
      ],
      "execution_count": null,
      "outputs": [
        {
          "output_type": "error",
          "ename": "TypeError",
          "evalue": "ignored",
          "traceback": [
            "\u001b[0;31m---------------------------------------------------------------------------\u001b[0m",
            "\u001b[0;31mTypeError\u001b[0m                                 Traceback (most recent call last)",
            "\u001b[0;32m<ipython-input-37-c36e1ccb501b>\u001b[0m in \u001b[0;36m<module>\u001b[0;34m()\u001b[0m\n\u001b[0;32m----> 1\u001b[0;31m \u001b[0mprint\u001b[0m\u001b[0;34m(\u001b[0m\u001b[0;36m2\u001b[0m\u001b[0;34m+\u001b[0m\u001b[0;34m' '\u001b[0m\u001b[0;34m)\u001b[0m\u001b[0;34m\u001b[0m\u001b[0;34m\u001b[0m\u001b[0m\n\u001b[0m",
            "\u001b[0;31mTypeError\u001b[0m: unsupported operand type(s) for +: 'int' and 'str'"
          ]
        }
      ]
    },
    {
      "cell_type": "code",
      "metadata": {
        "id": "etKQKiKaPAEy",
        "outputId": "06f14c8e-cc4d-49d3-eb6a-43a4e647b145",
        "colab": {
          "base_uri": "https://localhost:8080/",
          "height": 34
        }
      },
      "source": [
        "print(str('ten'))"
      ],
      "execution_count": null,
      "outputs": [
        {
          "output_type": "stream",
          "text": [
            "ten\n"
          ],
          "name": "stdout"
        }
      ]
    },
    {
      "cell_type": "code",
      "metadata": {
        "id": "0Nyt4ph8mN2q",
        "outputId": "e353a355-b4b9-4f3e-bc60-b7da725b2beb",
        "colab": {
          "base_uri": "https://localhost:8080/",
          "height": 35
        }
      },
      "source": [
        "str('ten')"
      ],
      "execution_count": null,
      "outputs": [
        {
          "output_type": "execute_result",
          "data": {
            "application/vnd.google.colaboratory.intrinsic+json": {
              "type": "string"
            },
            "text/plain": [
              "'ten'"
            ]
          },
          "metadata": {
            "tags": []
          },
          "execution_count": 44
        }
      ]
    },
    {
      "cell_type": "markdown",
      "metadata": {
        "id": "6QtSjE4fUNBw"
      },
      "source": [
        "# <font color='33D8FF'>Functions</font>"
      ]
    },
    {
      "cell_type": "markdown",
      "metadata": {
        "id": "c_q4OQpubvU2"
      },
      "source": [
        "<font color='green'>Numbers</font>\n"
      ]
    },
    {
      "cell_type": "code",
      "metadata": {
        "id": "d1wfc8cJWjXu",
        "outputId": "e998e63d-5015-4953-d6f3-d054487d8bc5",
        "colab": {
          "base_uri": "https://localhost:8080/",
          "height": 34
        }
      },
      "source": [
        "abs(-20)\n"
      ],
      "execution_count": null,
      "outputs": [
        {
          "output_type": "execute_result",
          "data": {
            "text/plain": [
              "20"
            ]
          },
          "metadata": {
            "tags": []
          },
          "execution_count": 46
        }
      ]
    },
    {
      "cell_type": "code",
      "metadata": {
        "id": "QiQa8vAIZB9O",
        "outputId": "d6d73370-f3ac-4b89-fde8-d9c006ed1756",
        "colab": {
          "base_uri": "https://localhost:8080/",
          "height": 34
        }
      },
      "source": [
        "round(10 - 2.7)"
      ],
      "execution_count": null,
      "outputs": [
        {
          "output_type": "execute_result",
          "data": {
            "text/plain": [
              "7"
            ]
          },
          "metadata": {
            "tags": []
          },
          "execution_count": 47
        }
      ]
    },
    {
      "cell_type": "code",
      "metadata": {
        "id": "eITXxYSKZHk2",
        "outputId": "e92dd71c-985f-4bbb-b2f6-566af86d4980",
        "colab": {
          "base_uri": "https://localhost:8080/",
          "height": 34
        }
      },
      "source": [
        "max(25, 5 + 10, 10)"
      ],
      "execution_count": null,
      "outputs": [
        {
          "output_type": "execute_result",
          "data": {
            "text/plain": [
              "25"
            ]
          },
          "metadata": {
            "tags": []
          },
          "execution_count": 48
        }
      ]
    },
    {
      "cell_type": "code",
      "metadata": {
        "id": "S0Rk8WN3sZdi",
        "outputId": "ac729adf-766a-405d-dd8f-eaa159c75edf",
        "colab": {
          "base_uri": "https://localhost:8080/",
          "height": 34
        }
      },
      "source": [
        "max(5,min(10,15),8)"
      ],
      "execution_count": null,
      "outputs": [
        {
          "output_type": "execute_result",
          "data": {
            "text/plain": [
              "10"
            ]
          },
          "metadata": {
            "tags": []
          },
          "execution_count": 49
        }
      ]
    },
    {
      "cell_type": "code",
      "metadata": {
        "id": "n-9l2f0zfcgH",
        "outputId": "be2faaf7-9bb6-43c7-d6c1-f6ce6bd77d3a",
        "colab": {
          "base_uri": "https://localhost:8080/",
          "height": 34
        }
      },
      "source": [
        "10 > 9 + 1"
      ],
      "execution_count": null,
      "outputs": [
        {
          "output_type": "execute_result",
          "data": {
            "text/plain": [
              "False"
            ]
          },
          "metadata": {
            "tags": []
          },
          "execution_count": 51
        }
      ]
    },
    {
      "cell_type": "markdown",
      "metadata": {
        "id": "ZezE8ifdZwBZ"
      },
      "source": [
        "<font color='blue'> Module is a collection of function.\n",
        " An import statement is used to provide access to a module, such as <font color='green'> math </font> or <font color='green'> operator. </font>\n"
      ]
    },
    {
      "cell_type": "code",
      "metadata": {
        "id": "jhRjd6LBZU7v"
      },
      "source": [
        "import math\n",
        "import operator"
      ],
      "execution_count": null,
      "outputs": []
    },
    {
      "cell_type": "code",
      "metadata": {
        "id": "4UcUlMAbarrf",
        "outputId": "0941d161-8b75-46f9-fdf9-6f45bea2d6f2",
        "colab": {
          "base_uri": "https://localhost:8080/",
          "height": 34
        }
      },
      "source": [
        "math.sqrt(operator.add(15, 10))"
      ],
      "execution_count": null,
      "outputs": [
        {
          "output_type": "execute_result",
          "data": {
            "text/plain": [
              "5.0"
            ]
          },
          "metadata": {
            "tags": []
          },
          "execution_count": 53
        }
      ]
    },
    {
      "cell_type": "code",
      "metadata": {
        "id": "Pjn9ScoMbKnS",
        "outputId": "84c3e857-a3fe-4b19-cebf-01fbc2d6943a",
        "colab": {
          "base_uri": "https://localhost:8080/",
          "height": 34
        }
      },
      "source": [
        "(15+10) ** 0.5\n"
      ],
      "execution_count": null,
      "outputs": [
        {
          "output_type": "execute_result",
          "data": {
            "text/plain": [
              "5.0"
            ]
          },
          "metadata": {
            "tags": []
          },
          "execution_count": 54
        }
      ]
    },
    {
      "cell_type": "code",
      "metadata": {
        "id": "sdkfuheHbYqC",
        "outputId": "77a7ea1a-5909-4b4e-d114-881e98bfee36",
        "colab": {
          "base_uri": "https://localhost:8080/",
          "height": 34
        }
      },
      "source": [
        "math.log(64, 2)"
      ],
      "execution_count": null,
      "outputs": [
        {
          "output_type": "execute_result",
          "data": {
            "text/plain": [
              "6.0"
            ]
          },
          "metadata": {
            "tags": []
          },
          "execution_count": 55
        }
      ]
    },
    {
      "cell_type": "code",
      "metadata": {
        "id": "jDyKOPGsbdX8",
        "outputId": "334faba4-9f5a-4b15-f1ba-0a2a95e1735a",
        "colab": {
          "base_uri": "https://localhost:8080/",
          "height": 34
        }
      },
      "source": [
        "math.log(64)/math.log(2)\n",
        "\n"
      ],
      "execution_count": null,
      "outputs": [
        {
          "output_type": "execute_result",
          "data": {
            "text/plain": [
              "6.0"
            ]
          },
          "metadata": {
            "tags": []
          },
          "execution_count": 56
        }
      ]
    },
    {
      "cell_type": "code",
      "metadata": {
        "id": "QDa_HmkEAL_O",
        "outputId": "e6730d46-6e31-423e-bca5-3eebd9d843ee",
        "colab": {
          "base_uri": "https://localhost:8080/",
          "height": 34
        }
      },
      "source": [
        "bool(3.1415)\n"
      ],
      "execution_count": null,
      "outputs": [
        {
          "output_type": "execute_result",
          "data": {
            "text/plain": [
              "True"
            ]
          },
          "metadata": {
            "tags": []
          },
          "execution_count": 57
        }
      ]
    },
    {
      "cell_type": "code",
      "metadata": {
        "id": "RvSIwL-eAM4x",
        "outputId": "05f23ac0-37f5-445f-fe8e-16735df92342",
        "colab": {
          "base_uri": "https://localhost:8080/",
          "height": 34
        }
      },
      "source": [
        "bool(0)"
      ],
      "execution_count": null,
      "outputs": [
        {
          "output_type": "execute_result",
          "data": {
            "text/plain": [
              "False"
            ]
          },
          "metadata": {
            "tags": []
          },
          "execution_count": 58
        }
      ]
    },
    {
      "cell_type": "markdown",
      "metadata": {
        "id": "a8Dgw5Ckby9g"
      },
      "source": [
        "<font color='blue'>String</font>\n"
      ]
    },
    {
      "cell_type": "code",
      "metadata": {
        "id": "gk14eJ_qbiGI",
        "outputId": "13713b5d-aeed-4c2a-a3ba-93c2f8bea63a",
        "colab": {
          "base_uri": "https://localhost:8080/",
          "height": 35
        }
      },
      "source": [
        "max('Data','Science')"
      ],
      "execution_count": null,
      "outputs": [
        {
          "output_type": "execute_result",
          "data": {
            "application/vnd.google.colaboratory.intrinsic+json": {
              "type": "string"
            },
            "text/plain": [
              "'Science'"
            ]
          },
          "metadata": {
            "tags": []
          },
          "execution_count": 59
        }
      ]
    },
    {
      "cell_type": "code",
      "metadata": {
        "id": "KEJjbCp7s8Rm",
        "outputId": "fb99f868-25b9-43fe-ced1-327a6cc79369",
        "colab": {
          "base_uri": "https://localhost:8080/",
          "height": 35
        }
      },
      "source": [
        "max('AA','B')"
      ],
      "execution_count": null,
      "outputs": [
        {
          "output_type": "execute_result",
          "data": {
            "application/vnd.google.colaboratory.intrinsic+json": {
              "type": "string"
            },
            "text/plain": [
              "'B'"
            ]
          },
          "metadata": {
            "tags": []
          },
          "execution_count": 60
        }
      ]
    },
    {
      "cell_type": "code",
      "metadata": {
        "id": "1Zmmn0gFSNu_",
        "outputId": "d34d19bb-cac7-4a0e-8101-1034069f6a99",
        "colab": {
          "base_uri": "https://localhost:8080/",
          "height": 34
        }
      },
      "source": [
        "len('Data')"
      ],
      "execution_count": null,
      "outputs": [
        {
          "output_type": "execute_result",
          "data": {
            "text/plain": [
              "4"
            ]
          },
          "metadata": {
            "tags": []
          },
          "execution_count": 61
        }
      ]
    },
    {
      "cell_type": "code",
      "metadata": {
        "id": "nCbF887HcBC6",
        "outputId": "09b103c1-d265-4aec-919b-497e76f27358",
        "colab": {
          "base_uri": "https://localhost:8080/",
          "height": 35
        }
      },
      "source": [
        "\"data\".upper()\n"
      ],
      "execution_count": null,
      "outputs": [
        {
          "output_type": "execute_result",
          "data": {
            "application/vnd.google.colaboratory.intrinsic+json": {
              "type": "string"
            },
            "text/plain": [
              "'DATA'"
            ]
          },
          "metadata": {
            "tags": []
          },
          "execution_count": 62
        }
      ]
    },
    {
      "cell_type": "code",
      "metadata": {
        "id": "xWH_1ehBcKS1",
        "outputId": "630d06e3-8b88-4434-c490-b737564eadda",
        "colab": {
          "base_uri": "https://localhost:8080/",
          "height": 35
        }
      },
      "source": [
        "'AetaScience'.replace('Ae', 'Da')\n"
      ],
      "execution_count": null,
      "outputs": [
        {
          "output_type": "execute_result",
          "data": {
            "application/vnd.google.colaboratory.intrinsic+json": {
              "type": "string"
            },
            "text/plain": [
              "'DataScience'"
            ]
          },
          "metadata": {
            "tags": []
          },
          "execution_count": 63
        }
      ]
    },
    {
      "cell_type": "code",
      "metadata": {
        "id": "OKPwtYhecZ9f",
        "outputId": "a6eae04e-317e-4a87-f529-58812d7ff5af",
        "colab": {
          "base_uri": "https://localhost:8080/",
          "height": 35
        }
      },
      "source": [
        "'AetaScience'.replace('ae', 'Da')\n"
      ],
      "execution_count": null,
      "outputs": [
        {
          "output_type": "execute_result",
          "data": {
            "application/vnd.google.colaboratory.intrinsic+json": {
              "type": "string"
            },
            "text/plain": [
              "'AetaScience'"
            ]
          },
          "metadata": {
            "tags": []
          },
          "execution_count": 64
        }
      ]
    },
    {
      "cell_type": "code",
      "metadata": {
        "id": "drjxLR3ZccP6",
        "outputId": "858df93a-9280-47e7-e682-cd713bce53fa",
        "colab": {
          "base_uri": "https://localhost:8080/",
          "height": 35
        }
      },
      "source": [
        "'AetaScience'.lower().replace('ae', 'Da')\n"
      ],
      "execution_count": null,
      "outputs": [
        {
          "output_type": "execute_result",
          "data": {
            "application/vnd.google.colaboratory.intrinsic+json": {
              "type": "string"
            },
            "text/plain": [
              "'Datascience'"
            ]
          },
          "metadata": {
            "tags": []
          },
          "execution_count": 65
        }
      ]
    },
    {
      "cell_type": "markdown",
      "metadata": {
        "id": "T3MvhY4QgKeC"
      },
      "source": [
        "<font color='red'>Strings can also be compared, and their order is alphabetical. A shorter string is less than a longer string that begins with the shorter string.</font>\n"
      ]
    },
    {
      "cell_type": "code",
      "metadata": {
        "id": "2Kbd4r4pfgDC",
        "outputId": "61102f94-4159-455a-de30-4e9fe3f8673d",
        "colab": {
          "base_uri": "https://localhost:8080/",
          "height": 34
        }
      },
      "source": [
        "'Data' < 'Science' < 'Data Science'"
      ],
      "execution_count": null,
      "outputs": [
        {
          "output_type": "execute_result",
          "data": {
            "text/plain": [
              "False"
            ]
          },
          "metadata": {
            "tags": []
          },
          "execution_count": 66
        }
      ]
    },
    {
      "cell_type": "code",
      "metadata": {
        "id": "Uzcs7b1ff0ab",
        "outputId": "64e58739-3067-4cec-842e-4ecaa47c28c3",
        "colab": {
          "base_uri": "https://localhost:8080/",
          "height": 34
        }
      },
      "source": [
        "'Data' <  'Data Science' < 'Science' "
      ],
      "execution_count": null,
      "outputs": [
        {
          "output_type": "execute_result",
          "data": {
            "text/plain": [
              "True"
            ]
          },
          "metadata": {
            "tags": []
          },
          "execution_count": 67
        }
      ]
    },
    {
      "cell_type": "code",
      "metadata": {
        "id": "0bqyL1TJAPH_",
        "outputId": "649e8838-d552-4aa9-f047-f8195df9d3e2",
        "colab": {
          "base_uri": "https://localhost:8080/",
          "height": 34
        }
      },
      "source": [
        "bool('')"
      ],
      "execution_count": null,
      "outputs": [
        {
          "output_type": "execute_result",
          "data": {
            "text/plain": [
              "False"
            ]
          },
          "metadata": {
            "tags": []
          },
          "execution_count": 68
        }
      ]
    },
    {
      "cell_type": "code",
      "metadata": {
        "id": "wnM4fd2AARz2",
        "outputId": "ddcddbf2-75ad-4ed5-c993-27a21180a63d",
        "colab": {
          "base_uri": "https://localhost:8080/",
          "height": 34
        }
      },
      "source": [
        "bool('Data')"
      ],
      "execution_count": null,
      "outputs": [
        {
          "output_type": "execute_result",
          "data": {
            "text/plain": [
              "True"
            ]
          },
          "metadata": {
            "tags": []
          },
          "execution_count": 69
        }
      ]
    },
    {
      "cell_type": "markdown",
      "metadata": {
        "id": "npLn6Tfkcw37"
      },
      "source": [
        "# <font color='33D8FF'>Type</font>"
      ]
    },
    {
      "cell_type": "code",
      "metadata": {
        "id": "hEojGwe9c3Z1",
        "outputId": "956c78c0-14b0-474d-8026-447e542a72f2",
        "colab": {
          "base_uri": "https://localhost:8080/",
          "height": 34
        }
      },
      "source": [
        "type(max)"
      ],
      "execution_count": null,
      "outputs": [
        {
          "output_type": "execute_result",
          "data": {
            "text/plain": [
              "builtin_function_or_method"
            ]
          },
          "metadata": {
            "tags": []
          },
          "execution_count": 70
        }
      ]
    },
    {
      "cell_type": "code",
      "metadata": {
        "id": "-DbhVYipc5FK",
        "outputId": "5d16a7b4-bcc5-4b22-c15c-2c251b563eab",
        "colab": {
          "base_uri": "https://localhost:8080/",
          "height": 34
        }
      },
      "source": [
        "type('Data')"
      ],
      "execution_count": null,
      "outputs": [
        {
          "output_type": "execute_result",
          "data": {
            "text/plain": [
              "str"
            ]
          },
          "metadata": {
            "tags": []
          },
          "execution_count": 71
        }
      ]
    },
    {
      "cell_type": "code",
      "metadata": {
        "id": "ta3rpLP1c6-P",
        "outputId": "0db94ef3-9caa-479b-92bb-81161147b733",
        "colab": {
          "base_uri": "https://localhost:8080/",
          "height": 34
        }
      },
      "source": [
        "type(10)"
      ],
      "execution_count": null,
      "outputs": [
        {
          "output_type": "execute_result",
          "data": {
            "text/plain": [
              "int"
            ]
          },
          "metadata": {
            "tags": []
          },
          "execution_count": 72
        }
      ]
    },
    {
      "cell_type": "code",
      "metadata": {
        "id": "yejc61uyc8hz",
        "outputId": "e983d579-3bfa-4aa6-c3b6-bd0c6f4521a7",
        "colab": {
          "base_uri": "https://localhost:8080/",
          "height": 34
        }
      },
      "source": [
        "a = 10.0\n",
        "type(a)"
      ],
      "execution_count": null,
      "outputs": [
        {
          "output_type": "execute_result",
          "data": {
            "text/plain": [
              "float"
            ]
          },
          "metadata": {
            "tags": []
          },
          "execution_count": 73
        }
      ]
    },
    {
      "cell_type": "code",
      "metadata": {
        "id": "j-fWAyFPAYcr",
        "outputId": "9a9afeb8-e697-40b8-8e15-39c32406e9f3",
        "colab": {
          "base_uri": "https://localhost:8080/",
          "height": 34
        }
      },
      "source": [
        "type(None)\n"
      ],
      "execution_count": null,
      "outputs": [
        {
          "output_type": "execute_result",
          "data": {
            "text/plain": [
              "NoneType"
            ]
          },
          "metadata": {
            "tags": []
          },
          "execution_count": 74
        }
      ]
    },
    {
      "cell_type": "markdown",
      "metadata": {
        "id": "t3XZXUR3hk4c"
      },
      "source": [
        "# <font color='33D8FF'>Sequences</font>"
      ]
    },
    {
      "cell_type": "code",
      "metadata": {
        "id": "PWCaBCm2hp9Y",
        "outputId": "9c9b83e4-2557-4dd8-ba83-f16cd80e81b3",
        "colab": {
          "base_uri": "https://localhost:8080/",
          "height": 34
        }
      },
      "source": [
        "import numpy as np\n",
        "\n",
        "baseline_temp = 14.48\n",
        "temperatures = np.array([baseline_temp - 0.880, baseline_temp - 0.093,\n",
        "                   baseline_temp + 0.105, baseline_temp + 0.684])\n",
        "temperatures"
      ],
      "execution_count": null,
      "outputs": [
        {
          "output_type": "execute_result",
          "data": {
            "text/plain": [
              "array([13.6  , 14.387, 14.585, 15.164])"
            ]
          },
          "metadata": {
            "tags": []
          },
          "execution_count": 1
        }
      ]
    },
    {
      "cell_type": "code",
      "metadata": {
        "id": "QqVkkuSFjpt5",
        "outputId": "15945187-7eb9-4114-ede3-c79925687135",
        "colab": {
          "base_uri": "https://localhost:8080/",
          "height": 34
        }
      },
      "source": [
        "type(temperatures)"
      ],
      "execution_count": null,
      "outputs": [
        {
          "output_type": "execute_result",
          "data": {
            "text/plain": [
              "numpy.ndarray"
            ]
          },
          "metadata": {
            "tags": []
          },
          "execution_count": 2
        }
      ]
    },
    {
      "cell_type": "code",
      "metadata": {
        "id": "NnErIU6GhueD",
        "outputId": "36dabac0-fb99-42e9-860e-d775f387984d",
        "colab": {
          "base_uri": "https://localhost:8080/",
          "height": 34
        }
      },
      "source": [
        "temperatures = [baseline_temp - 0.880, baseline_temp - 0.093,\n",
        "                   baseline_temp + 0.105, baseline_temp + 0.684]\n",
        "temperatures\n",
        "  "
      ],
      "execution_count": null,
      "outputs": [
        {
          "output_type": "execute_result",
          "data": {
            "text/plain": [
              "[13.6, 14.387, 14.585, 15.164]"
            ]
          },
          "metadata": {
            "tags": []
          },
          "execution_count": 77
        }
      ]
    },
    {
      "cell_type": "code",
      "metadata": {
        "id": "nOMVcp6XjiRs",
        "outputId": "6b7ecba0-8677-4636-8543-b3f77a8a4d6a",
        "colab": {
          "base_uri": "https://localhost:8080/",
          "height": 34
        }
      },
      "source": [
        "type(temperatures)"
      ],
      "execution_count": null,
      "outputs": [
        {
          "output_type": "execute_result",
          "data": {
            "text/plain": [
              "list"
            ]
          },
          "metadata": {
            "tags": []
          },
          "execution_count": 78
        }
      ]
    },
    {
      "cell_type": "code",
      "metadata": {
        "id": "Abp-xB8sjIVA",
        "outputId": "46f3078f-504f-47fa-a601-19532334fdeb",
        "colab": {
          "base_uri": "https://localhost:8080/",
          "height": 34
        }
      },
      "source": [
        "import numpy as np\n",
        "temperatures = np.array([baseline_temp - 0.880, baseline_temp - 0.093,\n",
        "                   baseline_temp + 0.105, baseline_temp + 0.684])\n",
        "temperatures\n"
      ],
      "execution_count": null,
      "outputs": [
        {
          "output_type": "execute_result",
          "data": {
            "text/plain": [
              "array([13.6  , 14.387, 14.585, 15.164])"
            ]
          },
          "metadata": {
            "tags": []
          },
          "execution_count": 79
        }
      ]
    },
    {
      "cell_type": "code",
      "metadata": {
        "id": "YGEFW_dkjgdS",
        "outputId": "a63e7a76-106b-4170-beea-1b909586b42d",
        "colab": {
          "base_uri": "https://localhost:8080/",
          "height": 34
        }
      },
      "source": [
        "type(temperatures)"
      ],
      "execution_count": null,
      "outputs": [
        {
          "output_type": "execute_result",
          "data": {
            "text/plain": [
              "numpy.ndarray"
            ]
          },
          "metadata": {
            "tags": []
          },
          "execution_count": 80
        }
      ]
    },
    {
      "cell_type": "markdown",
      "metadata": {
        "id": "BCeQS8O1m3ao"
      },
      "source": [
        "![image.png](data:image/png;base64,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)"
      ]
    },
    {
      "cell_type": "code",
      "metadata": {
        "id": "XXtPpZa5juXB",
        "outputId": "ab30743e-9fe7-481e-9bff-fd5788111bdd",
        "colab": {
          "base_uri": "https://localhost:8080/",
          "height": 34
        }
      },
      "source": [
        "temperatures_Fahrenheit = (9/5) * temperatures + 32\n",
        "temperatures_Fahrenheit"
      ],
      "execution_count": null,
      "outputs": [
        {
          "output_type": "execute_result",
          "data": {
            "text/plain": [
              "array([56.48  , 57.8966, 58.253 , 59.2952])"
            ]
          },
          "metadata": {
            "tags": []
          },
          "execution_count": 81
        }
      ]
    },
    {
      "cell_type": "code",
      "metadata": {
        "id": "6VweZJGbm1CI",
        "outputId": "53526cc8-2166-467a-fa79-f9a34bfd4efc",
        "colab": {
          "base_uri": "https://localhost:8080/",
          "height": 34
        }
      },
      "source": [
        "np.arange(5)"
      ],
      "execution_count": null,
      "outputs": [
        {
          "output_type": "execute_result",
          "data": {
            "text/plain": [
              "array([0, 1, 2, 3, 4])"
            ]
          },
          "metadata": {
            "tags": []
          },
          "execution_count": 82
        }
      ]
    },
    {
      "cell_type": "code",
      "metadata": {
        "id": "uuO2kyDOuwbr",
        "outputId": "3493d3a6-f89e-4044-8e64-235ea51cebaf",
        "colab": {
          "base_uri": "https://localhost:8080/",
          "height": 34
        }
      },
      "source": [
        "array = []\n",
        "for i in range(5):\n",
        "  array.append(i)\n",
        "\n",
        "array\n",
        "  "
      ],
      "execution_count": null,
      "outputs": [
        {
          "output_type": "execute_result",
          "data": {
            "text/plain": [
              "[0, 1, 2, 3, 4]"
            ]
          },
          "metadata": {
            "tags": []
          },
          "execution_count": 83
        }
      ]
    },
    {
      "cell_type": "code",
      "metadata": {
        "id": "ZOf1-gPxnRQ0",
        "outputId": "64bd8d78-f7db-4643-e89f-bdf80498fa8d",
        "colab": {
          "base_uri": "https://localhost:8080/",
          "height": 34
        }
      },
      "source": [
        "np.arange(1,10)"
      ],
      "execution_count": null,
      "outputs": [
        {
          "output_type": "execute_result",
          "data": {
            "text/plain": [
              "array([1, 2, 3, 4, 5, 6, 7, 8, 9])"
            ]
          },
          "metadata": {
            "tags": []
          },
          "execution_count": 84
        }
      ]
    },
    {
      "cell_type": "code",
      "metadata": {
        "id": "AEG6iT3UnTLq",
        "outputId": "db7c8474-a400-4e5d-adc8-da4eb824c67f",
        "colab": {
          "base_uri": "https://localhost:8080/",
          "height": 34
        }
      },
      "source": [
        "np.arange(0, 30, 5)\n"
      ],
      "execution_count": null,
      "outputs": [
        {
          "output_type": "execute_result",
          "data": {
            "text/plain": [
              "array([ 0,  5, 10, 15, 20, 25])"
            ]
          },
          "metadata": {
            "tags": []
          },
          "execution_count": 85
        }
      ]
    },
    {
      "cell_type": "code",
      "metadata": {
        "id": "aM_iDrHundRj",
        "outputId": "180c07fe-cce3-4182-9929-d29b2b0c724b",
        "colab": {
          "base_uri": "https://localhost:8080/",
          "height": 34
        }
      },
      "source": [
        "np.arange(0, 31, 5)\n"
      ],
      "execution_count": null,
      "outputs": [
        {
          "output_type": "execute_result",
          "data": {
            "text/plain": [
              "array([ 0,  5, 10, 15, 20, 25, 30])"
            ]
          },
          "metadata": {
            "tags": []
          },
          "execution_count": 86
        }
      ]
    },
    {
      "cell_type": "markdown",
      "metadata": {
        "id": "932TQ0I69Yk_"
      },
      "source": [
        "# <font color='33D8FF'>Data Structure </font>\n",
        "![image.png](data:image/png;base64,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)"
      ]
    },
    {
      "cell_type": "markdown",
      "metadata": {
        "id": "V43vw62jGUWU"
      },
      "source": [
        "<font color =\"green\"> List </font>"
      ]
    },
    {
      "cell_type": "code",
      "metadata": {
        "id": "-L1DlicM9XyD",
        "outputId": "ad0dc828-9f2b-4e17-a377-df4bfea82262",
        "colab": {
          "base_uri": "https://localhost:8080/",
          "height": 34
        }
      },
      "source": [
        "L = []\n",
        "for i in range(10):\n",
        "  L.append(i)\n",
        "\n",
        "L"
      ],
      "execution_count": null,
      "outputs": [
        {
          "output_type": "execute_result",
          "data": {
            "text/plain": [
              "[0, 1, 2, 3, 4, 5, 6, 7, 8, 9]"
            ]
          },
          "metadata": {
            "tags": []
          },
          "execution_count": 104
        }
      ]
    },
    {
      "cell_type": "code",
      "metadata": {
        "id": "cuS4q9sw9lPh",
        "outputId": "0827900c-49c8-4395-ab7c-0c16ae9bca5e",
        "colab": {
          "base_uri": "https://localhost:8080/",
          "height": 34
        }
      },
      "source": [
        "L = []\n",
        "for i in range(0,10,2):\n",
        "  L.append(i)\n",
        "\n",
        "L"
      ],
      "execution_count": null,
      "outputs": [
        {
          "output_type": "execute_result",
          "data": {
            "text/plain": [
              "[0, 2, 4, 6, 8]"
            ]
          },
          "metadata": {
            "tags": []
          },
          "execution_count": 105
        }
      ]
    },
    {
      "cell_type": "code",
      "metadata": {
        "id": "sObklbUu9qur",
        "outputId": "a5da027f-1a74-4e02-c545-f1b1be60c802",
        "colab": {
          "base_uri": "https://localhost:8080/",
          "height": 34
        }
      },
      "source": [
        "L = [i for i in range(10)]\n",
        "L"
      ],
      "execution_count": null,
      "outputs": [
        {
          "output_type": "execute_result",
          "data": {
            "text/plain": [
              "[0, 1, 2, 3, 4, 5, 6, 7, 8, 9]"
            ]
          },
          "metadata": {
            "tags": []
          },
          "execution_count": 106
        }
      ]
    },
    {
      "cell_type": "code",
      "metadata": {
        "id": "AO9ev56evc5E",
        "outputId": "9c96c14d-d775-4dd9-827d-bfecfdb475a7",
        "colab": {
          "base_uri": "https://localhost:8080/",
          "height": 34
        }
      },
      "source": [
        "L = [i ** 2 for i in range(10)]\n",
        "L"
      ],
      "execution_count": null,
      "outputs": [
        {
          "output_type": "execute_result",
          "data": {
            "text/plain": [
              "[0, 1, 4, 9, 16, 25, 36, 49, 64, 81]"
            ]
          },
          "metadata": {
            "tags": []
          },
          "execution_count": 107
        }
      ]
    },
    {
      "cell_type": "code",
      "metadata": {
        "id": "emcSQYLK-Jff",
        "outputId": "ee899805-a8cf-44f1-8f14-d329836f18f2",
        "colab": {
          "base_uri": "https://localhost:8080/",
          "height": 34
        }
      },
      "source": [
        "lists = [[1,2],[5,6],[8,9]]\n",
        "L = []\n",
        "for list in lists:\n",
        "  L.append(list) #[1,2],[5,6]...\n",
        "\n",
        "print(L)\n"
      ],
      "execution_count": null,
      "outputs": [
        {
          "output_type": "stream",
          "text": [
            "[[1, 2], [5, 6], [8, 9]]\n"
          ],
          "name": "stdout"
        }
      ]
    },
    {
      "cell_type": "code",
      "metadata": {
        "id": "fGIcT4Y5-fWN",
        "outputId": "703cc433-d978-4d38-9628-a1852242cc3b",
        "colab": {
          "base_uri": "https://localhost:8080/",
          "height": 34
        }
      },
      "source": [
        "lists = [[1,2],[5,6],[8,9]]\n",
        "L = []\n",
        "for list in lists:\n",
        "  L.extend(list)\n",
        "  # [1,2,3,...]  -> 1,2,3,....\n",
        "\n",
        "print(L)\n"
      ],
      "execution_count": null,
      "outputs": [
        {
          "output_type": "stream",
          "text": [
            "[1, 2, 5, 6, 8, 9]\n"
          ],
          "name": "stdout"
        }
      ]
    },
    {
      "cell_type": "code",
      "metadata": {
        "id": "ZpfaVBru_ssp",
        "outputId": "7126f488-a487-45a2-a2ba-9360353e0896",
        "colab": {
          "base_uri": "https://localhost:8080/",
          "height": 34
        }
      },
      "source": [
        "type(L)"
      ],
      "execution_count": null,
      "outputs": [
        {
          "output_type": "execute_result",
          "data": {
            "text/plain": [
              "list"
            ]
          },
          "metadata": {
            "tags": []
          },
          "execution_count": 110
        }
      ]
    },
    {
      "cell_type": "code",
      "metadata": {
        "id": "Q6FXA6FD_uoL",
        "outputId": "399729bf-3998-410f-87f9-1a604d9817aa",
        "colab": {
          "base_uri": "https://localhost:8080/",
          "height": 34
        }
      },
      "source": [
        "1 in [1, 2, 3]"
      ],
      "execution_count": null,
      "outputs": [
        {
          "output_type": "execute_result",
          "data": {
            "text/plain": [
              "True"
            ]
          },
          "metadata": {
            "tags": []
          },
          "execution_count": 111
        }
      ]
    },
    {
      "cell_type": "code",
      "metadata": {
        "id": "JsQvaQ4TwJaC",
        "outputId": "9a28a1ba-b35e-406e-ed21-f5206c503288",
        "colab": {
          "base_uri": "https://localhost:8080/",
          "height": 34
        }
      },
      "source": [
        "pom = [1,2]\n",
        "pom in lists"
      ],
      "execution_count": null,
      "outputs": [
        {
          "output_type": "execute_result",
          "data": {
            "text/plain": [
              "True"
            ]
          },
          "metadata": {
            "tags": []
          },
          "execution_count": 112
        }
      ]
    },
    {
      "cell_type": "code",
      "metadata": {
        "id": "BQZgrOyjB049",
        "outputId": "5b9c22e7-3db0-4b8b-c6ad-0309ad763927",
        "colab": {
          "base_uri": "https://localhost:8080/",
          "height": 34
        }
      },
      "source": [
        "len(L)"
      ],
      "execution_count": null,
      "outputs": [
        {
          "output_type": "execute_result",
          "data": {
            "text/plain": [
              "6"
            ]
          },
          "metadata": {
            "tags": []
          },
          "execution_count": 113
        }
      ]
    },
    {
      "cell_type": "code",
      "metadata": {
        "id": "24L37NxmwQll",
        "outputId": "ed4802c6-07e3-46c9-e2fa-28bb70a8be08",
        "colab": {
          "base_uri": "https://localhost:8080/",
          "height": 34
        }
      },
      "source": [
        "len(lists)"
      ],
      "execution_count": null,
      "outputs": [
        {
          "output_type": "execute_result",
          "data": {
            "text/plain": [
              "3"
            ]
          },
          "metadata": {
            "tags": []
          },
          "execution_count": 114
        }
      ]
    },
    {
      "cell_type": "code",
      "metadata": {
        "id": "LZgfvVeFB2jh",
        "outputId": "4cfc167d-3466-4647-995d-768aa151dd17",
        "colab": {
          "base_uri": "https://localhost:8080/",
          "height": 34
        }
      },
      "source": [
        "L =[2,6,1,5,3,2]\n",
        "L.sort()\n",
        "L"
      ],
      "execution_count": null,
      "outputs": [
        {
          "output_type": "execute_result",
          "data": {
            "text/plain": [
              "[1, 2, 2, 3, 5, 6]"
            ]
          },
          "metadata": {
            "tags": []
          },
          "execution_count": 115
        }
      ]
    },
    {
      "cell_type": "code",
      "metadata": {
        "id": "3f0Pw-rPB-st",
        "outputId": "9567baec-b335-4241-d149-cdd35ede5dc6",
        "colab": {
          "base_uri": "https://localhost:8080/",
          "height": 34
        }
      },
      "source": [
        "L = [ [25,5,10], 5, 'data', 2.5]\n",
        "L"
      ],
      "execution_count": null,
      "outputs": [
        {
          "output_type": "execute_result",
          "data": {
            "text/plain": [
              "[[25, 5, 10], 5, 'data', 2.5]"
            ]
          },
          "metadata": {
            "tags": []
          },
          "execution_count": 116
        }
      ]
    },
    {
      "cell_type": "code",
      "metadata": {
        "id": "Jvh9-UlkD6hz"
      },
      "source": [
        "L = [2,3,5,7,11]"
      ],
      "execution_count": null,
      "outputs": []
    },
    {
      "cell_type": "markdown",
      "metadata": {
        "id": "HaJqy_Db-iup"
      },
      "source": [
        "![image.png](data:image/png;base64,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)"
      ]
    },
    {
      "cell_type": "code",
      "metadata": {
        "id": "vU-BBmTDD1-B",
        "outputId": "1df50ac5-7d1b-41c5-a729-b29e23f1b1f8",
        "colab": {
          "base_uri": "https://localhost:8080/",
          "height": 34
        }
      },
      "source": [
        "L[-1], L[2]"
      ],
      "execution_count": null,
      "outputs": [
        {
          "output_type": "execute_result",
          "data": {
            "text/plain": [
              "(11, 5)"
            ]
          },
          "metadata": {
            "tags": []
          },
          "execution_count": 118
        }
      ]
    },
    {
      "cell_type": "markdown",
      "metadata": {
        "id": "vUxBdV76Goc9"
      },
      "source": [
        "<font color=\"green\"> Tuple </font>"
      ]
    },
    {
      "cell_type": "code",
      "metadata": {
        "id": "2BuOUewIGz0X",
        "outputId": "6c020301-0c77-408d-d653-cf7c512c6f47",
        "colab": {
          "base_uri": "https://localhost:8080/",
          "height": 34
        }
      },
      "source": [
        "t = (1, 2, 3)\n",
        "t"
      ],
      "execution_count": null,
      "outputs": [
        {
          "output_type": "execute_result",
          "data": {
            "text/plain": [
              "(1, 2, 3)"
            ]
          },
          "metadata": {
            "tags": []
          },
          "execution_count": 119
        }
      ]
    },
    {
      "cell_type": "code",
      "metadata": {
        "id": "vk06eAPLG5TS",
        "outputId": "4c25901a-2256-4ab0-91fc-7be65a7d0841",
        "colab": {
          "base_uri": "https://localhost:8080/",
          "height": 34
        }
      },
      "source": [
        "t = 1, 2, 3\n",
        "t"
      ],
      "execution_count": null,
      "outputs": [
        {
          "output_type": "execute_result",
          "data": {
            "text/plain": [
              "(1, 2, 3)"
            ]
          },
          "metadata": {
            "tags": []
          },
          "execution_count": 120
        }
      ]
    },
    {
      "cell_type": "code",
      "metadata": {
        "id": "mVLmOO9NG7ep",
        "outputId": "7da243ff-f574-4c27-cad9-0438fa652f5a",
        "colab": {
          "base_uri": "https://localhost:8080/",
          "height": 34
        }
      },
      "source": [
        "len(t)\n"
      ],
      "execution_count": null,
      "outputs": [
        {
          "output_type": "execute_result",
          "data": {
            "text/plain": [
              "3"
            ]
          },
          "metadata": {
            "tags": []
          },
          "execution_count": 121
        }
      ]
    },
    {
      "cell_type": "code",
      "metadata": {
        "id": "LryFVglWHBNF",
        "outputId": "61ae80cb-bbcf-45a0-834b-1f5e93e91488",
        "colab": {
          "base_uri": "https://localhost:8080/",
          "height": 34
        }
      },
      "source": [
        "t[0]"
      ],
      "execution_count": null,
      "outputs": [
        {
          "output_type": "execute_result",
          "data": {
            "text/plain": [
              "1"
            ]
          },
          "metadata": {
            "tags": []
          },
          "execution_count": 122
        }
      ]
    },
    {
      "cell_type": "markdown",
      "metadata": {
        "id": "sLw_SC8qHHfi"
      },
      "source": [
        "<font color = \"red\">Errors</font>"
      ]
    },
    {
      "cell_type": "code",
      "metadata": {
        "id": "zATPZscbHCqh",
        "outputId": "3f5052f9-8c3e-42b9-f0c3-09f21dedc0e9",
        "colab": {
          "base_uri": "https://localhost:8080/",
          "height": 162
        }
      },
      "source": [
        "t[1] = 4\n"
      ],
      "execution_count": null,
      "outputs": [
        {
          "output_type": "error",
          "ename": "TypeError",
          "evalue": "ignored",
          "traceback": [
            "\u001b[0;31m---------------------------------------------------------------------------\u001b[0m",
            "\u001b[0;31mTypeError\u001b[0m                                 Traceback (most recent call last)",
            "\u001b[0;32m<ipython-input-124-87b0f225887f>\u001b[0m in \u001b[0;36m<module>\u001b[0;34m()\u001b[0m\n\u001b[0;32m----> 1\u001b[0;31m \u001b[0mt\u001b[0m\u001b[0;34m[\u001b[0m\u001b[0;36m1\u001b[0m\u001b[0;34m]\u001b[0m \u001b[0;34m=\u001b[0m \u001b[0;36m4\u001b[0m\u001b[0;34m\u001b[0m\u001b[0;34m\u001b[0m\u001b[0m\n\u001b[0m",
            "\u001b[0;31mTypeError\u001b[0m: 'tuple' object does not support item assignment"
          ]
        }
      ]
    },
    {
      "cell_type": "code",
      "metadata": {
        "id": "EbHC6KgIHFJv",
        "outputId": "89752f1f-471f-40fc-dbf8-758e0411dcfd",
        "colab": {
          "base_uri": "https://localhost:8080/",
          "height": 162
        }
      },
      "source": [
        "t.append(4)\n"
      ],
      "execution_count": null,
      "outputs": [
        {
          "output_type": "error",
          "ename": "AttributeError",
          "evalue": "ignored",
          "traceback": [
            "\u001b[0;31m---------------------------------------------------------------------------\u001b[0m",
            "\u001b[0;31mAttributeError\u001b[0m                            Traceback (most recent call last)",
            "\u001b[0;32m<ipython-input-126-ada7ed8a579e>\u001b[0m in \u001b[0;36m<module>\u001b[0;34m()\u001b[0m\n\u001b[0;32m----> 1\u001b[0;31m \u001b[0mt\u001b[0m\u001b[0;34m.\u001b[0m\u001b[0mappend\u001b[0m\u001b[0;34m(\u001b[0m\u001b[0;36m4\u001b[0m\u001b[0;34m)\u001b[0m\u001b[0;34m\u001b[0m\u001b[0;34m\u001b[0m\u001b[0m\n\u001b[0m",
            "\u001b[0;31mAttributeError\u001b[0m: 'tuple' object has no attribute 'append'"
          ]
        }
      ]
    },
    {
      "cell_type": "code",
      "metadata": {
        "id": "zuKBSYA9HRei",
        "outputId": "d0bc4a05-defe-4007-a8bd-9a599f61151b",
        "colab": {
          "base_uri": "https://localhost:8080/",
          "height": 34
        }
      },
      "source": [
        "x = 0.125\n",
        "x.as_integer_ratio()"
      ],
      "execution_count": null,
      "outputs": [
        {
          "output_type": "execute_result",
          "data": {
            "text/plain": [
              "(1, 8)"
            ]
          },
          "metadata": {
            "tags": []
          },
          "execution_count": 127
        }
      ]
    },
    {
      "cell_type": "code",
      "metadata": {
        "id": "Z9ZSNnLZHSKe",
        "outputId": "07251542-61ae-4b02-bfc0-e712ab5899fc",
        "colab": {
          "base_uri": "https://localhost:8080/",
          "height": 34
        }
      },
      "source": [
        "numerator, denominator = x.as_integer_ratio()\n",
        "print(numerator / denominator)"
      ],
      "execution_count": null,
      "outputs": [
        {
          "output_type": "stream",
          "text": [
            "0.125\n"
          ],
          "name": "stdout"
        }
      ]
    },
    {
      "cell_type": "markdown",
      "metadata": {
        "id": "v7NtfabbHa2Y"
      },
      "source": [
        "<font color = \"green\"> Dictionary</font>"
      ]
    },
    {
      "cell_type": "code",
      "metadata": {
        "id": "MhD9XpYnHgWw",
        "outputId": "3125282e-4dec-423c-b5c1-0bc2a9cc5c45",
        "colab": {
          "base_uri": "https://localhost:8080/",
          "height": 34
        }
      },
      "source": [
        "numbers = {'one':1, 'two':2, 'three':3}\n",
        "numbers"
      ],
      "execution_count": null,
      "outputs": [
        {
          "output_type": "execute_result",
          "data": {
            "text/plain": [
              "{'one': 1, 'three': 3, 'two': 2}"
            ]
          },
          "metadata": {
            "tags": []
          },
          "execution_count": 129
        }
      ]
    },
    {
      "cell_type": "code",
      "metadata": {
        "id": "P-qnk8smHlLv",
        "outputId": "c35aa1e0-3faf-4069-9539-4e1e64fc8f86",
        "colab": {
          "base_uri": "https://localhost:8080/",
          "height": 34
        }
      },
      "source": [
        "numbers['one']"
      ],
      "execution_count": null,
      "outputs": [
        {
          "output_type": "execute_result",
          "data": {
            "text/plain": [
              "1"
            ]
          },
          "metadata": {
            "tags": []
          },
          "execution_count": 130
        }
      ]
    },
    {
      "cell_type": "code",
      "metadata": {
        "id": "Nt3NMPzdHm4r",
        "outputId": "4b5e5486-1918-43d4-ec26-e35479b6a07e",
        "colab": {
          "base_uri": "https://localhost:8080/",
          "height": 34
        }
      },
      "source": [
        "numbers[\"nine\"] = 9\n",
        "numbers"
      ],
      "execution_count": null,
      "outputs": [
        {
          "output_type": "execute_result",
          "data": {
            "text/plain": [
              "{'nine': 9, 'one': 1, 'three': 3, 'two': 2}"
            ]
          },
          "metadata": {
            "tags": []
          },
          "execution_count": 131
        }
      ]
    },
    {
      "cell_type": "code",
      "metadata": {
        "id": "-8axMJPaHs9H",
        "outputId": "8bd968ca-5ce2-43e6-821e-a590dc3f23a2",
        "colab": {
          "base_uri": "https://localhost:8080/",
          "height": 34
        }
      },
      "source": [
        "numbers[\"two\"] = 4\n",
        "numbers"
      ],
      "execution_count": null,
      "outputs": [
        {
          "output_type": "execute_result",
          "data": {
            "text/plain": [
              "{'nine': 9, 'one': 1, 'three': 3, 'two': 4}"
            ]
          },
          "metadata": {
            "tags": []
          },
          "execution_count": 132
        }
      ]
    },
    {
      "cell_type": "markdown",
      "metadata": {
        "id": "xkZfA_ELIB18"
      },
      "source": [
        "<font color = \"green\">Set</font>"
      ]
    },
    {
      "cell_type": "code",
      "metadata": {
        "id": "-0retP7GIF6N"
      },
      "source": [
        "primes = {2, 3, 5, 7}\n",
        "odds = {1, 3, 5, 7, 9}"
      ],
      "execution_count": null,
      "outputs": []
    },
    {
      "cell_type": "code",
      "metadata": {
        "id": "CNtJm-VfIYHw",
        "outputId": "5e0b152d-6154-4ce8-b2d9-f1d1d913fbc5",
        "colab": {
          "base_uri": "https://localhost:8080/",
          "height": 34
        }
      },
      "source": [
        "primes = {2,2,3,5,7}\n",
        "primes"
      ],
      "execution_count": null,
      "outputs": [
        {
          "output_type": "execute_result",
          "data": {
            "text/plain": [
              "{2, 3, 5, 7}"
            ]
          },
          "metadata": {
            "tags": []
          },
          "execution_count": 134
        }
      ]
    },
    {
      "cell_type": "code",
      "metadata": {
        "id": "24tcmCdOIdmO",
        "outputId": "726cbab4-91a7-4b56-ac8f-38a147346a5e",
        "colab": {
          "base_uri": "https://localhost:8080/",
          "height": 34
        }
      },
      "source": [
        "# union: items appearing in either\n",
        "primes | odds      # with an operator\n",
        "primes.union(odds) # equivalently with a method"
      ],
      "execution_count": null,
      "outputs": [
        {
          "output_type": "execute_result",
          "data": {
            "text/plain": [
              "{1, 2, 3, 5, 7, 9}"
            ]
          },
          "metadata": {
            "tags": []
          },
          "execution_count": 135
        }
      ]
    },
    {
      "cell_type": "code",
      "metadata": {
        "id": "NdhW9KIoIjoc",
        "outputId": "56962531-dcaa-4370-f16c-c9a74bc9b2b3",
        "colab": {
          "base_uri": "https://localhost:8080/",
          "height": 34
        }
      },
      "source": [
        "# intersection: items appearing in both\n",
        "primes & odds             # with an operator\n",
        "primes.intersection(odds) # equivalently with a method"
      ],
      "execution_count": null,
      "outputs": [
        {
          "output_type": "execute_result",
          "data": {
            "text/plain": [
              "{3, 5, 7}"
            ]
          },
          "metadata": {
            "tags": []
          },
          "execution_count": 136
        }
      ]
    },
    {
      "cell_type": "code",
      "metadata": {
        "id": "4rHbH_cYIjnJ",
        "outputId": "c403b98b-fddd-4841-82bb-99d78b23581c",
        "colab": {
          "base_uri": "https://localhost:8080/",
          "height": 34
        }
      },
      "source": [
        "# difference: items in primes but not in odds\n",
        "primes - odds           # with an operator\n",
        "primes.difference(odds) # equivalently with a method"
      ],
      "execution_count": null,
      "outputs": [
        {
          "output_type": "execute_result",
          "data": {
            "text/plain": [
              "{2}"
            ]
          },
          "metadata": {
            "tags": []
          },
          "execution_count": 137
        }
      ]
    },
    {
      "cell_type": "code",
      "metadata": {
        "id": "A5dqyxqixpMV",
        "outputId": "22ad55b6-8c7b-4c47-8e5c-5915abe5bd84",
        "colab": {
          "base_uri": "https://localhost:8080/",
          "height": 34
        }
      },
      "source": [
        "# difference: items in primes but not in odds\n",
        "odds - primes    # with an operator\n"
      ],
      "execution_count": null,
      "outputs": [
        {
          "output_type": "execute_result",
          "data": {
            "text/plain": [
              "{1, 9}"
            ]
          },
          "metadata": {
            "tags": []
          },
          "execution_count": 138
        }
      ]
    },
    {
      "cell_type": "code",
      "metadata": {
        "id": "bwlClqoIL5r1",
        "outputId": "e4aa9fbb-1544-4c29-dadb-80056a6c7563",
        "colab": {
          "base_uri": "https://localhost:8080/",
          "height": 34
        }
      },
      "source": [
        "# symmetric difference: items appearing in only one set\n",
        "primes ^ odds                     # with an operator\n",
        "primes.symmetric_difference(odds) # equivalently with a method"
      ],
      "execution_count": null,
      "outputs": [
        {
          "output_type": "execute_result",
          "data": {
            "text/plain": [
              "{1, 2, 9}"
            ]
          },
          "metadata": {
            "tags": []
          },
          "execution_count": 139
        }
      ]
    },
    {
      "cell_type": "markdown",
      "metadata": {
        "id": "EaXvRhpCMR8G"
      },
      "source": [
        "#<font color='33D8FF'>Control Flow</font>"
      ]
    },
    {
      "cell_type": "markdown",
      "metadata": {
        "id": "34cCKtaLOEl-"
      },
      "source": [
        "<font color = \"green\">Conditional Statements: if-elif-else</font>"
      ]
    },
    {
      "cell_type": "code",
      "metadata": {
        "id": "sHfu6rg_MayD",
        "outputId": "7ab4fb59-2243-46c3-d95e-ae839fc731b0",
        "colab": {
          "base_uri": "https://localhost:8080/",
          "height": 34
        }
      },
      "source": [
        "x = -15\n",
        "\n",
        "if x == 0:\n",
        "    print(x, \"is zero\")\n",
        "elif x > 0:\n",
        "    print(x, \"is positive\")\n",
        "elif x < 0:\n",
        "    print(x, \"is negative\")\n",
        "else:\n",
        "    print(x, \"is unlike anything I've ever seen...\")"
      ],
      "execution_count": null,
      "outputs": [
        {
          "output_type": "stream",
          "text": [
            "-15 is negative\n"
          ],
          "name": "stdout"
        }
      ]
    },
    {
      "cell_type": "markdown",
      "metadata": {
        "id": "NA0FBnIXONAM"
      },
      "source": [
        "<font color=\"green\">For loops</font>"
      ]
    },
    {
      "cell_type": "code",
      "metadata": {
        "id": "CB2V71plMhfX",
        "outputId": "8329de0e-e2c9-4199-ccd9-2b29cf2690dc",
        "colab": {
          "base_uri": "https://localhost:8080/",
          "height": 34
        }
      },
      "source": [
        "\n",
        "for N in [2, 3, 5, 7]:\n",
        "    print(N, end=' ') # print all on same line"
      ],
      "execution_count": null,
      "outputs": [
        {
          "output_type": "stream",
          "text": [
            "2 3 5 7 "
          ],
          "name": "stdout"
        }
      ]
    },
    {
      "cell_type": "markdown",
      "metadata": {
        "id": "25lgSCykOSJh"
      },
      "source": [
        "<font color=\"green\">While loops</font>"
      ]
    },
    {
      "cell_type": "code",
      "metadata": {
        "id": "lPrtJMBsMoHY",
        "outputId": "eef9d243-eea1-4e2e-ed97-b48a839a90cf",
        "colab": {
          "base_uri": "https://localhost:8080/",
          "height": 34
        }
      },
      "source": [
        "\n",
        "i = 0\n",
        "while i < 10:\n",
        "    print(i, end=' ')\n",
        "    i += 1"
      ],
      "execution_count": null,
      "outputs": [
        {
          "output_type": "stream",
          "text": [
            "0 1 2 3 4 5 6 7 8 9 "
          ],
          "name": "stdout"
        }
      ]
    },
    {
      "cell_type": "markdown",
      "metadata": {
        "id": "IAagzlaBOYW5"
      },
      "source": [
        "<font color=\"green\">break and continue: Fine-Tuning Your Loops</font>"
      ]
    },
    {
      "cell_type": "code",
      "metadata": {
        "id": "tGouh--OOgbf",
        "outputId": "2c2a5e5c-4929-4f78-af42-34154f094c1c",
        "colab": {
          "base_uri": "https://localhost:8080/",
          "height": 34
        }
      },
      "source": [
        "for n in range(20):\n",
        "    # if the remainder of n / 2 is 0, skip the rest of the loop\n",
        "    if n % 2 == 0:\n",
        "        continue\n",
        "    print(n, end=' ')"
      ],
      "execution_count": null,
      "outputs": [
        {
          "output_type": "stream",
          "text": [
            "1 3 5 7 9 11 13 15 17 19 "
          ],
          "name": "stdout"
        }
      ]
    },
    {
      "cell_type": "code",
      "metadata": {
        "id": "2OUjkDMyM3Gi",
        "outputId": "01430e09-4d3d-4887-961d-0029025a21bb",
        "colab": {
          "base_uri": "https://localhost:8080/",
          "height": 34
        }
      },
      "source": [
        "a, b = 0, 1\n",
        "amax = 100\n",
        "L = []\n",
        "\n",
        "while True:\n",
        "    (a, b) = (b, a + b)\n",
        "    if a > amax:\n",
        "        break\n",
        "    L.append(a)\n",
        "\n",
        "print(L)"
      ],
      "execution_count": null,
      "outputs": [
        {
          "output_type": "stream",
          "text": [
            "[1, 1, 2, 3, 5, 8, 13, 21, 34, 55, 89]\n"
          ],
          "name": "stdout"
        }
      ]
    },
    {
      "cell_type": "markdown",
      "metadata": {
        "id": "PnLhgxR-Oqm0"
      },
      "source": [
        "<font color=\"green\">Loops with an else Block</font>\n"
      ]
    },
    {
      "cell_type": "code",
      "metadata": {
        "id": "wlosWlr5M8S-",
        "outputId": "824a3f44-1d7b-4b22-e62b-da6842a4c620",
        "colab": {
          "base_uri": "https://localhost:8080/",
          "height": 34
        }
      },
      "source": [
        "L = []\n",
        "nmax = 30\n",
        "\n",
        "for n in range(2, nmax):\n",
        "    for factor in L:\n",
        "        if n % factor == 0:\n",
        "            break\n",
        "    else: # no break\n",
        "        L.append(n)\n",
        "print(L)"
      ],
      "execution_count": null,
      "outputs": [
        {
          "output_type": "stream",
          "text": [
            "[2, 3, 5, 7, 11, 13, 17, 19, 23, 29]\n"
          ],
          "name": "stdout"
        }
      ]
    },
    {
      "cell_type": "markdown",
      "metadata": {
        "id": "I6GE0NZ2Op4E"
      },
      "source": [
        "# <font color='33D8FF'>Custom functions, Errors & Exceptions</font>"
      ]
    },
    {
      "cell_type": "markdown",
      "metadata": {
        "id": "bqtN7zJ9QowK"
      },
      "source": [
        "<font color=\"green\">Functions</font>"
      ]
    },
    {
      "cell_type": "code",
      "metadata": {
        "id": "wwPDbk32PB-U"
      },
      "source": [
        "def fibonacci(N, a=0, b=1):\n",
        "    L = []\n",
        "    while len(L) < N:\n",
        "        a, b = b, a + b\n",
        "        L.append(a)\n",
        "    return L"
      ],
      "execution_count": null,
      "outputs": []
    },
    {
      "cell_type": "code",
      "metadata": {
        "id": "HY_HBIDxP-ly",
        "outputId": "6c9ca141-dd06-45cc-ead0-76835ba7b1e9",
        "colab": {
          "base_uri": "https://localhost:8080/",
          "height": 34
        }
      },
      "source": [
        "fibonacci(10)\n"
      ],
      "execution_count": null,
      "outputs": [
        {
          "output_type": "execute_result",
          "data": {
            "text/plain": [
              "[1, 1, 2, 3, 5, 8, 13, 21, 34, 55]"
            ]
          },
          "metadata": {
            "tags": []
          },
          "execution_count": 149
        }
      ]
    },
    {
      "cell_type": "code",
      "metadata": {
        "id": "IHsAOAzpP9wQ",
        "outputId": "6c445305-8073-489a-cff0-29eeb241eff3",
        "colab": {
          "base_uri": "https://localhost:8080/",
          "height": 34
        }
      },
      "source": [
        "fibonacci(10, 0, 2)\n"
      ],
      "execution_count": null,
      "outputs": [
        {
          "output_type": "execute_result",
          "data": {
            "text/plain": [
              "[2, 2, 4, 6, 10, 16, 26, 42, 68, 110]"
            ]
          },
          "metadata": {
            "tags": []
          },
          "execution_count": 150
        }
      ]
    },
    {
      "cell_type": "code",
      "metadata": {
        "id": "7jwsqmUcQRxO",
        "outputId": "6b354dad-8752-4a90-f6c5-624e7f074af4",
        "colab": {
          "base_uri": "https://localhost:8080/",
          "height": 34
        }
      },
      "source": [
        "add = lambda x, y: x + y\n",
        "add(1, 2)"
      ],
      "execution_count": null,
      "outputs": [
        {
          "output_type": "execute_result",
          "data": {
            "text/plain": [
              "3"
            ]
          },
          "metadata": {
            "tags": []
          },
          "execution_count": 152
        }
      ]
    },
    {
      "cell_type": "code",
      "metadata": {
        "id": "bmMIfRzWQSfR",
        "outputId": "c39443cc-7929-47a2-d206-953faab4b6b3",
        "colab": {
          "base_uri": "https://localhost:8080/",
          "height": 34
        }
      },
      "source": [
        "def add(x, y):\n",
        "    return x + y\n",
        "\n",
        "add(1,2)"
      ],
      "execution_count": null,
      "outputs": [
        {
          "output_type": "execute_result",
          "data": {
            "text/plain": [
              "3"
            ]
          },
          "metadata": {
            "tags": []
          },
          "execution_count": 153
        }
      ]
    },
    {
      "cell_type": "markdown",
      "metadata": {
        "id": "9_t5HqVhQjvG"
      },
      "source": [
        "<font color=\"green\">Errors</font>"
      ]
    },
    {
      "cell_type": "code",
      "metadata": {
        "id": "PaySTWOVQZYQ",
        "outputId": "5bdc1f79-cfc1-4553-a57c-e7bd9ab56d87",
        "colab": {
          "base_uri": "https://localhost:8080/",
          "height": 162
        }
      },
      "source": [
        "2 / 0"
      ],
      "execution_count": null,
      "outputs": [
        {
          "output_type": "error",
          "ename": "ZeroDivisionError",
          "evalue": "ignored",
          "traceback": [
            "\u001b[0;31m---------------------------------------------------------------------------\u001b[0m",
            "\u001b[0;31mZeroDivisionError\u001b[0m                         Traceback (most recent call last)",
            "\u001b[0;32m<ipython-input-154-8b4ac6d3a3e1>\u001b[0m in \u001b[0;36m<module>\u001b[0;34m()\u001b[0m\n\u001b[0;32m----> 1\u001b[0;31m \u001b[0;36m2\u001b[0m \u001b[0;34m/\u001b[0m \u001b[0;36m0\u001b[0m\u001b[0;34m\u001b[0m\u001b[0;34m\u001b[0m\u001b[0m\n\u001b[0m",
            "\u001b[0;31mZeroDivisionError\u001b[0m: division by zero"
          ]
        }
      ]
    },
    {
      "cell_type": "code",
      "metadata": {
        "id": "BX8AGrLJQfzV",
        "outputId": "02e0bf27-22d1-4c36-ecf9-4008680d6119",
        "colab": {
          "base_uri": "https://localhost:8080/",
          "height": 178
        }
      },
      "source": [
        "L =[1,2,3]\n",
        "L[10]"
      ],
      "execution_count": null,
      "outputs": [
        {
          "output_type": "error",
          "ename": "IndexError",
          "evalue": "ignored",
          "traceback": [
            "\u001b[0;31m---------------------------------------------------------------------------\u001b[0m",
            "\u001b[0;31mIndexError\u001b[0m                                Traceback (most recent call last)",
            "\u001b[0;32m<ipython-input-155-0fa3bee26599>\u001b[0m in \u001b[0;36m<module>\u001b[0;34m()\u001b[0m\n\u001b[1;32m      1\u001b[0m \u001b[0mL\u001b[0m \u001b[0;34m=\u001b[0m\u001b[0;34m[\u001b[0m\u001b[0;36m1\u001b[0m\u001b[0;34m,\u001b[0m\u001b[0;36m2\u001b[0m\u001b[0;34m,\u001b[0m\u001b[0;36m3\u001b[0m\u001b[0;34m]\u001b[0m\u001b[0;34m\u001b[0m\u001b[0;34m\u001b[0m\u001b[0m\n\u001b[0;32m----> 2\u001b[0;31m \u001b[0mL\u001b[0m\u001b[0;34m[\u001b[0m\u001b[0;36m10\u001b[0m\u001b[0;34m]\u001b[0m\u001b[0;34m\u001b[0m\u001b[0;34m\u001b[0m\u001b[0m\n\u001b[0m",
            "\u001b[0;31mIndexError\u001b[0m: list index out of range"
          ]
        }
      ]
    },
    {
      "cell_type": "markdown",
      "metadata": {
        "id": "IM--77U6Qvtx"
      },
      "source": [
        "<font color=\"green\">Exceptions</font>"
      ]
    },
    {
      "cell_type": "code",
      "metadata": {
        "id": "0CcT69BTQ1RI",
        "outputId": "2ceefca5-6e0c-49ed-ce38-5126484da781",
        "colab": {
          "base_uri": "https://localhost:8080/",
          "height": 50
        }
      },
      "source": [
        "try:\n",
        "    print(\"let's try something:\")\n",
        "    x = 1 / 0 # ZeroDivisionError\n",
        "except:\n",
        "    print(\"something bad happened!\")"
      ],
      "execution_count": null,
      "outputs": [
        {
          "output_type": "stream",
          "text": [
            "let's try something:\n",
            "something bad happened!\n"
          ],
          "name": "stdout"
        }
      ]
    },
    {
      "cell_type": "code",
      "metadata": {
        "id": "hn_oaK2wQ70j"
      },
      "source": [
        "def safe_divide(a, b):\n",
        "    try:\n",
        "        return a / b\n",
        "    except:\n",
        "        return 1E100"
      ],
      "execution_count": null,
      "outputs": []
    },
    {
      "cell_type": "code",
      "metadata": {
        "id": "THe2LSaMRBDZ",
        "outputId": "022c3000-0d20-49de-b6a7-d84b64a5be2d",
        "colab": {
          "base_uri": "https://localhost:8080/",
          "height": 34
        }
      },
      "source": [
        "safe_divide (1, '2')\n"
      ],
      "execution_count": null,
      "outputs": [
        {
          "output_type": "execute_result",
          "data": {
            "text/plain": [
              "1e+100"
            ]
          },
          "metadata": {
            "tags": []
          },
          "execution_count": 158
        }
      ]
    },
    {
      "cell_type": "code",
      "metadata": {
        "id": "FacMLXFsRjlf"
      },
      "source": [
        "def safe_divide(a, b):\n",
        "    try:\n",
        "        return a / b\n",
        "    except ZeroDivisionError:\n",
        "        return 1E100"
      ],
      "execution_count": null,
      "outputs": []
    },
    {
      "cell_type": "code",
      "metadata": {
        "id": "MXdj5f5oRsTr",
        "outputId": "604c6cea-74ec-47df-9a81-3a7dfdac6882",
        "colab": {
          "base_uri": "https://localhost:8080/",
          "height": 279
        }
      },
      "source": [
        "safe_divide (1, '2')\n"
      ],
      "execution_count": null,
      "outputs": [
        {
          "output_type": "error",
          "ename": "TypeError",
          "evalue": "ignored",
          "traceback": [
            "\u001b[0;31m---------------------------------------------------------------------------\u001b[0m",
            "\u001b[0;31mTypeError\u001b[0m                                 Traceback (most recent call last)",
            "\u001b[0;32m<ipython-input-160-c44ff55d88d5>\u001b[0m in \u001b[0;36m<module>\u001b[0;34m()\u001b[0m\n\u001b[0;32m----> 1\u001b[0;31m \u001b[0msafe_divide\u001b[0m \u001b[0;34m(\u001b[0m\u001b[0;36m1\u001b[0m\u001b[0;34m,\u001b[0m \u001b[0;34m'2'\u001b[0m\u001b[0;34m)\u001b[0m\u001b[0;34m\u001b[0m\u001b[0;34m\u001b[0m\u001b[0m\n\u001b[0m",
            "\u001b[0;32m<ipython-input-159-57f0d324952e>\u001b[0m in \u001b[0;36msafe_divide\u001b[0;34m(a, b)\u001b[0m\n\u001b[1;32m      1\u001b[0m \u001b[0;32mdef\u001b[0m \u001b[0msafe_divide\u001b[0m\u001b[0;34m(\u001b[0m\u001b[0ma\u001b[0m\u001b[0;34m,\u001b[0m \u001b[0mb\u001b[0m\u001b[0;34m)\u001b[0m\u001b[0;34m:\u001b[0m\u001b[0;34m\u001b[0m\u001b[0;34m\u001b[0m\u001b[0m\n\u001b[1;32m      2\u001b[0m     \u001b[0;32mtry\u001b[0m\u001b[0;34m:\u001b[0m\u001b[0;34m\u001b[0m\u001b[0;34m\u001b[0m\u001b[0m\n\u001b[0;32m----> 3\u001b[0;31m         \u001b[0;32mreturn\u001b[0m \u001b[0ma\u001b[0m \u001b[0;34m/\u001b[0m \u001b[0mb\u001b[0m\u001b[0;34m\u001b[0m\u001b[0;34m\u001b[0m\u001b[0m\n\u001b[0m\u001b[1;32m      4\u001b[0m     \u001b[0;32mexcept\u001b[0m \u001b[0mZeroDivisionError\u001b[0m\u001b[0;34m:\u001b[0m\u001b[0;34m\u001b[0m\u001b[0;34m\u001b[0m\u001b[0m\n\u001b[1;32m      5\u001b[0m         \u001b[0;32mreturn\u001b[0m \u001b[0;36m1E100\u001b[0m\u001b[0;34m\u001b[0m\u001b[0;34m\u001b[0m\u001b[0m\n",
            "\u001b[0;31mTypeError\u001b[0m: unsupported operand type(s) for /: 'int' and 'str'"
          ]
        }
      ]
    },
    {
      "cell_type": "code",
      "metadata": {
        "id": "5-oRgUEERmLE",
        "outputId": "89477a5c-cb10-4821-b67a-63796ea600bd",
        "colab": {
          "base_uri": "https://localhost:8080/",
          "height": 34
        }
      },
      "source": [
        "safe_divide (1, 0)\n"
      ],
      "execution_count": null,
      "outputs": [
        {
          "output_type": "execute_result",
          "data": {
            "text/plain": [
              "1e+100"
            ]
          },
          "metadata": {
            "tags": []
          },
          "execution_count": 161
        }
      ]
    },
    {
      "cell_type": "markdown",
      "metadata": {
        "id": "2NZ76Q3vSzIJ"
      },
      "source": [
        " # <font color='33D8FF'>Data Science Tools</font>"
      ]
    },
    {
      "cell_type": "markdown",
      "metadata": {
        "id": "XEf-V8JhUCto"
      },
      "source": [
        "<font color = \"green\">\n",
        "NumPy: Numerical Python</font>"
      ]
    },
    {
      "cell_type": "code",
      "metadata": {
        "id": "T5FdTweLTF_v",
        "outputId": "929fdee0-bbb0-43a3-bdd3-a5886e74af77",
        "colab": {
          "base_uri": "https://localhost:8080/",
          "height": 34
        }
      },
      "source": [
        "import numpy as np\n",
        "x = np.arange(1, 10)\n",
        "x"
      ],
      "execution_count": null,
      "outputs": [
        {
          "output_type": "execute_result",
          "data": {
            "text/plain": [
              "array([1, 2, 3, 4, 5, 6, 7, 8, 9])"
            ]
          },
          "metadata": {
            "tags": []
          },
          "execution_count": 162
        }
      ]
    },
    {
      "cell_type": "code",
      "metadata": {
        "id": "4joqFYcxUM45",
        "outputId": "ea01e763-40b8-4d37-89ea-900ce2740dd0",
        "colab": {
          "base_uri": "https://localhost:8080/",
          "height": 34
        }
      },
      "source": [
        "x ** 2\n"
      ],
      "execution_count": null,
      "outputs": [
        {
          "output_type": "execute_result",
          "data": {
            "text/plain": [
              "array([ 1,  4,  9, 16, 25, 36, 49, 64, 81])"
            ]
          },
          "metadata": {
            "tags": []
          },
          "execution_count": 163
        }
      ]
    },
    {
      "cell_type": "code",
      "metadata": {
        "id": "2UN_r416UO72",
        "outputId": "b1db53c6-9b2b-4145-cc50-0448de59fc97",
        "colab": {
          "base_uri": "https://localhost:8080/",
          "height": 34
        }
      },
      "source": [
        "[val ** 2 for val in range(1, 10)]"
      ],
      "execution_count": null,
      "outputs": [
        {
          "output_type": "execute_result",
          "data": {
            "text/plain": [
              "[1, 4, 9, 16, 25, 36, 49, 64, 81]"
            ]
          },
          "metadata": {
            "tags": []
          },
          "execution_count": 164
        }
      ]
    },
    {
      "cell_type": "code",
      "metadata": {
        "id": "JtRpWqi5UUAH",
        "outputId": "8bff5a6c-5488-4351-be4c-b27c6f4f75ab",
        "colab": {
          "base_uri": "https://localhost:8080/",
          "height": 67
        }
      },
      "source": [
        "M = x.reshape((3, 3))\n",
        "M"
      ],
      "execution_count": null,
      "outputs": [
        {
          "output_type": "execute_result",
          "data": {
            "text/plain": [
              "array([[1, 2, 3],\n",
              "       [4, 5, 6],\n",
              "       [7, 8, 9]])"
            ]
          },
          "metadata": {
            "tags": []
          },
          "execution_count": 165
        }
      ]
    },
    {
      "cell_type": "code",
      "metadata": {
        "id": "xpysl1NMUeSo",
        "outputId": "ff490344-352b-4773-cbca-dbe48695a399",
        "colab": {
          "base_uri": "https://localhost:8080/",
          "height": 67
        }
      },
      "source": [
        "#transpose\n",
        "M.T"
      ],
      "execution_count": null,
      "outputs": [
        {
          "output_type": "execute_result",
          "data": {
            "text/plain": [
              "array([[1, 4, 7],\n",
              "       [2, 5, 8],\n",
              "       [3, 6, 9]])"
            ]
          },
          "metadata": {
            "tags": []
          },
          "execution_count": 166
        }
      ]
    },
    {
      "cell_type": "markdown",
      "metadata": {
        "id": "u0cBNKBUU5pu"
      },
      "source": [
        "<font color=\"green\">Pandas: Labeled Column-oriented Data</font>\n"
      ]
    },
    {
      "cell_type": "code",
      "metadata": {
        "id": "4xt4tmNNUjMP",
        "outputId": "56538604-6035-49c2-854a-5152b6fadde4",
        "colab": {
          "base_uri": "https://localhost:8080/",
          "height": 225
        }
      },
      "source": [
        "import pandas as pd\n",
        "df = pd.DataFrame({'label': ['A', 'B', 'C', 'A', 'B', 'C'],\n",
        "                   'value': [1, 2, 3, 4, 5, 6]})\n",
        "df"
      ],
      "execution_count": null,
      "outputs": [
        {
          "output_type": "execute_result",
          "data": {
            "text/html": [
              "<div>\n",
              "<style scoped>\n",
              "    .dataframe tbody tr th:only-of-type {\n",
              "        vertical-align: middle;\n",
              "    }\n",
              "\n",
              "    .dataframe tbody tr th {\n",
              "        vertical-align: top;\n",
              "    }\n",
              "\n",
              "    .dataframe thead th {\n",
              "        text-align: right;\n",
              "    }\n",
              "</style>\n",
              "<table border=\"1\" class=\"dataframe\">\n",
              "  <thead>\n",
              "    <tr style=\"text-align: right;\">\n",
              "      <th></th>\n",
              "      <th>label</th>\n",
              "      <th>value</th>\n",
              "    </tr>\n",
              "  </thead>\n",
              "  <tbody>\n",
              "    <tr>\n",
              "      <th>0</th>\n",
              "      <td>A</td>\n",
              "      <td>1</td>\n",
              "    </tr>\n",
              "    <tr>\n",
              "      <th>1</th>\n",
              "      <td>B</td>\n",
              "      <td>2</td>\n",
              "    </tr>\n",
              "    <tr>\n",
              "      <th>2</th>\n",
              "      <td>C</td>\n",
              "      <td>3</td>\n",
              "    </tr>\n",
              "    <tr>\n",
              "      <th>3</th>\n",
              "      <td>A</td>\n",
              "      <td>4</td>\n",
              "    </tr>\n",
              "    <tr>\n",
              "      <th>4</th>\n",
              "      <td>B</td>\n",
              "      <td>5</td>\n",
              "    </tr>\n",
              "    <tr>\n",
              "      <th>5</th>\n",
              "      <td>C</td>\n",
              "      <td>6</td>\n",
              "    </tr>\n",
              "  </tbody>\n",
              "</table>\n",
              "</div>"
            ],
            "text/plain": [
              "  label  value\n",
              "0     A      1\n",
              "1     B      2\n",
              "2     C      3\n",
              "3     A      4\n",
              "4     B      5\n",
              "5     C      6"
            ]
          },
          "metadata": {
            "tags": []
          },
          "execution_count": 167
        }
      ]
    },
    {
      "cell_type": "code",
      "metadata": {
        "id": "QCOlXl2a0nnC",
        "outputId": "9af76565-eb45-40a9-f205-b9ce7ee5affe",
        "colab": {
          "base_uri": "https://localhost:8080/",
          "height": 34
        }
      },
      "source": [
        "type(df)"
      ],
      "execution_count": null,
      "outputs": [
        {
          "output_type": "execute_result",
          "data": {
            "text/plain": [
              "pandas.core.frame.DataFrame"
            ]
          },
          "metadata": {
            "tags": []
          },
          "execution_count": 170
        }
      ]
    },
    {
      "cell_type": "code",
      "metadata": {
        "id": "OmdMJHdHU_47",
        "outputId": "f0b26683-fa58-447e-fcc9-4fe357ea605e",
        "colab": {
          "base_uri": "https://localhost:8080/",
          "height": 134
        }
      },
      "source": [
        "df['label']\n"
      ],
      "execution_count": null,
      "outputs": [
        {
          "output_type": "execute_result",
          "data": {
            "text/plain": [
              "0    A\n",
              "1    B\n",
              "2    C\n",
              "3    A\n",
              "4    B\n",
              "5    C\n",
              "Name: label, dtype: object"
            ]
          },
          "metadata": {
            "tags": []
          },
          "execution_count": 171
        }
      ]
    },
    {
      "cell_type": "code",
      "metadata": {
        "id": "P17SXJJNVEno",
        "outputId": "e9c03ae6-1b89-4f01-a69a-25da5866e9a3",
        "colab": {
          "base_uri": "https://localhost:8080/",
          "height": 134
        }
      },
      "source": [
        "df['label'].str.lower()\n"
      ],
      "execution_count": null,
      "outputs": [
        {
          "output_type": "execute_result",
          "data": {
            "text/plain": [
              "0    a\n",
              "1    b\n",
              "2    c\n",
              "3    a\n",
              "4    b\n",
              "5    c\n",
              "Name: label, dtype: object"
            ]
          },
          "metadata": {
            "tags": []
          },
          "execution_count": 169
        }
      ]
    },
    {
      "cell_type": "code",
      "metadata": {
        "id": "THUiTMAOVIlZ",
        "outputId": "3a4ac17d-73b2-49c0-f2cd-0680bd04ead8",
        "colab": {
          "base_uri": "https://localhost:8080/",
          "height": 166
        }
      },
      "source": [
        "df.groupby('label').sum()\n"
      ],
      "execution_count": null,
      "outputs": [
        {
          "output_type": "execute_result",
          "data": {
            "text/html": [
              "<div>\n",
              "<style scoped>\n",
              "    .dataframe tbody tr th:only-of-type {\n",
              "        vertical-align: middle;\n",
              "    }\n",
              "\n",
              "    .dataframe tbody tr th {\n",
              "        vertical-align: top;\n",
              "    }\n",
              "\n",
              "    .dataframe thead th {\n",
              "        text-align: right;\n",
              "    }\n",
              "</style>\n",
              "<table border=\"1\" class=\"dataframe\">\n",
              "  <thead>\n",
              "    <tr style=\"text-align: right;\">\n",
              "      <th></th>\n",
              "      <th>value</th>\n",
              "    </tr>\n",
              "    <tr>\n",
              "      <th>label</th>\n",
              "      <th></th>\n",
              "    </tr>\n",
              "  </thead>\n",
              "  <tbody>\n",
              "    <tr>\n",
              "      <th>A</th>\n",
              "      <td>5</td>\n",
              "    </tr>\n",
              "    <tr>\n",
              "      <th>B</th>\n",
              "      <td>7</td>\n",
              "    </tr>\n",
              "    <tr>\n",
              "      <th>C</th>\n",
              "      <td>9</td>\n",
              "    </tr>\n",
              "  </tbody>\n",
              "</table>\n",
              "</div>"
            ],
            "text/plain": [
              "       value\n",
              "label       \n",
              "A          5\n",
              "B          7\n",
              "C          9"
            ]
          },
          "metadata": {
            "tags": []
          },
          "execution_count": 172
        }
      ]
    },
    {
      "cell_type": "markdown",
      "metadata": {
        "id": "kGs1-hXOVPy-"
      },
      "source": [
        "\n",
        "<font color = \"green\">Matplotlib MatLab-style scientific visualization</font>"
      ]
    },
    {
      "cell_type": "code",
      "metadata": {
        "id": "bE3VcxOEXBnM"
      },
      "source": [
        "# run this if using Jupyter notebook\n",
        "%matplotlib inline"
      ],
      "execution_count": null,
      "outputs": []
    },
    {
      "cell_type": "code",
      "metadata": {
        "id": "aMcXPxUsVKpk"
      },
      "source": [
        "import matplotlib.pyplot as plt\n",
        "plt.style.use('ggplot')  # make graphs in the style of R's ggplot"
      ],
      "execution_count": null,
      "outputs": []
    },
    {
      "cell_type": "code",
      "metadata": {
        "id": "lNaxsE2kVbuk",
        "outputId": "a69e4a74-6ab9-4884-8f14-3ca2f14c6c68",
        "colab": {
          "base_uri": "https://localhost:8080/",
          "height": 265
        }
      },
      "source": [
        "import numpy as np\n",
        "x = np.linspace(0, 10, 100)\n",
        "\n",
        "fig = plt.figure()\n",
        "plt.plot(x, np.sin(x), '-','b')\n",
        "plt.plot(x, np.cos(x), '--','r');\n"
      ],
      "execution_count": null,
      "outputs": [
        {
          "output_type": "display_data",
          "data": {
            "image/png": "[encoded data removed]",
            "text/plain": [
              "<Figure size 432x288 with 1 Axes>"
            ]
          },
          "metadata": {
            "tags": []
          }
        }
      ]
    },
    {
      "cell_type": "code",
      "metadata": {
        "id": "kNrFOKnYWePr",
        "outputId": "f3ce34a1-87b4-4958-90d7-60e7e5d19613",
        "colab": {
          "base_uri": "https://localhost:8080/",
          "height": 265
        }
      },
      "source": [
        "plt.plot([1, 2, 3, 4], [1, 4, 9, 16])\n",
        "plt.show()"
      ],
      "execution_count": null,
      "outputs": [
        {
          "output_type": "display_data",
          "data": {
            "image/png": "[encoded data removed]",
            "text/plain": [
              "<Figure size 432x288 with 1 Axes>"
            ]
          },
          "metadata": {
            "tags": []
          }
        }
      ]
    },
    {
      "cell_type": "markdown",
      "metadata": {
        "id": "M0jksRDwXz24"
      },
      "source": [
        "<font color=\"green\">\n",
        "SciPy: Scientific Python</font>"
      ]
    },
    {
      "cell_type": "code",
      "metadata": {
        "id": "tOwTm366X4tm",
        "outputId": "abcc2641-a659-4063-ab54-ea803e11beb1",
        "colab": {
          "base_uri": "https://localhost:8080/",
          "height": 265
        }
      },
      "source": [
        "from scipy import interpolate\n",
        "import numpy as np\n",
        "\n",
        "# choose eight points between 0 and 10\n",
        "x = np.linspace(0, 10, 8)\n",
        "y = np.sin(x)\n",
        "\n",
        "# create a cubic interpolation function\n",
        "func = interpolate.interp1d(x, y, kind='cubic')\n",
        "\n",
        "# interpolate on a grid of 1,000 points\n",
        "x_interp = np.linspace(0, 10, 1000)\n",
        "y_interp = func(x_interp)\n",
        "\n",
        "# plot the results\n",
        "plt.figure()  # new figure\n",
        "plt.plot(x, y, 'bo')\n",
        "plt.plot(x_interp, y_interp);"
      ],
      "execution_count": null,
      "outputs": [
        {
          "output_type": "display_data",
          "data": {
            "image/png": "[encoded data removed]",
            "text/plain": [
              "<Figure size 432x288 with 1 Axes>"
            ]
          },
          "metadata": {
            "tags": []
          }
        }
      ]
    }
  ]
}