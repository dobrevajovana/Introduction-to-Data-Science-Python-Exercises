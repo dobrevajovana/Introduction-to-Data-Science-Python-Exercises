{
  "nbformat": 4,
  "nbformat_minor": 0,
  "metadata": {
    "colab": {
      "name": "DS-AV-04 Data preparation.ipynb",
      "provenance": []
    },
    "kernelspec": {
      "name": "python3",
      "display_name": "Python 3"
    }
  },
  "cells": [
    {
      "cell_type": "markdown",
      "metadata": {
        "id": "1Gy0D6tr9HiJ"
      },
      "source": [
        "**<font color = 'blue' size = 38>DATA PREPARATION</font>**"
      ]
    },
    {
      "cell_type": "markdown",
      "metadata": {
        "id": "JscSrWpo9WQs"
      },
      "source": [
        "# <font color='Orange'>Handling missing values</font>"
      ]
    },
    {
      "cell_type": "markdown",
      "metadata": {
        "id": "wfTY6e0U9t-P"
      },
      "source": [
        "## <font color='Orange'>Titanic Dataset for Non Time Series problem</font>\n",
        "https://www.kaggle.com/c/titanic/data"
      ]
    },
    {
      "cell_type": "code",
      "metadata": {
        "id": "pe_4Evma9PoI"
      },
      "source": [
        "import pandas as pd\n",
        "\n",
        "train=pd.read_csv('/content/drive/MyDrive/Data Science/Vezbi/Auditoriski vezbi/DS-AV-04/train.csv')\n",
        "test=pd.read_csv('/content/drive/MyDrive/Data Science/Vezbi/Auditoriski vezbi/DS-AV-04/test.csv')"
      ],
      "execution_count": 2,
      "outputs": []
    },
    {
      "cell_type": "code",
      "metadata": {
        "id": "w9Z5gI-A9-4Y",
        "colab": {
          "base_uri": "https://localhost:8080/"
        },
        "outputId": "40e418f1-a0a0-4a8b-d332-c6c12793fb66"
      },
      "source": [
        "print('Training data shape: ', train.shape)\n",
        "print('Testing data shape: ', test.shape)"
      ],
      "execution_count": 3,
      "outputs": [
        {
          "output_type": "stream",
          "name": "stdout",
          "text": [
            "Training data shape:  (891, 12)\n",
            "Testing data shape:  (418, 11)\n"
          ]
        }
      ]
    },
    {
      "cell_type": "code",
      "metadata": {
        "id": "7iXCzLqq-Ode",
        "colab": {
          "base_uri": "https://localhost:8080/",
          "height": 252
        },
        "outputId": "e8f764fd-f1e1-4b83-d087-d5beba6fb634"
      },
      "source": [
        "train.head()"
      ],
      "execution_count": 4,
      "outputs": [
        {
          "output_type": "execute_result",
          "data": {
            "text/html": [
              "<div>\n",
              "<style scoped>\n",
              "    .dataframe tbody tr th:only-of-type {\n",
              "        vertical-align: middle;\n",
              "    }\n",
              "\n",
              "    .dataframe tbody tr th {\n",
              "        vertical-align: top;\n",
              "    }\n",
              "\n",
              "    .dataframe thead th {\n",
              "        text-align: right;\n",
              "    }\n",
              "</style>\n",
              "<table border=\"1\" class=\"dataframe\">\n",
              "  <thead>\n",
              "    <tr style=\"text-align: right;\">\n",
              "      <th></th>\n",
              "      <th>PassengerId</th>\n",
              "      <th>Survived</th>\n",
              "      <th>Pclass</th>\n",
              "      <th>Name</th>\n",
              "      <th>Sex</th>\n",
              "      <th>Age</th>\n",
              "      <th>SibSp</th>\n",
              "      <th>Parch</th>\n",
              "      <th>Ticket</th>\n",
              "      <th>Fare</th>\n",
              "      <th>Cabin</th>\n",
              "      <th>Embarked</th>\n",
              "    </tr>\n",
              "  </thead>\n",
              "  <tbody>\n",
              "    <tr>\n",
              "      <th>0</th>\n",
              "      <td>1</td>\n",
              "      <td>0</td>\n",
              "      <td>3</td>\n",
              "      <td>Braund, Mr. Owen Harris</td>\n",
              "      <td>male</td>\n",
              "      <td>22.0</td>\n",
              "      <td>1</td>\n",
              "      <td>0</td>\n",
              "      <td>A/5 21171</td>\n",
              "      <td>7.2500</td>\n",
              "      <td>NaN</td>\n",
              "      <td>S</td>\n",
              "    </tr>\n",
              "    <tr>\n",
              "      <th>1</th>\n",
              "      <td>2</td>\n",
              "      <td>1</td>\n",
              "      <td>1</td>\n",
              "      <td>Cumings, Mrs. John Bradley (Florence Briggs Th...</td>\n",
              "      <td>female</td>\n",
              "      <td>38.0</td>\n",
              "      <td>1</td>\n",
              "      <td>0</td>\n",
              "      <td>PC 17599</td>\n",
              "      <td>71.2833</td>\n",
              "      <td>C85</td>\n",
              "      <td>C</td>\n",
              "    </tr>\n",
              "    <tr>\n",
              "      <th>2</th>\n",
              "      <td>3</td>\n",
              "      <td>1</td>\n",
              "      <td>3</td>\n",
              "      <td>Heikkinen, Miss. Laina</td>\n",
              "      <td>female</td>\n",
              "      <td>26.0</td>\n",
              "      <td>0</td>\n",
              "      <td>0</td>\n",
              "      <td>STON/O2. 3101282</td>\n",
              "      <td>7.9250</td>\n",
              "      <td>NaN</td>\n",
              "      <td>S</td>\n",
              "    </tr>\n",
              "    <tr>\n",
              "      <th>3</th>\n",
              "      <td>4</td>\n",
              "      <td>1</td>\n",
              "      <td>1</td>\n",
              "      <td>Futrelle, Mrs. Jacques Heath (Lily May Peel)</td>\n",
              "      <td>female</td>\n",
              "      <td>35.0</td>\n",
              "      <td>1</td>\n",
              "      <td>0</td>\n",
              "      <td>113803</td>\n",
              "      <td>53.1000</td>\n",
              "      <td>C123</td>\n",
              "      <td>S</td>\n",
              "    </tr>\n",
              "    <tr>\n",
              "      <th>4</th>\n",
              "      <td>5</td>\n",
              "      <td>0</td>\n",
              "      <td>3</td>\n",
              "      <td>Allen, Mr. William Henry</td>\n",
              "      <td>male</td>\n",
              "      <td>35.0</td>\n",
              "      <td>0</td>\n",
              "      <td>0</td>\n",
              "      <td>373450</td>\n",
              "      <td>8.0500</td>\n",
              "      <td>NaN</td>\n",
              "      <td>S</td>\n",
              "    </tr>\n",
              "  </tbody>\n",
              "</table>\n",
              "</div>"
            ],
            "text/plain": [
              "   PassengerId  Survived  Pclass  ...     Fare Cabin  Embarked\n",
              "0            1         0       3  ...   7.2500   NaN         S\n",
              "1            2         1       1  ...  71.2833   C85         C\n",
              "2            3         1       3  ...   7.9250   NaN         S\n",
              "3            4         1       1  ...  53.1000  C123         S\n",
              "4            5         0       3  ...   8.0500   NaN         S\n",
              "\n",
              "[5 rows x 12 columns]"
            ]
          },
          "metadata": {},
          "execution_count": 4
        }
      ]
    },
    {
      "cell_type": "markdown",
      "metadata": {
        "id": "vvBk6VfQ-Y92"
      },
      "source": [
        "### <font color='Orange'>Examining the Target column</font>\n",
        "For each passenger in the test set, we need to create a model that predicts whether or not the passengers survived the sinking of the Titanic. Hence Survived is that target column in the dataset. Let's examine the Distribution of the target column"
      ]
    },
    {
      "cell_type": "code",
      "metadata": {
        "id": "uqfONgIJ-Qay"
      },
      "source": [
        "ds = train['Survived'].value_counts()"
      ],
      "execution_count": 5,
      "outputs": []
    },
    {
      "cell_type": "markdown",
      "metadata": {
        "id": "rdpEI2TT-1E8"
      },
      "source": [
        "Visualization of *'Survived'* column\n",
        "\n",
        "\n",
        "*   1: Survived\n",
        "*   0: Did not Survive\n",
        "\n"
      ]
    },
    {
      "cell_type": "code",
      "metadata": {
        "id": "IekVCIb5-t49",
        "colab": {
          "base_uri": "https://localhost:8080/",
          "height": 278
        },
        "outputId": "abeef3e5-3382-4273-8e1d-eaf36777683c"
      },
      "source": [
        "ds.plot.bar()"
      ],
      "execution_count": 6,
      "outputs": [
        {
          "output_type": "execute_result",
          "data": {
            "text/plain": [
              "<matplotlib.axes._subplots.AxesSubplot at 0x7f43e9413210>"
            ]
          },
          "metadata": {},
          "execution_count": 6
        },
        {
          "output_type": "display_data",
          "data": {
            "image/png": "[encoded data removed]",
            "text/plain": [
              "<Figure size 432x288 with 1 Axes>"
            ]
          },
          "metadata": {
            "needs_background": "light"
          }
        }
      ]
    },
    {
      "cell_type": "markdown",
      "metadata": {
        "id": "hSb6l_Hg_rP3"
      },
      "source": [
        "### <font color = 'Orange'>Detecting Missing values</font>"
      ]
    },
    {
      "cell_type": "markdown",
      "metadata": {
        "id": "G9sctvF0AHKK"
      },
      "source": [
        "The first step is to detect the count/percentage of missing values in every column of the dataset. This will give an idea about the distribution of missing values."
      ]
    },
    {
      "cell_type": "markdown",
      "metadata": {
        "id": "PP6jbHGvDB20"
      },
      "source": [
        "The missing values in the Dataset for training."
      ]
    },
    {
      "cell_type": "code",
      "metadata": {
        "id": "qS9TIsSlAJUi",
        "colab": {
          "base_uri": "https://localhost:8080/",
          "height": 417
        },
        "outputId": "c2efc587-6ecd-46bf-ba54-3db0a7978567"
      },
      "source": [
        "missing_values_train = train.isnull().sum()\n",
        "percentage_train = 100 * train.isnull().sum() / len(train)\n",
        "missing_values_table_train = pd.concat([missing_values_train, percentage_train], axis=1)\n",
        "missing_values_table_train.columns = ['Num. of missing values','% of missing values']\n",
        "missing_values_table_train"
      ],
      "execution_count": 7,
      "outputs": [
        {
          "output_type": "execute_result",
          "data": {
            "text/html": [
              "<div>\n",
              "<style scoped>\n",
              "    .dataframe tbody tr th:only-of-type {\n",
              "        vertical-align: middle;\n",
              "    }\n",
              "\n",
              "    .dataframe tbody tr th {\n",
              "        vertical-align: top;\n",
              "    }\n",
              "\n",
              "    .dataframe thead th {\n",
              "        text-align: right;\n",
              "    }\n",
              "</style>\n",
              "<table border=\"1\" class=\"dataframe\">\n",
              "  <thead>\n",
              "    <tr style=\"text-align: right;\">\n",
              "      <th></th>\n",
              "      <th>Num. of missing values</th>\n",
              "      <th>% of missing values</th>\n",
              "    </tr>\n",
              "  </thead>\n",
              "  <tbody>\n",
              "    <tr>\n",
              "      <th>PassengerId</th>\n",
              "      <td>0</td>\n",
              "      <td>0.000000</td>\n",
              "    </tr>\n",
              "    <tr>\n",
              "      <th>Survived</th>\n",
              "      <td>0</td>\n",
              "      <td>0.000000</td>\n",
              "    </tr>\n",
              "    <tr>\n",
              "      <th>Pclass</th>\n",
              "      <td>0</td>\n",
              "      <td>0.000000</td>\n",
              "    </tr>\n",
              "    <tr>\n",
              "      <th>Name</th>\n",
              "      <td>0</td>\n",
              "      <td>0.000000</td>\n",
              "    </tr>\n",
              "    <tr>\n",
              "      <th>Sex</th>\n",
              "      <td>0</td>\n",
              "      <td>0.000000</td>\n",
              "    </tr>\n",
              "    <tr>\n",
              "      <th>Age</th>\n",
              "      <td>177</td>\n",
              "      <td>19.865320</td>\n",
              "    </tr>\n",
              "    <tr>\n",
              "      <th>SibSp</th>\n",
              "      <td>0</td>\n",
              "      <td>0.000000</td>\n",
              "    </tr>\n",
              "    <tr>\n",
              "      <th>Parch</th>\n",
              "      <td>0</td>\n",
              "      <td>0.000000</td>\n",
              "    </tr>\n",
              "    <tr>\n",
              "      <th>Ticket</th>\n",
              "      <td>0</td>\n",
              "      <td>0.000000</td>\n",
              "    </tr>\n",
              "    <tr>\n",
              "      <th>Fare</th>\n",
              "      <td>0</td>\n",
              "      <td>0.000000</td>\n",
              "    </tr>\n",
              "    <tr>\n",
              "      <th>Cabin</th>\n",
              "      <td>687</td>\n",
              "      <td>77.104377</td>\n",
              "    </tr>\n",
              "    <tr>\n",
              "      <th>Embarked</th>\n",
              "      <td>2</td>\n",
              "      <td>0.224467</td>\n",
              "    </tr>\n",
              "  </tbody>\n",
              "</table>\n",
              "</div>"
            ],
            "text/plain": [
              "             Num. of missing values  % of missing values\n",
              "PassengerId                       0             0.000000\n",
              "Survived                          0             0.000000\n",
              "Pclass                            0             0.000000\n",
              "Name                              0             0.000000\n",
              "Sex                               0             0.000000\n",
              "Age                             177            19.865320\n",
              "SibSp                             0             0.000000\n",
              "Parch                             0             0.000000\n",
              "Ticket                            0             0.000000\n",
              "Fare                              0             0.000000\n",
              "Cabin                           687            77.104377\n",
              "Embarked                          2             0.224467"
            ]
          },
          "metadata": {},
          "execution_count": 7
        }
      ]
    },
    {
      "cell_type": "markdown",
      "metadata": {
        "id": "5dcj7NhoDJmq"
      },
      "source": [
        "The missing values in the Dataset for testing."
      ]
    },
    {
      "cell_type": "code",
      "metadata": {
        "id": "RisA5XxUCGwL",
        "colab": {
          "base_uri": "https://localhost:8080/",
          "height": 387
        },
        "outputId": "cd5bd4bb-62cc-40ac-bb27-17e40aaca945"
      },
      "source": [
        "missing_values_test = test.isnull().sum()\n",
        "percentage_test = 100 * test.isnull().sum() / len(test)\n",
        "missing_values_table_test = pd.concat([missing_values_test, percentage_test], axis=1)\n",
        "missing_values_table_test.columns = ['Num. of missing values','% of missing values']\n",
        "missing_values_table_test"
      ],
      "execution_count": 8,
      "outputs": [
        {
          "output_type": "execute_result",
          "data": {
            "text/html": [
              "<div>\n",
              "<style scoped>\n",
              "    .dataframe tbody tr th:only-of-type {\n",
              "        vertical-align: middle;\n",
              "    }\n",
              "\n",
              "    .dataframe tbody tr th {\n",
              "        vertical-align: top;\n",
              "    }\n",
              "\n",
              "    .dataframe thead th {\n",
              "        text-align: right;\n",
              "    }\n",
              "</style>\n",
              "<table border=\"1\" class=\"dataframe\">\n",
              "  <thead>\n",
              "    <tr style=\"text-align: right;\">\n",
              "      <th></th>\n",
              "      <th>Num. of missing values</th>\n",
              "      <th>% of missing values</th>\n",
              "    </tr>\n",
              "  </thead>\n",
              "  <tbody>\n",
              "    <tr>\n",
              "      <th>PassengerId</th>\n",
              "      <td>0</td>\n",
              "      <td>0.000000</td>\n",
              "    </tr>\n",
              "    <tr>\n",
              "      <th>Pclass</th>\n",
              "      <td>0</td>\n",
              "      <td>0.000000</td>\n",
              "    </tr>\n",
              "    <tr>\n",
              "      <th>Name</th>\n",
              "      <td>0</td>\n",
              "      <td>0.000000</td>\n",
              "    </tr>\n",
              "    <tr>\n",
              "      <th>Sex</th>\n",
              "      <td>0</td>\n",
              "      <td>0.000000</td>\n",
              "    </tr>\n",
              "    <tr>\n",
              "      <th>Age</th>\n",
              "      <td>86</td>\n",
              "      <td>20.574163</td>\n",
              "    </tr>\n",
              "    <tr>\n",
              "      <th>SibSp</th>\n",
              "      <td>0</td>\n",
              "      <td>0.000000</td>\n",
              "    </tr>\n",
              "    <tr>\n",
              "      <th>Parch</th>\n",
              "      <td>0</td>\n",
              "      <td>0.000000</td>\n",
              "    </tr>\n",
              "    <tr>\n",
              "      <th>Ticket</th>\n",
              "      <td>0</td>\n",
              "      <td>0.000000</td>\n",
              "    </tr>\n",
              "    <tr>\n",
              "      <th>Fare</th>\n",
              "      <td>1</td>\n",
              "      <td>0.239234</td>\n",
              "    </tr>\n",
              "    <tr>\n",
              "      <th>Cabin</th>\n",
              "      <td>327</td>\n",
              "      <td>78.229665</td>\n",
              "    </tr>\n",
              "    <tr>\n",
              "      <th>Embarked</th>\n",
              "      <td>0</td>\n",
              "      <td>0.000000</td>\n",
              "    </tr>\n",
              "  </tbody>\n",
              "</table>\n",
              "</div>"
            ],
            "text/plain": [
              "             Num. of missing values  % of missing values\n",
              "PassengerId                       0             0.000000\n",
              "Pclass                            0             0.000000\n",
              "Name                              0             0.000000\n",
              "Sex                               0             0.000000\n",
              "Age                              86            20.574163\n",
              "SibSp                             0             0.000000\n",
              "Parch                             0             0.000000\n",
              "Ticket                            0             0.000000\n",
              "Fare                              1             0.239234\n",
              "Cabin                           327            78.229665\n",
              "Embarked                          0             0.000000"
            ]
          },
          "metadata": {},
          "execution_count": 8
        }
      ]
    },
    {
      "cell_type": "markdown",
      "metadata": {
        "id": "8afPiADgDRao"
      },
      "source": [
        "### <font color = 'Orange'>Detecting missing data visually using Missingno library</font>"
      ]
    },
    {
      "cell_type": "code",
      "metadata": {
        "id": "rCdaEYSQDXNr",
        "colab": {
          "base_uri": "https://localhost:8080/",
          "height": 484
        },
        "outputId": "02d2182a-e136-4c79-c401-600ebed93419"
      },
      "source": [
        "import missingno as msno\n",
        "msno.bar(train)"
      ],
      "execution_count": 9,
      "outputs": [
        {
          "output_type": "execute_result",
          "data": {
            "text/plain": [
              "<matplotlib.axes._subplots.AxesSubplot at 0x7f43d366cfd0>"
            ]
          },
          "metadata": {},
          "execution_count": 9
        },
        {
          "output_type": "display_data",
          "data": {
            "image/png": "[encoded data removed]",
            "text/plain": [
              "<Figure size 1800x720 with 3 Axes>"
            ]
          },
          "metadata": {
            "needs_background": "light"
          }
        }
      ]
    },
    {
      "cell_type": "code",
      "metadata": {
        "id": "_94NmfiSDjWA",
        "colab": {
          "base_uri": "https://localhost:8080/",
          "height": 468
        },
        "outputId": "f06411b8-d962-498d-daa3-60d3229be3ea"
      },
      "source": [
        "msno.matrix(train)"
      ],
      "execution_count": 10,
      "outputs": [
        {
          "output_type": "execute_result",
          "data": {
            "text/plain": [
              "<matplotlib.axes._subplots.AxesSubplot at 0x7f43cac8c610>"
            ]
          },
          "metadata": {},
          "execution_count": 10
        },
        {
          "output_type": "display_data",
          "data": {
            "image/png": "[encoded data removed]",
            "text/plain": [
              "<Figure size 1800x720 with 2 Axes>"
            ]
          },
          "metadata": {
            "needs_background": "light"
          }
        }
      ]
    },
    {
      "cell_type": "markdown",
      "metadata": {
        "id": "q1DDH_lN_x0g"
      },
      "source": [
        "### <font color='Orange'>Reasons for Missing Values</font>"
      ]
    },
    {
      "cell_type": "markdown",
      "metadata": {
        "id": "MWXkvK5bFf4k"
      },
      "source": [
        "The missingno package also let's us sort the graph by a particluar column. Let's sort the values by Age and Cabin column to see if there is a pattern in the missing values\n",
        "\n"
      ]
    },
    {
      "cell_type": "code",
      "metadata": {
        "id": "Aq2-TGHI_Hcy",
        "colab": {
          "base_uri": "https://localhost:8080/",
          "height": 468
        },
        "outputId": "200fdd66-96e1-4663-98a0-d0110cfb771b"
      },
      "source": [
        "#sorted by Age\n",
        "msno.matrix(train.sort_values('Age'))"
      ],
      "execution_count": 11,
      "outputs": [
        {
          "output_type": "execute_result",
          "data": {
            "text/plain": [
              "<matplotlib.axes._subplots.AxesSubplot at 0x7f43cabe3190>"
            ]
          },
          "metadata": {},
          "execution_count": 11
        },
        {
          "output_type": "display_data",
          "data": {
            "image/png": "[encoded data removed]",
            "text/plain": [
              "<Figure size 1800x720 with 2 Axes>"
            ]
          },
          "metadata": {
            "needs_background": "light"
          }
        }
      ]
    },
    {
      "cell_type": "markdown",
      "metadata": {
        "id": "tRDqvd0TFsNo"
      },
      "source": [
        "It is clear that here is no relation between the missingness in Age and Cabin column.To cement this conclusion further we can also draw a Heatmap among the different variables in the dataset."
      ]
    },
    {
      "cell_type": "code",
      "metadata": {
        "id": "JT5rrKSJFt7u",
        "colab": {
          "base_uri": "https://localhost:8080/",
          "height": 681
        },
        "outputId": "a2b1271f-8d59-4264-a30c-c6e131fb1ddb"
      },
      "source": [
        "msno.heatmap(train)"
      ],
      "execution_count": 12,
      "outputs": [
        {
          "output_type": "execute_result",
          "data": {
            "text/plain": [
              "<matplotlib.axes._subplots.AxesSubplot at 0x7f43cabb0990>"
            ]
          },
          "metadata": {},
          "execution_count": 12
        },
        {
          "output_type": "display_data",
          "data": {
            "image/png": "[encoded data removed]",
            "text/plain": [
              "<Figure size 1440x864 with 2 Axes>"
            ]
          },
          "metadata": {
            "needs_background": "light"
          }
        }
      ]
    },
    {
      "cell_type": "markdown",
      "metadata": {
        "id": "KnPVip9mD2pl"
      },
      "source": [
        "The heatmap function shows that there are no strong correlations between missing values of different features. This is good; low correlations further indicate that the data are MAR.\n"
      ]
    },
    {
      "cell_type": "code",
      "metadata": {
        "id": "V5qP7mtqF3pI",
        "colab": {
          "base_uri": "https://localhost:8080/",
          "height": 468
        },
        "outputId": "d764e08a-565e-4747-d3ed-ce2eb9e465d5"
      },
      "source": [
        "msno.dendrogram(train)\n"
      ],
      "execution_count": 13,
      "outputs": [
        {
          "output_type": "execute_result",
          "data": {
            "text/plain": [
              "<matplotlib.axes._subplots.AxesSubplot at 0x7f43caa3e610>"
            ]
          },
          "metadata": {},
          "execution_count": 13
        },
        {
          "output_type": "display_data",
          "data": {
            "image/png": "[encoded data removed]",
            "text/plain": [
              "<Figure size 1800x720 with 1 Axes>"
            ]
          },
          "metadata": {
            "needs_background": "light"
          }
        }
      ]
    },
    {
      "cell_type": "markdown",
      "metadata": {
        "id": "78wFqcQrGhGl"
      },
      "source": [
        "### <font color='Orange'>Treating Missing values</font>\n"
      ]
    },
    {
      "cell_type": "markdown",
      "metadata": {
        "id": "PNxoTZSaG0mF"
      },
      "source": [
        "![image.png](data:image/png;base64,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)"
      ]
    },
    {
      "cell_type": "markdown",
      "metadata": {
        "id": "lWNFRG3VHADa"
      },
      "source": [
        "\n",
        "**Parwise Deletion** is used when values are missing completely at random i.e MCAR. During Pairwise deletion, only the missing values are deleted. All operations in pandas like mean,sum etc intrinsically skip missing values."
      ]
    },
    {
      "cell_type": "code",
      "metadata": {
        "id": "87i96iiFHB7d",
        "colab": {
          "base_uri": "https://localhost:8080/"
        },
        "outputId": "c66970af-50da-4f35-d00b-5e32b8d7df20"
      },
      "source": [
        "train_1 = train.copy()\n",
        "train_1['Age'].mean() #pandas skips the missing values and calculates mean of the remaining values."
      ],
      "execution_count": 14,
      "outputs": [
        {
          "output_type": "execute_result",
          "data": {
            "text/plain": [
              "29.69911764705882"
            ]
          },
          "metadata": {},
          "execution_count": 14
        }
      ]
    },
    {
      "cell_type": "markdown",
      "metadata": {
        "id": "9IehAW_zHXeu"
      },
      "source": [
        "**Listwise deletion**, complete rows(which contain the missing values) are deleted. As a result, it is also called Complete Case deletion. Like Pairwise deletion, listwise deletions are also only used for MCAR values."
      ]
    },
    {
      "cell_type": "code",
      "metadata": {
        "id": "-0rFibiIHJBk",
        "colab": {
          "base_uri": "https://localhost:8080/"
        },
        "outputId": "24d73e8d-1317-4952-b299-60f02366f306"
      },
      "source": [
        "#Drop rows which contains any NaN or missing value for Age column\n",
        "train_1.dropna(subset=['Age'],how='any',inplace=True)\n",
        "train_1['Age'].isnull().sum()"
      ],
      "execution_count": 15,
      "outputs": [
        {
          "output_type": "execute_result",
          "data": {
            "text/plain": [
              "0"
            ]
          },
          "metadata": {},
          "execution_count": 15
        }
      ]
    },
    {
      "cell_type": "markdown",
      "metadata": {
        "id": "Jnr-1FJ8HiUQ"
      },
      "source": [
        "The Listwise deletion problem is that a major chunk of data and hence a lot of information is lost. Hence, it is advisable to use it only when the number of missing values is very small."
      ]
    },
    {
      "cell_type": "markdown",
      "metadata": {
        "id": "TUBH8FVJHuDm"
      },
      "source": [
        "**Dropping complete columns**\n",
        "If a column contains a lot of missing values, say more than 80%, and the feature is not significant, you might want to delete that feature. However, again, it is not a good methodology to delete data."
      ]
    },
    {
      "cell_type": "markdown",
      "metadata": {
        "id": "0GV2yHAYH-CU"
      },
      "source": [
        "### <font color='Orange'>Imputations (General) Techniques for non Time Series Problems</font>"
      ]
    },
    {
      "cell_type": "markdown",
      "metadata": {
        "id": "li8DjQ4YIHxP"
      },
      "source": [
        "![image.png](data:image/png;base64,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)"
      ]
    },
    {
      "cell_type": "markdown",
      "metadata": {
        "id": "0Vb3PlVcIRUb"
      },
      "source": [
        "Basic Imputation Techniques:\n",
        "\n",
        "*   Imputating with a constant value\n",
        "\n",
        "*   Imputation using the statistics (mean, median or most frequent) of each column in which the missing values are located\n",
        "\n",
        "For this we shall use the The SimpleImputer class from sklearn."
      ]
    },
    {
      "cell_type": "code",
      "metadata": {
        "id": "BVNTOn22Hcpz",
        "colab": {
          "base_uri": "https://localhost:8080/"
        },
        "outputId": "45e5e000-37af-4ab6-955d-93a3ed76cb86"
      },
      "source": [
        "from sklearn.impute import SimpleImputer\n",
        "train_const = train.copy()\n",
        "main_imputer = SimpleImputer(strategy = 'constant',  fill_value = 0)\n",
        "train_const.iloc[:,:] = main_imputer.fit_transform(train_const)\n",
        "train_const.isnull().sum()"
      ],
      "execution_count": 16,
      "outputs": [
        {
          "output_type": "execute_result",
          "data": {
            "text/plain": [
              "PassengerId    0\n",
              "Survived       0\n",
              "Pclass         0\n",
              "Name           0\n",
              "Sex            0\n",
              "Age            0\n",
              "SibSp          0\n",
              "Parch          0\n",
              "Ticket         0\n",
              "Fare           0\n",
              "Cabin          0\n",
              "Embarked       0\n",
              "dtype: int64"
            ]
          },
          "metadata": {},
          "execution_count": 16
        }
      ]
    },
    {
      "cell_type": "code",
      "metadata": {
        "id": "IIc9jjVdI5jK",
        "colab": {
          "base_uri": "https://localhost:8080/"
        },
        "outputId": "aab190f3-8945-4c8c-cf1a-5e7867d019e9"
      },
      "source": [
        "train_const = train.copy()\n",
        "main_imputer = SimpleImputer(strategy = 'most_frequent')\n",
        "train_const.iloc[:,:] = main_imputer.fit_transform(train_const)\n",
        "train_const.isnull().sum()"
      ],
      "execution_count": 17,
      "outputs": [
        {
          "output_type": "execute_result",
          "data": {
            "text/plain": [
              "PassengerId    0\n",
              "Survived       0\n",
              "Pclass         0\n",
              "Name           0\n",
              "Sex            0\n",
              "Age            0\n",
              "SibSp          0\n",
              "Parch          0\n",
              "Ticket         0\n",
              "Fare           0\n",
              "Cabin          0\n",
              "Embarked       0\n",
              "dtype: int64"
            ]
          },
          "metadata": {},
          "execution_count": 17
        }
      ]
    },
    {
      "cell_type": "markdown",
      "metadata": {
        "id": "oRAwc3ztVmMc"
      },
      "source": [
        "### <font color = 'Orange'>Advanced Imputation Techniques</font>"
      ]
    },
    {
      "cell_type": "markdown",
      "metadata": {
        "id": "QKfoAZcFVsGy"
      },
      "source": [
        "#### <font color = 'Orange'>K-Nearest Neighbor</font>\n"
      ]
    },
    {
      "cell_type": "code",
      "metadata": {
        "id": "q3UDy_dkV4ZH"
      },
      "source": [
        "train_knn = train.copy(deep=True)"
      ],
      "execution_count": 18,
      "outputs": []
    },
    {
      "cell_type": "code",
      "metadata": {
        "id": "ILxtamVAV5h7"
      },
      "source": [
        "from sklearn.impute import KNNImputer\n",
        "from sklearn.preprocessing import MinMaxScaler\n",
        "\n",
        "scaler = MinMaxScaler()\n",
        "train_knn['Age']=scaler.fit_transform(train_knn['Age'].to_numpy().reshape(-1, 1) )\n",
        "\n",
        "knn_imputer = KNNImputer(n_neighbors=2, weights=\"uniform\")\n",
        "train_knn['Age'] = knn_imputer.fit_transform(train_knn[['Age']])"
      ],
      "execution_count": 19,
      "outputs": []
    },
    {
      "cell_type": "code",
      "metadata": {
        "id": "4xHdqOx6V_MN",
        "colab": {
          "base_uri": "https://localhost:8080/"
        },
        "outputId": "468be05e-6929-44dc-d80c-8663d886eaf1"
      },
      "source": [
        "train_knn['Age'].isnull().sum()"
      ],
      "execution_count": 20,
      "outputs": [
        {
          "output_type": "execute_result",
          "data": {
            "text/plain": [
              "0"
            ]
          },
          "metadata": {},
          "execution_count": 20
        }
      ]
    },
    {
      "cell_type": "code",
      "metadata": {
        "id": "f4NvLxBHhzOh",
        "colab": {
          "base_uri": "https://localhost:8080/"
        },
        "outputId": "4ecada2f-3bf6-4bfa-ce37-1bacd9819cfe"
      },
      "source": [
        "train_knn['Age'].head()"
      ],
      "execution_count": 21,
      "outputs": [
        {
          "output_type": "execute_result",
          "data": {
            "text/plain": [
              "0    0.271174\n",
              "1    0.472229\n",
              "2    0.321438\n",
              "3    0.434531\n",
              "4    0.434531\n",
              "Name: Age, dtype: float64"
            ]
          },
          "metadata": {},
          "execution_count": 21
        }
      ]
    },
    {
      "cell_type": "markdown",
      "metadata": {
        "id": "dxrTQttiWKqz"
      },
      "source": [
        "#### <font color='Orange'>Multivariate feature imputation - Multivariate imputation by chained equations (MICE)</font>"
      ]
    },
    {
      "cell_type": "markdown",
      "metadata": {
        "id": "Q2qepo6CWOnH"
      },
      "source": [
        "A strategy for imputing missing values by modeling each feature with missing values as a function of other features in a round-robin fashion. It performns multiple regressions over random sample ofthe data, then takes the average ofthe multiple regression values and uses that value to impute the missing value. In sklearn, it is implemented as follows:"
      ]
    },
    {
      "cell_type": "code",
      "metadata": {
        "id": "pwGZZi26V_LR"
      },
      "source": [
        "from sklearn.experimental import enable_iterative_imputer\n",
        "from sklearn.impute import IterativeImputer\n",
        "train_mice = train.copy(deep=True)\n",
        "\n",
        "mice_imputer = IterativeImputer()\n",
        "train_mice['Age'] = mice_imputer.fit_transform(train_mice[['Age']])"
      ],
      "execution_count": 22,
      "outputs": []
    },
    {
      "cell_type": "code",
      "metadata": {
        "id": "ZtljVjSyWWKw",
        "colab": {
          "base_uri": "https://localhost:8080/"
        },
        "outputId": "cfe144a3-63b5-4aa0-963b-0f5317e07d0c"
      },
      "source": [
        "train_mice['Age'].isnull().sum()"
      ],
      "execution_count": 23,
      "outputs": [
        {
          "output_type": "execute_result",
          "data": {
            "text/plain": [
              "0"
            ]
          },
          "metadata": {},
          "execution_count": 23
        }
      ]
    },
    {
      "cell_type": "markdown",
      "metadata": {
        "id": "i3tyl76UK3R1"
      },
      "source": [
        "## <font color = 'Orange'>Air Quality Data in India (2015 - 2020) for Time Series problem</font>\n",
        "https://www.kaggle.com/rohanrao/air-quality-data-in-india"
      ]
    },
    {
      "cell_type": "code",
      "metadata": {
        "id": "m8mu671CLQ8X",
        "colab": {
          "base_uri": "https://localhost:8080/",
          "height": 202
        },
        "outputId": "e9f646af-4a2b-4e19-dc01-1c3b08e3ece4"
      },
      "source": [
        "city_day = pd.read_csv('/content/drive/MyDrive/Data Science/Vezbi/Auditoriski vezbi/DS-AV-04/city_day.csv')\n",
        "city_day1=city_day.copy(deep=True)\n",
        "city_day.head()"
      ],
      "execution_count": 25,
      "outputs": [
        {
          "output_type": "execute_result",
          "data": {
            "text/html": [
              "<div>\n",
              "<style scoped>\n",
              "    .dataframe tbody tr th:only-of-type {\n",
              "        vertical-align: middle;\n",
              "    }\n",
              "\n",
              "    .dataframe tbody tr th {\n",
              "        vertical-align: top;\n",
              "    }\n",
              "\n",
              "    .dataframe thead th {\n",
              "        text-align: right;\n",
              "    }\n",
              "</style>\n",
              "<table border=\"1\" class=\"dataframe\">\n",
              "  <thead>\n",
              "    <tr style=\"text-align: right;\">\n",
              "      <th></th>\n",
              "      <th>City</th>\n",
              "      <th>Date</th>\n",
              "      <th>PM2.5</th>\n",
              "      <th>PM10</th>\n",
              "      <th>NO</th>\n",
              "      <th>NO2</th>\n",
              "      <th>NOx</th>\n",
              "      <th>NH3</th>\n",
              "      <th>CO</th>\n",
              "      <th>SO2</th>\n",
              "      <th>O3</th>\n",
              "      <th>Benzene</th>\n",
              "      <th>Toluene</th>\n",
              "      <th>Xylene</th>\n",
              "      <th>AQI</th>\n",
              "      <th>AQI_Bucket</th>\n",
              "    </tr>\n",
              "  </thead>\n",
              "  <tbody>\n",
              "    <tr>\n",
              "      <th>0</th>\n",
              "      <td>Ahmedabad</td>\n",
              "      <td>2015-01-01</td>\n",
              "      <td>NaN</td>\n",
              "      <td>NaN</td>\n",
              "      <td>0.92</td>\n",
              "      <td>18.22</td>\n",
              "      <td>17.15</td>\n",
              "      <td>NaN</td>\n",
              "      <td>0.92</td>\n",
              "      <td>27.64</td>\n",
              "      <td>133.36</td>\n",
              "      <td>0.00</td>\n",
              "      <td>0.02</td>\n",
              "      <td>0.00</td>\n",
              "      <td>NaN</td>\n",
              "      <td>NaN</td>\n",
              "    </tr>\n",
              "    <tr>\n",
              "      <th>1</th>\n",
              "      <td>Ahmedabad</td>\n",
              "      <td>2015-01-02</td>\n",
              "      <td>NaN</td>\n",
              "      <td>NaN</td>\n",
              "      <td>0.97</td>\n",
              "      <td>15.69</td>\n",
              "      <td>16.46</td>\n",
              "      <td>NaN</td>\n",
              "      <td>0.97</td>\n",
              "      <td>24.55</td>\n",
              "      <td>34.06</td>\n",
              "      <td>3.68</td>\n",
              "      <td>5.50</td>\n",
              "      <td>3.77</td>\n",
              "      <td>NaN</td>\n",
              "      <td>NaN</td>\n",
              "    </tr>\n",
              "    <tr>\n",
              "      <th>2</th>\n",
              "      <td>Ahmedabad</td>\n",
              "      <td>2015-01-03</td>\n",
              "      <td>NaN</td>\n",
              "      <td>NaN</td>\n",
              "      <td>17.40</td>\n",
              "      <td>19.30</td>\n",
              "      <td>29.70</td>\n",
              "      <td>NaN</td>\n",
              "      <td>17.40</td>\n",
              "      <td>29.07</td>\n",
              "      <td>30.70</td>\n",
              "      <td>6.80</td>\n",
              "      <td>16.40</td>\n",
              "      <td>2.25</td>\n",
              "      <td>NaN</td>\n",
              "      <td>NaN</td>\n",
              "    </tr>\n",
              "    <tr>\n",
              "      <th>3</th>\n",
              "      <td>Ahmedabad</td>\n",
              "      <td>2015-01-04</td>\n",
              "      <td>NaN</td>\n",
              "      <td>NaN</td>\n",
              "      <td>1.70</td>\n",
              "      <td>18.48</td>\n",
              "      <td>17.97</td>\n",
              "      <td>NaN</td>\n",
              "      <td>1.70</td>\n",
              "      <td>18.59</td>\n",
              "      <td>36.08</td>\n",
              "      <td>4.43</td>\n",
              "      <td>10.14</td>\n",
              "      <td>1.00</td>\n",
              "      <td>NaN</td>\n",
              "      <td>NaN</td>\n",
              "    </tr>\n",
              "    <tr>\n",
              "      <th>4</th>\n",
              "      <td>Ahmedabad</td>\n",
              "      <td>2015-01-05</td>\n",
              "      <td>NaN</td>\n",
              "      <td>NaN</td>\n",
              "      <td>22.10</td>\n",
              "      <td>21.42</td>\n",
              "      <td>37.76</td>\n",
              "      <td>NaN</td>\n",
              "      <td>22.10</td>\n",
              "      <td>39.33</td>\n",
              "      <td>39.31</td>\n",
              "      <td>7.01</td>\n",
              "      <td>18.89</td>\n",
              "      <td>2.78</td>\n",
              "      <td>NaN</td>\n",
              "      <td>NaN</td>\n",
              "    </tr>\n",
              "  </tbody>\n",
              "</table>\n",
              "</div>"
            ],
            "text/plain": [
              "        City        Date  PM2.5  PM10  ...  Toluene  Xylene  AQI  AQI_Bucket\n",
              "0  Ahmedabad  2015-01-01    NaN   NaN  ...     0.02    0.00  NaN         NaN\n",
              "1  Ahmedabad  2015-01-02    NaN   NaN  ...     5.50    3.77  NaN         NaN\n",
              "2  Ahmedabad  2015-01-03    NaN   NaN  ...    16.40    2.25  NaN         NaN\n",
              "3  Ahmedabad  2015-01-04    NaN   NaN  ...    10.14    1.00  NaN         NaN\n",
              "4  Ahmedabad  2015-01-05    NaN   NaN  ...    18.89    2.78  NaN         NaN\n",
              "\n",
              "[5 rows x 16 columns]"
            ]
          },
          "metadata": {},
          "execution_count": 25
        }
      ]
    },
    {
      "cell_type": "markdown",
      "metadata": {
        "id": "8919lxKUMHIU"
      },
      "source": [
        " As id evident, city_day dataframe consists of daily pollution level data of some of the prominent cities in India."
      ]
    },
    {
      "cell_type": "code",
      "metadata": {
        "id": "VrbcTBflMH_a",
        "colab": {
          "base_uri": "https://localhost:8080/",
          "height": 540
        },
        "outputId": "a833973f-b597-4396-dc40-d830a6c25531"
      },
      "source": [
        "missing_values_city_day = city_day.isnull().sum()\n",
        "percentage_city_day = 100 * city_day.isnull().sum() / len(city_day)\n",
        "missing_values_table_city_day = pd.concat([missing_values_city_day, percentage_city_day], axis=1)\n",
        "missing_values_table_city_day.columns = ['Num. of missing values','% of missing values']\n",
        "missing_values_table_city_day"
      ],
      "execution_count": 26,
      "outputs": [
        {
          "output_type": "execute_result",
          "data": {
            "text/html": [
              "<div>\n",
              "<style scoped>\n",
              "    .dataframe tbody tr th:only-of-type {\n",
              "        vertical-align: middle;\n",
              "    }\n",
              "\n",
              "    .dataframe tbody tr th {\n",
              "        vertical-align: top;\n",
              "    }\n",
              "\n",
              "    .dataframe thead th {\n",
              "        text-align: right;\n",
              "    }\n",
              "</style>\n",
              "<table border=\"1\" class=\"dataframe\">\n",
              "  <thead>\n",
              "    <tr style=\"text-align: right;\">\n",
              "      <th></th>\n",
              "      <th>Num. of missing values</th>\n",
              "      <th>% of missing values</th>\n",
              "    </tr>\n",
              "  </thead>\n",
              "  <tbody>\n",
              "    <tr>\n",
              "      <th>City</th>\n",
              "      <td>0</td>\n",
              "      <td>0.000000</td>\n",
              "    </tr>\n",
              "    <tr>\n",
              "      <th>Date</th>\n",
              "      <td>0</td>\n",
              "      <td>0.000000</td>\n",
              "    </tr>\n",
              "    <tr>\n",
              "      <th>PM2.5</th>\n",
              "      <td>4598</td>\n",
              "      <td>15.570079</td>\n",
              "    </tr>\n",
              "    <tr>\n",
              "      <th>PM10</th>\n",
              "      <td>11140</td>\n",
              "      <td>37.723071</td>\n",
              "    </tr>\n",
              "    <tr>\n",
              "      <th>NO</th>\n",
              "      <td>3582</td>\n",
              "      <td>12.129626</td>\n",
              "    </tr>\n",
              "    <tr>\n",
              "      <th>NO2</th>\n",
              "      <td>3585</td>\n",
              "      <td>12.139785</td>\n",
              "    </tr>\n",
              "    <tr>\n",
              "      <th>NOx</th>\n",
              "      <td>4185</td>\n",
              "      <td>14.171549</td>\n",
              "    </tr>\n",
              "    <tr>\n",
              "      <th>NH3</th>\n",
              "      <td>10328</td>\n",
              "      <td>34.973418</td>\n",
              "    </tr>\n",
              "    <tr>\n",
              "      <th>CO</th>\n",
              "      <td>2059</td>\n",
              "      <td>6.972334</td>\n",
              "    </tr>\n",
              "    <tr>\n",
              "      <th>SO2</th>\n",
              "      <td>3854</td>\n",
              "      <td>13.050692</td>\n",
              "    </tr>\n",
              "    <tr>\n",
              "      <th>O3</th>\n",
              "      <td>4022</td>\n",
              "      <td>13.619586</td>\n",
              "    </tr>\n",
              "    <tr>\n",
              "      <th>Benzene</th>\n",
              "      <td>5623</td>\n",
              "      <td>19.041008</td>\n",
              "    </tr>\n",
              "    <tr>\n",
              "      <th>Toluene</th>\n",
              "      <td>8041</td>\n",
              "      <td>27.229014</td>\n",
              "    </tr>\n",
              "    <tr>\n",
              "      <th>Xylene</th>\n",
              "      <td>18109</td>\n",
              "      <td>61.322001</td>\n",
              "    </tr>\n",
              "    <tr>\n",
              "      <th>AQI</th>\n",
              "      <td>4681</td>\n",
              "      <td>15.851139</td>\n",
              "    </tr>\n",
              "    <tr>\n",
              "      <th>AQI_Bucket</th>\n",
              "      <td>4681</td>\n",
              "      <td>15.851139</td>\n",
              "    </tr>\n",
              "  </tbody>\n",
              "</table>\n",
              "</div>"
            ],
            "text/plain": [
              "            Num. of missing values  % of missing values\n",
              "City                             0             0.000000\n",
              "Date                             0             0.000000\n",
              "PM2.5                         4598            15.570079\n",
              "PM10                         11140            37.723071\n",
              "NO                            3582            12.129626\n",
              "NO2                           3585            12.139785\n",
              "NOx                           4185            14.171549\n",
              "NH3                          10328            34.973418\n",
              "CO                            2059             6.972334\n",
              "SO2                           3854            13.050692\n",
              "O3                            4022            13.619586\n",
              "Benzene                       5623            19.041008\n",
              "Toluene                       8041            27.229014\n",
              "Xylene                       18109            61.322001\n",
              "AQI                           4681            15.851139\n",
              "AQI_Bucket                    4681            15.851139"
            ]
          },
          "metadata": {},
          "execution_count": 26
        }
      ]
    },
    {
      "cell_type": "markdown",
      "metadata": {
        "id": "4AmjX2sbMfgT"
      },
      "source": [
        "There are a lot of missing values and some of the columns like **Xylene** and **PM10** have more than 50% of the values missing. Let's now see how we can impute these missing values."
      ]
    },
    {
      "cell_type": "code",
      "metadata": {
        "id": "0uQ68vHrMicJ",
        "colab": {
          "base_uri": "https://localhost:8080/"
        },
        "outputId": "2ad514d4-4045-4592-ec55-95b19cf0348e"
      },
      "source": [
        "city_day['Xylene'][60:70]"
      ],
      "execution_count": 28,
      "outputs": [
        {
          "output_type": "execute_result",
          "data": {
            "text/plain": [
              "60    0.22\n",
              "61    2.25\n",
              "62    1.55\n",
              "63    4.13\n",
              "64     NaN\n",
              "65    0.39\n",
              "66    0.63\n",
              "67    1.35\n",
              "68    1.74\n",
              "69    2.78\n",
              "Name: Xylene, dtype: float64"
            ]
          },
          "metadata": {},
          "execution_count": 28
        }
      ]
    },
    {
      "cell_type": "markdown",
      "metadata": {
        "id": "PksaWrAlNCA0"
      },
      "source": [
        "### <font color = 'Orange'>Imputing using ffill\n",
        "</font>"
      ]
    },
    {
      "cell_type": "markdown",
      "metadata": {
        "id": "1V4guCwhSeh_"
      },
      "source": [
        "**ffill**: propagate last valid observation forward to next valid "
      ]
    },
    {
      "cell_type": "code",
      "metadata": {
        "id": "Rj3b1yoeM96J",
        "colab": {
          "base_uri": "https://localhost:8080/"
        },
        "outputId": "bf888156-5de5-4bf6-cf44-310365e79267"
      },
      "source": [
        "city_day.fillna(method='ffill',inplace=True)\n",
        "city_day['Xylene'][60:70]"
      ],
      "execution_count": 29,
      "outputs": [
        {
          "output_type": "execute_result",
          "data": {
            "text/plain": [
              "60    0.22\n",
              "61    2.25\n",
              "62    1.55\n",
              "63    4.13\n",
              "64    4.13\n",
              "65    0.39\n",
              "66    0.63\n",
              "67    1.35\n",
              "68    1.74\n",
              "69    2.78\n",
              "Name: Xylene, dtype: float64"
            ]
          },
          "metadata": {},
          "execution_count": 29
        }
      ]
    },
    {
      "cell_type": "markdown",
      "metadata": {
        "id": "X5wqx9SXS7cK"
      },
      "source": [
        "### <font color='Orange'>Imputation using bfill</font>"
      ]
    },
    {
      "cell_type": "markdown",
      "metadata": {
        "id": "VIAHoUQ8S3cF"
      },
      "source": [
        "**bfill**: use next valid observation to fill gap"
      ]
    },
    {
      "cell_type": "code",
      "metadata": {
        "id": "Z0C1quA2Sp4n",
        "colab": {
          "base_uri": "https://localhost:8080/"
        },
        "outputId": "bd6cb33e-5b05-4b63-a279-f1c78131e615"
      },
      "source": [
        "city_day['AQI'][20:30]"
      ],
      "execution_count": 30,
      "outputs": [
        {
          "output_type": "execute_result",
          "data": {
            "text/plain": [
              "20      NaN\n",
              "21      NaN\n",
              "22      NaN\n",
              "23      NaN\n",
              "24      NaN\n",
              "25      NaN\n",
              "26      NaN\n",
              "27      NaN\n",
              "28    209.0\n",
              "29    328.0\n",
              "Name: AQI, dtype: float64"
            ]
          },
          "metadata": {},
          "execution_count": 30
        }
      ]
    },
    {
      "cell_type": "code",
      "metadata": {
        "id": "SZS6GN2HTH0m",
        "colab": {
          "base_uri": "https://localhost:8080/"
        },
        "outputId": "1dbcb14d-cafb-44b0-f376-c4bc628bbaa2"
      },
      "source": [
        "city_day.fillna(method='bfill',inplace=True)\n",
        "city_day['AQI'][20:30]"
      ],
      "execution_count": 31,
      "outputs": [
        {
          "output_type": "execute_result",
          "data": {
            "text/plain": [
              "20    209.0\n",
              "21    209.0\n",
              "22    209.0\n",
              "23    209.0\n",
              "24    209.0\n",
              "25    209.0\n",
              "26    209.0\n",
              "27    209.0\n",
              "28    209.0\n",
              "29    328.0\n",
              "Name: AQI, dtype: float64"
            ]
          },
          "metadata": {},
          "execution_count": 31
        }
      ]
    },
    {
      "cell_type": "markdown",
      "metadata": {
        "id": "SqOmP_EtTQOq"
      },
      "source": [
        "### <font color='Orange'>Imputation using Linear Interpolation method</font>"
      ]
    },
    {
      "cell_type": "markdown",
      "metadata": {
        "id": "2PqBXS23UeIe"
      },
      "source": [
        "![image.png](data:image/png;base64,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)"
      ]
    },
    {
      "cell_type": "code",
      "metadata": {
        "id": "oMKnN4hFTKBg",
        "colab": {
          "base_uri": "https://localhost:8080/"
        },
        "outputId": "86c7cc7b-7894-4732-88e5-4a04df356818"
      },
      "source": [
        "city_day1['Xylene'][60:70]"
      ],
      "execution_count": 32,
      "outputs": [
        {
          "output_type": "execute_result",
          "data": {
            "text/plain": [
              "60    0.22\n",
              "61    2.25\n",
              "62    1.55\n",
              "63    4.13\n",
              "64     NaN\n",
              "65    0.39\n",
              "66    0.63\n",
              "67    1.35\n",
              "68    1.74\n",
              "69    2.78\n",
              "Name: Xylene, dtype: float64"
            ]
          },
          "metadata": {},
          "execution_count": 32
        }
      ]
    },
    {
      "cell_type": "code",
      "metadata": {
        "id": "1doNkUNIUvDl",
        "colab": {
          "base_uri": "https://localhost:8080/"
        },
        "outputId": "a963ee4c-32c4-4e0f-af20-d8ed3fab81f6"
      },
      "source": [
        "# Interpolate using the linear method\n",
        "city_day1.interpolate(limit_direction=\"both\",inplace=True)\n",
        "city_day1['Xylene'][60:70]"
      ],
      "execution_count": 34,
      "outputs": [
        {
          "output_type": "execute_result",
          "data": {
            "text/plain": [
              "60    0.22\n",
              "61    2.25\n",
              "62    1.55\n",
              "63    4.13\n",
              "64    2.26\n",
              "65    0.39\n",
              "66    0.63\n",
              "67    1.35\n",
              "68    1.74\n",
              "69    2.78\n",
              "Name: Xylene, dtype: float64"
            ]
          },
          "metadata": {},
          "execution_count": 34
        }
      ]
    },
    {
      "cell_type": "markdown",
      "metadata": {
        "id": "F6S3TL5UkI5H"
      },
      "source": [
        "# <font color='Orange'>Encoding Categorical Data</font>"
      ]
    },
    {
      "cell_type": "markdown",
      "metadata": {
        "id": "7ytL79HykO06"
      },
      "source": [
        "## <font color = 'Orange'>Encoding labels</font>"
      ]
    },
    {
      "cell_type": "code",
      "metadata": {
        "id": "hGWZb7UYkWRN",
        "colab": {
          "base_uri": "https://localhost:8080/",
          "height": 252
        },
        "outputId": "47b9b8c8-d1af-44be-f90a-dabf30b1f8cf"
      },
      "source": [
        "train.head()"
      ],
      "execution_count": 35,
      "outputs": [
        {
          "output_type": "execute_result",
          "data": {
            "text/html": [
              "<div>\n",
              "<style scoped>\n",
              "    .dataframe tbody tr th:only-of-type {\n",
              "        vertical-align: middle;\n",
              "    }\n",
              "\n",
              "    .dataframe tbody tr th {\n",
              "        vertical-align: top;\n",
              "    }\n",
              "\n",
              "    .dataframe thead th {\n",
              "        text-align: right;\n",
              "    }\n",
              "</style>\n",
              "<table border=\"1\" class=\"dataframe\">\n",
              "  <thead>\n",
              "    <tr style=\"text-align: right;\">\n",
              "      <th></th>\n",
              "      <th>PassengerId</th>\n",
              "      <th>Survived</th>\n",
              "      <th>Pclass</th>\n",
              "      <th>Name</th>\n",
              "      <th>Sex</th>\n",
              "      <th>Age</th>\n",
              "      <th>SibSp</th>\n",
              "      <th>Parch</th>\n",
              "      <th>Ticket</th>\n",
              "      <th>Fare</th>\n",
              "      <th>Cabin</th>\n",
              "      <th>Embarked</th>\n",
              "    </tr>\n",
              "  </thead>\n",
              "  <tbody>\n",
              "    <tr>\n",
              "      <th>0</th>\n",
              "      <td>1</td>\n",
              "      <td>0</td>\n",
              "      <td>3</td>\n",
              "      <td>Braund, Mr. Owen Harris</td>\n",
              "      <td>male</td>\n",
              "      <td>22.0</td>\n",
              "      <td>1</td>\n",
              "      <td>0</td>\n",
              "      <td>A/5 21171</td>\n",
              "      <td>7.2500</td>\n",
              "      <td>NaN</td>\n",
              "      <td>S</td>\n",
              "    </tr>\n",
              "    <tr>\n",
              "      <th>1</th>\n",
              "      <td>2</td>\n",
              "      <td>1</td>\n",
              "      <td>1</td>\n",
              "      <td>Cumings, Mrs. John Bradley (Florence Briggs Th...</td>\n",
              "      <td>female</td>\n",
              "      <td>38.0</td>\n",
              "      <td>1</td>\n",
              "      <td>0</td>\n",
              "      <td>PC 17599</td>\n",
              "      <td>71.2833</td>\n",
              "      <td>C85</td>\n",
              "      <td>C</td>\n",
              "    </tr>\n",
              "    <tr>\n",
              "      <th>2</th>\n",
              "      <td>3</td>\n",
              "      <td>1</td>\n",
              "      <td>3</td>\n",
              "      <td>Heikkinen, Miss. Laina</td>\n",
              "      <td>female</td>\n",
              "      <td>26.0</td>\n",
              "      <td>0</td>\n",
              "      <td>0</td>\n",
              "      <td>STON/O2. 3101282</td>\n",
              "      <td>7.9250</td>\n",
              "      <td>NaN</td>\n",
              "      <td>S</td>\n",
              "    </tr>\n",
              "    <tr>\n",
              "      <th>3</th>\n",
              "      <td>4</td>\n",
              "      <td>1</td>\n",
              "      <td>1</td>\n",
              "      <td>Futrelle, Mrs. Jacques Heath (Lily May Peel)</td>\n",
              "      <td>female</td>\n",
              "      <td>35.0</td>\n",
              "      <td>1</td>\n",
              "      <td>0</td>\n",
              "      <td>113803</td>\n",
              "      <td>53.1000</td>\n",
              "      <td>C123</td>\n",
              "      <td>S</td>\n",
              "    </tr>\n",
              "    <tr>\n",
              "      <th>4</th>\n",
              "      <td>5</td>\n",
              "      <td>0</td>\n",
              "      <td>3</td>\n",
              "      <td>Allen, Mr. William Henry</td>\n",
              "      <td>male</td>\n",
              "      <td>35.0</td>\n",
              "      <td>0</td>\n",
              "      <td>0</td>\n",
              "      <td>373450</td>\n",
              "      <td>8.0500</td>\n",
              "      <td>NaN</td>\n",
              "      <td>S</td>\n",
              "    </tr>\n",
              "  </tbody>\n",
              "</table>\n",
              "</div>"
            ],
            "text/plain": [
              "   PassengerId  Survived  Pclass  ...     Fare Cabin  Embarked\n",
              "0            1         0       3  ...   7.2500   NaN         S\n",
              "1            2         1       1  ...  71.2833   C85         C\n",
              "2            3         1       3  ...   7.9250   NaN         S\n",
              "3            4         1       1  ...  53.1000  C123         S\n",
              "4            5         0       3  ...   8.0500   NaN         S\n",
              "\n",
              "[5 rows x 12 columns]"
            ]
          },
          "metadata": {},
          "execution_count": 35
        }
      ]
    },
    {
      "cell_type": "code",
      "metadata": {
        "id": "JtHJCLQJkZDm",
        "colab": {
          "base_uri": "https://localhost:8080/"
        },
        "outputId": "b784dca9-fd7e-42f4-80d9-fc75b95c2252"
      },
      "source": [
        "train['Embarked'].value_counts()"
      ],
      "execution_count": 36,
      "outputs": [
        {
          "output_type": "execute_result",
          "data": {
            "text/plain": [
              "S    644\n",
              "C    168\n",
              "Q     77\n",
              "Name: Embarked, dtype: int64"
            ]
          },
          "metadata": {},
          "execution_count": 36
        }
      ]
    },
    {
      "cell_type": "code",
      "metadata": {
        "id": "J7QOQQgSkerV",
        "colab": {
          "base_uri": "https://localhost:8080/"
        },
        "outputId": "04ce4c65-f39c-43e5-b977-78faae0597cf"
      },
      "source": [
        "classes = list(set(train['Embarked']))\n",
        "classes\n"
      ],
      "execution_count": 37,
      "outputs": [
        {
          "output_type": "execute_result",
          "data": {
            "text/plain": [
              "[nan, 'C', 'Q', 'S']"
            ]
          },
          "metadata": {},
          "execution_count": 37
        }
      ]
    },
    {
      "cell_type": "code",
      "metadata": {
        "id": "4MrqXOzok4qB",
        "colab": {
          "base_uri": "https://localhost:8080/"
        },
        "outputId": "d0e964b8-ca80-4adc-effe-682fe930659a"
      },
      "source": [
        "dict = {}\n",
        "for i in range(0,len(classes)):\n",
        "    dict[classes[i]] = i\n",
        "dict"
      ],
      "execution_count": 38,
      "outputs": [
        {
          "output_type": "execute_result",
          "data": {
            "text/plain": [
              "{'C': 1, 'Q': 2, 'S': 3, nan: 0}"
            ]
          },
          "metadata": {},
          "execution_count": 38
        }
      ]
    },
    {
      "cell_type": "code",
      "metadata": {
        "id": "lWsPSc-HlBj8"
      },
      "source": [
        "train['Embarked'] = [dict[train['Embarked'][i]]for i in range(0,len(train['Embarked']))]"
      ],
      "execution_count": 39,
      "outputs": []
    },
    {
      "cell_type": "code",
      "metadata": {
        "id": "uihoNjpylR1Y",
        "colab": {
          "base_uri": "https://localhost:8080/"
        },
        "outputId": "d8ce1436-66be-45d9-fbcb-7c6c675e65e0"
      },
      "source": [
        "train['Embarked']"
      ],
      "execution_count": 40,
      "outputs": [
        {
          "output_type": "execute_result",
          "data": {
            "text/plain": [
              "0      3\n",
              "1      1\n",
              "2      3\n",
              "3      3\n",
              "4      3\n",
              "      ..\n",
              "886    3\n",
              "887    3\n",
              "888    3\n",
              "889    1\n",
              "890    2\n",
              "Name: Embarked, Length: 891, dtype: int64"
            ]
          },
          "metadata": {},
          "execution_count": 40
        }
      ]
    },
    {
      "cell_type": "code",
      "metadata": {
        "id": "pb-7GAd4lii7",
        "colab": {
          "base_uri": "https://localhost:8080/",
          "height": 252
        },
        "outputId": "62ed7cb5-0133-4f59-f3fe-d6a5439e4ab1"
      },
      "source": [
        "train.head()"
      ],
      "execution_count": 41,
      "outputs": [
        {
          "output_type": "execute_result",
          "data": {
            "text/html": [
              "<div>\n",
              "<style scoped>\n",
              "    .dataframe tbody tr th:only-of-type {\n",
              "        vertical-align: middle;\n",
              "    }\n",
              "\n",
              "    .dataframe tbody tr th {\n",
              "        vertical-align: top;\n",
              "    }\n",
              "\n",
              "    .dataframe thead th {\n",
              "        text-align: right;\n",
              "    }\n",
              "</style>\n",
              "<table border=\"1\" class=\"dataframe\">\n",
              "  <thead>\n",
              "    <tr style=\"text-align: right;\">\n",
              "      <th></th>\n",
              "      <th>PassengerId</th>\n",
              "      <th>Survived</th>\n",
              "      <th>Pclass</th>\n",
              "      <th>Name</th>\n",
              "      <th>Sex</th>\n",
              "      <th>Age</th>\n",
              "      <th>SibSp</th>\n",
              "      <th>Parch</th>\n",
              "      <th>Ticket</th>\n",
              "      <th>Fare</th>\n",
              "      <th>Cabin</th>\n",
              "      <th>Embarked</th>\n",
              "    </tr>\n",
              "  </thead>\n",
              "  <tbody>\n",
              "    <tr>\n",
              "      <th>0</th>\n",
              "      <td>1</td>\n",
              "      <td>0</td>\n",
              "      <td>3</td>\n",
              "      <td>Braund, Mr. Owen Harris</td>\n",
              "      <td>male</td>\n",
              "      <td>22.0</td>\n",
              "      <td>1</td>\n",
              "      <td>0</td>\n",
              "      <td>A/5 21171</td>\n",
              "      <td>7.2500</td>\n",
              "      <td>NaN</td>\n",
              "      <td>3</td>\n",
              "    </tr>\n",
              "    <tr>\n",
              "      <th>1</th>\n",
              "      <td>2</td>\n",
              "      <td>1</td>\n",
              "      <td>1</td>\n",
              "      <td>Cumings, Mrs. John Bradley (Florence Briggs Th...</td>\n",
              "      <td>female</td>\n",
              "      <td>38.0</td>\n",
              "      <td>1</td>\n",
              "      <td>0</td>\n",
              "      <td>PC 17599</td>\n",
              "      <td>71.2833</td>\n",
              "      <td>C85</td>\n",
              "      <td>1</td>\n",
              "    </tr>\n",
              "    <tr>\n",
              "      <th>2</th>\n",
              "      <td>3</td>\n",
              "      <td>1</td>\n",
              "      <td>3</td>\n",
              "      <td>Heikkinen, Miss. Laina</td>\n",
              "      <td>female</td>\n",
              "      <td>26.0</td>\n",
              "      <td>0</td>\n",
              "      <td>0</td>\n",
              "      <td>STON/O2. 3101282</td>\n",
              "      <td>7.9250</td>\n",
              "      <td>NaN</td>\n",
              "      <td>3</td>\n",
              "    </tr>\n",
              "    <tr>\n",
              "      <th>3</th>\n",
              "      <td>4</td>\n",
              "      <td>1</td>\n",
              "      <td>1</td>\n",
              "      <td>Futrelle, Mrs. Jacques Heath (Lily May Peel)</td>\n",
              "      <td>female</td>\n",
              "      <td>35.0</td>\n",
              "      <td>1</td>\n",
              "      <td>0</td>\n",
              "      <td>113803</td>\n",
              "      <td>53.1000</td>\n",
              "      <td>C123</td>\n",
              "      <td>3</td>\n",
              "    </tr>\n",
              "    <tr>\n",
              "      <th>4</th>\n",
              "      <td>5</td>\n",
              "      <td>0</td>\n",
              "      <td>3</td>\n",
              "      <td>Allen, Mr. William Henry</td>\n",
              "      <td>male</td>\n",
              "      <td>35.0</td>\n",
              "      <td>0</td>\n",
              "      <td>0</td>\n",
              "      <td>373450</td>\n",
              "      <td>8.0500</td>\n",
              "      <td>NaN</td>\n",
              "      <td>3</td>\n",
              "    </tr>\n",
              "  </tbody>\n",
              "</table>\n",
              "</div>"
            ],
            "text/plain": [
              "   PassengerId  Survived  Pclass  ...     Fare Cabin  Embarked\n",
              "0            1         0       3  ...   7.2500   NaN         3\n",
              "1            2         1       1  ...  71.2833   C85         1\n",
              "2            3         1       3  ...   7.9250   NaN         3\n",
              "3            4         1       1  ...  53.1000  C123         3\n",
              "4            5         0       3  ...   8.0500   NaN         3\n",
              "\n",
              "[5 rows x 12 columns]"
            ]
          },
          "metadata": {},
          "execution_count": 41
        }
      ]
    },
    {
      "cell_type": "code",
      "metadata": {
        "id": "ALjAvbUOl0pw"
      },
      "source": [
        "# label encoding the data \n",
        "from sklearn.preprocessing import LabelEncoder \n",
        "\n",
        "le = LabelEncoder() \n",
        "train['Sex']= le.fit_transform(train['Sex']) "
      ],
      "execution_count": 42,
      "outputs": []
    },
    {
      "cell_type": "code",
      "metadata": {
        "id": "EGPPh_oil1YW",
        "colab": {
          "base_uri": "https://localhost:8080/",
          "height": 482
        },
        "outputId": "c2e59c30-b3b8-4500-e766-73b10973fd5c"
      },
      "source": [
        "train"
      ],
      "execution_count": 43,
      "outputs": [
        {
          "output_type": "execute_result",
          "data": {
            "text/html": [
              "<div>\n",
              "<style scoped>\n",
              "    .dataframe tbody tr th:only-of-type {\n",
              "        vertical-align: middle;\n",
              "    }\n",
              "\n",
              "    .dataframe tbody tr th {\n",
              "        vertical-align: top;\n",
              "    }\n",
              "\n",
              "    .dataframe thead th {\n",
              "        text-align: right;\n",
              "    }\n",
              "</style>\n",
              "<table border=\"1\" class=\"dataframe\">\n",
              "  <thead>\n",
              "    <tr style=\"text-align: right;\">\n",
              "      <th></th>\n",
              "      <th>PassengerId</th>\n",
              "      <th>Survived</th>\n",
              "      <th>Pclass</th>\n",
              "      <th>Name</th>\n",
              "      <th>Sex</th>\n",
              "      <th>Age</th>\n",
              "      <th>SibSp</th>\n",
              "      <th>Parch</th>\n",
              "      <th>Ticket</th>\n",
              "      <th>Fare</th>\n",
              "      <th>Cabin</th>\n",
              "      <th>Embarked</th>\n",
              "    </tr>\n",
              "  </thead>\n",
              "  <tbody>\n",
              "    <tr>\n",
              "      <th>0</th>\n",
              "      <td>1</td>\n",
              "      <td>0</td>\n",
              "      <td>3</td>\n",
              "      <td>Braund, Mr. Owen Harris</td>\n",
              "      <td>1</td>\n",
              "      <td>22.0</td>\n",
              "      <td>1</td>\n",
              "      <td>0</td>\n",
              "      <td>A/5 21171</td>\n",
              "      <td>7.2500</td>\n",
              "      <td>NaN</td>\n",
              "      <td>3</td>\n",
              "    </tr>\n",
              "    <tr>\n",
              "      <th>1</th>\n",
              "      <td>2</td>\n",
              "      <td>1</td>\n",
              "      <td>1</td>\n",
              "      <td>Cumings, Mrs. John Bradley (Florence Briggs Th...</td>\n",
              "      <td>0</td>\n",
              "      <td>38.0</td>\n",
              "      <td>1</td>\n",
              "      <td>0</td>\n",
              "      <td>PC 17599</td>\n",
              "      <td>71.2833</td>\n",
              "      <td>C85</td>\n",
              "      <td>1</td>\n",
              "    </tr>\n",
              "    <tr>\n",
              "      <th>2</th>\n",
              "      <td>3</td>\n",
              "      <td>1</td>\n",
              "      <td>3</td>\n",
              "      <td>Heikkinen, Miss. Laina</td>\n",
              "      <td>0</td>\n",
              "      <td>26.0</td>\n",
              "      <td>0</td>\n",
              "      <td>0</td>\n",
              "      <td>STON/O2. 3101282</td>\n",
              "      <td>7.9250</td>\n",
              "      <td>NaN</td>\n",
              "      <td>3</td>\n",
              "    </tr>\n",
              "    <tr>\n",
              "      <th>3</th>\n",
              "      <td>4</td>\n",
              "      <td>1</td>\n",
              "      <td>1</td>\n",
              "      <td>Futrelle, Mrs. Jacques Heath (Lily May Peel)</td>\n",
              "      <td>0</td>\n",
              "      <td>35.0</td>\n",
              "      <td>1</td>\n",
              "      <td>0</td>\n",
              "      <td>113803</td>\n",
              "      <td>53.1000</td>\n",
              "      <td>C123</td>\n",
              "      <td>3</td>\n",
              "    </tr>\n",
              "    <tr>\n",
              "      <th>4</th>\n",
              "      <td>5</td>\n",
              "      <td>0</td>\n",
              "      <td>3</td>\n",
              "      <td>Allen, Mr. William Henry</td>\n",
              "      <td>1</td>\n",
              "      <td>35.0</td>\n",
              "      <td>0</td>\n",
              "      <td>0</td>\n",
              "      <td>373450</td>\n",
              "      <td>8.0500</td>\n",
              "      <td>NaN</td>\n",
              "      <td>3</td>\n",
              "    </tr>\n",
              "    <tr>\n",
              "      <th>...</th>\n",
              "      <td>...</td>\n",
              "      <td>...</td>\n",
              "      <td>...</td>\n",
              "      <td>...</td>\n",
              "      <td>...</td>\n",
              "      <td>...</td>\n",
              "      <td>...</td>\n",
              "      <td>...</td>\n",
              "      <td>...</td>\n",
              "      <td>...</td>\n",
              "      <td>...</td>\n",
              "      <td>...</td>\n",
              "    </tr>\n",
              "    <tr>\n",
              "      <th>886</th>\n",
              "      <td>887</td>\n",
              "      <td>0</td>\n",
              "      <td>2</td>\n",
              "      <td>Montvila, Rev. Juozas</td>\n",
              "      <td>1</td>\n",
              "      <td>27.0</td>\n",
              "      <td>0</td>\n",
              "      <td>0</td>\n",
              "      <td>211536</td>\n",
              "      <td>13.0000</td>\n",
              "      <td>NaN</td>\n",
              "      <td>3</td>\n",
              "    </tr>\n",
              "    <tr>\n",
              "      <th>887</th>\n",
              "      <td>888</td>\n",
              "      <td>1</td>\n",
              "      <td>1</td>\n",
              "      <td>Graham, Miss. Margaret Edith</td>\n",
              "      <td>0</td>\n",
              "      <td>19.0</td>\n",
              "      <td>0</td>\n",
              "      <td>0</td>\n",
              "      <td>112053</td>\n",
              "      <td>30.0000</td>\n",
              "      <td>B42</td>\n",
              "      <td>3</td>\n",
              "    </tr>\n",
              "    <tr>\n",
              "      <th>888</th>\n",
              "      <td>889</td>\n",
              "      <td>0</td>\n",
              "      <td>3</td>\n",
              "      <td>Johnston, Miss. Catherine Helen \"Carrie\"</td>\n",
              "      <td>0</td>\n",
              "      <td>NaN</td>\n",
              "      <td>1</td>\n",
              "      <td>2</td>\n",
              "      <td>W./C. 6607</td>\n",
              "      <td>23.4500</td>\n",
              "      <td>NaN</td>\n",
              "      <td>3</td>\n",
              "    </tr>\n",
              "    <tr>\n",
              "      <th>889</th>\n",
              "      <td>890</td>\n",
              "      <td>1</td>\n",
              "      <td>1</td>\n",
              "      <td>Behr, Mr. Karl Howell</td>\n",
              "      <td>1</td>\n",
              "      <td>26.0</td>\n",
              "      <td>0</td>\n",
              "      <td>0</td>\n",
              "      <td>111369</td>\n",
              "      <td>30.0000</td>\n",
              "      <td>C148</td>\n",
              "      <td>1</td>\n",
              "    </tr>\n",
              "    <tr>\n",
              "      <th>890</th>\n",
              "      <td>891</td>\n",
              "      <td>0</td>\n",
              "      <td>3</td>\n",
              "      <td>Dooley, Mr. Patrick</td>\n",
              "      <td>1</td>\n",
              "      <td>32.0</td>\n",
              "      <td>0</td>\n",
              "      <td>0</td>\n",
              "      <td>370376</td>\n",
              "      <td>7.7500</td>\n",
              "      <td>NaN</td>\n",
              "      <td>2</td>\n",
              "    </tr>\n",
              "  </tbody>\n",
              "</table>\n",
              "<p>891 rows × 12 columns</p>\n",
              "</div>"
            ],
            "text/plain": [
              "     PassengerId  Survived  Pclass  ...     Fare  Cabin  Embarked\n",
              "0              1         0       3  ...   7.2500    NaN         3\n",
              "1              2         1       1  ...  71.2833    C85         1\n",
              "2              3         1       3  ...   7.9250    NaN         3\n",
              "3              4         1       1  ...  53.1000   C123         3\n",
              "4              5         0       3  ...   8.0500    NaN         3\n",
              "..           ...       ...     ...  ...      ...    ...       ...\n",
              "886          887         0       2  ...  13.0000    NaN         3\n",
              "887          888         1       1  ...  30.0000    B42         3\n",
              "888          889         0       3  ...  23.4500    NaN         3\n",
              "889          890         1       1  ...  30.0000   C148         1\n",
              "890          891         0       3  ...   7.7500    NaN         2\n",
              "\n",
              "[891 rows x 12 columns]"
            ]
          },
          "metadata": {},
          "execution_count": 43
        }
      ]
    },
    {
      "cell_type": "markdown",
      "metadata": {
        "id": "-b4T_Zamln9H"
      },
      "source": [
        "## <font color='Orange'>One-Hot encoding</font>"
      ]
    },
    {
      "cell_type": "code",
      "metadata": {
        "id": "D5pG6lIMllnL",
        "colab": {
          "base_uri": "https://localhost:8080/",
          "height": 683
        },
        "outputId": "894bb5f5-e302-4eb3-d97a-38693b8c12c8"
      },
      "source": [
        "import pandas as pd\n",
        "import numpy as np\n",
        "from sklearn.preprocessing import OneHotEncoder\n",
        "# creating instance of one-hot-encoder\n",
        "enc = OneHotEncoder(handle_unknown='ignore')\n",
        "\n",
        "enc_df = pd.DataFrame(enc.fit_transform(train[['Embarked']]).toarray())\n",
        "# merge with the train data on key values\n",
        "train = train.join(enc_df)\n",
        "train"
      ],
      "execution_count": 44,
      "outputs": [
        {
          "output_type": "execute_result",
          "data": {
            "text/html": [
              "<div>\n",
              "<style scoped>\n",
              "    .dataframe tbody tr th:only-of-type {\n",
              "        vertical-align: middle;\n",
              "    }\n",
              "\n",
              "    .dataframe tbody tr th {\n",
              "        vertical-align: top;\n",
              "    }\n",
              "\n",
              "    .dataframe thead th {\n",
              "        text-align: right;\n",
              "    }\n",
              "</style>\n",
              "<table border=\"1\" class=\"dataframe\">\n",
              "  <thead>\n",
              "    <tr style=\"text-align: right;\">\n",
              "      <th></th>\n",
              "      <th>PassengerId</th>\n",
              "      <th>Survived</th>\n",
              "      <th>Pclass</th>\n",
              "      <th>Name</th>\n",
              "      <th>Sex</th>\n",
              "      <th>Age</th>\n",
              "      <th>SibSp</th>\n",
              "      <th>Parch</th>\n",
              "      <th>Ticket</th>\n",
              "      <th>Fare</th>\n",
              "      <th>Cabin</th>\n",
              "      <th>Embarked</th>\n",
              "      <th>0</th>\n",
              "      <th>1</th>\n",
              "      <th>2</th>\n",
              "      <th>3</th>\n",
              "    </tr>\n",
              "  </thead>\n",
              "  <tbody>\n",
              "    <tr>\n",
              "      <th>0</th>\n",
              "      <td>1</td>\n",
              "      <td>0</td>\n",
              "      <td>3</td>\n",
              "      <td>Braund, Mr. Owen Harris</td>\n",
              "      <td>1</td>\n",
              "      <td>22.0</td>\n",
              "      <td>1</td>\n",
              "      <td>0</td>\n",
              "      <td>A/5 21171</td>\n",
              "      <td>7.2500</td>\n",
              "      <td>NaN</td>\n",
              "      <td>3</td>\n",
              "      <td>0.0</td>\n",
              "      <td>0.0</td>\n",
              "      <td>0.0</td>\n",
              "      <td>1.0</td>\n",
              "    </tr>\n",
              "    <tr>\n",
              "      <th>1</th>\n",
              "      <td>2</td>\n",
              "      <td>1</td>\n",
              "      <td>1</td>\n",
              "      <td>Cumings, Mrs. John Bradley (Florence Briggs Th...</td>\n",
              "      <td>0</td>\n",
              "      <td>38.0</td>\n",
              "      <td>1</td>\n",
              "      <td>0</td>\n",
              "      <td>PC 17599</td>\n",
              "      <td>71.2833</td>\n",
              "      <td>C85</td>\n",
              "      <td>1</td>\n",
              "      <td>0.0</td>\n",
              "      <td>1.0</td>\n",
              "      <td>0.0</td>\n",
              "      <td>0.0</td>\n",
              "    </tr>\n",
              "    <tr>\n",
              "      <th>2</th>\n",
              "      <td>3</td>\n",
              "      <td>1</td>\n",
              "      <td>3</td>\n",
              "      <td>Heikkinen, Miss. Laina</td>\n",
              "      <td>0</td>\n",
              "      <td>26.0</td>\n",
              "      <td>0</td>\n",
              "      <td>0</td>\n",
              "      <td>STON/O2. 3101282</td>\n",
              "      <td>7.9250</td>\n",
              "      <td>NaN</td>\n",
              "      <td>3</td>\n",
              "      <td>0.0</td>\n",
              "      <td>0.0</td>\n",
              "      <td>0.0</td>\n",
              "      <td>1.0</td>\n",
              "    </tr>\n",
              "    <tr>\n",
              "      <th>3</th>\n",
              "      <td>4</td>\n",
              "      <td>1</td>\n",
              "      <td>1</td>\n",
              "      <td>Futrelle, Mrs. Jacques Heath (Lily May Peel)</td>\n",
              "      <td>0</td>\n",
              "      <td>35.0</td>\n",
              "      <td>1</td>\n",
              "      <td>0</td>\n",
              "      <td>113803</td>\n",
              "      <td>53.1000</td>\n",
              "      <td>C123</td>\n",
              "      <td>3</td>\n",
              "      <td>0.0</td>\n",
              "      <td>0.0</td>\n",
              "      <td>0.0</td>\n",
              "      <td>1.0</td>\n",
              "    </tr>\n",
              "    <tr>\n",
              "      <th>4</th>\n",
              "      <td>5</td>\n",
              "      <td>0</td>\n",
              "      <td>3</td>\n",
              "      <td>Allen, Mr. William Henry</td>\n",
              "      <td>1</td>\n",
              "      <td>35.0</td>\n",
              "      <td>0</td>\n",
              "      <td>0</td>\n",
              "      <td>373450</td>\n",
              "      <td>8.0500</td>\n",
              "      <td>NaN</td>\n",
              "      <td>3</td>\n",
              "      <td>0.0</td>\n",
              "      <td>0.0</td>\n",
              "      <td>0.0</td>\n",
              "      <td>1.0</td>\n",
              "    </tr>\n",
              "    <tr>\n",
              "      <th>...</th>\n",
              "      <td>...</td>\n",
              "      <td>...</td>\n",
              "      <td>...</td>\n",
              "      <td>...</td>\n",
              "      <td>...</td>\n",
              "      <td>...</td>\n",
              "      <td>...</td>\n",
              "      <td>...</td>\n",
              "      <td>...</td>\n",
              "      <td>...</td>\n",
              "      <td>...</td>\n",
              "      <td>...</td>\n",
              "      <td>...</td>\n",
              "      <td>...</td>\n",
              "      <td>...</td>\n",
              "      <td>...</td>\n",
              "    </tr>\n",
              "    <tr>\n",
              "      <th>886</th>\n",
              "      <td>887</td>\n",
              "      <td>0</td>\n",
              "      <td>2</td>\n",
              "      <td>Montvila, Rev. Juozas</td>\n",
              "      <td>1</td>\n",
              "      <td>27.0</td>\n",
              "      <td>0</td>\n",
              "      <td>0</td>\n",
              "      <td>211536</td>\n",
              "      <td>13.0000</td>\n",
              "      <td>NaN</td>\n",
              "      <td>3</td>\n",
              "      <td>0.0</td>\n",
              "      <td>0.0</td>\n",
              "      <td>0.0</td>\n",
              "      <td>1.0</td>\n",
              "    </tr>\n",
              "    <tr>\n",
              "      <th>887</th>\n",
              "      <td>888</td>\n",
              "      <td>1</td>\n",
              "      <td>1</td>\n",
              "      <td>Graham, Miss. Margaret Edith</td>\n",
              "      <td>0</td>\n",
              "      <td>19.0</td>\n",
              "      <td>0</td>\n",
              "      <td>0</td>\n",
              "      <td>112053</td>\n",
              "      <td>30.0000</td>\n",
              "      <td>B42</td>\n",
              "      <td>3</td>\n",
              "      <td>0.0</td>\n",
              "      <td>0.0</td>\n",
              "      <td>0.0</td>\n",
              "      <td>1.0</td>\n",
              "    </tr>\n",
              "    <tr>\n",
              "      <th>888</th>\n",
              "      <td>889</td>\n",
              "      <td>0</td>\n",
              "      <td>3</td>\n",
              "      <td>Johnston, Miss. Catherine Helen \"Carrie\"</td>\n",
              "      <td>0</td>\n",
              "      <td>NaN</td>\n",
              "      <td>1</td>\n",
              "      <td>2</td>\n",
              "      <td>W./C. 6607</td>\n",
              "      <td>23.4500</td>\n",
              "      <td>NaN</td>\n",
              "      <td>3</td>\n",
              "      <td>0.0</td>\n",
              "      <td>0.0</td>\n",
              "      <td>0.0</td>\n",
              "      <td>1.0</td>\n",
              "    </tr>\n",
              "    <tr>\n",
              "      <th>889</th>\n",
              "      <td>890</td>\n",
              "      <td>1</td>\n",
              "      <td>1</td>\n",
              "      <td>Behr, Mr. Karl Howell</td>\n",
              "      <td>1</td>\n",
              "      <td>26.0</td>\n",
              "      <td>0</td>\n",
              "      <td>0</td>\n",
              "      <td>111369</td>\n",
              "      <td>30.0000</td>\n",
              "      <td>C148</td>\n",
              "      <td>1</td>\n",
              "      <td>0.0</td>\n",
              "      <td>1.0</td>\n",
              "      <td>0.0</td>\n",
              "      <td>0.0</td>\n",
              "    </tr>\n",
              "    <tr>\n",
              "      <th>890</th>\n",
              "      <td>891</td>\n",
              "      <td>0</td>\n",
              "      <td>3</td>\n",
              "      <td>Dooley, Mr. Patrick</td>\n",
              "      <td>1</td>\n",
              "      <td>32.0</td>\n",
              "      <td>0</td>\n",
              "      <td>0</td>\n",
              "      <td>370376</td>\n",
              "      <td>7.7500</td>\n",
              "      <td>NaN</td>\n",
              "      <td>2</td>\n",
              "      <td>0.0</td>\n",
              "      <td>0.0</td>\n",
              "      <td>1.0</td>\n",
              "      <td>0.0</td>\n",
              "    </tr>\n",
              "  </tbody>\n",
              "</table>\n",
              "<p>891 rows × 16 columns</p>\n",
              "</div>"
            ],
            "text/plain": [
              "     PassengerId  Survived  Pclass  ...    1    2    3\n",
              "0              1         0       3  ...  0.0  0.0  1.0\n",
              "1              2         1       1  ...  1.0  0.0  0.0\n",
              "2              3         1       3  ...  0.0  0.0  1.0\n",
              "3              4         1       1  ...  0.0  0.0  1.0\n",
              "4              5         0       3  ...  0.0  0.0  1.0\n",
              "..           ...       ...     ...  ...  ...  ...  ...\n",
              "886          887         0       2  ...  0.0  0.0  1.0\n",
              "887          888         1       1  ...  0.0  0.0  1.0\n",
              "888          889         0       3  ...  0.0  0.0  1.0\n",
              "889          890         1       1  ...  1.0  0.0  0.0\n",
              "890          891         0       3  ...  0.0  1.0  0.0\n",
              "\n",
              "[891 rows x 16 columns]"
            ]
          },
          "metadata": {},
          "execution_count": 44
        }
      ]
    },
    {
      "cell_type": "markdown",
      "metadata": {
        "id": "kaEhq9J1qcqh"
      },
      "source": [
        "# <font color='Orange'>Text data vectorization</font>"
      ]
    },
    {
      "cell_type": "markdown",
      "metadata": {
        "id": "fcHL73QvqpIC"
      },
      "source": [
        "## <font color='Orange'>Using CountVectorizer</font>"
      ]
    },
    {
      "cell_type": "code",
      "metadata": {
        "id": "2-NDwUwNm_Kv",
        "colab": {
          "base_uri": "https://localhost:8080/",
          "height": 435
        },
        "outputId": "e362899a-0c09-4e79-87c6-44171390c86c"
      },
      "source": [
        "\n",
        "from sklearn.feature_extraction.text import CountVectorizer\n",
        "\n",
        "\n",
        "vectorizer = CountVectorizer()\n",
        "names = train['Name']\n",
        "X = vectorizer.fit_transform(names)\n",
        "feature_names = vectorizer.get_feature_names()\n",
        "dense = X.todense()\n",
        "denselist = dense.tolist()\n",
        "df = pd.DataFrame(denselist, columns=feature_names)\n",
        "df"
      ],
      "execution_count": 45,
      "outputs": [
        {
          "output_type": "execute_result",
          "data": {
            "text/html": [
              "<div>\n",
              "<style scoped>\n",
              "    .dataframe tbody tr th:only-of-type {\n",
              "        vertical-align: middle;\n",
              "    }\n",
              "\n",
              "    .dataframe tbody tr th {\n",
              "        vertical-align: top;\n",
              "    }\n",
              "\n",
              "    .dataframe thead th {\n",
              "        text-align: right;\n",
              "    }\n",
              "</style>\n",
              "<table border=\"1\" class=\"dataframe\">\n",
              "  <thead>\n",
              "    <tr style=\"text-align: right;\">\n",
              "      <th></th>\n",
              "      <th>aaron</th>\n",
              "      <th>abbing</th>\n",
              "      <th>abbott</th>\n",
              "      <th>abelson</th>\n",
              "      <th>abraham</th>\n",
              "      <th>achem</th>\n",
              "      <th>achille</th>\n",
              "      <th>achilles</th>\n",
              "      <th>ada</th>\n",
              "      <th>adahl</th>\n",
              "      <th>adams</th>\n",
              "      <th>adelaide</th>\n",
              "      <th>adele</th>\n",
              "      <th>adelia</th>\n",
              "      <th>adola</th>\n",
              "      <th>adolf</th>\n",
              "      <th>adolfina</th>\n",
              "      <th>adolphe</th>\n",
              "      <th>adrian</th>\n",
              "      <th>agatha</th>\n",
              "      <th>agda</th>\n",
              "      <th>agnes</th>\n",
              "      <th>ahlin</th>\n",
              "      <th>ahmed</th>\n",
              "      <th>aijo</th>\n",
              "      <th>aime</th>\n",
              "      <th>aina</th>\n",
              "      <th>aks</th>\n",
              "      <th>albert</th>\n",
              "      <th>albimona</th>\n",
              "      <th>albin</th>\n",
              "      <th>albina</th>\n",
              "      <th>alden</th>\n",
              "      <th>alexander</th>\n",
              "      <th>alexandra</th>\n",
              "      <th>alexanteri</th>\n",
              "      <th>alexenia</th>\n",
              "      <th>alfons</th>\n",
              "      <th>alfonzo</th>\n",
              "      <th>alfred</th>\n",
              "      <th>...</th>\n",
              "      <th>white</th>\n",
              "      <th>wick</th>\n",
              "      <th>widegren</th>\n",
              "      <th>widener</th>\n",
              "      <th>wiklund</th>\n",
              "      <th>wilhelm</th>\n",
              "      <th>wilhelmina</th>\n",
              "      <th>wilhelms</th>\n",
              "      <th>wilkinson</th>\n",
              "      <th>willey</th>\n",
              "      <th>william</th>\n",
              "      <th>williams</th>\n",
              "      <th>willingham</th>\n",
              "      <th>wills</th>\n",
              "      <th>wilson</th>\n",
              "      <th>windelov</th>\n",
              "      <th>winfield</th>\n",
              "      <th>winnie</th>\n",
              "      <th>wiseman</th>\n",
              "      <th>wizosky</th>\n",
              "      <th>wonnacott</th>\n",
              "      <th>wood</th>\n",
              "      <th>woolner</th>\n",
              "      <th>worth</th>\n",
              "      <th>wright</th>\n",
              "      <th>wyckoff</th>\n",
              "      <th>yarred</th>\n",
              "      <th>yasbeck</th>\n",
              "      <th>yoto</th>\n",
              "      <th>young</th>\n",
              "      <th>youseff</th>\n",
              "      <th>yousif</th>\n",
              "      <th>youssef</th>\n",
              "      <th>yousseff</th>\n",
              "      <th>yrois</th>\n",
              "      <th>zabour</th>\n",
              "      <th>zebley</th>\n",
              "      <th>zenni</th>\n",
              "      <th>zillah</th>\n",
              "      <th>zimmerman</th>\n",
              "    </tr>\n",
              "  </thead>\n",
              "  <tbody>\n",
              "    <tr>\n",
              "      <th>0</th>\n",
              "      <td>0</td>\n",
              "      <td>0</td>\n",
              "      <td>0</td>\n",
              "      <td>0</td>\n",
              "      <td>0</td>\n",
              "      <td>0</td>\n",
              "      <td>0</td>\n",
              "      <td>0</td>\n",
              "      <td>0</td>\n",
              "      <td>0</td>\n",
              "      <td>0</td>\n",
              "      <td>0</td>\n",
              "      <td>0</td>\n",
              "      <td>0</td>\n",
              "      <td>0</td>\n",
              "      <td>0</td>\n",
              "      <td>0</td>\n",
              "      <td>0</td>\n",
              "      <td>0</td>\n",
              "      <td>0</td>\n",
              "      <td>0</td>\n",
              "      <td>0</td>\n",
              "      <td>0</td>\n",
              "      <td>0</td>\n",
              "      <td>0</td>\n",
              "      <td>0</td>\n",
              "      <td>0</td>\n",
              "      <td>0</td>\n",
              "      <td>0</td>\n",
              "      <td>0</td>\n",
              "      <td>0</td>\n",
              "      <td>0</td>\n",
              "      <td>0</td>\n",
              "      <td>0</td>\n",
              "      <td>0</td>\n",
              "      <td>0</td>\n",
              "      <td>0</td>\n",
              "      <td>0</td>\n",
              "      <td>0</td>\n",
              "      <td>0</td>\n",
              "      <td>...</td>\n",
              "      <td>0</td>\n",
              "      <td>0</td>\n",
              "      <td>0</td>\n",
              "      <td>0</td>\n",
              "      <td>0</td>\n",
              "      <td>0</td>\n",
              "      <td>0</td>\n",
              "      <td>0</td>\n",
              "      <td>0</td>\n",
              "      <td>0</td>\n",
              "      <td>0</td>\n",
              "      <td>0</td>\n",
              "      <td>0</td>\n",
              "      <td>0</td>\n",
              "      <td>0</td>\n",
              "      <td>0</td>\n",
              "      <td>0</td>\n",
              "      <td>0</td>\n",
              "      <td>0</td>\n",
              "      <td>0</td>\n",
              "      <td>0</td>\n",
              "      <td>0</td>\n",
              "      <td>0</td>\n",
              "      <td>0</td>\n",
              "      <td>0</td>\n",
              "      <td>0</td>\n",
              "      <td>0</td>\n",
              "      <td>0</td>\n",
              "      <td>0</td>\n",
              "      <td>0</td>\n",
              "      <td>0</td>\n",
              "      <td>0</td>\n",
              "      <td>0</td>\n",
              "      <td>0</td>\n",
              "      <td>0</td>\n",
              "      <td>0</td>\n",
              "      <td>0</td>\n",
              "      <td>0</td>\n",
              "      <td>0</td>\n",
              "      <td>0</td>\n",
              "    </tr>\n",
              "    <tr>\n",
              "      <th>1</th>\n",
              "      <td>0</td>\n",
              "      <td>0</td>\n",
              "      <td>0</td>\n",
              "      <td>0</td>\n",
              "      <td>0</td>\n",
              "      <td>0</td>\n",
              "      <td>0</td>\n",
              "      <td>0</td>\n",
              "      <td>0</td>\n",
              "      <td>0</td>\n",
              "      <td>0</td>\n",
              "      <td>0</td>\n",
              "      <td>0</td>\n",
              "      <td>0</td>\n",
              "      <td>0</td>\n",
              "      <td>0</td>\n",
              "      <td>0</td>\n",
              "      <td>0</td>\n",
              "      <td>0</td>\n",
              "      <td>0</td>\n",
              "      <td>0</td>\n",
              "      <td>0</td>\n",
              "      <td>0</td>\n",
              "      <td>0</td>\n",
              "      <td>0</td>\n",
              "      <td>0</td>\n",
              "      <td>0</td>\n",
              "      <td>0</td>\n",
              "      <td>0</td>\n",
              "      <td>0</td>\n",
              "      <td>0</td>\n",
              "      <td>0</td>\n",
              "      <td>0</td>\n",
              "      <td>0</td>\n",
              "      <td>0</td>\n",
              "      <td>0</td>\n",
              "      <td>0</td>\n",
              "      <td>0</td>\n",
              "      <td>0</td>\n",
              "      <td>0</td>\n",
              "      <td>...</td>\n",
              "      <td>0</td>\n",
              "      <td>0</td>\n",
              "      <td>0</td>\n",
              "      <td>0</td>\n",
              "      <td>0</td>\n",
              "      <td>0</td>\n",
              "      <td>0</td>\n",
              "      <td>0</td>\n",
              "      <td>0</td>\n",
              "      <td>0</td>\n",
              "      <td>0</td>\n",
              "      <td>0</td>\n",
              "      <td>0</td>\n",
              "      <td>0</td>\n",
              "      <td>0</td>\n",
              "      <td>0</td>\n",
              "      <td>0</td>\n",
              "      <td>0</td>\n",
              "      <td>0</td>\n",
              "      <td>0</td>\n",
              "      <td>0</td>\n",
              "      <td>0</td>\n",
              "      <td>0</td>\n",
              "      <td>0</td>\n",
              "      <td>0</td>\n",
              "      <td>0</td>\n",
              "      <td>0</td>\n",
              "      <td>0</td>\n",
              "      <td>0</td>\n",
              "      <td>0</td>\n",
              "      <td>0</td>\n",
              "      <td>0</td>\n",
              "      <td>0</td>\n",
              "      <td>0</td>\n",
              "      <td>0</td>\n",
              "      <td>0</td>\n",
              "      <td>0</td>\n",
              "      <td>0</td>\n",
              "      <td>0</td>\n",
              "      <td>0</td>\n",
              "    </tr>\n",
              "    <tr>\n",
              "      <th>2</th>\n",
              "      <td>0</td>\n",
              "      <td>0</td>\n",
              "      <td>0</td>\n",
              "      <td>0</td>\n",
              "      <td>0</td>\n",
              "      <td>0</td>\n",
              "      <td>0</td>\n",
              "      <td>0</td>\n",
              "      <td>0</td>\n",
              "      <td>0</td>\n",
              "      <td>0</td>\n",
              "      <td>0</td>\n",
              "      <td>0</td>\n",
              "      <td>0</td>\n",
              "      <td>0</td>\n",
              "      <td>0</td>\n",
              "      <td>0</td>\n",
              "      <td>0</td>\n",
              "      <td>0</td>\n",
              "      <td>0</td>\n",
              "      <td>0</td>\n",
              "      <td>0</td>\n",
              "      <td>0</td>\n",
              "      <td>0</td>\n",
              "      <td>0</td>\n",
              "      <td>0</td>\n",
              "      <td>0</td>\n",
              "      <td>0</td>\n",
              "      <td>0</td>\n",
              "      <td>0</td>\n",
              "      <td>0</td>\n",
              "      <td>0</td>\n",
              "      <td>0</td>\n",
              "      <td>0</td>\n",
              "      <td>0</td>\n",
              "      <td>0</td>\n",
              "      <td>0</td>\n",
              "      <td>0</td>\n",
              "      <td>0</td>\n",
              "      <td>0</td>\n",
              "      <td>...</td>\n",
              "      <td>0</td>\n",
              "      <td>0</td>\n",
              "      <td>0</td>\n",
              "      <td>0</td>\n",
              "      <td>0</td>\n",
              "      <td>0</td>\n",
              "      <td>0</td>\n",
              "      <td>0</td>\n",
              "      <td>0</td>\n",
              "      <td>0</td>\n",
              "      <td>0</td>\n",
              "      <td>0</td>\n",
              "      <td>0</td>\n",
              "      <td>0</td>\n",
              "      <td>0</td>\n",
              "      <td>0</td>\n",
              "      <td>0</td>\n",
              "      <td>0</td>\n",
              "      <td>0</td>\n",
              "      <td>0</td>\n",
              "      <td>0</td>\n",
              "      <td>0</td>\n",
              "      <td>0</td>\n",
              "      <td>0</td>\n",
              "      <td>0</td>\n",
              "      <td>0</td>\n",
              "      <td>0</td>\n",
              "      <td>0</td>\n",
              "      <td>0</td>\n",
              "      <td>0</td>\n",
              "      <td>0</td>\n",
              "      <td>0</td>\n",
              "      <td>0</td>\n",
              "      <td>0</td>\n",
              "      <td>0</td>\n",
              "      <td>0</td>\n",
              "      <td>0</td>\n",
              "      <td>0</td>\n",
              "      <td>0</td>\n",
              "      <td>0</td>\n",
              "    </tr>\n",
              "    <tr>\n",
              "      <th>3</th>\n",
              "      <td>0</td>\n",
              "      <td>0</td>\n",
              "      <td>0</td>\n",
              "      <td>0</td>\n",
              "      <td>0</td>\n",
              "      <td>0</td>\n",
              "      <td>0</td>\n",
              "      <td>0</td>\n",
              "      <td>0</td>\n",
              "      <td>0</td>\n",
              "      <td>0</td>\n",
              "      <td>0</td>\n",
              "      <td>0</td>\n",
              "      <td>0</td>\n",
              "      <td>0</td>\n",
              "      <td>0</td>\n",
              "      <td>0</td>\n",
              "      <td>0</td>\n",
              "      <td>0</td>\n",
              "      <td>0</td>\n",
              "      <td>0</td>\n",
              "      <td>0</td>\n",
              "      <td>0</td>\n",
              "      <td>0</td>\n",
              "      <td>0</td>\n",
              "      <td>0</td>\n",
              "      <td>0</td>\n",
              "      <td>0</td>\n",
              "      <td>0</td>\n",
              "      <td>0</td>\n",
              "      <td>0</td>\n",
              "      <td>0</td>\n",
              "      <td>0</td>\n",
              "      <td>0</td>\n",
              "      <td>0</td>\n",
              "      <td>0</td>\n",
              "      <td>0</td>\n",
              "      <td>0</td>\n",
              "      <td>0</td>\n",
              "      <td>0</td>\n",
              "      <td>...</td>\n",
              "      <td>0</td>\n",
              "      <td>0</td>\n",
              "      <td>0</td>\n",
              "      <td>0</td>\n",
              "      <td>0</td>\n",
              "      <td>0</td>\n",
              "      <td>0</td>\n",
              "      <td>0</td>\n",
              "      <td>0</td>\n",
              "      <td>0</td>\n",
              "      <td>0</td>\n",
              "      <td>0</td>\n",
              "      <td>0</td>\n",
              "      <td>0</td>\n",
              "      <td>0</td>\n",
              "      <td>0</td>\n",
              "      <td>0</td>\n",
              "      <td>0</td>\n",
              "      <td>0</td>\n",
              "      <td>0</td>\n",
              "      <td>0</td>\n",
              "      <td>0</td>\n",
              "      <td>0</td>\n",
              "      <td>0</td>\n",
              "      <td>0</td>\n",
              "      <td>0</td>\n",
              "      <td>0</td>\n",
              "      <td>0</td>\n",
              "      <td>0</td>\n",
              "      <td>0</td>\n",
              "      <td>0</td>\n",
              "      <td>0</td>\n",
              "      <td>0</td>\n",
              "      <td>0</td>\n",
              "      <td>0</td>\n",
              "      <td>0</td>\n",
              "      <td>0</td>\n",
              "      <td>0</td>\n",
              "      <td>0</td>\n",
              "      <td>0</td>\n",
              "    </tr>\n",
              "    <tr>\n",
              "      <th>4</th>\n",
              "      <td>0</td>\n",
              "      <td>0</td>\n",
              "      <td>0</td>\n",
              "      <td>0</td>\n",
              "      <td>0</td>\n",
              "      <td>0</td>\n",
              "      <td>0</td>\n",
              "      <td>0</td>\n",
              "      <td>0</td>\n",
              "      <td>0</td>\n",
              "      <td>0</td>\n",
              "      <td>0</td>\n",
              "      <td>0</td>\n",
              "      <td>0</td>\n",
              "      <td>0</td>\n",
              "      <td>0</td>\n",
              "      <td>0</td>\n",
              "      <td>0</td>\n",
              "      <td>0</td>\n",
              "      <td>0</td>\n",
              "      <td>0</td>\n",
              "      <td>0</td>\n",
              "      <td>0</td>\n",
              "      <td>0</td>\n",
              "      <td>0</td>\n",
              "      <td>0</td>\n",
              "      <td>0</td>\n",
              "      <td>0</td>\n",
              "      <td>0</td>\n",
              "      <td>0</td>\n",
              "      <td>0</td>\n",
              "      <td>0</td>\n",
              "      <td>0</td>\n",
              "      <td>0</td>\n",
              "      <td>0</td>\n",
              "      <td>0</td>\n",
              "      <td>0</td>\n",
              "      <td>0</td>\n",
              "      <td>0</td>\n",
              "      <td>0</td>\n",
              "      <td>...</td>\n",
              "      <td>0</td>\n",
              "      <td>0</td>\n",
              "      <td>0</td>\n",
              "      <td>0</td>\n",
              "      <td>0</td>\n",
              "      <td>0</td>\n",
              "      <td>0</td>\n",
              "      <td>0</td>\n",
              "      <td>0</td>\n",
              "      <td>0</td>\n",
              "      <td>1</td>\n",
              "      <td>0</td>\n",
              "      <td>0</td>\n",
              "      <td>0</td>\n",
              "      <td>0</td>\n",
              "      <td>0</td>\n",
              "      <td>0</td>\n",
              "      <td>0</td>\n",
              "      <td>0</td>\n",
              "      <td>0</td>\n",
              "      <td>0</td>\n",
              "      <td>0</td>\n",
              "      <td>0</td>\n",
              "      <td>0</td>\n",
              "      <td>0</td>\n",
              "      <td>0</td>\n",
              "      <td>0</td>\n",
              "      <td>0</td>\n",
              "      <td>0</td>\n",
              "      <td>0</td>\n",
              "      <td>0</td>\n",
              "      <td>0</td>\n",
              "      <td>0</td>\n",
              "      <td>0</td>\n",
              "      <td>0</td>\n",
              "      <td>0</td>\n",
              "      <td>0</td>\n",
              "      <td>0</td>\n",
              "      <td>0</td>\n",
              "      <td>0</td>\n",
              "    </tr>\n",
              "    <tr>\n",
              "      <th>...</th>\n",
              "      <td>...</td>\n",
              "      <td>...</td>\n",
              "      <td>...</td>\n",
              "      <td>...</td>\n",
              "      <td>...</td>\n",
              "      <td>...</td>\n",
              "      <td>...</td>\n",
              "      <td>...</td>\n",
              "      <td>...</td>\n",
              "      <td>...</td>\n",
              "      <td>...</td>\n",
              "      <td>...</td>\n",
              "      <td>...</td>\n",
              "      <td>...</td>\n",
              "      <td>...</td>\n",
              "      <td>...</td>\n",
              "      <td>...</td>\n",
              "      <td>...</td>\n",
              "      <td>...</td>\n",
              "      <td>...</td>\n",
              "      <td>...</td>\n",
              "      <td>...</td>\n",
              "      <td>...</td>\n",
              "      <td>...</td>\n",
              "      <td>...</td>\n",
              "      <td>...</td>\n",
              "      <td>...</td>\n",
              "      <td>...</td>\n",
              "      <td>...</td>\n",
              "      <td>...</td>\n",
              "      <td>...</td>\n",
              "      <td>...</td>\n",
              "      <td>...</td>\n",
              "      <td>...</td>\n",
              "      <td>...</td>\n",
              "      <td>...</td>\n",
              "      <td>...</td>\n",
              "      <td>...</td>\n",
              "      <td>...</td>\n",
              "      <td>...</td>\n",
              "      <td>...</td>\n",
              "      <td>...</td>\n",
              "      <td>...</td>\n",
              "      <td>...</td>\n",
              "      <td>...</td>\n",
              "      <td>...</td>\n",
              "      <td>...</td>\n",
              "      <td>...</td>\n",
              "      <td>...</td>\n",
              "      <td>...</td>\n",
              "      <td>...</td>\n",
              "      <td>...</td>\n",
              "      <td>...</td>\n",
              "      <td>...</td>\n",
              "      <td>...</td>\n",
              "      <td>...</td>\n",
              "      <td>...</td>\n",
              "      <td>...</td>\n",
              "      <td>...</td>\n",
              "      <td>...</td>\n",
              "      <td>...</td>\n",
              "      <td>...</td>\n",
              "      <td>...</td>\n",
              "      <td>...</td>\n",
              "      <td>...</td>\n",
              "      <td>...</td>\n",
              "      <td>...</td>\n",
              "      <td>...</td>\n",
              "      <td>...</td>\n",
              "      <td>...</td>\n",
              "      <td>...</td>\n",
              "      <td>...</td>\n",
              "      <td>...</td>\n",
              "      <td>...</td>\n",
              "      <td>...</td>\n",
              "      <td>...</td>\n",
              "      <td>...</td>\n",
              "      <td>...</td>\n",
              "      <td>...</td>\n",
              "      <td>...</td>\n",
              "      <td>...</td>\n",
              "    </tr>\n",
              "    <tr>\n",
              "      <th>886</th>\n",
              "      <td>0</td>\n",
              "      <td>0</td>\n",
              "      <td>0</td>\n",
              "      <td>0</td>\n",
              "      <td>0</td>\n",
              "      <td>0</td>\n",
              "      <td>0</td>\n",
              "      <td>0</td>\n",
              "      <td>0</td>\n",
              "      <td>0</td>\n",
              "      <td>0</td>\n",
              "      <td>0</td>\n",
              "      <td>0</td>\n",
              "      <td>0</td>\n",
              "      <td>0</td>\n",
              "      <td>0</td>\n",
              "      <td>0</td>\n",
              "      <td>0</td>\n",
              "      <td>0</td>\n",
              "      <td>0</td>\n",
              "      <td>0</td>\n",
              "      <td>0</td>\n",
              "      <td>0</td>\n",
              "      <td>0</td>\n",
              "      <td>0</td>\n",
              "      <td>0</td>\n",
              "      <td>0</td>\n",
              "      <td>0</td>\n",
              "      <td>0</td>\n",
              "      <td>0</td>\n",
              "      <td>0</td>\n",
              "      <td>0</td>\n",
              "      <td>0</td>\n",
              "      <td>0</td>\n",
              "      <td>0</td>\n",
              "      <td>0</td>\n",
              "      <td>0</td>\n",
              "      <td>0</td>\n",
              "      <td>0</td>\n",
              "      <td>0</td>\n",
              "      <td>...</td>\n",
              "      <td>0</td>\n",
              "      <td>0</td>\n",
              "      <td>0</td>\n",
              "      <td>0</td>\n",
              "      <td>0</td>\n",
              "      <td>0</td>\n",
              "      <td>0</td>\n",
              "      <td>0</td>\n",
              "      <td>0</td>\n",
              "      <td>0</td>\n",
              "      <td>0</td>\n",
              "      <td>0</td>\n",
              "      <td>0</td>\n",
              "      <td>0</td>\n",
              "      <td>0</td>\n",
              "      <td>0</td>\n",
              "      <td>0</td>\n",
              "      <td>0</td>\n",
              "      <td>0</td>\n",
              "      <td>0</td>\n",
              "      <td>0</td>\n",
              "      <td>0</td>\n",
              "      <td>0</td>\n",
              "      <td>0</td>\n",
              "      <td>0</td>\n",
              "      <td>0</td>\n",
              "      <td>0</td>\n",
              "      <td>0</td>\n",
              "      <td>0</td>\n",
              "      <td>0</td>\n",
              "      <td>0</td>\n",
              "      <td>0</td>\n",
              "      <td>0</td>\n",
              "      <td>0</td>\n",
              "      <td>0</td>\n",
              "      <td>0</td>\n",
              "      <td>0</td>\n",
              "      <td>0</td>\n",
              "      <td>0</td>\n",
              "      <td>0</td>\n",
              "    </tr>\n",
              "    <tr>\n",
              "      <th>887</th>\n",
              "      <td>0</td>\n",
              "      <td>0</td>\n",
              "      <td>0</td>\n",
              "      <td>0</td>\n",
              "      <td>0</td>\n",
              "      <td>0</td>\n",
              "      <td>0</td>\n",
              "      <td>0</td>\n",
              "      <td>0</td>\n",
              "      <td>0</td>\n",
              "      <td>0</td>\n",
              "      <td>0</td>\n",
              "      <td>0</td>\n",
              "      <td>0</td>\n",
              "      <td>0</td>\n",
              "      <td>0</td>\n",
              "      <td>0</td>\n",
              "      <td>0</td>\n",
              "      <td>0</td>\n",
              "      <td>0</td>\n",
              "      <td>0</td>\n",
              "      <td>0</td>\n",
              "      <td>0</td>\n",
              "      <td>0</td>\n",
              "      <td>0</td>\n",
              "      <td>0</td>\n",
              "      <td>0</td>\n",
              "      <td>0</td>\n",
              "      <td>0</td>\n",
              "      <td>0</td>\n",
              "      <td>0</td>\n",
              "      <td>0</td>\n",
              "      <td>0</td>\n",
              "      <td>0</td>\n",
              "      <td>0</td>\n",
              "      <td>0</td>\n",
              "      <td>0</td>\n",
              "      <td>0</td>\n",
              "      <td>0</td>\n",
              "      <td>0</td>\n",
              "      <td>...</td>\n",
              "      <td>0</td>\n",
              "      <td>0</td>\n",
              "      <td>0</td>\n",
              "      <td>0</td>\n",
              "      <td>0</td>\n",
              "      <td>0</td>\n",
              "      <td>0</td>\n",
              "      <td>0</td>\n",
              "      <td>0</td>\n",
              "      <td>0</td>\n",
              "      <td>0</td>\n",
              "      <td>0</td>\n",
              "      <td>0</td>\n",
              "      <td>0</td>\n",
              "      <td>0</td>\n",
              "      <td>0</td>\n",
              "      <td>0</td>\n",
              "      <td>0</td>\n",
              "      <td>0</td>\n",
              "      <td>0</td>\n",
              "      <td>0</td>\n",
              "      <td>0</td>\n",
              "      <td>0</td>\n",
              "      <td>0</td>\n",
              "      <td>0</td>\n",
              "      <td>0</td>\n",
              "      <td>0</td>\n",
              "      <td>0</td>\n",
              "      <td>0</td>\n",
              "      <td>0</td>\n",
              "      <td>0</td>\n",
              "      <td>0</td>\n",
              "      <td>0</td>\n",
              "      <td>0</td>\n",
              "      <td>0</td>\n",
              "      <td>0</td>\n",
              "      <td>0</td>\n",
              "      <td>0</td>\n",
              "      <td>0</td>\n",
              "      <td>0</td>\n",
              "    </tr>\n",
              "    <tr>\n",
              "      <th>888</th>\n",
              "      <td>0</td>\n",
              "      <td>0</td>\n",
              "      <td>0</td>\n",
              "      <td>0</td>\n",
              "      <td>0</td>\n",
              "      <td>0</td>\n",
              "      <td>0</td>\n",
              "      <td>0</td>\n",
              "      <td>0</td>\n",
              "      <td>0</td>\n",
              "      <td>0</td>\n",
              "      <td>0</td>\n",
              "      <td>0</td>\n",
              "      <td>0</td>\n",
              "      <td>0</td>\n",
              "      <td>0</td>\n",
              "      <td>0</td>\n",
              "      <td>0</td>\n",
              "      <td>0</td>\n",
              "      <td>0</td>\n",
              "      <td>0</td>\n",
              "      <td>0</td>\n",
              "      <td>0</td>\n",
              "      <td>0</td>\n",
              "      <td>0</td>\n",
              "      <td>0</td>\n",
              "      <td>0</td>\n",
              "      <td>0</td>\n",
              "      <td>0</td>\n",
              "      <td>0</td>\n",
              "      <td>0</td>\n",
              "      <td>0</td>\n",
              "      <td>0</td>\n",
              "      <td>0</td>\n",
              "      <td>0</td>\n",
              "      <td>0</td>\n",
              "      <td>0</td>\n",
              "      <td>0</td>\n",
              "      <td>0</td>\n",
              "      <td>0</td>\n",
              "      <td>...</td>\n",
              "      <td>0</td>\n",
              "      <td>0</td>\n",
              "      <td>0</td>\n",
              "      <td>0</td>\n",
              "      <td>0</td>\n",
              "      <td>0</td>\n",
              "      <td>0</td>\n",
              "      <td>0</td>\n",
              "      <td>0</td>\n",
              "      <td>0</td>\n",
              "      <td>0</td>\n",
              "      <td>0</td>\n",
              "      <td>0</td>\n",
              "      <td>0</td>\n",
              "      <td>0</td>\n",
              "      <td>0</td>\n",
              "      <td>0</td>\n",
              "      <td>0</td>\n",
              "      <td>0</td>\n",
              "      <td>0</td>\n",
              "      <td>0</td>\n",
              "      <td>0</td>\n",
              "      <td>0</td>\n",
              "      <td>0</td>\n",
              "      <td>0</td>\n",
              "      <td>0</td>\n",
              "      <td>0</td>\n",
              "      <td>0</td>\n",
              "      <td>0</td>\n",
              "      <td>0</td>\n",
              "      <td>0</td>\n",
              "      <td>0</td>\n",
              "      <td>0</td>\n",
              "      <td>0</td>\n",
              "      <td>0</td>\n",
              "      <td>0</td>\n",
              "      <td>0</td>\n",
              "      <td>0</td>\n",
              "      <td>0</td>\n",
              "      <td>0</td>\n",
              "    </tr>\n",
              "    <tr>\n",
              "      <th>889</th>\n",
              "      <td>0</td>\n",
              "      <td>0</td>\n",
              "      <td>0</td>\n",
              "      <td>0</td>\n",
              "      <td>0</td>\n",
              "      <td>0</td>\n",
              "      <td>0</td>\n",
              "      <td>0</td>\n",
              "      <td>0</td>\n",
              "      <td>0</td>\n",
              "      <td>0</td>\n",
              "      <td>0</td>\n",
              "      <td>0</td>\n",
              "      <td>0</td>\n",
              "      <td>0</td>\n",
              "      <td>0</td>\n",
              "      <td>0</td>\n",
              "      <td>0</td>\n",
              "      <td>0</td>\n",
              "      <td>0</td>\n",
              "      <td>0</td>\n",
              "      <td>0</td>\n",
              "      <td>0</td>\n",
              "      <td>0</td>\n",
              "      <td>0</td>\n",
              "      <td>0</td>\n",
              "      <td>0</td>\n",
              "      <td>0</td>\n",
              "      <td>0</td>\n",
              "      <td>0</td>\n",
              "      <td>0</td>\n",
              "      <td>0</td>\n",
              "      <td>0</td>\n",
              "      <td>0</td>\n",
              "      <td>0</td>\n",
              "      <td>0</td>\n",
              "      <td>0</td>\n",
              "      <td>0</td>\n",
              "      <td>0</td>\n",
              "      <td>0</td>\n",
              "      <td>...</td>\n",
              "      <td>0</td>\n",
              "      <td>0</td>\n",
              "      <td>0</td>\n",
              "      <td>0</td>\n",
              "      <td>0</td>\n",
              "      <td>0</td>\n",
              "      <td>0</td>\n",
              "      <td>0</td>\n",
              "      <td>0</td>\n",
              "      <td>0</td>\n",
              "      <td>0</td>\n",
              "      <td>0</td>\n",
              "      <td>0</td>\n",
              "      <td>0</td>\n",
              "      <td>0</td>\n",
              "      <td>0</td>\n",
              "      <td>0</td>\n",
              "      <td>0</td>\n",
              "      <td>0</td>\n",
              "      <td>0</td>\n",
              "      <td>0</td>\n",
              "      <td>0</td>\n",
              "      <td>0</td>\n",
              "      <td>0</td>\n",
              "      <td>0</td>\n",
              "      <td>0</td>\n",
              "      <td>0</td>\n",
              "      <td>0</td>\n",
              "      <td>0</td>\n",
              "      <td>0</td>\n",
              "      <td>0</td>\n",
              "      <td>0</td>\n",
              "      <td>0</td>\n",
              "      <td>0</td>\n",
              "      <td>0</td>\n",
              "      <td>0</td>\n",
              "      <td>0</td>\n",
              "      <td>0</td>\n",
              "      <td>0</td>\n",
              "      <td>0</td>\n",
              "    </tr>\n",
              "    <tr>\n",
              "      <th>890</th>\n",
              "      <td>0</td>\n",
              "      <td>0</td>\n",
              "      <td>0</td>\n",
              "      <td>0</td>\n",
              "      <td>0</td>\n",
              "      <td>0</td>\n",
              "      <td>0</td>\n",
              "      <td>0</td>\n",
              "      <td>0</td>\n",
              "      <td>0</td>\n",
              "      <td>0</td>\n",
              "      <td>0</td>\n",
              "      <td>0</td>\n",
              "      <td>0</td>\n",
              "      <td>0</td>\n",
              "      <td>0</td>\n",
              "      <td>0</td>\n",
              "      <td>0</td>\n",
              "      <td>0</td>\n",
              "      <td>0</td>\n",
              "      <td>0</td>\n",
              "      <td>0</td>\n",
              "      <td>0</td>\n",
              "      <td>0</td>\n",
              "      <td>0</td>\n",
              "      <td>0</td>\n",
              "      <td>0</td>\n",
              "      <td>0</td>\n",
              "      <td>0</td>\n",
              "      <td>0</td>\n",
              "      <td>0</td>\n",
              "      <td>0</td>\n",
              "      <td>0</td>\n",
              "      <td>0</td>\n",
              "      <td>0</td>\n",
              "      <td>0</td>\n",
              "      <td>0</td>\n",
              "      <td>0</td>\n",
              "      <td>0</td>\n",
              "      <td>0</td>\n",
              "      <td>...</td>\n",
              "      <td>0</td>\n",
              "      <td>0</td>\n",
              "      <td>0</td>\n",
              "      <td>0</td>\n",
              "      <td>0</td>\n",
              "      <td>0</td>\n",
              "      <td>0</td>\n",
              "      <td>0</td>\n",
              "      <td>0</td>\n",
              "      <td>0</td>\n",
              "      <td>0</td>\n",
              "      <td>0</td>\n",
              "      <td>0</td>\n",
              "      <td>0</td>\n",
              "      <td>0</td>\n",
              "      <td>0</td>\n",
              "      <td>0</td>\n",
              "      <td>0</td>\n",
              "      <td>0</td>\n",
              "      <td>0</td>\n",
              "      <td>0</td>\n",
              "      <td>0</td>\n",
              "      <td>0</td>\n",
              "      <td>0</td>\n",
              "      <td>0</td>\n",
              "      <td>0</td>\n",
              "      <td>0</td>\n",
              "      <td>0</td>\n",
              "      <td>0</td>\n",
              "      <td>0</td>\n",
              "      <td>0</td>\n",
              "      <td>0</td>\n",
              "      <td>0</td>\n",
              "      <td>0</td>\n",
              "      <td>0</td>\n",
              "      <td>0</td>\n",
              "      <td>0</td>\n",
              "      <td>0</td>\n",
              "      <td>0</td>\n",
              "      <td>0</td>\n",
              "    </tr>\n",
              "  </tbody>\n",
              "</table>\n",
              "<p>891 rows × 1509 columns</p>\n",
              "</div>"
            ],
            "text/plain": [
              "     aaron  abbing  abbott  abelson  ...  zebley  zenni  zillah  zimmerman\n",
              "0        0       0       0        0  ...       0      0       0          0\n",
              "1        0       0       0        0  ...       0      0       0          0\n",
              "2        0       0       0        0  ...       0      0       0          0\n",
              "3        0       0       0        0  ...       0      0       0          0\n",
              "4        0       0       0        0  ...       0      0       0          0\n",
              "..     ...     ...     ...      ...  ...     ...    ...     ...        ...\n",
              "886      0       0       0        0  ...       0      0       0          0\n",
              "887      0       0       0        0  ...       0      0       0          0\n",
              "888      0       0       0        0  ...       0      0       0          0\n",
              "889      0       0       0        0  ...       0      0       0          0\n",
              "890      0       0       0        0  ...       0      0       0          0\n",
              "\n",
              "[891 rows x 1509 columns]"
            ]
          },
          "metadata": {},
          "execution_count": 45
        }
      ]
    }
  ]
}